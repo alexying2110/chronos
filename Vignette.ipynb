{
 "cells": [
  {
   "cell_type": "markdown",
   "metadata": {},
   "source": [
    "# Chronos Vignette"
   ]
  },
  {
   "cell_type": "markdown",
   "metadata": {},
   "source": [
    "This vignette walks through a simple exercise in training Chronos on a subset of DepMap public 20Q4 and the Sanger Institute's Project Score data. "
   ]
  },
  {
   "cell_type": "markdown",
   "metadata": {},
   "source": [
    "## Imports"
   ]
  },
  {
   "cell_type": "code",
   "execution_count": 1,
   "metadata": {},
   "outputs": [],
   "source": [
    "%load_ext autoreload\n",
    "%autoreload 2"
   ]
  },
  {
   "cell_type": "code",
   "execution_count": 2,
   "metadata": {},
   "outputs": [],
   "source": [
    "import numpy as np\n",
    "import pandas as pd\n",
    "import chronos\n",
    "import os\n",
    "from matplotlib import pyplot as plt\n",
    "import seaborn as sns\n",
    "from taigapy import default_tc as tc"
   ]
  },
  {
   "cell_type": "markdown",
   "metadata": {},
   "source": [
    "Some tweaks that will make plots more legible"
   ]
  },
  {
   "cell_type": "code",
   "execution_count": 3,
   "metadata": {},
   "outputs": [],
   "source": [
    "from matplotlib import rcParams\n",
    "rcParams['axes.titlesize'] = 14\n",
    "rcParams['axes.spines.right'] = False\n",
    "rcParams['axes.spines.top'] = False\n",
    "rcParams['savefig.dpi'] = 200\n",
    "rcParams['savefig.transparent'] = False\n",
    "rcParams['font.family'] = 'Arial'\n",
    "rcParams['font.size'] = '11'\n",
    "rcParams['figure.dpi'] = 200\n",
    "rcParams[\"savefig.facecolor\"] = (1, 1, 1.0, 0.2)\n",
    "\n",
    "rcParams['xtick.labelsize'] = 10\n",
    "rcParams['ytick.labelsize'] = 10\n",
    "rcParams['legend.fontsize'] = 7"
   ]
  },
  {
   "cell_type": "markdown",
   "metadata": {},
   "source": [
    "## Setting up the Data"
   ]
  },
  {
   "cell_type": "markdown",
   "metadata": {},
   "source": [
    "Chronos always requires at least three dataframes: \n",
    "* a matrix of readcounts with sequenced entities as the index, individual sgRNAs as the columns, and values indicating how many reads were found for that sgRNA. A sequenced entity any vector of sgRNA readcounts read out during the experiment. It could be a sequencing run of pDNA, or of a biological replicate at some time point during the experiment.\n",
    "* A sequence map mapping sequenced entities to either pDNA or a cell line and giving the days since infection and pDNA batch. \n",
    "* A guide map mapping sgRNAs to genes. Each sgRNA included must map to one and only one gene."
   ]
  },
  {
   "cell_type": "markdown",
   "metadata": {},
   "source": [
    "Below, we'll load a small subset of the DepMap Avana data. The files have been reformatted from the release to the format Chronos expects"
   ]
  },
  {
   "cell_type": "code",
   "execution_count": 4,
   "metadata": {},
   "outputs": [],
   "source": [
    "sequence_map = pd.read_csv(\"Data/SampleData/AvanaSequenceMap.csv\")\n",
    "guide_map = pd.read_csv(\"Data/SampleData/AvanaGuideMap.csv\")\n",
    "readcounts = chronos.read_hdf5(\"Data/SampleData/AvanaReadcounts.hdf5\")"
   ]
  },
  {
   "cell_type": "markdown",
   "metadata": {},
   "source": [
    "Sequence maps must have the columns\n",
    "\n",
    "* sequence_id (str), which must match a row in readcounts\n",
    "* cell_line_name (str). Must be \"pDNA\" for pDNA, and each pDNA batch must have at least one pDNA measurement.\n",
    "* pDNA batch (any simple hashable type, preferably int or str). pDNA measurements sharing the same batch will be grouped and averaged, then used as the reference for all biological replicate sequencings assigned that same batch. If you don't have multiple pDNA batches (by far the most common experimental condition), just fill this column with 0 or some other constant value.\n",
    "* days: days post infection. This value will be ignored for pDNA.\n",
    "\n",
    "Other columns will be ignored."
   ]
  },
  {
   "cell_type": "code",
   "execution_count": 5,
   "metadata": {},
   "outputs": [
    {
     "data": {
      "text/html": [
       "<div>\n",
       "<style scoped>\n",
       "    .dataframe tbody tr th:only-of-type {\n",
       "        vertical-align: middle;\n",
       "    }\n",
       "\n",
       "    .dataframe tbody tr th {\n",
       "        vertical-align: top;\n",
       "    }\n",
       "\n",
       "    .dataframe thead th {\n",
       "        text-align: right;\n",
       "    }\n",
       "</style>\n",
       "<table border=\"1\" class=\"dataframe\">\n",
       "  <thead>\n",
       "    <tr style=\"text-align: right;\">\n",
       "      <th></th>\n",
       "      <th>sequence_ID</th>\n",
       "      <th>ScreenID</th>\n",
       "      <th>days</th>\n",
       "      <th>pDNA_batch</th>\n",
       "      <th>Replicate</th>\n",
       "      <th>ScreenType</th>\n",
       "      <th>cell_line_name</th>\n",
       "      <th>ModelConditionID</th>\n",
       "      <th>Library</th>\n",
       "      <th>PassesQC</th>\n",
       "    </tr>\n",
       "  </thead>\n",
       "  <tbody>\n",
       "    <tr>\n",
       "      <th>0</th>\n",
       "      <td>HEL-311Cas9_RepA_p4_Avana-3</td>\n",
       "      <td>SC-000004.AV01</td>\n",
       "      <td>21</td>\n",
       "      <td>Avana-3</td>\n",
       "      <td>A</td>\n",
       "      <td>2DS</td>\n",
       "      <td>ACH-000004</td>\n",
       "      <td>MC-000004-pA3k</td>\n",
       "      <td>Avana</td>\n",
       "      <td>True</td>\n",
       "    </tr>\n",
       "    <tr>\n",
       "      <th>1</th>\n",
       "      <td>HEL-311Cas9_RepB_p4_Avana-3</td>\n",
       "      <td>SC-000004.AV01</td>\n",
       "      <td>21</td>\n",
       "      <td>Avana-3</td>\n",
       "      <td>B</td>\n",
       "      <td>2DS</td>\n",
       "      <td>ACH-000004</td>\n",
       "      <td>MC-000004-pA3k</td>\n",
       "      <td>Avana</td>\n",
       "      <td>True</td>\n",
       "    </tr>\n",
       "    <tr>\n",
       "      <th>2</th>\n",
       "      <td>KU812-311cas9-RepA-p6_Avana-3</td>\n",
       "      <td>SC-000074.AV01</td>\n",
       "      <td>21</td>\n",
       "      <td>Avana-3</td>\n",
       "      <td>A</td>\n",
       "      <td>2DS</td>\n",
       "      <td>ACH-000074</td>\n",
       "      <td>MC-000074-OKtM</td>\n",
       "      <td>Avana</td>\n",
       "      <td>True</td>\n",
       "    </tr>\n",
       "    <tr>\n",
       "      <th>3</th>\n",
       "      <td>KU812-311cas9-RepB-p6_Avana-3</td>\n",
       "      <td>SC-000074.AV01</td>\n",
       "      <td>21</td>\n",
       "      <td>Avana-3</td>\n",
       "      <td>B</td>\n",
       "      <td>2DS</td>\n",
       "      <td>ACH-000074</td>\n",
       "      <td>MC-000074-OKtM</td>\n",
       "      <td>Avana</td>\n",
       "      <td>True</td>\n",
       "    </tr>\n",
       "    <tr>\n",
       "      <th>4</th>\n",
       "      <td>T47D-311Cas9-RepA-p6_Avana-4</td>\n",
       "      <td>SC-000147.AV01</td>\n",
       "      <td>21</td>\n",
       "      <td>Avana-4</td>\n",
       "      <td>A</td>\n",
       "      <td>2DS</td>\n",
       "      <td>ACH-000147</td>\n",
       "      <td>MC-000147-Uovr</td>\n",
       "      <td>Avana</td>\n",
       "      <td>True</td>\n",
       "    </tr>\n",
       "  </tbody>\n",
       "</table>\n",
       "</div>"
      ],
      "text/plain": [
       "                     sequence_ID        ScreenID  days pDNA_batch Replicate  \\\n",
       "0    HEL-311Cas9_RepA_p4_Avana-3  SC-000004.AV01    21    Avana-3         A   \n",
       "1    HEL-311Cas9_RepB_p4_Avana-3  SC-000004.AV01    21    Avana-3         B   \n",
       "2  KU812-311cas9-RepA-p6_Avana-3  SC-000074.AV01    21    Avana-3         A   \n",
       "3  KU812-311cas9-RepB-p6_Avana-3  SC-000074.AV01    21    Avana-3         B   \n",
       "4   T47D-311Cas9-RepA-p6_Avana-4  SC-000147.AV01    21    Avana-4         A   \n",
       "\n",
       "  ScreenType cell_line_name ModelConditionID Library  PassesQC  \n",
       "0        2DS     ACH-000004   MC-000004-pA3k   Avana      True  \n",
       "1        2DS     ACH-000004   MC-000004-pA3k   Avana      True  \n",
       "2        2DS     ACH-000074   MC-000074-OKtM   Avana      True  \n",
       "3        2DS     ACH-000074   MC-000074-OKtM   Avana      True  \n",
       "4        2DS     ACH-000147   MC-000147-Uovr   Avana      True  "
      ]
     },
     "execution_count": 5,
     "metadata": {},
     "output_type": "execute_result"
    }
   ],
   "source": [
    "sequence_map[:5]"
   ]
  },
  {
   "cell_type": "markdown",
   "metadata": {},
   "source": [
    "Guide maps must have the columns \n",
    "\n",
    "* sgrna (str): must match a column in readcounts. An sgrna can only appear once in this data frame.\n",
    "* gene (str): the gene the sgrna maps to.\n",
    "\n",
    "Other columns will be ignored."
   ]
  },
  {
   "cell_type": "code",
   "execution_count": 6,
   "metadata": {},
   "outputs": [
    {
     "data": {
      "text/html": [
       "<div>\n",
       "<style scoped>\n",
       "    .dataframe tbody tr th:only-of-type {\n",
       "        vertical-align: middle;\n",
       "    }\n",
       "\n",
       "    .dataframe tbody tr th {\n",
       "        vertical-align: top;\n",
       "    }\n",
       "\n",
       "    .dataframe thead th {\n",
       "        text-align: right;\n",
       "    }\n",
       "</style>\n",
       "<table border=\"1\" class=\"dataframe\">\n",
       "  <thead>\n",
       "    <tr style=\"text-align: right;\">\n",
       "      <th></th>\n",
       "      <th>sgrna</th>\n",
       "      <th>GenomeAlignment</th>\n",
       "      <th>gene</th>\n",
       "      <th>nAlignments</th>\n",
       "      <th>DropReason</th>\n",
       "      <th>UsedByChronos</th>\n",
       "    </tr>\n",
       "  </thead>\n",
       "  <tbody>\n",
       "    <tr>\n",
       "      <th>0</th>\n",
       "      <td>AAAAATGCGCAAATTCAGCG</td>\n",
       "      <td>chr3_138742712_-</td>\n",
       "      <td>PIK3CB (5291)</td>\n",
       "      <td>1.0</td>\n",
       "      <td>NaN</td>\n",
       "      <td>True</td>\n",
       "    </tr>\n",
       "    <tr>\n",
       "      <th>1</th>\n",
       "      <td>AAAACACATCAGTATAACAT</td>\n",
       "      <td>chr3_49368469_+</td>\n",
       "      <td>RHOA (387)</td>\n",
       "      <td>1.0</td>\n",
       "      <td>NaN</td>\n",
       "      <td>True</td>\n",
       "    </tr>\n",
       "    <tr>\n",
       "      <th>2</th>\n",
       "      <td>AAAACTACAGAAGCCTCCCG</td>\n",
       "      <td>chr10_34450424_-</td>\n",
       "      <td>PARD3 (56288)</td>\n",
       "      <td>1.0</td>\n",
       "      <td>NaN</td>\n",
       "      <td>True</td>\n",
       "    </tr>\n",
       "    <tr>\n",
       "      <th>3</th>\n",
       "      <td>AAAAGGCCTGACATATCTGA</td>\n",
       "      <td>chr15_66444677_+</td>\n",
       "      <td>MAP2K1 (5604)</td>\n",
       "      <td>2.0</td>\n",
       "      <td>NaN</td>\n",
       "      <td>True</td>\n",
       "    </tr>\n",
       "  </tbody>\n",
       "</table>\n",
       "</div>"
      ],
      "text/plain": [
       "                  sgrna   GenomeAlignment           gene  nAlignments  \\\n",
       "0  AAAAATGCGCAAATTCAGCG  chr3_138742712_-  PIK3CB (5291)          1.0   \n",
       "1  AAAACACATCAGTATAACAT   chr3_49368469_+     RHOA (387)          1.0   \n",
       "2  AAAACTACAGAAGCCTCCCG  chr10_34450424_-  PARD3 (56288)          1.0   \n",
       "3  AAAAGGCCTGACATATCTGA  chr15_66444677_+  MAP2K1 (5604)          2.0   \n",
       "\n",
       "   DropReason  UsedByChronos  \n",
       "0         NaN           True  \n",
       "1         NaN           True  \n",
       "2         NaN           True  \n",
       "3         NaN           True  "
      ]
     },
     "execution_count": 6,
     "metadata": {},
     "output_type": "execute_result"
    }
   ],
   "source": [
    "guide_map[:4]"
   ]
  },
  {
   "cell_type": "markdown",
   "metadata": {},
   "source": [
    "Finally, here's what readcounts should look like. They can include NaNs. Note the axes."
   ]
  },
  {
   "cell_type": "code",
   "execution_count": 7,
   "metadata": {},
   "outputs": [
    {
     "data": {
      "text/html": [
       "<div>\n",
       "<style scoped>\n",
       "    .dataframe tbody tr th:only-of-type {\n",
       "        vertical-align: middle;\n",
       "    }\n",
       "\n",
       "    .dataframe tbody tr th {\n",
       "        vertical-align: top;\n",
       "    }\n",
       "\n",
       "    .dataframe thead th {\n",
       "        text-align: right;\n",
       "    }\n",
       "</style>\n",
       "<table border=\"1\" class=\"dataframe\">\n",
       "  <thead>\n",
       "    <tr style=\"text-align: right;\">\n",
       "      <th></th>\n",
       "      <th>AAAAATGCGCAAATTCAGCG</th>\n",
       "      <th>AAAACACATCAGTATAACAT</th>\n",
       "      <th>AAAACTACAGAAGCCTCCCG</th>\n",
       "    </tr>\n",
       "  </thead>\n",
       "  <tbody>\n",
       "    <tr>\n",
       "      <th>HEL-311Cas9_RepA_p4_Avana-3</th>\n",
       "      <td>101.0</td>\n",
       "      <td>224.0</td>\n",
       "      <td>636.0</td>\n",
       "    </tr>\n",
       "    <tr>\n",
       "      <th>HEL-311Cas9_RepB_p4_Avana-3</th>\n",
       "      <td>147.0</td>\n",
       "      <td>400.0</td>\n",
       "      <td>350.0</td>\n",
       "    </tr>\n",
       "    <tr>\n",
       "      <th>KU812-311cas9-RepA-p6_Avana-3</th>\n",
       "      <td>124.0</td>\n",
       "      <td>191.0</td>\n",
       "      <td>364.0</td>\n",
       "    </tr>\n",
       "    <tr>\n",
       "      <th>KU812-311cas9-RepB-p6_Avana-3</th>\n",
       "      <td>129.0</td>\n",
       "      <td>536.0</td>\n",
       "      <td>1280.0</td>\n",
       "    </tr>\n",
       "  </tbody>\n",
       "</table>\n",
       "</div>"
      ],
      "text/plain": [
       "                               AAAAATGCGCAAATTCAGCG  AAAACACATCAGTATAACAT  \\\n",
       "HEL-311Cas9_RepA_p4_Avana-3                   101.0                 224.0   \n",
       "HEL-311Cas9_RepB_p4_Avana-3                   147.0                 400.0   \n",
       "KU812-311cas9-RepA-p6_Avana-3                 124.0                 191.0   \n",
       "KU812-311cas9-RepB-p6_Avana-3                 129.0                 536.0   \n",
       "\n",
       "                               AAAACTACAGAAGCCTCCCG  \n",
       "HEL-311Cas9_RepA_p4_Avana-3                   636.0  \n",
       "HEL-311Cas9_RepB_p4_Avana-3                   350.0  \n",
       "KU812-311cas9-RepA-p6_Avana-3                 364.0  \n",
       "KU812-311cas9-RepB-p6_Avana-3                1280.0  "
      ]
     },
     "execution_count": 7,
     "metadata": {},
     "output_type": "execute_result"
    }
   ],
   "source": [
    "readcounts.iloc[:4, :3]"
   ]
  },
  {
   "cell_type": "markdown",
   "metadata": {},
   "source": [
    "To QC the data, we'll want control groups. We'll use predefined sets of common and nonessential genes, and use these to define control sets of sgRNAs."
   ]
  },
  {
   "cell_type": "code",
   "execution_count": 8,
   "metadata": {},
   "outputs": [],
   "source": [
    "common_essentials = pd.read_csv(\"Data/SampleData/AchillesCommonEssentialControls.csv\")[\"Gene\"]\n",
    "nonessentials = pd.read_csv(\"Data/SampleData/AchillesNonessentialControls.csv\")[\"Gene\"]"
   ]
  },
  {
   "cell_type": "code",
   "execution_count": 9,
   "metadata": {},
   "outputs": [],
   "source": [
    "positive_controls = guide_map.sgrna[guide_map.gene.isin(common_essentials)]\n",
    "negative_controls = guide_map.sgrna[guide_map.gene.isin(nonessentials)]"
   ]
  },
  {
   "cell_type": "markdown",
   "metadata": {},
   "source": [
    "### NaNing clonal outgrowths"
   ]
  },
  {
   "cell_type": "markdown",
   "metadata": {},
   "source": [
    "In Achilles, we've observed rare instances where a single guide in a single biological replicate will produce an unexpectedly large number of readcounts, while other guides targeting the same gene or other replicates of the same cell line do not show many readcounts. We suspect this is the result of a single clone gaining some fitness advantage. Although it _could_ be related to a change induced by the guide, in general it's probably misleading. Therefore Chronos has an option to identify and remove these events."
   ]
  },
  {
   "cell_type": "code",
   "execution_count": 10,
   "metadata": {},
   "outputs": [
    {
     "name": "stdout",
     "output_type": "stream",
     "text": [
      "calculating LFC\n",
      "finding maximum LFC calls\n",
      "filtering\n",
      "finding second highest LFC calls\n",
      "finding sequences and guides with outgrowth\n"
     ]
    },
    {
     "name": "stderr",
     "output_type": "stream",
     "text": [
      "/Users/dempster/packages/chronos_public/chronos/model.py:421: FutureWarning: DataFrame.groupby with axis=1 is deprecated. Do `frame.T.groupby(...)` without axis instead.\n",
      "  max_lfc = lfc.groupby(ggtemp, axis=1).max()\n",
      "/Users/dempster/packages/chronos_public/chronos/model.py:436: FutureWarning: The 'axis' keyword in DataFrame.groupby is deprecated and will be removed in a future version.\n",
      "  max_row_2nd_column = lfc_filtered.T.groupby(ggtemp, axis=0).agg(second_highest).T\n"
     ]
    },
    {
     "name": "stdout",
     "output_type": "stream",
     "text": [
      "NAing 296 readcounts (0.00090 of total)\n"
     ]
    }
   ],
   "source": [
    "chronos.nan_outgrowths(readcounts=readcounts, guide_gene_map=guide_map,\n",
    "                                   sequence_map=sequence_map)"
   ]
  },
  {
   "cell_type": "markdown",
   "metadata": {},
   "source": [
    "### QCing the data"
   ]
  },
  {
   "cell_type": "markdown",
   "metadata": {},
   "source": [
    "You can generate a report with basic QC metrics about your data. You don't have to have control guides to do this, but the report is most useful if you do. If you don't have the `reportlab` python package installed, this section will error and should be skipped. This command will write a pdf report named \"Initial QC.pdf\" in the `./Data/reports` directory."
   ]
  },
  {
   "cell_type": "code",
   "execution_count": 11,
   "metadata": {},
   "outputs": [],
   "source": [
    "reportdir = \"./Data/reports\"\n",
    "# permanently deletes the directory - careful if you edit this line!\n",
    "! rm -rf \"./Data/reports\"\n",
    "! mkdir \"./Data/reports\""
   ]
  },
  {
   "cell_type": "code",
   "execution_count": 12,
   "metadata": {},
   "outputs": [
    {
     "name": "stderr",
     "output_type": "stream",
     "text": [
      "/opt/homebrew/lib/python3.11/site-packages/umap/distances.py:1063: NumbaDeprecationWarning: The 'nopython' keyword argument was not supplied to the 'numba.jit' decorator. The implicit default value for this argument is currently False, but it will be changed to True in Numba 0.59.0. See https://numba.readthedocs.io/en/stable/reference/deprecation.html#deprecation-of-object-mode-fall-back-behaviour-when-using-jit for details.\n",
      "  @numba.jit()\n",
      "/opt/homebrew/lib/python3.11/site-packages/umap/distances.py:1071: NumbaDeprecationWarning: The 'nopython' keyword argument was not supplied to the 'numba.jit' decorator. The implicit default value for this argument is currently False, but it will be changed to True in Numba 0.59.0. See https://numba.readthedocs.io/en/stable/reference/deprecation.html#deprecation-of-object-mode-fall-back-behaviour-when-using-jit for details.\n",
      "  @numba.jit()\n",
      "/opt/homebrew/lib/python3.11/site-packages/umap/distances.py:1086: NumbaDeprecationWarning: The 'nopython' keyword argument was not supplied to the 'numba.jit' decorator. The implicit default value for this argument is currently False, but it will be changed to True in Numba 0.59.0. See https://numba.readthedocs.io/en/stable/reference/deprecation.html#deprecation-of-object-mode-fall-back-behaviour-when-using-jit for details.\n",
      "  @numba.jit()\n",
      "/opt/homebrew/lib/python3.11/site-packages/umap/umap_.py:660: NumbaDeprecationWarning: The 'nopython' keyword argument was not supplied to the 'numba.jit' decorator. The implicit default value for this argument is currently False, but it will be changed to True in Numba 0.59.0. See https://numba.readthedocs.io/en/stable/reference/deprecation.html#deprecation-of-object-mode-fall-back-behaviour-when-using-jit for details.\n",
      "  @numba.jit()\n"
     ]
    },
    {
     "name": "stdout",
     "output_type": "stream",
     "text": [
      "calculating replicate correlation\n",
      "generating control separation metrics\n",
      "Plotting log fold-change distribution\n"
     ]
    },
    {
     "name": "stderr",
     "output_type": "stream",
     "text": [
      "/opt/homebrew/lib/python3.11/site-packages/seaborn/_oldcore.py:1119: FutureWarning: use_inf_as_na option is deprecated and will be removed in a future version. Convert inf values to NaN before operating instead.\n",
      "  with pd.option_context('mode.use_inf_as_na', True):\n",
      "/opt/homebrew/lib/python3.11/site-packages/seaborn/_oldcore.py:1119: FutureWarning: use_inf_as_na option is deprecated and will be removed in a future version. Convert inf values to NaN before operating instead.\n",
      "  with pd.option_context('mode.use_inf_as_na', True):\n",
      "/opt/homebrew/lib/python3.11/site-packages/seaborn/_oldcore.py:1119: FutureWarning: use_inf_as_na option is deprecated and will be removed in a future version. Convert inf values to NaN before operating instead.\n",
      "  with pd.option_context('mode.use_inf_as_na', True):\n"
     ]
    },
    {
     "name": "stdout",
     "output_type": "stream",
     "text": [
      "plotting control separation metrics\n"
     ]
    },
    {
     "name": "stderr",
     "output_type": "stream",
     "text": [
      "/Users/dempster/packages/chronos_public/chronos/evaluations.py:317: UserWarning: The figure layout has changed to tight\n",
      "  plt.tight_layout()\n",
      "/Users/dempster/packages/chronos_public/chronos/reports.py:210: UserWarning: The figure layout has changed to tight\n",
      "  plt.tight_layout()\n",
      "/Users/dempster/packages/chronos_public/chronos/evaluations.py:317: UserWarning: The figure layout has changed to tight\n",
      "  plt.tight_layout()\n",
      "/Users/dempster/packages/chronos_public/chronos/reports.py:210: UserWarning: The figure layout has changed to tight\n",
      "  plt.tight_layout()\n",
      "/Users/dempster/packages/chronos_public/chronos/evaluations.py:317: UserWarning: The figure layout has changed to tight\n",
      "  plt.tight_layout()\n",
      "/Users/dempster/packages/chronos_public/chronos/reports.py:210: UserWarning: The figure layout has changed to tight\n",
      "  plt.tight_layout()\n",
      "/Users/dempster/packages/chronos_public/chronos/evaluations.py:317: UserWarning: The figure layout has changed to tight\n",
      "  plt.tight_layout()\n",
      "/Users/dempster/packages/chronos_public/chronos/reports.py:210: UserWarning: The figure layout has changed to tight\n",
      "  plt.tight_layout()\n",
      "/Users/dempster/packages/chronos_public/chronos/evaluations.py:317: UserWarning: The figure layout has changed to tight\n",
      "  plt.tight_layout()\n",
      "/Users/dempster/packages/chronos_public/chronos/reports.py:210: UserWarning: The figure layout has changed to tight\n",
      "  plt.tight_layout()\n",
      "/Users/dempster/packages/chronos_public/chronos/evaluations.py:317: UserWarning: The figure layout has changed to tight\n",
      "  plt.tight_layout()\n",
      "/Users/dempster/packages/chronos_public/chronos/reports.py:210: UserWarning: The figure layout has changed to tight\n",
      "  plt.tight_layout()\n",
      "/Users/dempster/packages/chronos_public/chronos/evaluations.py:317: UserWarning: The figure layout has changed to tight\n",
      "  plt.tight_layout()\n",
      "/Users/dempster/packages/chronos_public/chronos/reports.py:210: UserWarning: The figure layout has changed to tight\n",
      "  plt.tight_layout()\n"
     ]
    }
   ],
   "source": [
    "from chronos import reports\n",
    "metrics = reports.qc_initial_data(\"Initial QC\", readcounts, sequence_map,guide_map, \n",
    "        negative_controls, positive_controls,\n",
    "                  directory=reportdir\n",
    "       )"
   ]
  },
  {
   "cell_type": "markdown",
   "metadata": {},
   "source": [
    "Look in the Data/reports directory to see the QC report, \"Initial QC.pdf\"."
   ]
  },
  {
   "cell_type": "markdown",
   "metadata": {},
   "source": [
    "## Train Chronos"
   ]
  },
  {
   "cell_type": "markdown",
   "metadata": {},
   "source": [
    "### Creating the model"
   ]
  },
  {
   "cell_type": "markdown",
   "metadata": {},
   "source": [
    "Now we initialize the model. Note the form of the data: each of the three parameters is actually a dictionary. If we were training the model with data from multiple libraries simultaneously, each library's data would have its own entries in the dict. \n",
    "\n",
    "The `negative_control_sgrnas` is an optional parameter, but including it will allow 1. better removal of library size effects from readcounts, and 2. estimation of the negative binomial quadratic overdispersion parameter per screen, which is otherwise a fixed hyperparameter. If provided, these should be cutting sgRNAs that are strongly expected to have no viability impact.\n",
    "\n",
    "`log_dir` is an optional argument containing a directory for tensorflow to write summaries to. We include it here so that tensorboard can load the model."
   ]
  },
  {
   "cell_type": "code",
   "execution_count": 13,
   "metadata": {},
   "outputs": [],
   "source": [
    "logdir = \"./Data/logs\"\n",
    "# permanently deletes the directory - careful if you edit this line!\n",
    "! rm -rf \"./Data/logs\"\n",
    "! mkdir \"./Data/logs\""
   ]
  },
  {
   "cell_type": "code",
   "execution_count": 14,
   "metadata": {
    "scrolled": true
   },
   "outputs": [
    {
     "name": "stdout",
     "output_type": "stream",
     "text": [
      "normalizing readcounts\n",
      "\n",
      "\n",
      "Finding all unique guides and genes\n",
      "found 3474 unique guides and 883 unique genes in avana\n",
      "found 3474 unique guides and 883 unique genes overall\n",
      "\n",
      "finding guide-gene mapping indices\n",
      "\n",
      "finding all unique sequenced replicates, cell lines, and pDNA batches\n",
      "found 92 unique sequences (excluding pDNA) and 44 unique cell lines in avana\n",
      "found 92 unique replicates and 44 unique cell lines overall\n",
      "\n",
      "finding replicate-cell line mappings indices\n",
      "\n",
      "finding replicate-pDNA mappings indices\n",
      "\n",
      "\n",
      "assigning float constants\n",
      "Estimating or aligning variances\n",
      "\tEstimating excess variance (alpha) for avana\n",
      "Between 0 (batch=Index(['avana_Avana-2', 'avana_Avana-3', 'avana_Avana-4'], dtype='object')) and 0 (batch=Index(['avana_Avana-2', 'avana_Avana-3', 'avana_Avana-4'], dtype='object')) negative control sgRNAs were found to be systematically over- or under-represented in the screens and excluded.\n",
      "Creating excess variance tensors\n",
      "\tCreated excess variance tensor for avana with shape [92, 1]\n",
      "initializing graph\n",
      "\n",
      "building gene effect mask\n",
      "\n",
      "building doubling vectors\n",
      "made days vector of shape [92, 1] for avana\n",
      "\n",
      "building late observed timepoints\n",
      "\tbuilt normalized timepoints for avana with shape (92, 3474) (replicates X guides)\n",
      "\n",
      "building t0 reads\n",
      "\n",
      "\n",
      "Building variables\n",
      "\n",
      "building t0 reads estimate\n",
      "made t0 batch with shape (3, 3474) for avana\n",
      "building guide efficacy\n",
      "built guide efficacy: shape [1, 3475]\n",
      "building growth rate\n",
      "built growth rate: shape {'avana': [44, 1]}\n",
      "\n",
      "building cell line efficacy\n",
      "built cell line efficacy: shapes {'avana': [44, 1]}\n",
      "building screen delay\n",
      "built screen delay\n",
      "building gene effect\n",
      "built core gene effect: 44 cell lines by 883 genes\n",
      "\n",
      "\n",
      "Connecting graph nodes in model\n",
      "\n",
      "building effective days\n",
      "built effective days, shapes {'avana': [92, 883]}\n",
      "\n",
      "building gene effect growth graph nodes\n",
      "built gene effect growth graph nodes, shapes {'avana': [44, 883]}\n",
      "\n",
      "building combined efficacy\n",
      "built combined efficacy, shape {'avana': [44, 3474]}\n",
      "built expanded combined efficacy, shapes {'avana': [92, 3474]}\n",
      "\n",
      "building growth estimates of edited cells and overall estimates of fold change in guide abundance\n",
      "built growth and change\n",
      "\n",
      "building unnormalized estimates of final abundance\n",
      "built unnormalized abundance\n",
      "\n",
      "building normalized estimates of final abundance\n",
      "built normalized abundance\n",
      "initializing precost variables\n",
      "\n",
      "\n",
      "Building all costs\n",
      "\n",
      "assembling guide efficacy regularization\n",
      "building smoothed regularization\n"
     ]
    },
    {
     "name": "stderr",
     "output_type": "stream",
     "text": [
      "/Users/dempster/packages/chronos_public/chronos/model.py:1222: FutureWarning: DataFrame.groupby with axis=1 is deprecated. Do `frame.T.groupby(...)` without axis instead.\n",
      "  .groupby(guide_gene_map[key].set_index(\"sgrna\").gene, axis=1)\\\n",
      "2024-02-01 13:32:33.324898: W tensorflow/c/c_api.cc:304] Operation '{name:'excess_variance/avana/Assign' id:6 op device:{requested: '', assigned: ''} def:{{{node excess_variance/avana/Assign}} = AssignVariableOp[_has_manual_control_dependencies=true, dtype=DT_DOUBLE, validate_shape=false](excess_variance/avana, excess_variance/avana/Initializer/initial_value)}}' was changed by setting attribute after it was run by a session. This mutation will have no effect, and will trigger an error in the future. Either don't modify nodes after running them or create a new session.\n"
     ]
    },
    {
     "name": "stdout",
     "output_type": "stream",
     "text": [
      "\n",
      "building t0 reads regularization/cost\n",
      "\n",
      "building NB2 cost\n",
      "building other regularizations\n",
      "\n",
      "Creating optimizer\n",
      "\tcreating log at ./Data/logs\n",
      "initializing rest of graph\n",
      "estimating initial screen efficacy and gene effect\n",
      "\t avana\n"
     ]
    },
    {
     "name": "stderr",
     "output_type": "stream",
     "text": [
      "2024-02-01 13:32:33.748156: W tensorflow/c/c_api.cc:304] Operation '{name:'GE/library_effect/avana/Assign' id:149 op device:{requested: '', assigned: ''} def:{{{node GE/library_effect/avana/Assign}} = AssignVariableOp[_has_manual_control_dependencies=true, dtype=DT_DOUBLE, validate_shape=false](GE/library_effect/avana, GE/library_effect/avana/Initializer/initial_value)}}' was changed by setting attribute after it was run by a session. This mutation will have no effect, and will trigger an error in the future. Either don't modify nodes after running them or create a new session.\n",
      "/Users/dempster/packages/chronos_public/chronos/model.py:1828: FutureWarning: DataFrame.groupby with axis=1 is deprecated. Do `frame.T.groupby(...)` without axis instead.\n",
      "  .groupby(guide_gene_map.set_index(\"sgrna\").gene, axis=1)\\\n"
     ]
    },
    {
     "name": "stdout",
     "output_type": "stream",
     "text": [
      "\tverifying graph integrity\n",
      "verifying user inputs\n",
      "verifying variables\n",
      "verifying calculated terms\n",
      "\tavana _gene_effect\n",
      "\tavana _selected_efficacies\n",
      "\tavana_predicted_readcounts_unscaled\n",
      "\tavana _predicted_readcounts\n",
      "\tavana _normalized_readcounts\n",
      "\tavana _cost_presum\n",
      "sess run\n",
      "\tavana _cost\n",
      "\tavana _full_costs\n",
      "ready to train\n"
     ]
    }
   ],
   "source": [
    "model = chronos.Chronos(\n",
    "    sequence_map={\"avana\": sequence_map},\n",
    "    guide_gene_map={\"avana\": guide_map},\n",
    "    readcounts={\"avana\": readcounts},\n",
    "    negative_control_sgrnas={\"avana\": negative_controls},\n",
    "    log_dir=logdir\n",
    ")"
   ]
  },
  {
   "cell_type": "markdown",
   "metadata": {},
   "source": [
    "If you have tensorboard, the cell below will show Chronos' node structure. `GE` means gene effect (relative change in growth rate), `FC` means predicted fold change, `t0` is the inferred relative guide abundance at t0, and `out_norm` is the predicted readcounts. "
   ]
  },
  {
   "cell_type": "code",
   "execution_count": 15,
   "metadata": {
    "scrolled": true
   },
   "outputs": [
    {
     "data": {
      "text/html": [
       "\n",
       "      <iframe id=\"tensorboard-frame-b8a87c7cc4478408\" width=\"100%\" height=\"800\" frameborder=\"0\">\n",
       "      </iframe>\n",
       "      <script>\n",
       "        (function() {\n",
       "          const frame = document.getElementById(\"tensorboard-frame-b8a87c7cc4478408\");\n",
       "          const url = new URL(\"/\", window.location);\n",
       "          const port = 6006;\n",
       "          if (port) {\n",
       "            url.port = port;\n",
       "          }\n",
       "          frame.src = url;\n",
       "        })();\n",
       "      </script>\n",
       "    "
      ],
      "text/plain": [
       "<IPython.core.display.HTML object>"
      ]
     },
     "metadata": {},
     "output_type": "display_data"
    }
   ],
   "source": [
    "%reload_ext tensorboard\n",
    "!kill $(ps -e | grep 'tensorboard' | awk '{print $1}')\n",
    "%tensorboard --logdir ./data/logs"
   ]
  },
  {
   "cell_type": "markdown",
   "metadata": {},
   "source": [
    "Now, optimizing the model:"
   ]
  },
  {
   "cell_type": "markdown",
   "metadata": {},
   "source": [
    "### Train"
   ]
  },
  {
   "cell_type": "markdown",
   "metadata": {},
   "source": [
    "Below, we train  the model for 301 epochs. This should take a minute or so with periodic updates provided"
   ]
  },
  {
   "cell_type": "code",
   "execution_count": 16,
   "metadata": {
    "scrolled": true
   },
   "outputs": [
    {
     "name": "stdout",
     "output_type": "stream",
     "text": [
      "NB2 cost 0.3341174848630964\n",
      "Full cost 0.4174937610619505\n",
      "relative_growth_rate\n",
      "\tavana max 1.030, min 0.96592\n",
      "mean guide efficacy 0.9992159002078269\n",
      "t0_offset SD: [('avana', 7.072693015439669e-05)]\n",
      "\n",
      "gene mean -0.21122822786625617\n",
      "SD of gene means 0.29797706729162987\n",
      "Mean of gene SDs 0.2506958081781616\n",
      "\n",
      "\n",
      "\n",
      "51 epochs trained, time taken 0:00:02, projected remaining 0:00:08\n",
      "NB2 cost 0.2240442003655348\n",
      "Full cost 0.26235568223219063\n",
      "relative_growth_rate\n",
      "\tavana max 1.403, min 0.59737\n",
      "mean guide efficacy 0.9382300184387284\n",
      "t0_offset SD: [('avana', 0.1435077953730121)]\n",
      "\n",
      "gene mean -0.03143626934599289\n",
      "SD of gene means 0.4271790867104013\n",
      "Mean of gene SDs 0.21274978305810177\n",
      "\n",
      "\n",
      "\n",
      "101 epochs trained, time taken 0:00:03, projected remaining 0:00:06\n",
      "NB2 cost 0.21367579903827447\n",
      "Full cost 0.23866571329059907\n",
      "relative_growth_rate\n",
      "\tavana max 1.617, min 0.46159\n",
      "mean guide efficacy 0.8825439434659323\n",
      "t0_offset SD: [('avana', 0.13652048053077967)]\n",
      "\n",
      "gene mean -0.0005063264142165703\n",
      "SD of gene means 0.43279974333702026\n",
      "Mean of gene SDs 0.1885322631429185\n",
      "\n",
      "\n",
      "\n",
      "151 epochs trained, time taken 0:00:04, projected remaining 0:00:04\n",
      "NB2 cost 0.21221769050947492\n",
      "Full cost 0.23713279339595583\n",
      "relative_growth_rate\n",
      "\tavana max 1.569, min 0.46054\n",
      "mean guide efficacy 0.8768308678070607\n",
      "t0_offset SD: [('avana', 0.1367753039725777)]\n",
      "\n",
      "gene mean -0.00047681314394119835\n",
      "SD of gene means 0.437383786209087\n",
      "Mean of gene SDs 0.1844346612809084\n",
      "\n",
      "\n",
      "\n",
      "201 epochs trained, time taken 0:00:06, projected remaining 0:00:03\n",
      "NB2 cost 0.2125704237202039\n",
      "Full cost 0.2373424214576141\n",
      "relative_growth_rate\n",
      "\tavana max 1.557, min 0.45423\n",
      "mean guide efficacy 0.8719881254944193\n",
      "t0_offset SD: [('avana', 0.13625896224474934)]\n",
      "\n",
      "gene mean -0.0006450897991098671\n",
      "SD of gene means 0.4386021545524202\n",
      "Mean of gene SDs 0.18277313290218541\n",
      "\n",
      "\n",
      "\n",
      "251 epochs trained, time taken 0:00:07, projected remaining 0:00:01\n",
      "NB2 cost 0.21234081946370797\n",
      "Full cost 0.23663056049744818\n",
      "relative_growth_rate\n",
      "\tavana max 1.552, min 0.46217\n",
      "mean guide efficacy 0.8694571783105826\n",
      "t0_offset SD: [('avana', 0.1344897387488096)]\n",
      "\n",
      "gene mean -0.0001610221170811536\n",
      "SD of gene means 0.4395451940766465\n",
      "Mean of gene SDs 0.1819743092522999\n",
      "\n",
      "\n",
      "\n",
      "301 epochs trained, time taken 0:00:09, projected remaining 0:00:00\n",
      "NB2 cost 0.21341377542010398\n",
      "Full cost 0.23777579725704442\n",
      "relative_growth_rate\n",
      "\tavana max 1.526, min 0.45912\n",
      "mean guide efficacy 0.8664879409891895\n",
      "t0_offset SD: [('avana', 0.13484155020085012)]\n",
      "\n",
      "gene mean -0.001001926662647842\n",
      "SD of gene means 0.44001964703140095\n",
      "Mean of gene SDs 0.18157768083743941\n",
      "\n",
      "\n",
      "\n"
     ]
    }
   ],
   "source": [
    "model.train(301, report_freq=50, burn_in_period=50, ge_only=0)"
   ]
  },
  {
   "cell_type": "markdown",
   "metadata": {},
   "source": [
    "## After Training"
   ]
  },
  {
   "cell_type": "markdown",
   "metadata": {},
   "source": [
    "### Saving and Restoring"
   ]
  },
  {
   "cell_type": "markdown",
   "metadata": {},
   "source": [
    "Chronos' `save` method dumps all the inputs, outputs, and model parameters to the specified directory. These files are written such that they can be read in individually and analyzed, but also used to restore the model by passing the directory path to the function `load_saved_model`."
   ]
  },
  {
   "cell_type": "code",
   "execution_count": 17,
   "metadata": {},
   "outputs": [],
   "source": [
    "savedir = \"Data/Achilles_run_compare\""
   ]
  },
  {
   "cell_type": "code",
   "execution_count": 18,
   "metadata": {},
   "outputs": [],
   "source": [
    "if not os.path.isdir(savedir):\n",
    "    os.mkdir(savedir)"
   ]
  },
  {
   "cell_type": "code",
   "execution_count": 19,
   "metadata": {},
   "outputs": [],
   "source": [
    "model.save(savedir, overwrite=True)"
   ]
  },
  {
   "cell_type": "code",
   "execution_count": 20,
   "metadata": {},
   "outputs": [
    {
     "name": "stdout",
     "output_type": "stream",
     "text": [
      "Saved files:\n",
      "\n",
      "\tlibrary_effect.csv\n",
      "\tcell_line_growth_rate.csv\n",
      "\tavana_predicted_readcounts.hdf5\n",
      "\tparameters.json\n",
      "\tguide_efficacy.csv\n",
      "\tavana_sequence_map.csv\n",
      "\tt0_offset.csv\n",
      "\tavana_predicted_lfc.hdf5\n",
      "\tavana_guide_gene_map.csv\n",
      "\tgene_effect_corrected.hdf5\n",
      "\tavana_negative_control_sgrnas.csv\n",
      "\tscreen_delay.csv\n",
      "\tscreen_excess_variance.csv\n",
      "\tcell_line_efficacy.csv\n",
      "\tgene_effect.hdf5\n",
      "\tavana_readcounts.hdf5\n"
     ]
    }
   ],
   "source": [
    "print(\"Saved files:\\n\\n\" + '\\n'.join(['\\t' + s for s in os.listdir(savedir)\n",
    "                if s.endswith(\"csv\")\n",
    "                or s.endswith(\"hdf5\")\n",
    "                or s.endswith(\"json\")\n",
    "                ]))"
   ]
  },
  {
   "cell_type": "markdown",
   "metadata": {},
   "source": [
    "The .hdf5 files are binaries written with chronos' `write_hdf5` function, which is an efficient method for writing large matrices. They can be read with chronos' `read_hdf5` function."
   ]
  },
  {
   "cell_type": "markdown",
   "metadata": {},
   "source": [
    "Restoring the model can be done with a single function call:"
   ]
  },
  {
   "cell_type": "code",
   "execution_count": 21,
   "metadata": {
    "scrolled": true
   },
   "outputs": [
    {
     "name": "stdout",
     "output_type": "stream",
     "text": [
      "\n",
      "\n",
      "Finding all unique guides and genes\n",
      "found 3474 unique guides and 883 unique genes in avana\n",
      "found 3474 unique guides and 883 unique genes overall\n",
      "\n",
      "finding guide-gene mapping indices\n",
      "\n",
      "finding all unique sequenced replicates, cell lines, and pDNA batches\n",
      "found 92 unique sequences (excluding pDNA) and 44 unique cell lines in avana\n",
      "found 92 unique replicates and 44 unique cell lines overall\n",
      "\n",
      "finding replicate-cell line mappings indices\n",
      "\n",
      "finding replicate-pDNA mappings indices\n",
      "\n",
      "\n",
      "assigning float constants\n",
      "Estimating or aligning variances\n",
      "\tEstimating excess variance (alpha) for avana\n",
      "Between 0 (batch=Index(['avana_avana_Avana-2', 'avana_avana_Avana-3', 'avana_avana_Avana-4'], dtype='object')) and 0 (batch=Index(['avana_avana_Avana-2', 'avana_avana_Avana-3', 'avana_avana_Avana-4'], dtype='object')) negative control sgRNAs were found to be systematically over- or under-represented in the screens and excluded.\n",
      "Creating excess variance tensors\n",
      "\tCreated excess variance tensor for avana with shape [92, 1]\n",
      "initializing graph\n",
      "\n",
      "building gene effect mask\n",
      "\n",
      "building doubling vectors\n",
      "made days vector of shape [92, 1] for avana\n",
      "\n",
      "building late observed timepoints\n",
      "\tbuilt normalized timepoints for avana with shape (92, 3474) (replicates X guides)\n",
      "\n",
      "building t0 reads\n",
      "\n",
      "\n",
      "Building variables\n",
      "\n",
      "building t0 reads estimate\n",
      "made t0 batch with shape (3, 3474) for avana\n",
      "building guide efficacy\n",
      "built guide efficacy: shape [1, 3475]\n",
      "building growth rate\n",
      "built growth rate: shape {'avana': [44, 1]}\n",
      "\n",
      "building cell line efficacy\n",
      "built cell line efficacy: shapes {'avana': [44, 1]}\n",
      "building screen delay\n",
      "built screen delay\n",
      "building gene effect\n"
     ]
    },
    {
     "name": "stderr",
     "output_type": "stream",
     "text": [
      "/Users/dempster/packages/chronos_public/chronos/model.py:1222: FutureWarning: DataFrame.groupby with axis=1 is deprecated. Do `frame.T.groupby(...)` without axis instead.\n",
      "  .groupby(guide_gene_map[key].set_index(\"sgrna\").gene, axis=1)\\\n",
      "2024-02-01 13:32:46.450156: W tensorflow/c/c_api.cc:304] Operation '{name:'excess_variance_1/avana/Assign' id:3131 op device:{requested: '', assigned: ''} def:{{{node excess_variance_1/avana/Assign}} = AssignVariableOp[_has_manual_control_dependencies=true, dtype=DT_DOUBLE, validate_shape=false](excess_variance_1/avana, excess_variance_1/avana/Initializer/initial_value)}}' was changed by setting attribute after it was run by a session. This mutation will have no effect, and will trigger an error in the future. Either don't modify nodes after running them or create a new session.\n"
     ]
    },
    {
     "name": "stdout",
     "output_type": "stream",
     "text": [
      "built core gene effect: 44 cell lines by 883 genes\n",
      "\n",
      "\n",
      "Connecting graph nodes in model\n",
      "\n",
      "building effective days\n",
      "built effective days, shapes {'avana': [92, 883]}\n",
      "\n",
      "building gene effect growth graph nodes\n",
      "built gene effect growth graph nodes, shapes {'avana': [44, 883]}\n",
      "\n",
      "building combined efficacy\n",
      "built combined efficacy, shape {'avana': [44, 3474]}\n",
      "built expanded combined efficacy, shapes {'avana': [92, 3474]}\n",
      "\n",
      "building growth estimates of edited cells and overall estimates of fold change in guide abundance\n",
      "built growth and change\n",
      "\n",
      "building unnormalized estimates of final abundance\n",
      "built unnormalized abundance\n",
      "\n",
      "building normalized estimates of final abundance\n",
      "built normalized abundance\n",
      "initializing precost variables\n",
      "\n",
      "\n",
      "Building all costs\n",
      "\n",
      "assembling guide efficacy regularization\n",
      "building smoothed regularization\n",
      "\n",
      "building t0 reads regularization/cost\n",
      "\n",
      "building NB2 cost\n",
      "building other regularizations\n",
      "\n",
      "Creating optimizer\n",
      "initializing rest of graph\n",
      "\tverifying graph integrity\n",
      "verifying user inputs\n",
      "verifying variables\n"
     ]
    },
    {
     "name": "stderr",
     "output_type": "stream",
     "text": [
      "2024-02-01 13:32:46.919850: W tensorflow/c/c_api.cc:304] Operation '{name:'GE_1/library_effect/avana/Assign' id:3274 op device:{requested: '', assigned: ''} def:{{{node GE_1/library_effect/avana/Assign}} = AssignVariableOp[_has_manual_control_dependencies=true, dtype=DT_DOUBLE, validate_shape=false](GE_1/library_effect/avana, GE_1/library_effect/avana/Initializer/initial_value)}}' was changed by setting attribute after it was run by a session. This mutation will have no effect, and will trigger an error in the future. Either don't modify nodes after running them or create a new session.\n"
     ]
    },
    {
     "name": "stdout",
     "output_type": "stream",
     "text": [
      "verifying calculated terms\n",
      "\tavana _gene_effect\n",
      "\tavana _selected_efficacies\n",
      "\tavana_predicted_readcounts_unscaled\n",
      "\tavana _predicted_readcounts\n",
      "\tavana _normalized_readcounts\n",
      "\tavana _cost_presum\n",
      "sess run\n",
      "\tavana _cost\n",
      "\tavana _full_costs\n",
      "ready to train\n",
      "assigning trained parameters\n",
      "\tlibrary effect\n",
      "\tgene effect\n",
      "\tguide efficacy\n",
      "\tcell efficacy\n",
      "\tcell growth rate\n",
      "\tscreen excess variance\n",
      "\tscreen delay\n",
      "\tt0 offset\n",
      "Complete.\n",
      "Cost when saved: 0.213414, cost now: 0.213413\n",
      "Full cost when saved: 0.237776, full cost now: 0.237778\n"
     ]
    }
   ],
   "source": [
    "model_restored = chronos.load_saved_model(savedir)"
   ]
  },
  {
   "cell_type": "code",
   "execution_count": 22,
   "metadata": {},
   "outputs": [
    {
     "name": "stdout",
     "output_type": "stream",
     "text": [
      "trained model cost: 0.213414\n",
      "restored model cost: 0.213413\n"
     ]
    },
    {
     "name": "stderr",
     "output_type": "stream",
     "text": [
      "2024-02-01 13:32:47.871901: W tensorflow/c/c_api.cc:304] Operation '{name:'GE/library_effect/avana/Adam_1/Assign' id:1653 op device:{requested: '', assigned: ''} def:{{{node GE/library_effect/avana/Adam_1/Assign}} = AssignVariableOp[_has_manual_control_dependencies=true, dtype=DT_DOUBLE, validate_shape=false](GE/library_effect/avana/Adam_1, GE/library_effect/avana/Adam_1/Initializer/zeros)}}' was changed by setting attribute after it was run by a session. This mutation will have no effect, and will trigger an error in the future. Either don't modify nodes after running them or create a new session.\n"
     ]
    }
   ],
   "source": [
    "print(\"trained model cost: %f\\nrestored model cost: %f\" % (model.cost, model_restored.cost))"
   ]
  },
  {
   "cell_type": "markdown",
   "metadata": {},
   "source": [
    "The most important file for most use cases is gene_effect.hdf5, which holds Chronos' estimate of the relative change in growth rate caused by gene knockouts. Negative values indicate inhibitory effects. You can also access the gene effect (and other parameters) from the trained model directly:"
   ]
  },
  {
   "cell_type": "code",
   "execution_count": 23,
   "metadata": {},
   "outputs": [
    {
     "data": {
      "text/html": [
       "<div>\n",
       "<style scoped>\n",
       "    .dataframe tbody tr th:only-of-type {\n",
       "        vertical-align: middle;\n",
       "    }\n",
       "\n",
       "    .dataframe tbody tr th {\n",
       "        vertical-align: top;\n",
       "    }\n",
       "\n",
       "    .dataframe thead th {\n",
       "        text-align: right;\n",
       "    }\n",
       "</style>\n",
       "<table border=\"1\" class=\"dataframe\">\n",
       "  <thead>\n",
       "    <tr style=\"text-align: right;\">\n",
       "      <th>gene</th>\n",
       "      <th>A1CF (29974)</th>\n",
       "      <th>A2M (2)</th>\n",
       "      <th>A2ML1 (144568)</th>\n",
       "      <th>A3GALT2 (127550)</th>\n",
       "      <th>A4GALT (53947)</th>\n",
       "    </tr>\n",
       "    <tr>\n",
       "      <th>cell_line_name</th>\n",
       "      <th></th>\n",
       "      <th></th>\n",
       "      <th></th>\n",
       "      <th></th>\n",
       "      <th></th>\n",
       "    </tr>\n",
       "  </thead>\n",
       "  <tbody>\n",
       "    <tr>\n",
       "      <th>ACH-000004</th>\n",
       "      <td>0.336535</td>\n",
       "      <td>0.080742</td>\n",
       "      <td>0.270257</td>\n",
       "      <td>0.399006</td>\n",
       "      <td>0.220218</td>\n",
       "    </tr>\n",
       "    <tr>\n",
       "      <th>ACH-000074</th>\n",
       "      <td>0.378469</td>\n",
       "      <td>0.459111</td>\n",
       "      <td>0.642287</td>\n",
       "      <td>0.402196</td>\n",
       "      <td>0.306572</td>\n",
       "    </tr>\n",
       "    <tr>\n",
       "      <th>ACH-000147</th>\n",
       "      <td>0.352725</td>\n",
       "      <td>0.327012</td>\n",
       "      <td>0.439509</td>\n",
       "      <td>0.117826</td>\n",
       "      <td>0.425525</td>\n",
       "    </tr>\n",
       "    <tr>\n",
       "      <th>ACH-000168</th>\n",
       "      <td>0.340540</td>\n",
       "      <td>0.392347</td>\n",
       "      <td>0.531306</td>\n",
       "      <td>0.317616</td>\n",
       "      <td>0.269098</td>\n",
       "    </tr>\n",
       "  </tbody>\n",
       "</table>\n",
       "</div>"
      ],
      "text/plain": [
       "gene            A1CF (29974)   A2M (2)  A2ML1 (144568)  A3GALT2 (127550)  \\\n",
       "cell_line_name                                                             \n",
       "ACH-000004          0.336535  0.080742        0.270257          0.399006   \n",
       "ACH-000074          0.378469  0.459111        0.642287          0.402196   \n",
       "ACH-000147          0.352725  0.327012        0.439509          0.117826   \n",
       "ACH-000168          0.340540  0.392347        0.531306          0.317616   \n",
       "\n",
       "gene            A4GALT (53947)  \n",
       "cell_line_name                  \n",
       "ACH-000004            0.220218  \n",
       "ACH-000074            0.306572  \n",
       "ACH-000147            0.425525  \n",
       "ACH-000168            0.269098  "
      ]
     },
     "execution_count": 23,
     "metadata": {},
     "output_type": "execute_result"
    }
   ],
   "source": [
    "gene_effects = model.gene_effect\n",
    "\n",
    "gene_effects.iloc[:4, :5]"
   ]
  },
  {
   "cell_type": "markdown",
   "metadata": {},
   "source": [
    "If your library includes many depleting genes with negative gene effect scores, this can drive nonessential genes towards positive values as Chronos tries to maintain the overall mean score near 0: "
   ]
  },
  {
   "cell_type": "code",
   "execution_count": 24,
   "metadata": {},
   "outputs": [
    {
     "name": "stdout",
     "output_type": "stream",
     "text": [
      "Mean of all effects: -0.001, mean of nonessential gene effects: 0.301\n"
     ]
    }
   ],
   "source": [
    "print(\"Mean of all effects: %1.3f, mean of nonessential gene effects: %1.3f\" %(\n",
    "    np.nanmean(gene_effects.mean()), np.nanmean(gene_effects.reindex(columns=nonessentials))\n",
    "))"
   ]
  },
  {
   "cell_type": "markdown",
   "metadata": {},
   "source": [
    "We usually want nonessential gene effects to be centered at 0, so we can interpret 0 gene effect as \"no impact on viability.\" This is a trivial change to make."
   ]
  },
  {
   "cell_type": "code",
   "execution_count": 25,
   "metadata": {},
   "outputs": [],
   "source": [
    "gene_effects -= np.nanmean(gene_effects.reindex(columns=nonessentials))"
   ]
  },
  {
   "cell_type": "code",
   "execution_count": 26,
   "metadata": {},
   "outputs": [
    {
     "name": "stderr",
     "output_type": "stream",
     "text": [
      "/opt/homebrew/lib/python3.11/site-packages/seaborn/_oldcore.py:1119: FutureWarning: use_inf_as_na option is deprecated and will be removed in a future version. Convert inf values to NaN before operating instead.\n",
      "  with pd.option_context('mode.use_inf_as_na', True):\n"
     ]
    },
    {
     "data": {
      "text/plain": [
       "Text(0.5, 0, 'Distribution of adjusted gene effects')"
      ]
     },
     "execution_count": 26,
     "metadata": {},
     "output_type": "execute_result"
    },
    {
     "data": {
      "image/png": "[encoded data removed]",
      "text/plain": [
       "<Figure size 1280x960 with 1 Axes>"
      ]
     },
     "metadata": {},
     "output_type": "display_data"
    }
   ],
   "source": [
    "sns.kdeplot(np.ravel(gene_effects))\n",
    "plt.xlabel(\"Distribution of adjusted gene effects\")"
   ]
  },
  {
   "cell_type": "code",
   "execution_count": 27,
   "metadata": {},
   "outputs": [
    {
     "data": {
      "text/plain": [
       "320"
      ]
     },
     "execution_count": 27,
     "metadata": {},
     "output_type": "execute_result"
    }
   ],
   "source": [
    "len(set(common_essentials) & set(gene_effects.columns))"
   ]
  },
  {
   "cell_type": "code",
   "execution_count": 28,
   "metadata": {},
   "outputs": [
    {
     "data": {
      "text/plain": [
       "367"
      ]
     },
     "execution_count": 28,
     "metadata": {},
     "output_type": "execute_result"
    }
   ],
   "source": [
    "len(set(nonessentials) & set(gene_effects.columns))"
   ]
  },
  {
   "cell_type": "markdown",
   "metadata": {},
   "source": [
    "### Copy Number Correction"
   ]
  },
  {
   "cell_type": "markdown",
   "metadata": {},
   "source": [
    "If you have gene-level copy number calls, Chronos includes an option to correct gene effect scores after the fact. This works best if the data has been scaled, as above."
   ]
  },
  {
   "cell_type": "code",
   "execution_count": 29,
   "metadata": {},
   "outputs": [
    {
     "data": {
      "text/html": [
       "<div>\n",
       "<style scoped>\n",
       "    .dataframe tbody tr th:only-of-type {\n",
       "        vertical-align: middle;\n",
       "    }\n",
       "\n",
       "    .dataframe tbody tr th {\n",
       "        vertical-align: top;\n",
       "    }\n",
       "\n",
       "    .dataframe thead th {\n",
       "        text-align: right;\n",
       "    }\n",
       "</style>\n",
       "<table border=\"1\" class=\"dataframe\">\n",
       "  <thead>\n",
       "    <tr style=\"text-align: right;\">\n",
       "      <th></th>\n",
       "      <th>A1CF (29974)</th>\n",
       "      <th>A2M (2)</th>\n",
       "      <th>A2ML1 (144568)</th>\n",
       "    </tr>\n",
       "  </thead>\n",
       "  <tbody>\n",
       "    <tr>\n",
       "      <th>ACH-001636</th>\n",
       "      <td>1.110663</td>\n",
       "      <td>1.047670</td>\n",
       "      <td>1.047670</td>\n",
       "    </tr>\n",
       "    <tr>\n",
       "      <th>ACH-000784</th>\n",
       "      <td>1.193826</td>\n",
       "      <td>1.161938</td>\n",
       "      <td>1.109943</td>\n",
       "    </tr>\n",
       "    <tr>\n",
       "      <th>ACH-000147</th>\n",
       "      <td>1.365585</td>\n",
       "      <td>0.499068</td>\n",
       "      <td>0.499068</td>\n",
       "    </tr>\n",
       "    <tr>\n",
       "      <th>ACH-000657</th>\n",
       "      <td>1.033547</td>\n",
       "      <td>1.040547</td>\n",
       "      <td>1.040547</td>\n",
       "    </tr>\n",
       "  </tbody>\n",
       "</table>\n",
       "</div>"
      ],
      "text/plain": [
       "            A1CF (29974)   A2M (2)  A2ML1 (144568)\n",
       "ACH-001636      1.110663  1.047670        1.047670\n",
       "ACH-000784      1.193826  1.161938        1.109943\n",
       "ACH-000147      1.365585  0.499068        0.499068\n",
       "ACH-000657      1.033547  1.040547        1.040547"
      ]
     },
     "execution_count": 29,
     "metadata": {},
     "output_type": "execute_result"
    }
   ],
   "source": [
    "cn = chronos.read_hdf5(\"Data/SampleData/OmicsCNGene.hdf5\")\n",
    "cn.iloc[:4, :3]"
   ]
  },
  {
   "cell_type": "markdown",
   "metadata": {},
   "source": [
    "Unfortunately, we don't have copy number calls for one of the genes targeted by the Avana library:"
   ]
  },
  {
   "cell_type": "code",
   "execution_count": 30,
   "metadata": {},
   "outputs": [
    {
     "name": "stdout",
     "output_type": "stream",
     "text": [
      "Missing 1 genes from gene_effect in copy_number.\n",
      "Examples: ['POU2AF3 (120376)']\n"
     ]
    }
   ],
   "source": [
    "try:\n",
    "    corrected, shifts = chronos.alternate_CN(gene_effects, cn)\n",
    "except ValueError as e:\n",
    "    print(e)"
   ]
  },
  {
   "cell_type": "markdown",
   "metadata": {},
   "source": [
    "We could choose to drop these genes. Instead, we'll assume normal ploidy (=1, in the current CCLE convention) for them and fill in the CN matrix accordingly."
   ]
  },
  {
   "cell_type": "code",
   "execution_count": 31,
   "metadata": {},
   "outputs": [],
   "source": [
    "for col in set(gene_effects.columns) - set(cn.columns):\n",
    "    cn[col] = 1"
   ]
  },
  {
   "cell_type": "code",
   "execution_count": 32,
   "metadata": {},
   "outputs": [
    {
     "name": "stdout",
     "output_type": "stream",
     "text": [
      "\n",
      "Fitting cell line group 1 of 1\n",
      "finding low CN gene effect shifts\n",
      "smoothing and interpolating cutting toxicity for all genes\n",
      "constructed spline matrix of shape 38852, 105\n",
      "\tcost: 0.03970593204285956\n",
      "\tcost: 0.03883143159155688\n",
      "\tcost: 0.03869395820118811\n",
      "\tcost: 0.03860686197076091\n",
      "\tcost: 0.03854619133053345\n",
      "\tcost: 0.03850397615261136\n",
      "generating matrix\n"
     ]
    }
   ],
   "source": [
    "corrected, shifts = chronos.alternate_CN(gene_effects, cn)"
   ]
  },
  {
   "cell_type": "markdown",
   "metadata": {},
   "source": [
    "The `shifts` dataframe contains some information about the inferred CN effect, while `corrected` contains the corrected gene effects matrix. Overall, gene effect matrices will change little after correction, since most genes in most lines are near diploid."
   ]
  },
  {
   "cell_type": "markdown",
   "metadata": {},
   "source": [
    "We'll write the corrected dataframe to the saved directory we made earlier"
   ]
  },
  {
   "cell_type": "code",
   "execution_count": 33,
   "metadata": {},
   "outputs": [],
   "source": [
    "chronos.write_hdf5(corrected, os.path.join(savedir, \"gene_effect_corrected.hdf5\"))"
   ]
  },
  {
   "cell_type": "markdown",
   "metadata": {},
   "source": [
    "### QC report"
   ]
  },
  {
   "cell_type": "markdown",
   "metadata": {},
   "source": [
    "The function `dataset_qc_report` in the `reports` module of Chronos presents a variety of QC metrics and interrogates some specific examples. The report minimally requires a set of positive and negative control genes. To get the full report requires copy number, mutation data, expression data, a list of expression addictions (genes which are dependencies in highly expressing lines), and oncogenic mutations."
   ]
  },
  {
   "cell_type": "markdown",
   "metadata": {},
   "source": [
    "Below, we'll load an annotated DepMap MAF file (subsetted to our cell lines). We'll select gain of function cancer driver events from it and generate a binary mutation matrix. We have a prior belief that cell lines with driver gain of function mutation events will be dependent on the mutated gene, so this matrix will be used by the QC report to assess our ability to identify selective dependencies. Specifically, we expect the oncogenes in this matrix to be dependencies in cell lines where the matrix is `True`, and not otherwise."
   ]
  },
  {
   "cell_type": "code",
   "execution_count": 34,
   "metadata": {},
   "outputs": [],
   "source": [
    "maf = pd.read_csv(\"Data/SampleData/OmicsSomaticMutations.csv\")"
   ]
  },
  {
   "cell_type": "code",
   "execution_count": 35,
   "metadata": {},
   "outputs": [],
   "source": [
    "cancer_relevant = maf[\n",
    "  (\n",
    "      maf.Driver | maf.LikelyDriver  \n",
    "  ) & (\n",
    "      maf.LikelyGoF\n",
    "  )\n",
    "]\n",
    "\n",
    "\n",
    "cancer_relevant = cancer_relevant[~cancer_relevant.duplicated(subset=[\"ModelID\", \"Gene\"])]\n",
    "\n",
    "cancer_relevant['truecol'] = True\n",
    "\n",
    "gof_matrix_base = pd.pivot(cancer_relevant, index=\"ModelID\", columns=\"Gene\", values=\"truecol\")"
   ]
  },
  {
   "cell_type": "markdown",
   "metadata": {},
   "source": [
    "Another way to evaluate selective dependencies is using expression addictions, a common pattern in which a gene is a stronger dependency in lines with higher expression. We'll use a list derived from DepMap RNAi (Tsherniak et al., Cell 2017), and subset our expression matrix to match."
   ]
  },
  {
   "cell_type": "code",
   "execution_count": 36,
   "metadata": {},
   "outputs": [],
   "source": [
    "expression_addictions = pd.read_csv(\"Data/SampleData/RNAiExpressionAddictions.csv\")['Gene']"
   ]
  },
  {
   "cell_type": "code",
   "execution_count": 37,
   "metadata": {},
   "outputs": [],
   "source": [
    "addiction_expressions = chronos.read_hdf5(\"Data/SampleData/OmicsExpressionProteinCodingGenesTPMLogp1.hdf5\")[\n",
    "    expression_addictions\n",
    "]"
   ]
  },
  {
   "cell_type": "markdown",
   "metadata": {},
   "source": [
    "Now, we're ready to run the QC report on Chronos' results:"
   ]
  },
  {
   "cell_type": "code",
   "execution_count": 38,
   "metadata": {
    "scrolled": true
   },
   "outputs": [
    {
     "name": "stdout",
     "output_type": "stream",
     "text": [
      "Loading data from Data/Achilles_run_compare\n",
      "plotting global control separation\n"
     ]
    },
    {
     "name": "stderr",
     "output_type": "stream",
     "text": [
      "/opt/homebrew/lib/python3.11/site-packages/seaborn/_oldcore.py:1119: FutureWarning: use_inf_as_na option is deprecated and will be removed in a future version. Convert inf values to NaN before operating instead.\n",
      "  with pd.option_context('mode.use_inf_as_na', True):\n",
      "/opt/homebrew/lib/python3.11/site-packages/seaborn/_oldcore.py:1119: FutureWarning: use_inf_as_na option is deprecated and will be removed in a future version. Convert inf values to NaN before operating instead.\n",
      "  with pd.option_context('mode.use_inf_as_na', True):\n",
      "/opt/homebrew/lib/python3.11/site-packages/seaborn/_oldcore.py:1119: FutureWarning: use_inf_as_na option is deprecated and will be removed in a future version. Convert inf values to NaN before operating instead.\n",
      "  with pd.option_context('mode.use_inf_as_na', True):\n",
      "/opt/homebrew/lib/python3.11/site-packages/seaborn/_oldcore.py:1119: FutureWarning: use_inf_as_na option is deprecated and will be removed in a future version. Convert inf values to NaN before operating instead.\n",
      "  with pd.option_context('mode.use_inf_as_na', True):\n"
     ]
    },
    {
     "name": "stdout",
     "output_type": "stream",
     "text": [
      "plotting selective dependency separation\n"
     ]
    },
    {
     "name": "stderr",
     "output_type": "stream",
     "text": [
      "/Users/dempster/packages/chronos_public/chronos/evaluations.py:761: FutureWarning: Series.__getitem__ treating keys as positions is deprecated. In a future version, integer keys will always be treated as labels (consistent with DataFrame behavior). To access a value by position, use `ser.iloc[pos]`\n",
      "  texts = [plt.text(s=neg_means.index[i],x=neg_means[i], y=pos_means[i], fontsize=6, color=[.8, .3, .05]) for i in outliers]\n"
     ]
    },
    {
     "name": "stdout",
     "output_type": "stream",
     "text": [
      "plotting gene effect mean relationships\n",
      "plotting copy number effect\n",
      "plotting screen efficacy and growth rate\n"
     ]
    },
    {
     "name": "stderr",
     "output_type": "stream",
     "text": [
      "/opt/homebrew/lib/python3.11/site-packages/seaborn/_oldcore.py:1119: FutureWarning: use_inf_as_na option is deprecated and will be removed in a future version. Convert inf values to NaN before operating instead.\n",
      "  with pd.option_context('mode.use_inf_as_na', True):\n"
     ]
    },
    {
     "name": "stdout",
     "output_type": "stream",
     "text": [
      "plotting readcount predictions\n"
     ]
    },
    {
     "name": "stderr",
     "output_type": "stream",
     "text": [
      "/Users/dempster/packages/chronos_public/chronos/reports.py:452: UserWarning: The figure layout has changed to tight\n",
      "  plt.tight_layout()\n"
     ]
    },
    {
     "name": "stdout",
     "output_type": "stream",
     "text": [
      "plotting LFC predictions\n"
     ]
    },
    {
     "name": "stderr",
     "output_type": "stream",
     "text": [
      "/Users/dempster/packages/chronos_public/chronos/reports.py:452: UserWarning: The figure layout has changed to tight\n",
      "  plt.tight_layout()\n",
      "/Users/dempster/packages/chronos_public/chronos/reports.py:103: FutureWarning: DataFrame.groupby with axis=1 is deprecated. Do `frame.T.groupby(...)` without axis instead.\n",
      "  .groupby(data['guide_map'][library].set_index(\"sgrna\").gene, axis=1)\\\n"
     ]
    },
    {
     "name": "stdout",
     "output_type": "stream",
     "text": [
      "plotting difference from naive gene score\n",
      "summarizing\n",
      "plotting genes with low agreement with naive gene effect\n",
      "\tRFT1 (91869)\n"
     ]
    },
    {
     "name": "stderr",
     "output_type": "stream",
     "text": [
      "/opt/homebrew/lib/python3.11/site-packages/seaborn/_oldcore.py:1119: FutureWarning: use_inf_as_na option is deprecated and will be removed in a future version. Convert inf values to NaN before operating instead.\n",
      "  with pd.option_context('mode.use_inf_as_na', True):\n",
      "/opt/homebrew/lib/python3.11/site-packages/seaborn/_oldcore.py:1119: FutureWarning: use_inf_as_na option is deprecated and will be removed in a future version. Convert inf values to NaN before operating instead.\n",
      "  with pd.option_context('mode.use_inf_as_na', True):\n",
      "/opt/homebrew/lib/python3.11/site-packages/seaborn/_oldcore.py:1119: FutureWarning: use_inf_as_na option is deprecated and will be removed in a future version. Convert inf values to NaN before operating instead.\n",
      "  with pd.option_context('mode.use_inf_as_na', True):\n",
      "/opt/homebrew/lib/python3.11/site-packages/seaborn/_oldcore.py:1119: FutureWarning: use_inf_as_na option is deprecated and will be removed in a future version. Convert inf values to NaN before operating instead.\n",
      "  with pd.option_context('mode.use_inf_as_na', True):\n"
     ]
    },
    {
     "name": "stdout",
     "output_type": "stream",
     "text": [
      "avana    avana\n",
      "dtype: object avana    avana\n",
      "dtype: object\n",
      "Guide and replicate key for RFT1 (91869), ACH-001736:\n",
      "avana    av\n",
      "dtype: object\n",
      "CCCCACTGAGACATGCTCTG    avGuide1\n",
      "GCTTGTGCCAAGACCCAAAA    avGuide2\n",
      "GGAGGCTATGGGCAGCCAGG    avGuide3\n",
      "GGTGATTGCAGAGAGCCTGT    avGuide4\n",
      "dtype: object\n",
      "HB11;19-311CAS9_RepA_p6_Avana-3    avRep1\n",
      "HB11;19-311CAS9_RepB_p6_Avana-3    avRep2\n",
      "dtype: object\n",
      "avana    avana\n",
      "dtype: object avana    avana\n",
      "dtype: object\n",
      "Guide and replicate key for RFT1 (91869), ACH-001636:\n",
      "avana    av\n",
      "dtype: object\n",
      "CCCCACTGAGACATGCTCTG    avGuide1\n",
      "GCTTGTGCCAAGACCCAAAA    avGuide2\n",
      "GGAGGCTATGGGCAGCCAGG    avGuide3\n",
      "GGTGATTGCAGAGAGCCTGT    avGuide4\n",
      "dtype: object\n",
      "RAMOS-311cas9-RepA-p6_Avana-4    avRep1\n",
      "RAMOS-311cas9-RepB-p6_Avana-4    avRep2\n",
      "dtype: object\n",
      "\tBTK (695)\n"
     ]
    },
    {
     "name": "stderr",
     "output_type": "stream",
     "text": [
      "/opt/homebrew/lib/python3.11/site-packages/seaborn/_oldcore.py:1119: FutureWarning: use_inf_as_na option is deprecated and will be removed in a future version. Convert inf values to NaN before operating instead.\n",
      "  with pd.option_context('mode.use_inf_as_na', True):\n",
      "/opt/homebrew/lib/python3.11/site-packages/seaborn/_oldcore.py:1119: FutureWarning: use_inf_as_na option is deprecated and will be removed in a future version. Convert inf values to NaN before operating instead.\n",
      "  with pd.option_context('mode.use_inf_as_na', True):\n",
      "/opt/homebrew/lib/python3.11/site-packages/seaborn/_oldcore.py:1119: FutureWarning: use_inf_as_na option is deprecated and will be removed in a future version. Convert inf values to NaN before operating instead.\n",
      "  with pd.option_context('mode.use_inf_as_na', True):\n",
      "/opt/homebrew/lib/python3.11/site-packages/seaborn/_oldcore.py:1119: FutureWarning: use_inf_as_na option is deprecated and will be removed in a future version. Convert inf values to NaN before operating instead.\n",
      "  with pd.option_context('mode.use_inf_as_na', True):\n"
     ]
    },
    {
     "name": "stdout",
     "output_type": "stream",
     "text": [
      "avana    avana\n",
      "dtype: object avana    avana\n",
      "dtype: object\n",
      "Guide and replicate key for BTK (695), ACH-001533:\n",
      "avana    av\n",
      "dtype: object\n",
      "AATGATCTACAGCTGCGGAA    avGuide1\n",
      "ATAGTAGGAGAGTTTGTGCA    avGuide2\n",
      "CTGTGTTTGCTAAATCCACA    avGuide3\n",
      "GATGCTCTCCAGAATCACTG    avGuide4\n",
      "dtype: object\n",
      "KARPAS1718-311cas9-RepA-p6_Avana-4    avRep1\n",
      "KARPAS1718-311cas9-RepB-p6_Avana-4    avRep2\n",
      "dtype: object\n",
      "avana    avana\n",
      "dtype: object avana    avana\n",
      "dtype: object\n",
      "Guide and replicate key for BTK (695), ACH-001843:\n",
      "avana    av\n",
      "dtype: object\n",
      "AATGATCTACAGCTGCGGAA    avGuide1\n",
      "ATAGTAGGAGAGTTTGTGCA    avGuide2\n",
      "CTGTGTTTGCTAAATCCACA    avGuide3\n",
      "GATGCTCTCCAGAATCACTG    avGuide4\n",
      "dtype: object\n",
      "ICC3-311cas9_RepA_p6_Avana-3    avRep1\n",
      "ICC3-311cas9_RepB_p6_Avana-3    avRep2\n",
      "dtype: object\n",
      "\tRRP1 (8568)\n"
     ]
    },
    {
     "name": "stderr",
     "output_type": "stream",
     "text": [
      "/opt/homebrew/lib/python3.11/site-packages/seaborn/_oldcore.py:1119: FutureWarning: use_inf_as_na option is deprecated and will be removed in a future version. Convert inf values to NaN before operating instead.\n",
      "  with pd.option_context('mode.use_inf_as_na', True):\n",
      "/opt/homebrew/lib/python3.11/site-packages/seaborn/_oldcore.py:1119: FutureWarning: use_inf_as_na option is deprecated and will be removed in a future version. Convert inf values to NaN before operating instead.\n",
      "  with pd.option_context('mode.use_inf_as_na', True):\n",
      "/opt/homebrew/lib/python3.11/site-packages/seaborn/_oldcore.py:1119: FutureWarning: use_inf_as_na option is deprecated and will be removed in a future version. Convert inf values to NaN before operating instead.\n",
      "  with pd.option_context('mode.use_inf_as_na', True):\n",
      "/opt/homebrew/lib/python3.11/site-packages/seaborn/_oldcore.py:1119: FutureWarning: use_inf_as_na option is deprecated and will be removed in a future version. Convert inf values to NaN before operating instead.\n",
      "  with pd.option_context('mode.use_inf_as_na', True):\n"
     ]
    },
    {
     "name": "stdout",
     "output_type": "stream",
     "text": [
      "avana    avana\n",
      "dtype: object avana    avana\n",
      "dtype: object\n",
      "Guide and replicate key for RRP1 (8568), ACH-001736:\n",
      "avana    av\n",
      "dtype: object\n",
      "CCTTCTGCAGAATTGCTGCC    avGuide1\n",
      "CTTCATCGAGATCTTCCTGG    avGuide2\n",
      "GCAGGTGACCCGGGACCGGG    avGuide3\n",
      "GCGCCTGGATAAATTCTACA    avGuide4\n",
      "dtype: object\n",
      "HB11;19-311CAS9_RepA_p6_Avana-3    avRep1\n",
      "HB11;19-311CAS9_RepB_p6_Avana-3    avRep2\n",
      "dtype: object\n",
      "avana    avana\n",
      "dtype: object avana    avana\n",
      "dtype: object\n",
      "Guide and replicate key for RRP1 (8568), ACH-000750:\n",
      "avana    av\n",
      "dtype: object\n",
      "CCTTCTGCAGAATTGCTGCC    avGuide1\n",
      "CTTCATCGAGATCTTCCTGG    avGuide2\n",
      "GCAGGTGACCCGGGACCGGG    avGuide3\n",
      "GCGCCTGGATAAATTCTACA    avGuide4\n",
      "dtype: object\n",
      "LOXIMVI-311Cas9_RepA_p6_Avana-2    avRep1\n",
      "LOXIMVI-311Cas9_RepB_p6_Avana-2    avRep2\n",
      "dtype: object\n",
      "\tGUCA2A (2980)\n"
     ]
    },
    {
     "name": "stderr",
     "output_type": "stream",
     "text": [
      "/opt/homebrew/lib/python3.11/site-packages/seaborn/_oldcore.py:1119: FutureWarning: use_inf_as_na option is deprecated and will be removed in a future version. Convert inf values to NaN before operating instead.\n",
      "  with pd.option_context('mode.use_inf_as_na', True):\n",
      "/opt/homebrew/lib/python3.11/site-packages/seaborn/_oldcore.py:1119: FutureWarning: use_inf_as_na option is deprecated and will be removed in a future version. Convert inf values to NaN before operating instead.\n",
      "  with pd.option_context('mode.use_inf_as_na', True):\n",
      "/opt/homebrew/lib/python3.11/site-packages/seaborn/_oldcore.py:1119: FutureWarning: use_inf_as_na option is deprecated and will be removed in a future version. Convert inf values to NaN before operating instead.\n",
      "  with pd.option_context('mode.use_inf_as_na', True):\n",
      "/opt/homebrew/lib/python3.11/site-packages/seaborn/_oldcore.py:1119: FutureWarning: use_inf_as_na option is deprecated and will be removed in a future version. Convert inf values to NaN before operating instead.\n",
      "  with pd.option_context('mode.use_inf_as_na', True):\n"
     ]
    },
    {
     "name": "stdout",
     "output_type": "stream",
     "text": [
      "avana    avana\n",
      "dtype: object avana    avana\n",
      "dtype: object\n",
      "Guide and replicate key for GUCA2A (2980), ACH-000996:\n",
      "avana    av\n",
      "dtype: object\n",
      "CCAGGAGCCCCAGGAGCCCA    avGuide1\n",
      "GCACAGTGCGGAGAGCAGGA    avGuide2\n",
      "GGCCCCAAGGAGGCACAGTG    avGuide3\n",
      "TGGGCTCCTGGGGCTCCTGG    avGuide4\n",
      "dtype: object\n",
      "HEC-251-311Cas9_RepA_p5_Avana-3    avRep1\n",
      "HEC-251-311Cas9_RepB_p5_Avana-3    avRep2\n",
      "dtype: object\n",
      "avana    avana\n",
      "dtype: object avana    avana\n",
      "dtype: object\n",
      "Guide and replicate key for GUCA2A (2980), ACH-001636:\n",
      "avana    av\n",
      "dtype: object\n",
      "CCAGGAGCCCCAGGAGCCCA    avGuide1\n",
      "GCACAGTGCGGAGAGCAGGA    avGuide2\n",
      "GGCCCCAAGGAGGCACAGTG    avGuide3\n",
      "TGGGCTCCTGGGGCTCCTGG    avGuide4\n",
      "dtype: object\n",
      "RAMOS-311cas9-RepA-p6_Avana-4    avRep1\n",
      "RAMOS-311cas9-RepB-p6_Avana-4    avRep2\n",
      "dtype: object\n",
      "\tESR1 (2099)\n"
     ]
    },
    {
     "name": "stderr",
     "output_type": "stream",
     "text": [
      "/opt/homebrew/lib/python3.11/site-packages/seaborn/_oldcore.py:1119: FutureWarning: use_inf_as_na option is deprecated and will be removed in a future version. Convert inf values to NaN before operating instead.\n",
      "  with pd.option_context('mode.use_inf_as_na', True):\n",
      "/opt/homebrew/lib/python3.11/site-packages/seaborn/_oldcore.py:1119: FutureWarning: use_inf_as_na option is deprecated and will be removed in a future version. Convert inf values to NaN before operating instead.\n",
      "  with pd.option_context('mode.use_inf_as_na', True):\n",
      "/opt/homebrew/lib/python3.11/site-packages/seaborn/_oldcore.py:1119: FutureWarning: use_inf_as_na option is deprecated and will be removed in a future version. Convert inf values to NaN before operating instead.\n",
      "  with pd.option_context('mode.use_inf_as_na', True):\n",
      "/opt/homebrew/lib/python3.11/site-packages/seaborn/_oldcore.py:1119: FutureWarning: use_inf_as_na option is deprecated and will be removed in a future version. Convert inf values to NaN before operating instead.\n",
      "  with pd.option_context('mode.use_inf_as_na', True):\n"
     ]
    },
    {
     "name": "stdout",
     "output_type": "stream",
     "text": [
      "avana    avana\n",
      "dtype: object avana    avana\n",
      "dtype: object\n",
      "Guide and replicate key for ESR1 (2099), ACH-000147:\n",
      "avana    av\n",
      "dtype: object\n",
      "CGCCGTGTACAACTACCCCG    avGuide1\n",
      "GCACCATTGATAAAAACAGG    avGuide2\n",
      "GTAGACCTGCGCGTTGGCGG    avGuide3\n",
      "TCGCCTTTCCTGCAGCCCCA    avGuide4\n",
      "dtype: object\n",
      "T47D-311Cas9-RepA-p6_Avana-4    avRep1\n",
      "T47D-311Cas9-RepB-p6_Avana-4    avRep2\n",
      "dtype: object\n",
      "avana    avana\n",
      "dtype: object avana    avana\n",
      "dtype: object\n",
      "Guide and replicate key for ESR1 (2099), ACH-001842:\n",
      "avana    av\n",
      "dtype: object\n",
      "CGCCGTGTACAACTACCCCG    avGuide1\n",
      "GCACCATTGATAAAAACAGG    avGuide2\n",
      "GTAGACCTGCGCGTTGGCGG    avGuide3\n",
      "TCGCCTTTCCTGCAGCCCCA    avGuide4\n",
      "dtype: object\n",
      "ICC2-311cas9_RepA_p6_Avana-3    avRep1\n",
      "ICC2-311cas9_RepB_p6_Avana-3    avRep2\n",
      "dtype: object\n",
      "\tFOXR1 (283150)\n"
     ]
    },
    {
     "name": "stderr",
     "output_type": "stream",
     "text": [
      "/opt/homebrew/lib/python3.11/site-packages/seaborn/_oldcore.py:1119: FutureWarning: use_inf_as_na option is deprecated and will be removed in a future version. Convert inf values to NaN before operating instead.\n",
      "  with pd.option_context('mode.use_inf_as_na', True):\n",
      "/opt/homebrew/lib/python3.11/site-packages/seaborn/_oldcore.py:1119: FutureWarning: use_inf_as_na option is deprecated and will be removed in a future version. Convert inf values to NaN before operating instead.\n",
      "  with pd.option_context('mode.use_inf_as_na', True):\n",
      "/opt/homebrew/lib/python3.11/site-packages/seaborn/_oldcore.py:1119: FutureWarning: use_inf_as_na option is deprecated and will be removed in a future version. Convert inf values to NaN before operating instead.\n",
      "  with pd.option_context('mode.use_inf_as_na', True):\n",
      "/opt/homebrew/lib/python3.11/site-packages/seaborn/_oldcore.py:1119: FutureWarning: use_inf_as_na option is deprecated and will be removed in a future version. Convert inf values to NaN before operating instead.\n",
      "  with pd.option_context('mode.use_inf_as_na', True):\n"
     ]
    },
    {
     "name": "stdout",
     "output_type": "stream",
     "text": [
      "avana    avana\n",
      "dtype: object avana    avana\n",
      "dtype: object\n",
      "Guide and replicate key for FOXR1 (283150), ACH-000004:\n",
      "avana    av\n",
      "dtype: object\n",
      "GAGACCTCCAGCTTTCCAGG    avGuide1\n",
      "GGAAGATGCCAGCTGCTCAG    avGuide2\n",
      "TGAGACCTCCAGCTTTCCAG    avGuide3\n",
      "TGGGATTTACCCACATCCAG    avGuide4\n",
      "dtype: object\n",
      "HEL-311Cas9_RepA_p4_Avana-3    avRep1\n",
      "HEL-311Cas9_RepB_p4_Avana-3    avRep2\n",
      "dtype: object\n",
      "avana    avana\n",
      "dtype: object avana    avana\n",
      "dtype: object\n",
      "Guide and replicate key for FOXR1 (283150), ACH-000750:\n",
      "avana    av\n",
      "dtype: object\n",
      "GAGACCTCCAGCTTTCCAGG    avGuide1\n",
      "GGAAGATGCCAGCTGCTCAG    avGuide2\n",
      "TGAGACCTCCAGCTTTCCAG    avGuide3\n",
      "TGGGATTTACCCACATCCAG    avGuide4\n",
      "dtype: object\n",
      "LOXIMVI-311Cas9_RepA_p6_Avana-2    avRep1\n",
      "LOXIMVI-311Cas9_RepB_p6_Avana-2    avRep2\n",
      "dtype: object\n",
      "\tPFDN2 (5202)\n"
     ]
    },
    {
     "name": "stderr",
     "output_type": "stream",
     "text": [
      "/opt/homebrew/lib/python3.11/site-packages/seaborn/_oldcore.py:1119: FutureWarning: use_inf_as_na option is deprecated and will be removed in a future version. Convert inf values to NaN before operating instead.\n",
      "  with pd.option_context('mode.use_inf_as_na', True):\n",
      "/opt/homebrew/lib/python3.11/site-packages/seaborn/_oldcore.py:1119: FutureWarning: use_inf_as_na option is deprecated and will be removed in a future version. Convert inf values to NaN before operating instead.\n",
      "  with pd.option_context('mode.use_inf_as_na', True):\n",
      "/opt/homebrew/lib/python3.11/site-packages/seaborn/_oldcore.py:1119: FutureWarning: use_inf_as_na option is deprecated and will be removed in a future version. Convert inf values to NaN before operating instead.\n",
      "  with pd.option_context('mode.use_inf_as_na', True):\n",
      "/opt/homebrew/lib/python3.11/site-packages/seaborn/_oldcore.py:1119: FutureWarning: use_inf_as_na option is deprecated and will be removed in a future version. Convert inf values to NaN before operating instead.\n",
      "  with pd.option_context('mode.use_inf_as_na', True):\n"
     ]
    },
    {
     "name": "stdout",
     "output_type": "stream",
     "text": [
      "avana    avana\n",
      "dtype: object avana    avana\n",
      "dtype: object\n",
      "Guide and replicate key for PFDN2 (5202), ACH-000988:\n",
      "avana    av\n",
      "dtype: object\n",
      "AACTCGTAAGTGCTACCGCA    avGuide1\n",
      "CCAGCACTCCTCCAACCATG    avGuide2\n",
      "GCGAAGATGGCGGAGAACAG    avGuide3\n",
      "GGTCGCGCCGGCAAGAGCAG    avGuide4\n",
      "dtype: object\n",
      "MFE-319-311Cas9_RepA_p6_Avana-3    avRep1\n",
      "MFE-319-311Cas9_RepB_p6_Avana-3    avRep2\n",
      "dtype: object\n",
      "avana    avana\n",
      "dtype: object avana    avana\n",
      "dtype: object\n",
      "Guide and replicate key for PFDN2 (5202), ACH-000912:\n",
      "avana    av\n",
      "dtype: object\n",
      "AACTCGTAAGTGCTACCGCA    avGuide1\n",
      "CCAGCACTCCTCCAACCATG    avGuide2\n",
      "GCGAAGATGGCGGAGAACAG    avGuide3\n",
      "GGTCGCGCCGGCAAGAGCAG    avGuide4\n",
      "dtype: object\n",
      "NCI-H2286-311caa9_RepA_p6_Avana-3    avRep1\n",
      "NCI-H2286-311caa9_RepB_p6_Avana-3    avRep2\n",
      "dtype: object\n",
      "\tMCM6 (4175)\n"
     ]
    },
    {
     "name": "stderr",
     "output_type": "stream",
     "text": [
      "/opt/homebrew/lib/python3.11/site-packages/seaborn/_oldcore.py:1119: FutureWarning: use_inf_as_na option is deprecated and will be removed in a future version. Convert inf values to NaN before operating instead.\n",
      "  with pd.option_context('mode.use_inf_as_na', True):\n",
      "/opt/homebrew/lib/python3.11/site-packages/seaborn/_oldcore.py:1119: FutureWarning: use_inf_as_na option is deprecated and will be removed in a future version. Convert inf values to NaN before operating instead.\n",
      "  with pd.option_context('mode.use_inf_as_na', True):\n",
      "/opt/homebrew/lib/python3.11/site-packages/seaborn/_oldcore.py:1119: FutureWarning: use_inf_as_na option is deprecated and will be removed in a future version. Convert inf values to NaN before operating instead.\n",
      "  with pd.option_context('mode.use_inf_as_na', True):\n",
      "/opt/homebrew/lib/python3.11/site-packages/seaborn/_oldcore.py:1119: FutureWarning: use_inf_as_na option is deprecated and will be removed in a future version. Convert inf values to NaN before operating instead.\n",
      "  with pd.option_context('mode.use_inf_as_na', True):\n"
     ]
    },
    {
     "name": "stdout",
     "output_type": "stream",
     "text": [
      "avana    avana\n",
      "dtype: object avana    avana\n",
      "dtype: object\n",
      "Guide and replicate key for MCM6 (4175), ACH-000787:\n",
      "avana    av\n",
      "dtype: object\n",
      "GGCAATGATGAAGTAAAACG    avGuide1\n",
      "GTTCACCCAGAGCTTGTGAG    avGuide2\n",
      "TCAAGGCCCGACACAGGTAA    avGuide3\n",
      "TGTTGCGCCAACCAACCCAA    avGuide4\n",
      "dtype: object\n",
      "LXF-289-311cas9 Rep B p6_Avana-3    avRep1\n",
      "LXF-289-311cas9 Rep C p6_Avana-3    avRep2\n",
      "LXF-289-311cas9 Rep D p6_Avana-3    avRep3\n",
      "dtype: object\n",
      "avana    avana\n",
      "dtype: object avana    avana\n",
      "dtype: object\n",
      "Guide and replicate key for MCM6 (4175), ACH-000750:\n",
      "avana    av\n",
      "dtype: object\n",
      "GGCAATGATGAAGTAAAACG    avGuide1\n",
      "GTTCACCCAGAGCTTGTGAG    avGuide2\n",
      "TCAAGGCCCGACACAGGTAA    avGuide3\n",
      "TGTTGCGCCAACCAACCCAA    avGuide4\n",
      "dtype: object\n",
      "LOXIMVI-311Cas9_RepA_p6_Avana-2    avRep1\n",
      "LOXIMVI-311Cas9_RepB_p6_Avana-2    avRep2\n",
      "dtype: object\n",
      "\tNEDD1 (121441)\n"
     ]
    },
    {
     "name": "stderr",
     "output_type": "stream",
     "text": [
      "/opt/homebrew/lib/python3.11/site-packages/seaborn/_oldcore.py:1119: FutureWarning: use_inf_as_na option is deprecated and will be removed in a future version. Convert inf values to NaN before operating instead.\n",
      "  with pd.option_context('mode.use_inf_as_na', True):\n",
      "/opt/homebrew/lib/python3.11/site-packages/seaborn/_oldcore.py:1119: FutureWarning: use_inf_as_na option is deprecated and will be removed in a future version. Convert inf values to NaN before operating instead.\n",
      "  with pd.option_context('mode.use_inf_as_na', True):\n",
      "/opt/homebrew/lib/python3.11/site-packages/seaborn/_oldcore.py:1119: FutureWarning: use_inf_as_na option is deprecated and will be removed in a future version. Convert inf values to NaN before operating instead.\n",
      "  with pd.option_context('mode.use_inf_as_na', True):\n",
      "/opt/homebrew/lib/python3.11/site-packages/seaborn/_oldcore.py:1119: FutureWarning: use_inf_as_na option is deprecated and will be removed in a future version. Convert inf values to NaN before operating instead.\n",
      "  with pd.option_context('mode.use_inf_as_na', True):\n"
     ]
    },
    {
     "name": "stdout",
     "output_type": "stream",
     "text": [
      "avana    avana\n",
      "dtype: object avana    avana\n",
      "dtype: object\n",
      "Guide and replicate key for NEDD1 (121441), ACH-000988:\n",
      "avana    av\n",
      "dtype: object\n",
      "GGCTGACACTCCTCTAACTG    avGuide1\n",
      "TAGAACTGTGGCAATGGACG    avGuide2\n",
      "TCTATGTATTTGGTAAGCGG    avGuide3\n",
      "TGGCTATTGGATCTTCCCGG    avGuide4\n",
      "dtype: object\n",
      "MFE-319-311Cas9_RepA_p6_Avana-3    avRep1\n",
      "MFE-319-311Cas9_RepB_p6_Avana-3    avRep2\n",
      "dtype: object\n",
      "avana    avana\n",
      "dtype: object avana    avana\n",
      "dtype: object\n",
      "Guide and replicate key for NEDD1 (121441), ACH-000912:\n",
      "avana    av\n",
      "dtype: object\n",
      "GGCTGACACTCCTCTAACTG    avGuide1\n",
      "TAGAACTGTGGCAATGGACG    avGuide2\n",
      "TCTATGTATTTGGTAAGCGG    avGuide3\n",
      "TGGCTATTGGATCTTCCCGG    avGuide4\n",
      "dtype: object\n",
      "NCI-H2286-311caa9_RepA_p6_Avana-3    avRep1\n",
      "NCI-H2286-311caa9_RepB_p6_Avana-3    avRep2\n",
      "dtype: object\n",
      "\tNIP7 (51388)\n"
     ]
    },
    {
     "name": "stderr",
     "output_type": "stream",
     "text": [
      "/opt/homebrew/lib/python3.11/site-packages/seaborn/_oldcore.py:1119: FutureWarning: use_inf_as_na option is deprecated and will be removed in a future version. Convert inf values to NaN before operating instead.\n",
      "  with pd.option_context('mode.use_inf_as_na', True):\n",
      "/opt/homebrew/lib/python3.11/site-packages/seaborn/_oldcore.py:1119: FutureWarning: use_inf_as_na option is deprecated and will be removed in a future version. Convert inf values to NaN before operating instead.\n",
      "  with pd.option_context('mode.use_inf_as_na', True):\n",
      "/opt/homebrew/lib/python3.11/site-packages/seaborn/_oldcore.py:1119: FutureWarning: use_inf_as_na option is deprecated and will be removed in a future version. Convert inf values to NaN before operating instead.\n",
      "  with pd.option_context('mode.use_inf_as_na', True):\n",
      "/opt/homebrew/lib/python3.11/site-packages/seaborn/_oldcore.py:1119: FutureWarning: use_inf_as_na option is deprecated and will be removed in a future version. Convert inf values to NaN before operating instead.\n",
      "  with pd.option_context('mode.use_inf_as_na', True):\n"
     ]
    },
    {
     "name": "stdout",
     "output_type": "stream",
     "text": [
      "avana    avana\n",
      "dtype: object avana    avana\n",
      "dtype: object\n",
      "Guide and replicate key for NIP7 (51388), ACH-001303:\n",
      "avana    av\n",
      "dtype: object\n",
      "CTTGTCCCCGGAAATATTGG    avGuide1\n",
      "GCTGGCCGCCAATATTTCCG    avGuide2\n",
      "GTTTCCGTCTGCACAACGAC    avGuide3\n",
      "TATCTTCTCAAACATGACAC    avGuide4\n",
      "dtype: object\n",
      "NB1643-311Cas9_RepA_p4_Avana-3    avRep1\n",
      "NB1643-311Cas9_RepB_p4_Avana-3    avRep2\n",
      "dtype: object\n",
      "avana    avana\n",
      "dtype: object avana    avana\n",
      "dtype: object\n",
      "Guide and replicate key for NIP7 (51388), ACH-000912:\n",
      "avana    av\n",
      "dtype: object\n",
      "CTTGTCCCCGGAAATATTGG    avGuide1\n",
      "GCTGGCCGCCAATATTTCCG    avGuide2\n",
      "GTTTCCGTCTGCACAACGAC    avGuide3\n",
      "TATCTTCTCAAACATGACAC    avGuide4\n",
      "dtype: object\n",
      "NCI-H2286-311caa9_RepA_p6_Avana-3    avRep1\n",
      "NCI-H2286-311caa9_RepB_p6_Avana-3    avRep2\n",
      "dtype: object\n",
      "\tNOL11 (25926)\n"
     ]
    },
    {
     "name": "stderr",
     "output_type": "stream",
     "text": [
      "/opt/homebrew/lib/python3.11/site-packages/seaborn/_oldcore.py:1119: FutureWarning: use_inf_as_na option is deprecated and will be removed in a future version. Convert inf values to NaN before operating instead.\n",
      "  with pd.option_context('mode.use_inf_as_na', True):\n",
      "/opt/homebrew/lib/python3.11/site-packages/seaborn/_oldcore.py:1119: FutureWarning: use_inf_as_na option is deprecated and will be removed in a future version. Convert inf values to NaN before operating instead.\n",
      "  with pd.option_context('mode.use_inf_as_na', True):\n",
      "/opt/homebrew/lib/python3.11/site-packages/seaborn/_oldcore.py:1119: FutureWarning: use_inf_as_na option is deprecated and will be removed in a future version. Convert inf values to NaN before operating instead.\n",
      "  with pd.option_context('mode.use_inf_as_na', True):\n",
      "/opt/homebrew/lib/python3.11/site-packages/seaborn/_oldcore.py:1119: FutureWarning: use_inf_as_na option is deprecated and will be removed in a future version. Convert inf values to NaN before operating instead.\n",
      "  with pd.option_context('mode.use_inf_as_na', True):\n"
     ]
    },
    {
     "name": "stdout",
     "output_type": "stream",
     "text": [
      "avana    avana\n",
      "dtype: object avana    avana\n",
      "dtype: object\n",
      "Guide and replicate key for NOL11 (25926), ACH-000396:\n",
      "avana    av\n",
      "dtype: object\n",
      "CAGTTTCTAGTGACAGACAG    avGuide1\n",
      "CCTTCCTTGAAGAGCACCAA    avGuide2\n",
      "TTACCCTTAGAAGCTGCTAG    avGuide3\n",
      "TTCACTGACCAGCTCCCCAA    avGuide4\n",
      "dtype: object\n",
      "J82-311Cas9_RepA_p5_Avana-3    avRep1\n",
      "J82-311Cas9_RepB_p5_Avana-3    avRep2\n",
      "dtype: object\n",
      "avana    avana\n",
      "dtype: object avana    avana\n",
      "dtype: object\n",
      "Guide and replicate key for NOL11 (25926), ACH-000750:\n",
      "avana    av\n",
      "dtype: object\n",
      "CAGTTTCTAGTGACAGACAG    avGuide1\n",
      "CCTTCCTTGAAGAGCACCAA    avGuide2\n",
      "TTACCCTTAGAAGCTGCTAG    avGuide3\n",
      "TTCACTGACCAGCTCCCCAA    avGuide4\n",
      "dtype: object\n",
      "LOXIMVI-311Cas9_RepA_p6_Avana-2    avRep1\n",
      "LOXIMVI-311Cas9_RepB_p6_Avana-2    avRep2\n",
      "dtype: object\n",
      "\tSCFD1 (23256)\n"
     ]
    },
    {
     "name": "stderr",
     "output_type": "stream",
     "text": [
      "/opt/homebrew/lib/python3.11/site-packages/seaborn/_oldcore.py:1119: FutureWarning: use_inf_as_na option is deprecated and will be removed in a future version. Convert inf values to NaN before operating instead.\n",
      "  with pd.option_context('mode.use_inf_as_na', True):\n",
      "/opt/homebrew/lib/python3.11/site-packages/seaborn/_oldcore.py:1119: FutureWarning: use_inf_as_na option is deprecated and will be removed in a future version. Convert inf values to NaN before operating instead.\n",
      "  with pd.option_context('mode.use_inf_as_na', True):\n",
      "/opt/homebrew/lib/python3.11/site-packages/seaborn/_oldcore.py:1119: FutureWarning: use_inf_as_na option is deprecated and will be removed in a future version. Convert inf values to NaN before operating instead.\n",
      "  with pd.option_context('mode.use_inf_as_na', True):\n",
      "/opt/homebrew/lib/python3.11/site-packages/seaborn/_oldcore.py:1119: FutureWarning: use_inf_as_na option is deprecated and will be removed in a future version. Convert inf values to NaN before operating instead.\n",
      "  with pd.option_context('mode.use_inf_as_na', True):\n"
     ]
    },
    {
     "name": "stdout",
     "output_type": "stream",
     "text": [
      "avana    avana\n",
      "dtype: object avana    avana\n",
      "dtype: object\n",
      "Guide and replicate key for SCFD1 (23256), ACH-001129:\n",
      "avana    av\n",
      "dtype: object\n",
      "ACTAGAATCTTACAGAGCAC    avGuide1\n",
      "CTAGGATTTCCATTTAAACA    avGuide2\n",
      "GAAGTCTTATGATTTAACTC    avGuide3\n",
      "GGAGTGGAAAACTCTCCAGC    avGuide4\n",
      "dtype: object\n",
      "MONO-MAC1-311cas9_RepA_p6_Avana-3    avRep1\n",
      "MONO-MAC1-311cas9_RepB_p6_Avana-3    avRep2\n",
      "dtype: object\n",
      "avana    avana\n",
      "dtype: object avana    avana\n",
      "dtype: object\n",
      "Guide and replicate key for SCFD1 (23256), ACH-000074:\n",
      "avana    av\n",
      "dtype: object\n",
      "ACTAGAATCTTACAGAGCAC    avGuide1\n",
      "CTAGGATTTCCATTTAAACA    avGuide2\n",
      "GAAGTCTTATGATTTAACTC    avGuide3\n",
      "GGAGTGGAAAACTCTCCAGC    avGuide4\n",
      "dtype: object\n",
      "KU812-311cas9-RepA-p6_Avana-3    avRep1\n",
      "KU812-311cas9-RepB-p6_Avana-3    avRep2\n",
      "dtype: object\n",
      "\tPOU2AF3 (120376)\n"
     ]
    },
    {
     "name": "stderr",
     "output_type": "stream",
     "text": [
      "/opt/homebrew/lib/python3.11/site-packages/seaborn/_oldcore.py:1119: FutureWarning: use_inf_as_na option is deprecated and will be removed in a future version. Convert inf values to NaN before operating instead.\n",
      "  with pd.option_context('mode.use_inf_as_na', True):\n",
      "/opt/homebrew/lib/python3.11/site-packages/seaborn/_oldcore.py:1119: FutureWarning: use_inf_as_na option is deprecated and will be removed in a future version. Convert inf values to NaN before operating instead.\n",
      "  with pd.option_context('mode.use_inf_as_na', True):\n",
      "/opt/homebrew/lib/python3.11/site-packages/seaborn/_oldcore.py:1119: FutureWarning: use_inf_as_na option is deprecated and will be removed in a future version. Convert inf values to NaN before operating instead.\n",
      "  with pd.option_context('mode.use_inf_as_na', True):\n",
      "/opt/homebrew/lib/python3.11/site-packages/seaborn/_oldcore.py:1119: FutureWarning: use_inf_as_na option is deprecated and will be removed in a future version. Convert inf values to NaN before operating instead.\n",
      "  with pd.option_context('mode.use_inf_as_na', True):\n"
     ]
    },
    {
     "name": "stdout",
     "output_type": "stream",
     "text": [
      "avana    avana\n",
      "dtype: object avana    avana\n",
      "dtype: object\n",
      "Guide and replicate key for POU2AF3 (120376), ACH-001843:\n",
      "avana    av\n",
      "dtype: object\n",
      "CTTTGTGTGGAATTGAGCAA    avGuide1\n",
      "GCTCTGGTTAAAGCAGAAAG    avGuide2\n",
      "TCTGGTGTCCAGAGAAGCAG    avGuide3\n",
      "TTCTGGTGTCCAGAGAAGCA    avGuide4\n",
      "dtype: object\n",
      "ICC3-311cas9_RepA_p6_Avana-3    avRep1\n",
      "ICC3-311cas9_RepB_p6_Avana-3    avRep2\n",
      "dtype: object\n",
      "avana    avana\n",
      "dtype: object avana    avana\n",
      "dtype: object\n",
      "Guide and replicate key for POU2AF3 (120376), ACH-000750:\n",
      "avana    av\n",
      "dtype: object\n",
      "CTTTGTGTGGAATTGAGCAA    avGuide1\n",
      "GCTCTGGTTAAAGCAGAAAG    avGuide2\n",
      "TCTGGTGTCCAGAGAAGCAG    avGuide3\n",
      "TTCTGGTGTCCAGAGAAGCA    avGuide4\n",
      "dtype: object\n",
      "LOXIMVI-311Cas9_RepA_p6_Avana-2    avRep1\n",
      "LOXIMVI-311Cas9_RepB_p6_Avana-2    avRep2\n",
      "dtype: object\n",
      "\tFOXA1 (3169)\n"
     ]
    },
    {
     "name": "stderr",
     "output_type": "stream",
     "text": [
      "/opt/homebrew/lib/python3.11/site-packages/seaborn/_oldcore.py:1119: FutureWarning: use_inf_as_na option is deprecated and will be removed in a future version. Convert inf values to NaN before operating instead.\n",
      "  with pd.option_context('mode.use_inf_as_na', True):\n",
      "/opt/homebrew/lib/python3.11/site-packages/seaborn/_oldcore.py:1119: FutureWarning: use_inf_as_na option is deprecated and will be removed in a future version. Convert inf values to NaN before operating instead.\n",
      "  with pd.option_context('mode.use_inf_as_na', True):\n",
      "/opt/homebrew/lib/python3.11/site-packages/seaborn/_oldcore.py:1119: FutureWarning: use_inf_as_na option is deprecated and will be removed in a future version. Convert inf values to NaN before operating instead.\n",
      "  with pd.option_context('mode.use_inf_as_na', True):\n",
      "/opt/homebrew/lib/python3.11/site-packages/seaborn/_oldcore.py:1119: FutureWarning: use_inf_as_na option is deprecated and will be removed in a future version. Convert inf values to NaN before operating instead.\n",
      "  with pd.option_context('mode.use_inf_as_na', True):\n"
     ]
    },
    {
     "name": "stdout",
     "output_type": "stream",
     "text": [
      "avana    avana\n",
      "dtype: object avana    avana\n",
      "dtype: object\n",
      "Guide and replicate key for FOXA1 (3169), ACH-000147:\n",
      "avana    av\n",
      "dtype: object\n",
      "GCAGTAGCCGGCATGCCGGG    avGuide1\n",
      "GCTCATGCACGGGTTCATGG    avGuide2\n",
      "GGACATGTTGAAGGACGCCG    avGuide3\n",
      "GGTACGGCGCTGAGCCCGAG    avGuide4\n",
      "dtype: object\n",
      "T47D-311Cas9-RepA-p6_Avana-4    avRep1\n",
      "T47D-311Cas9-RepB-p6_Avana-4    avRep2\n",
      "dtype: object\n",
      "avana    avana\n",
      "dtype: object avana    avana\n",
      "dtype: object\n",
      "Guide and replicate key for FOXA1 (3169), ACH-000479:\n",
      "avana    av\n",
      "dtype: object\n",
      "GCAGTAGCCGGCATGCCGGG    avGuide1\n",
      "GCTCATGCACGGGTTCATGG    avGuide2\n",
      "GGACATGTTGAAGGACGCCG    avGuide3\n",
      "GGTACGGCGCTGAGCCCGAG    avGuide4\n",
      "dtype: object\n",
      "KNS-81-311cas9_RepA_p5_Avana-3    avRep1\n",
      "KNS-81-311cas9_RepB_p5_Avana-3    avRep2\n",
      "dtype: object\n",
      "\tTNPO3 (23534)\n"
     ]
    },
    {
     "name": "stderr",
     "output_type": "stream",
     "text": [
      "/opt/homebrew/lib/python3.11/site-packages/seaborn/_oldcore.py:1119: FutureWarning: use_inf_as_na option is deprecated and will be removed in a future version. Convert inf values to NaN before operating instead.\n",
      "  with pd.option_context('mode.use_inf_as_na', True):\n",
      "/opt/homebrew/lib/python3.11/site-packages/seaborn/_oldcore.py:1119: FutureWarning: use_inf_as_na option is deprecated and will be removed in a future version. Convert inf values to NaN before operating instead.\n",
      "  with pd.option_context('mode.use_inf_as_na', True):\n",
      "/opt/homebrew/lib/python3.11/site-packages/seaborn/_oldcore.py:1119: FutureWarning: use_inf_as_na option is deprecated and will be removed in a future version. Convert inf values to NaN before operating instead.\n",
      "  with pd.option_context('mode.use_inf_as_na', True):\n",
      "/opt/homebrew/lib/python3.11/site-packages/seaborn/_oldcore.py:1119: FutureWarning: use_inf_as_na option is deprecated and will be removed in a future version. Convert inf values to NaN before operating instead.\n",
      "  with pd.option_context('mode.use_inf_as_na', True):\n"
     ]
    },
    {
     "name": "stdout",
     "output_type": "stream",
     "text": [
      "avana    avana\n",
      "dtype: object avana    avana\n",
      "dtype: object\n",
      "Guide and replicate key for TNPO3 (23534), ACH-000935:\n",
      "avana    av\n",
      "dtype: object\n",
      "CCAGTTGTTACAGATCCGGC    avGuide1\n",
      "GACTGCCTATCATATGGCCG    avGuide2\n",
      "TACCACGACCCAGATCCCAG    avGuide3\n",
      "TTACATGGTCTGGTTCCAGC    avGuide4\n",
      "dtype: object\n",
      "MDST8-311Cas9 Rep A p6_Avana-3    avRep1\n",
      "MDST8-311Cas9 Rep C p6_Avana-3    avRep2\n",
      "MDST8-311Cas9 Rep D p6_Avana-3    avRep3\n",
      "dtype: object\n",
      "avana    avana\n",
      "dtype: object avana    avana\n",
      "dtype: object\n",
      "Guide and replicate key for TNPO3 (23534), ACH-000527:\n",
      "avana    av\n",
      "dtype: object\n",
      "CCAGTTGTTACAGATCCGGC    avGuide1\n",
      "GACTGCCTATCATATGGCCG    avGuide2\n",
      "TACCACGACCCAGATCCCAG    avGuide3\n",
      "TTACATGGTCTGGTTCCAGC    avGuide4\n",
      "dtype: object\n",
      "OVISE-311cas9 Rep A p6_Avana-2    avRep1\n",
      "OVISE-311cas9 Rep B p6_Avana-2    avRep2\n",
      "OVISE-311cas9 Rep C p6_Avana-2    avRep3\n",
      "dtype: object\n",
      "\tJAK2 (3717)\n"
     ]
    },
    {
     "name": "stderr",
     "output_type": "stream",
     "text": [
      "/opt/homebrew/lib/python3.11/site-packages/seaborn/_oldcore.py:1119: FutureWarning: use_inf_as_na option is deprecated and will be removed in a future version. Convert inf values to NaN before operating instead.\n",
      "  with pd.option_context('mode.use_inf_as_na', True):\n",
      "/opt/homebrew/lib/python3.11/site-packages/seaborn/_oldcore.py:1119: FutureWarning: use_inf_as_na option is deprecated and will be removed in a future version. Convert inf values to NaN before operating instead.\n",
      "  with pd.option_context('mode.use_inf_as_na', True):\n",
      "/opt/homebrew/lib/python3.11/site-packages/seaborn/_oldcore.py:1119: FutureWarning: use_inf_as_na option is deprecated and will be removed in a future version. Convert inf values to NaN before operating instead.\n",
      "  with pd.option_context('mode.use_inf_as_na', True):\n",
      "/opt/homebrew/lib/python3.11/site-packages/seaborn/_oldcore.py:1119: FutureWarning: use_inf_as_na option is deprecated and will be removed in a future version. Convert inf values to NaN before operating instead.\n",
      "  with pd.option_context('mode.use_inf_as_na', True):\n"
     ]
    },
    {
     "name": "stdout",
     "output_type": "stream",
     "text": [
      "avana    avana\n",
      "dtype: object avana    avana\n",
      "dtype: object\n",
      "Guide and replicate key for JAK2 (3717), ACH-000004:\n",
      "avana    av\n",
      "dtype: object\n",
      "ATAATCATACCTGAGCAAAG    avGuide1\n",
      "ATCTGCCTCAGATTTCCCAA    avGuide2\n",
      "CTGCCACTGCAATACCAACG    avGuide3\n",
      "GAGGTGCTACTTCTTTACAG    avGuide4\n",
      "dtype: object\n",
      "HEL-311Cas9_RepA_p4_Avana-3    avRep1\n",
      "HEL-311Cas9_RepB_p4_Avana-3    avRep2\n",
      "dtype: object\n",
      "avana    avana\n",
      "dtype: object avana    avana\n",
      "dtype: object\n",
      "Guide and replicate key for JAK2 (3717), ACH-000396:\n",
      "avana    av\n",
      "dtype: object\n",
      "ATAATCATACCTGAGCAAAG    avGuide1\n",
      "ATCTGCCTCAGATTTCCCAA    avGuide2\n",
      "CTGCCACTGCAATACCAACG    avGuide3\n",
      "GAGGTGCTACTTCTTTACAG    avGuide4\n",
      "dtype: object\n",
      "J82-311Cas9_RepA_p5_Avana-3    avRep1\n",
      "J82-311Cas9_RepB_p5_Avana-3    avRep2\n",
      "dtype: object\n",
      "\tPRMT5 (10419)\n"
     ]
    },
    {
     "name": "stderr",
     "output_type": "stream",
     "text": [
      "/opt/homebrew/lib/python3.11/site-packages/seaborn/_oldcore.py:1119: FutureWarning: use_inf_as_na option is deprecated and will be removed in a future version. Convert inf values to NaN before operating instead.\n",
      "  with pd.option_context('mode.use_inf_as_na', True):\n",
      "/opt/homebrew/lib/python3.11/site-packages/seaborn/_oldcore.py:1119: FutureWarning: use_inf_as_na option is deprecated and will be removed in a future version. Convert inf values to NaN before operating instead.\n",
      "  with pd.option_context('mode.use_inf_as_na', True):\n",
      "/opt/homebrew/lib/python3.11/site-packages/seaborn/_oldcore.py:1119: FutureWarning: use_inf_as_na option is deprecated and will be removed in a future version. Convert inf values to NaN before operating instead.\n",
      "  with pd.option_context('mode.use_inf_as_na', True):\n",
      "/opt/homebrew/lib/python3.11/site-packages/seaborn/_oldcore.py:1119: FutureWarning: use_inf_as_na option is deprecated and will be removed in a future version. Convert inf values to NaN before operating instead.\n",
      "  with pd.option_context('mode.use_inf_as_na', True):\n"
     ]
    },
    {
     "name": "stdout",
     "output_type": "stream",
     "text": [
      "avana    avana\n",
      "dtype: object avana    avana\n",
      "dtype: object\n",
      "Guide and replicate key for PRMT5 (10419), ACH-000988:\n",
      "avana    av\n",
      "dtype: object\n",
      "ATGAACTCCCTCTTGAAACG    avGuide1\n",
      "CTAGTCATCCCGGAGAAGCA    avGuide2\n",
      "GGAGAAAAACCCAAATGCCG    avGuide3\n",
      "GGTTGCTACTCACGTCACCA    avGuide4\n",
      "dtype: object\n",
      "MFE-319-311Cas9_RepA_p6_Avana-3    avRep1\n",
      "MFE-319-311Cas9_RepB_p6_Avana-3    avRep2\n",
      "dtype: object\n",
      "avana    avana\n",
      "dtype: object avana    avana\n",
      "dtype: object\n",
      "Guide and replicate key for PRMT5 (10419), ACH-000935:\n",
      "avana    av\n",
      "dtype: object\n",
      "ATGAACTCCCTCTTGAAACG    avGuide1\n",
      "CTAGTCATCCCGGAGAAGCA    avGuide2\n",
      "GGAGAAAAACCCAAATGCCG    avGuide3\n",
      "GGTTGCTACTCACGTCACCA    avGuide4\n",
      "dtype: object\n",
      "MDST8-311Cas9 Rep A p6_Avana-3    avRep1\n",
      "MDST8-311Cas9 Rep C p6_Avana-3    avRep2\n",
      "MDST8-311Cas9 Rep D p6_Avana-3    avRep3\n",
      "dtype: object\n",
      "\tJAK3 (3718)\n"
     ]
    },
    {
     "name": "stderr",
     "output_type": "stream",
     "text": [
      "/opt/homebrew/lib/python3.11/site-packages/seaborn/_oldcore.py:1119: FutureWarning: use_inf_as_na option is deprecated and will be removed in a future version. Convert inf values to NaN before operating instead.\n",
      "  with pd.option_context('mode.use_inf_as_na', True):\n",
      "/opt/homebrew/lib/python3.11/site-packages/seaborn/_oldcore.py:1119: FutureWarning: use_inf_as_na option is deprecated and will be removed in a future version. Convert inf values to NaN before operating instead.\n",
      "  with pd.option_context('mode.use_inf_as_na', True):\n",
      "/opt/homebrew/lib/python3.11/site-packages/seaborn/_oldcore.py:1119: FutureWarning: use_inf_as_na option is deprecated and will be removed in a future version. Convert inf values to NaN before operating instead.\n",
      "  with pd.option_context('mode.use_inf_as_na', True):\n",
      "/opt/homebrew/lib/python3.11/site-packages/seaborn/_oldcore.py:1119: FutureWarning: use_inf_as_na option is deprecated and will be removed in a future version. Convert inf values to NaN before operating instead.\n",
      "  with pd.option_context('mode.use_inf_as_na', True):\n"
     ]
    },
    {
     "name": "stdout",
     "output_type": "stream",
     "text": [
      "avana    avana\n",
      "dtype: object avana    avana\n",
      "dtype: object\n",
      "Guide and replicate key for JAK3 (3718), ACH-000406:\n",
      "avana    av\n",
      "dtype: object\n",
      "GGAAGCTGTCAAAGTCCTGG    avGuide1\n",
      "GGAGCGGCTGGATCCAGCCG    avGuide2\n",
      "TCCTTCACCAAGATTTACCG    avGuide3\n",
      "TGCCGCCGTCACCAGCCACG    avGuide4\n",
      "dtype: object\n",
      "U937-101Cas9 Rep A p6_Avana-3    avRep1\n",
      "U937-101Cas9 Rep C p6_Avana-3    avRep2\n",
      "U937-101Cas9 Rep D p6_Avana-3    avRep3\n",
      "dtype: object\n",
      "avana    avana\n",
      "dtype: object avana    avana\n",
      "dtype: object\n",
      "Guide and replicate key for JAK3 (3718), ACH-000479:\n",
      "avana    av\n",
      "dtype: object\n",
      "GGAAGCTGTCAAAGTCCTGG    avGuide1\n",
      "GGAGCGGCTGGATCCAGCCG    avGuide2\n",
      "TCCTTCACCAAGATTTACCG    avGuide3\n",
      "TGCCGCCGTCACCAGCCACG    avGuide4\n",
      "dtype: object\n",
      "KNS-81-311cas9_RepA_p5_Avana-3    avRep1\n",
      "KNS-81-311cas9_RepB_p5_Avana-3    avRep2\n",
      "dtype: object\n",
      "\tCLEC2A (387836)\n"
     ]
    },
    {
     "name": "stderr",
     "output_type": "stream",
     "text": [
      "/opt/homebrew/lib/python3.11/site-packages/seaborn/_oldcore.py:1119: FutureWarning: use_inf_as_na option is deprecated and will be removed in a future version. Convert inf values to NaN before operating instead.\n",
      "  with pd.option_context('mode.use_inf_as_na', True):\n",
      "/opt/homebrew/lib/python3.11/site-packages/seaborn/_oldcore.py:1119: FutureWarning: use_inf_as_na option is deprecated and will be removed in a future version. Convert inf values to NaN before operating instead.\n",
      "  with pd.option_context('mode.use_inf_as_na', True):\n",
      "/opt/homebrew/lib/python3.11/site-packages/seaborn/_oldcore.py:1119: FutureWarning: use_inf_as_na option is deprecated and will be removed in a future version. Convert inf values to NaN before operating instead.\n",
      "  with pd.option_context('mode.use_inf_as_na', True):\n",
      "/opt/homebrew/lib/python3.11/site-packages/seaborn/_oldcore.py:1119: FutureWarning: use_inf_as_na option is deprecated and will be removed in a future version. Convert inf values to NaN before operating instead.\n",
      "  with pd.option_context('mode.use_inf_as_na', True):\n"
     ]
    },
    {
     "name": "stdout",
     "output_type": "stream",
     "text": [
      "avana    avana\n",
      "dtype: object avana    avana\n",
      "dtype: object\n",
      "Guide and replicate key for CLEC2A (387836), ACH-000004:\n",
      "avana    av\n",
      "dtype: object\n",
      "ATTAATCCAGAGCTGCGGGA    avGuide1\n",
      "CCATGATTAATCCAGAGCTG    avGuide2\n",
      "GAGCTGATGGCTTCATACAT    avGuide3\n",
      "GATGGCTTCATACATCGGAT    avGuide4\n",
      "dtype: object\n",
      "HEL-311Cas9_RepA_p4_Avana-3    avRep1\n",
      "HEL-311Cas9_RepB_p4_Avana-3    avRep2\n",
      "dtype: object\n",
      "avana    avana\n",
      "dtype: object avana    avana\n",
      "dtype: object\n",
      "Guide and replicate key for CLEC2A (387836), ACH-001636:\n",
      "avana    av\n",
      "dtype: object\n",
      "ATTAATCCAGAGCTGCGGGA    avGuide1\n",
      "CCATGATTAATCCAGAGCTG    avGuide2\n",
      "GAGCTGATGGCTTCATACAT    avGuide3\n",
      "GATGGCTTCATACATCGGAT    avGuide4\n",
      "dtype: object\n",
      "RAMOS-311cas9-RepA-p6_Avana-4    avRep1\n",
      "RAMOS-311cas9-RepB-p6_Avana-4    avRep2\n",
      "dtype: object\n",
      "\tTSR2 (90121)\n"
     ]
    },
    {
     "name": "stderr",
     "output_type": "stream",
     "text": [
      "/opt/homebrew/lib/python3.11/site-packages/seaborn/_oldcore.py:1119: FutureWarning: use_inf_as_na option is deprecated and will be removed in a future version. Convert inf values to NaN before operating instead.\n",
      "  with pd.option_context('mode.use_inf_as_na', True):\n",
      "/opt/homebrew/lib/python3.11/site-packages/seaborn/_oldcore.py:1119: FutureWarning: use_inf_as_na option is deprecated and will be removed in a future version. Convert inf values to NaN before operating instead.\n",
      "  with pd.option_context('mode.use_inf_as_na', True):\n",
      "/opt/homebrew/lib/python3.11/site-packages/seaborn/_oldcore.py:1119: FutureWarning: use_inf_as_na option is deprecated and will be removed in a future version. Convert inf values to NaN before operating instead.\n",
      "  with pd.option_context('mode.use_inf_as_na', True):\n",
      "/opt/homebrew/lib/python3.11/site-packages/seaborn/_oldcore.py:1119: FutureWarning: use_inf_as_na option is deprecated and will be removed in a future version. Convert inf values to NaN before operating instead.\n",
      "  with pd.option_context('mode.use_inf_as_na', True):\n"
     ]
    },
    {
     "name": "stdout",
     "output_type": "stream",
     "text": [
      "avana    avana\n",
      "dtype: object avana    avana\n",
      "dtype: object\n",
      "Guide and replicate key for TSR2 (90121), ACH-000937:\n",
      "avana    av\n",
      "dtype: object\n",
      "ACAGCCAGGAGAAGGCCAAG    avGuide1\n",
      "CCTGTGTTTACAGATCGCTG    avGuide2\n",
      "CGTTGGTCAACAGCTCTCCA    avGuide3\n",
      "TTTCCGGGCTGGGGTCTGCG    avGuide4\n",
      "dtype: object\n",
      "PF382-311CAS9_RepA_p6_Avana-3    avRep1\n",
      "PF382-311CAS9_RepB_p6_Avana-3    avRep2\n",
      "dtype: object\n",
      "avana    avana\n",
      "dtype: object avana    avana\n",
      "dtype: object\n",
      "Guide and replicate key for TSR2 (90121), ACH-000263:\n",
      "avana    av\n",
      "dtype: object\n",
      "ACAGCCAGGAGAAGGCCAAG    avGuide1\n",
      "CCTGTGTTTACAGATCGCTG    avGuide2\n",
      "CGTTGGTCAACAGCTCTCCA    avGuide3\n",
      "TTTCCGGGCTGGGGTCTGCG    avGuide4\n",
      "dtype: object\n",
      "KASUMI-1-311cas9_RepA_p6_Avana-3    avRep1\n",
      "KASUMI-1-311cas9_RepB_p6_Avana-3    avRep2\n",
      "dtype: object\n",
      "building report\n"
     ]
    }
   ],
   "source": [
    "metrics = reports.dataset_qc_report(\"ChronosAvana\", savedir, \n",
    "                          common_essentials, nonessentials,\n",
    "                          gof_matrix_base, addiction_expressions,\n",
    "                          cn, directory=\"Data/reports\",\n",
    "                          gene_effect_file=\"gene_effect_corrected.hdf5\"\n",
    "                         )"
   ]
  },
  {
   "cell_type": "markdown",
   "metadata": {},
   "source": [
    "## Identifying Hits"
   ]
  },
  {
   "cell_type": "markdown",
   "metadata": {},
   "source": [
    "You may be interested in getting a list of genes that are true dependencies in your screen. Chronos provides two methods to do this:\n",
    "\n",
    "- Given a set of negative control genes (or a boolean matrix of individual genes within specific cell lines that are negative controls, such as a matrix of unexpressed genes), Chronos can compute empirical p-values for the null hypothesis that the KO had no viability effect against the alternative hypothesis that it caused loss of viability\n",
    "-  Given a set of positive and negative control genes, Chronos can estimate the probability that a given gene effect score came from the distribution of positive controls vs negative controls. If the controls are representative of essential/nonessential genes, then the probability tells you how likely it is that a given score represents an essential gene for that cell line. \n",
    "\n",
    "To get an unbiased estimate, is important not to use CRISPR results from the same library to choose or refine the control sets. We want the scores for the gene sets to capture any bias or artifacts present in CRISPR."
   ]
  },
  {
   "cell_type": "code",
   "execution_count": 39,
   "metadata": {},
   "outputs": [],
   "source": [
    "from chronos.hit_calling import get_probability_dependent, get_pvalue_dependent"
   ]
  },
  {
   "cell_type": "code",
   "execution_count": 40,
   "metadata": {},
   "outputs": [
    {
     "name": "stderr",
     "output_type": "stream",
     "text": [
      "/Users/dempster/packages/chronos_public/chronos/hit_calling.py:939: UserWarning: Not all negative_controls found in the gene effect columns: ['PRB4 (5545)', 'KRTAP10-6 (386674)', 'KRTAP9-2 (83899)', 'S100A7A (338324)', 'KRTAP9-4 (85280)']\n",
      "  warn(\"Not all %s found in the gene effect columns: %r\" % (label, missing[:5]))\n"
     ]
    }
   ],
   "source": [
    "pvalues = get_pvalue_dependent(corrected, nonessentials)"
   ]
  },
  {
   "cell_type": "code",
   "execution_count": 41,
   "metadata": {
    "scrolled": true
   },
   "outputs": [
    {
     "name": "stderr",
     "output_type": "stream",
     "text": [
      "/Users/dempster/packages/chronos_public/chronos/hit_calling.py:939: UserWarning: Not all positive controls found in the gene effect columns: ['WDR70 (55100)', 'RPL23A (6147)', 'RPL7L1 (285855)']\n",
      "  warn(\"Not all %s found in the gene effect columns: %r\" % (label, missing[:5]))\n",
      "/Users/dempster/packages/chronos_public/chronos/hit_calling.py:939: UserWarning: Not all negative controls found in the gene effect columns: ['PRB4 (5545)', 'KRTAP10-6 (386674)', 'KRTAP9-2 (83899)', 'S100A7A (338324)', 'KRTAP9-4 (85280)']\n",
      "  warn(\"Not all %s found in the gene effect columns: %r\" % (label, missing[:5]))\n"
     ]
    },
    {
     "name": "stdout",
     "output_type": "stream",
     "text": [
      "Converged at likelihood 101.721170 with 29 iterations\n",
      "Converged at likelihood 77.823965 with 27 iterations\n",
      "Converged at likelihood 186.475028 with 23 iterations\n",
      "Converged at likelihood 89.665431 with 35 iterations\n",
      "Converged at likelihood 140.089706 with 21 iterations\n",
      "Converged at likelihood 67.644624 with 41 iterations\n",
      "Converged at likelihood 114.623871 with 25 iterations\n",
      "Converged at likelihood 91.732520 with 39 iterations\n",
      "Converged at likelihood 46.037753 with 41 iterations\n",
      "Converged at likelihood 79.046400 with 29 iterations\n",
      "Converged at likelihood 228.379441 with 17 iterations\n",
      "Converged at likelihood 125.148742 with 30 iterations\n",
      "Converged at likelihood 141.409187 with 21 iterations\n",
      "Converged at likelihood 58.790465 with 43 iterations\n",
      "Converged at likelihood 223.571499 with 16 iterations\n",
      "Converged at likelihood 118.110145 with 29 iterations\n",
      "Converged at likelihood 149.789678 with 26 iterations\n",
      "Converged at likelihood 167.650574 with 20 iterations\n",
      "Converged at likelihood 6.965509 with 35 iterations\n",
      "Converged at likelihood 118.517654 with 35 iterations\n",
      "Converged at likelihood 186.748636 with 18 iterations\n",
      "Converged at likelihood 219.932858 with 21 iterations\n",
      "Converged at likelihood 189.815915 with 18 iterations\n",
      "Converged at likelihood 110.352096 with 29 iterations\n",
      "Converged at likelihood 172.079822 with 21 iterations\n",
      "Converged at likelihood 142.508743 with 22 iterations\n",
      "Converged at likelihood 200.810536 with 21 iterations\n",
      "Converged at likelihood 136.405688 with 31 iterations\n",
      "Converged at likelihood 123.649482 with 27 iterations\n",
      "Converged at likelihood 105.722350 with 30 iterations\n",
      "Converged at likelihood 60.326610 with 37 iterations\n",
      "Converged at likelihood 82.058846 with 35 iterations\n",
      "Converged at likelihood 92.367084 with 29 iterations\n",
      "Converged at likelihood 152.473818 with 21 iterations\n",
      "Converged at likelihood 178.517975 with 17 iterations\n",
      "Converged at likelihood 150.612219 with 28 iterations\n",
      "Converged at likelihood 30.602711 with 36 iterations\n",
      "Converged at likelihood 157.828944 with 21 iterations\n",
      "Converged at likelihood 160.337801 with 19 iterations\n",
      "Converged at likelihood 154.459848 with 26 iterations\n",
      "Converged at likelihood 44.034437 with 38 iterations\n",
      "Converged at likelihood 117.965210 with 23 iterations\n",
      "Converged at likelihood 196.461974 with 19 iterations\n",
      "Converged at likelihood 172.932049 with 21 iterations\n"
     ]
    }
   ],
   "source": [
    "probabilities = get_probability_dependent(corrected, nonessentials, common_essentials)"
   ]
  },
  {
   "cell_type": "markdown",
   "metadata": {},
   "source": [
    "Each of these has advantages and disadvantages for hit-calling. The probability of dependency is highly dependent on choosing a set of positive controls that accurately capture the distribution of gene-loss-driven depleting phenotypes in your screen. Too stringent a list will cause underestimates, while too loose a list will lead to failure control false discovery. The inverse is true of the negative controls, but it is often possible to identify a very rigorous and representative set of negative controls using unexpressed genes. You should plot the distributions of all your gene effect scores, your negative controls, and your positive controls to see if the positive controls really do represent the left tail:"
   ]
  },
  {
   "cell_type": "code",
   "execution_count": 42,
   "metadata": {},
   "outputs": [
    {
     "name": "stderr",
     "output_type": "stream",
     "text": [
      "/opt/homebrew/lib/python3.11/site-packages/seaborn/_oldcore.py:1119: FutureWarning: use_inf_as_na option is deprecated and will be removed in a future version. Convert inf values to NaN before operating instead.\n",
      "  with pd.option_context('mode.use_inf_as_na', True):\n",
      "/opt/homebrew/lib/python3.11/site-packages/seaborn/_oldcore.py:1119: FutureWarning: use_inf_as_na option is deprecated and will be removed in a future version. Convert inf values to NaN before operating instead.\n",
      "  with pd.option_context('mode.use_inf_as_na', True):\n",
      "/opt/homebrew/lib/python3.11/site-packages/seaborn/_oldcore.py:1119: FutureWarning: use_inf_as_na option is deprecated and will be removed in a future version. Convert inf values to NaN before operating instead.\n",
      "  with pd.option_context('mode.use_inf_as_na', True):\n"
     ]
    },
    {
     "data": {
      "text/plain": [
       "Text(0.5, 0, 'Gene Effect')"
      ]
     },
     "execution_count": 42,
     "metadata": {},
     "output_type": "execute_result"
    },
    {
     "data": {
      "image/png": "[encoded data removed]",
      "text/plain": [
       "<Figure size 1280x960 with 1 Axes>"
      ]
     },
     "metadata": {},
     "output_type": "display_data"
    }
   ],
   "source": [
    "sns.kdeplot(np.ravel(corrected), label=\"All genes\", color=\"green\")\n",
    "sns.kdeplot(np.ravel(corrected.reindex(columns=common_essentials)), label=\"Positive controls\", color=\"red\", fill=True)\n",
    "sns.kdeplot(np.ravel(corrected.reindex(columns=nonessentials)), label=\"Negative controls\", color=\"blue\", fill=True)\n",
    "plt.legend()\n",
    "plt.xlabel(\"Gene Effect\")"
   ]
  },
  {
   "cell_type": "markdown",
   "metadata": {},
   "source": [
    "On the other hand, the power of the empirical p-values will be strictly limited by the number of negative controls. In fact, the minimum possible _p_ that can be achieved is 1 / len(negative_controls). This is likely to be an issue in a subgenome library. Below, we see the effect of this cap on significance:"
   ]
  },
  {
   "cell_type": "code",
   "execution_count": 43,
   "metadata": {},
   "outputs": [
    {
     "data": {
      "text/plain": [
       "Text(0, 0.5, '-Log10 P')"
      ]
     },
     "execution_count": 43,
     "metadata": {},
     "output_type": "execute_result"
    },
    {
     "data": {
      "image/png": "[encoded data removed]",
      "text/plain": [
       "<Figure size 2400x1000 with 2 Axes>"
      ]
     },
     "metadata": {},
     "output_type": "display_data"
    }
   ],
   "source": [
    "fig, axes = plt.subplots(1, 2, figsize=(12, 5))\n",
    "\n",
    "plt.sca(axes[0])\n",
    "for ind in probabilities.index:\n",
    "    plt.scatter(corrected.loc[ind], probabilities.loc[ind], s=5, alpha=.7, linewidth=.5, label=ind)\n",
    "plt.legend(fontsize=4, loc=\"lower left\")\n",
    "plt.xlabel(\"Gene Effect Estimate\")\n",
    "plt.ylabel(\"Probability of Dependency\")\n",
    "\n",
    "plt.sca(axes[1])\n",
    "for ind in pvalues.index:\n",
    "    plt.scatter(corrected.loc[ind], -np.log10(pvalues.loc[ind]), s=5, alpha=.7, linewidth=.5, label=ind)\n",
    "plt.xlabel(\"Gene Effect Estimate\")\n",
    "plt.ylabel(\"-Log10 P\")"
   ]
  },
  {
   "cell_type": "markdown",
   "metadata": {},
   "source": [
    "We can make a roughly head-to-head comparison of discoveries from the two methods by estimating a false discovery rate using each. Using p-values for many hypotheses, false discovery is typically controlled with the Benjamini-Hochberg procedure. This is a frequentist FDR. In contrast, using probabilities of dependency, we can directly estimate the Bayesian FDR: the number of true discoveries below a threshold is just the sum of the probabilities of dependency. See https://arxiv.org/pdf/1803.05284.pdf for a discussion of frequentist and Bayesian false discovery."
   ]
  },
  {
   "cell_type": "code",
   "execution_count": 44,
   "metadata": {},
   "outputs": [],
   "source": [
    "from chronos.hit_calling import get_fdr_from_probabilities, get_fdr_from_pvalues\n",
    "fdr_from_probabilities = get_fdr_from_probabilities(probabilities)\n",
    "fdr_from_pvalues = get_fdr_from_pvalues(pvalues)"
   ]
  },
  {
   "cell_type": "markdown",
   "metadata": {},
   "source": [
    "We'll do a quick, nonrigorous calibration check, considering only the control sets:"
   ]
  },
  {
   "cell_type": "code",
   "execution_count": 45,
   "metadata": {},
   "outputs": [],
   "source": [
    "def calibration_check(fdr, positive_controls, negative_controls):\n",
    "    controls_only = fdr\\\n",
    "    .reindex(columns=list(positive_controls) + list(negative_controls))\\\n",
    "    .dropna(axis=1)\n",
    "\n",
    "    is_essential = pd.DataFrame(\n",
    "        np.repeat(\n",
    "            controls_only.columns.isin(positive_controls).reshape(1, -1), \n",
    "            len(controls_only), axis=0\n",
    "        ),\n",
    "       index=controls_only.index,\n",
    "        columns=controls_only.columns\n",
    "    )\n",
    "    \n",
    "    calibration = pd.DataFrame({\n",
    "        \"FDR\": np.ravel(controls_only),\n",
    "        \"IsTrue\": np.ravel(is_essential)\n",
    "    }).sort_values(\"FDR\")\n",
    "    calibration[\"ProportionFalse\"] = np.cumsum(~calibration.IsTrue) / np.arange(1, len(calibration)+1)\n",
    "    \n",
    "    return calibration"
   ]
  },
  {
   "cell_type": "code",
   "execution_count": 46,
   "metadata": {},
   "outputs": [],
   "source": [
    "calibration_probabilities = calibration_check(fdr_from_probabilities, common_essentials, nonessentials)\n",
    "calibration_pvalues = calibration_check(fdr_from_pvalues, common_essentials, nonessentials)"
   ]
  },
  {
   "cell_type": "code",
   "execution_count": 47,
   "metadata": {},
   "outputs": [
    {
     "data": {
      "text/plain": [
       "<matplotlib.legend.Legend at 0x2f62bb550>"
      ]
     },
     "execution_count": 47,
     "metadata": {},
     "output_type": "execute_result"
    },
    {
     "data": {
      "image/png": "[encoded data removed]",
      "text/plain": [
       "<Figure size 1280x960 with 1 Axes>"
      ]
     },
     "metadata": {},
     "output_type": "display_data"
    }
   ],
   "source": [
    "plt.plot(\n",
    "    calibration_probabilities[\"ProportionFalse\"],\n",
    "    calibration_probabilities[\"FDR\"],\n",
    "    label=\"Using Probabilities (Bayesian)\"\n",
    ")\n",
    "\n",
    "plt.plot(\n",
    "    calibration_pvalues[\"ProportionFalse\"],\n",
    "    calibration_pvalues[\"FDR\"],\n",
    "    '--', \n",
    "    label=\"Using P-values (Frequentist)\"\n",
    ")\n",
    "\n",
    "max_fdr = calibration_probabilities.ProportionFalse.max()\n",
    "plt.plot([0, max_fdr], [0, max_fdr], '-.', color=\"black\", label=\"Perfect Calibration\")\n",
    "\n",
    "plt.ylabel(\"Estimated FDR\")\n",
    "plt.xlabel(\"True FDR\")\n",
    "plt.legend()"
   ]
  },
  {
   "attachments": {},
   "cell_type": "markdown",
   "metadata": {},
   "source": [
    "We can see that both estimates of FDR are conservative, which is surely preferable to being optimistic. This may be partly due to the presence of the noncontrol genes in the full data, which have a lower proportion of true dependencies than the controls and affect the FDR estimates in the controls. The probability based method has an unfair advantage as it as seen the same set of positive controls as well as the negative controls. To be truly rigorous we would need to split the controls used in training and in evaluating calibration, and run Chronos without any non-control genes. \n",
    "\n",
    "Note that the BH estimates reach 1, while probability-based estimates saturate below 1. This is because the BH procedure assumes the proportion of true discoveries is approximately 0 over the whole dataset:"
   ]
  },
  {
   "cell_type": "code",
   "execution_count": 48,
   "metadata": {},
   "outputs": [
    {
     "data": {
      "text/plain": [
       "(1.0, 1.0)"
      ]
     },
     "execution_count": 48,
     "metadata": {},
     "output_type": "execute_result"
    }
   ],
   "source": [
    "fdr_from_pvalues.max().max(), fdr_from_pvalues.max(axis=1).mean()"
   ]
  },
  {
   "cell_type": "code",
   "execution_count": 49,
   "metadata": {},
   "outputs": [
    {
     "data": {
      "text/plain": [
       "(0.6181453128019082, 0.5910175635392401)"
      ]
     },
     "execution_count": 49,
     "metadata": {},
     "output_type": "execute_result"
    }
   ],
   "source": [
    "fdr_from_probabilities.max(axis=1).max(), fdr_from_probabilities.max(axis=1).mean()"
   ]
  },
  {
   "cell_type": "markdown",
   "metadata": {},
   "source": [
    "If an estimated FDR is correct, 1- the maximum FDR for a cell line should be equal to the fraction of true dependencies in that cell line. The lowest probability-based estimate of 0.38 is close to the proportion of common essential genes in the dataset (0.36), illustrating the greater power of the FDRs computed this way. When we compute FDRs from p-values using the Benjamini-Hochberg procedure, we are estimating adjusted p-values to _control_ false discovery rather than the true FDR, and the adjusted p-values reach 1.\n",
    "\n",
    "We should also note that having a large number of true dependencies our test library improves the apparent performance of the frequentist method, because it allows values to remain significant after the BH procedure. In a setting with few true dependencies, the frequentist method may become severely underpowered."
   ]
  },
  {
   "cell_type": "markdown",
   "metadata": {},
   "source": [
    "Summing up: using `get_probability_dependent` is more powerful, and especially so in the case of subgenome libraries with limited negative control sets and a modest proportion of true hits. However, it requires correctly specifying the positive control distribution by identifying _representative_ positive control genes independently from your screening data (ideally, independent of any CRISPR data). "
   ]
  },
  {
   "cell_type": "markdown",
   "metadata": {},
   "source": [
    "## Running with multiple libraries"
   ]
  },
  {
   "cell_type": "markdown",
   "metadata": {},
   "source": [
    "We can add Sanger's [Project Score](https://www.nature.com/articles/s41586-019-1103-9) data (screened with the KY library) and run Chronos jointly on it and the Avana data. "
   ]
  },
  {
   "cell_type": "code",
   "execution_count": 50,
   "metadata": {},
   "outputs": [],
   "source": [
    "ky_guide_map = pd.read_csv(\"./Data/SampleData/KYGuideMap.csv\")\n",
    "ky_sequence_map = pd.read_csv(\"./Data/SampleData/KYSequenceMap.csv\")\n",
    "ky_readcounts = chronos.read_hdf5(\"./Data/SampleData/KYReadcounts.hdf5\")"
   ]
  },
  {
   "cell_type": "code",
   "execution_count": 51,
   "metadata": {},
   "outputs": [],
   "source": [
    "ky_positive_controls = ky_guide_map.sgrna[ky_guide_map.gene.isin(common_essentials)]\n",
    "ky_negative_controls = ky_guide_map.sgrna[ky_guide_map.gene.isin(nonessentials)]"
   ]
  },
  {
   "cell_type": "markdown",
   "metadata": {},
   "source": [
    "Note how the call signature of Chronos with multiple libraries is constructed:"
   ]
  },
  {
   "cell_type": "code",
   "execution_count": 52,
   "metadata": {
    "scrolled": true
   },
   "outputs": [
    {
     "name": "stdout",
     "output_type": "stream",
     "text": [
      "normalizing readcounts\n",
      "\n",
      "\n",
      "Finding all unique guides and genes\n",
      "found 3474 unique guides and 883 unique genes in avana\n",
      "found 4084 unique guides and 833 unique genes in ky\n",
      "found 7558 unique guides and 887 unique genes overall\n",
      "\n",
      "finding guide-gene mapping indices\n",
      "\n",
      "finding all unique sequenced replicates, cell lines, and pDNA batches\n",
      "found 92 unique sequences (excluding pDNA) and 44 unique cell lines in avana\n",
      "found 63 unique sequences (excluding pDNA) and 23 unique cell lines in ky\n",
      "found 155 unique replicates and 58 unique cell lines overall\n",
      "\n",
      "finding replicate-cell line mappings indices\n",
      "\n",
      "finding replicate-pDNA mappings indices\n",
      "\n",
      "\n",
      "assigning float constants\n",
      "Estimating or aligning variances\n",
      "\tEstimating excess variance (alpha) for avana\n",
      "Between 0 (batch=Index(['avana_Avana-2', 'avana_Avana-3', 'avana_Avana-4'], dtype='object')) and 0 (batch=Index(['avana_Avana-2', 'avana_Avana-3', 'avana_Avana-4'], dtype='object')) negative control sgRNAs were found to be systematically over- or under-represented in the screens and excluded.\n",
      "\tEstimating excess variance (alpha) for ky\n",
      "Between 4 (batch=Index(['ky_KY-1'], dtype='object')) and 39 (batch=Index(['ky_KY-2'], dtype='object')) negative control sgRNAs were found to be systematically over- or under-represented in the screens and excluded.\n",
      "Creating excess variance tensors\n",
      "\tCreated excess variance tensor for avana with shape [92, 1]\n",
      "\tCreated excess variance tensor for ky with shape [63, 1]\n",
      "initializing graph\n",
      "\n",
      "building gene effect mask\n",
      "\n",
      "building doubling vectors\n",
      "made days vector of shape [92, 1] for avana\n",
      "made days vector of shape [63, 1] for ky\n",
      "\n",
      "building late observed timepoints\n"
     ]
    },
    {
     "name": "stderr",
     "output_type": "stream",
     "text": [
      "/Users/dempster/packages/chronos_public/chronos/model.py:1222: FutureWarning: DataFrame.groupby with axis=1 is deprecated. Do `frame.T.groupby(...)` without axis instead.\n",
      "  .groupby(guide_gene_map[key].set_index(\"sgrna\").gene, axis=1)\\\n",
      "/Users/dempster/packages/chronos_public/chronos/model.py:1222: FutureWarning: DataFrame.groupby with axis=1 is deprecated. Do `frame.T.groupby(...)` without axis instead.\n",
      "  .groupby(guide_gene_map[key].set_index(\"sgrna\").gene, axis=1)\\\n"
     ]
    },
    {
     "name": "stdout",
     "output_type": "stream",
     "text": [
      "\tbuilt normalized timepoints for avana with shape (92, 3474) (replicates X guides)\n",
      "\tbuilt normalized timepoints for ky with shape (63, 4084) (replicates X guides)\n",
      "\n",
      "building t0 reads\n",
      "\n",
      "\n",
      "Building variables\n",
      "\n",
      "building t0 reads estimate\n",
      "made t0 batch with shape (2, 4084) for avana\n",
      "made t0 batch with shape (2, 4084) for ky\n",
      "building guide efficacy\n",
      "built guide efficacy: shape [1, 7559]\n",
      "building growth rate\n",
      "built growth rate: shape {'avana': [58, 1], 'ky': [58, 1]}\n",
      "\n",
      "building cell line efficacy\n",
      "built cell line efficacy: shapes {'avana': [58, 1], 'ky': [58, 1]}\n",
      "building screen delay\n",
      "built screen delay\n",
      "building gene effect\n",
      "built core gene effect: 58 cell lines by 887 genes\n",
      "\n",
      "\n",
      "Connecting graph nodes in model\n",
      "\n",
      "building effective days\n",
      "built effective days, shapes {'avana': [92, 887], 'ky': [63, 887]}\n",
      "\n",
      "building gene effect growth graph nodes\n",
      "built gene effect growth graph nodes, shapes {'avana': [58, 887], 'ky': [58, 887]}\n",
      "\n",
      "building combined efficacy\n",
      "built combined efficacy, shape {'avana': [58, 3474], 'ky': [58, 4084]}\n",
      "built expanded combined efficacy, shapes {'avana': [92, 3474], 'ky': [63, 4084]}\n",
      "\n",
      "building growth estimates of edited cells and overall estimates of fold change in guide abundance\n",
      "built growth and change\n",
      "\n",
      "building unnormalized estimates of final abundance\n",
      "built unnormalized abundance\n",
      "\n",
      "building normalized estimates of final abundance\n",
      "built normalized abundance\n",
      "initializing precost variables\n",
      "\n",
      "\n",
      "Building all costs\n",
      "\n",
      "assembling guide efficacy regularization\n",
      "building smoothed regularization\n",
      "\n",
      "building t0 reads regularization/cost\n",
      "\n",
      "building NB2 cost\n"
     ]
    },
    {
     "name": "stderr",
     "output_type": "stream",
     "text": [
      "2024-02-01 13:33:43.219159: W tensorflow/c/c_api.cc:304] Operation '{name:'inferred_t0_2/base_avana/Assign' id:6376 op device:{requested: '', assigned: ''} def:{{{node inferred_t0_2/base_avana/Assign}} = AssignVariableOp[_has_manual_control_dependencies=true, dtype=DT_DOUBLE, validate_shape=false](inferred_t0_2/base_avana, inferred_t0_2/base_avana/Initializer/initial_value)}}' was changed by setting attribute after it was run by a session. This mutation will have no effect, and will trigger an error in the future. Either don't modify nodes after running them or create a new session.\n"
     ]
    },
    {
     "name": "stdout",
     "output_type": "stream",
     "text": [
      "building other regularizations\n",
      "\n",
      "Creating optimizer\n",
      "initializing rest of graph\n"
     ]
    },
    {
     "name": "stderr",
     "output_type": "stream",
     "text": [
      "2024-02-01 13:33:44.365650: W tensorflow/c/c_api.cc:304] Operation '{name:'GE_2/library_effect/ky/Assign' id:6591 op device:{requested: '', assigned: ''} def:{{{node GE_2/library_effect/ky/Assign}} = AssignVariableOp[_has_manual_control_dependencies=true, dtype=DT_DOUBLE, validate_shape=false](GE_2/library_effect/ky, GE_2/library_effect/ky/Initializer/initial_value)}}' was changed by setting attribute after it was run by a session. This mutation will have no effect, and will trigger an error in the future. Either don't modify nodes after running them or create a new session.\n"
     ]
    },
    {
     "name": "stdout",
     "output_type": "stream",
     "text": [
      "estimating initial screen efficacy and gene effect\n",
      "\t avana\n",
      "\t ky\n"
     ]
    },
    {
     "name": "stderr",
     "output_type": "stream",
     "text": [
      "/Users/dempster/packages/chronos_public/chronos/model.py:1828: FutureWarning: DataFrame.groupby with axis=1 is deprecated. Do `frame.T.groupby(...)` without axis instead.\n",
      "  .groupby(guide_gene_map.set_index(\"sgrna\").gene, axis=1)\\\n",
      "/Users/dempster/packages/chronos_public/chronos/model.py:1828: FutureWarning: DataFrame.groupby with axis=1 is deprecated. Do `frame.T.groupby(...)` without axis instead.\n",
      "  .groupby(guide_gene_map.set_index(\"sgrna\").gene, axis=1)\\\n"
     ]
    },
    {
     "name": "stdout",
     "output_type": "stream",
     "text": [
      "\tverifying graph integrity\n",
      "verifying user inputs\n",
      "verifying variables\n",
      "verifying calculated terms\n",
      "\tavana _gene_effect\n",
      "\tavana _selected_efficacies\n",
      "\tavana_predicted_readcounts_unscaled\n",
      "\tavana _predicted_readcounts\n",
      "\tavana _normalized_readcounts\n",
      "\tavana _cost_presum\n",
      "sess run\n",
      "\tavana _cost\n",
      "\tavana _full_costs\n",
      "\tky _gene_effect\n",
      "\tky _selected_efficacies\n",
      "\tky_predicted_readcounts_unscaled\n",
      "\tky _predicted_readcounts\n",
      "\tky _normalized_readcounts\n",
      "\tky _cost_presum\n",
      "sess run\n",
      "\tky _cost\n",
      "\tky _full_costs\n",
      "ready to train\n"
     ]
    }
   ],
   "source": [
    "model2 = chronos.Chronos(\n",
    "    sequence_map={\"avana\": sequence_map, 'ky': ky_sequence_map},\n",
    "    guide_gene_map={\"avana\": guide_map, 'ky': ky_guide_map},\n",
    "    readcounts={\"avana\": readcounts, 'ky': ky_readcounts},\n",
    "    negative_control_sgrnas={\"avana\": negative_controls, \"ky\": ky_negative_controls}\n",
    ")"
   ]
  },
  {
   "cell_type": "code",
   "execution_count": 53,
   "metadata": {
    "scrolled": true
   },
   "outputs": [
    {
     "name": "stdout",
     "output_type": "stream",
     "text": [
      "NB2 cost 0.36044767878187667\n",
      "Full cost 0.5079895729474396\n",
      "relative_growth_rate\n",
      "\tavana max 1.053, min 0.94522\n",
      "\tky max 1.039, min 0.94926\n",
      "mean guide efficacy 0.9991983881119243\n",
      "t0_offset SD: [('avana', 7.041252890176513e-05), ('ky', 7.560844538928017e-05)]\n",
      "\n",
      "gene mean -0.2629519503957272\n",
      "SD of gene means 0.4288012408639532\n",
      "Mean of gene SDs 0.3400880715479724\n",
      "\n",
      "\n",
      "\n",
      "51 epochs trained, time taken 0:00:03, projected remaining 0:00:14\n",
      "NB2 cost 0.2546204719574362\n",
      "Full cost 0.3154434883596054\n",
      "relative_growth_rate\n",
      "\tavana max 1.237, min 0.50080\n",
      "\tky max 1.498, min 0.50444\n",
      "mean guide efficacy 0.9361690944456519\n",
      "t0_offset SD: [('avana', 0.1398597901519874), ('ky', 0.13665546794816816)]\n",
      "\n",
      "gene mean -0.010620712342198716\n",
      "SD of gene means 0.5331837446435761\n",
      "Mean of gene SDs 0.27074619349005313\n",
      "\n",
      "\n",
      "\n",
      "101 epochs trained, time taken 0:00:05, projected remaining 0:00:10\n",
      "NB2 cost 0.23523377349236693\n",
      "Full cost 0.25896247649201\n",
      "relative_growth_rate\n",
      "\tavana max 1.558, min 0.45130\n",
      "\tky max 1.258, min 0.68204\n",
      "mean guide efficacy 0.8746288847898717\n",
      "t0_offset SD: [('avana', 0.13592472180851078), ('ky', 0.11476802180883025)]\n",
      "\n",
      "gene mean -0.0002682616397031644\n",
      "SD of gene means 0.6284073238589278\n",
      "Mean of gene SDs 0.21213892782319307\n",
      "\n",
      "\n",
      "\n",
      "151 epochs trained, time taken 0:00:08, projected remaining 0:00:08\n",
      "NB2 cost 0.23433557765796842\n",
      "Full cost 0.25678862070447606\n",
      "relative_growth_rate\n",
      "\tavana max 1.525, min 0.45012\n",
      "\tky max 1.396, min 0.68926\n",
      "mean guide efficacy 0.872307320239457\n",
      "t0_offset SD: [('avana', 0.13452897082503623), ('ky', 0.11339888236309344)]\n",
      "\n",
      "gene mean 0.00011843886116117581\n",
      "SD of gene means 0.6284950698791217\n",
      "Mean of gene SDs 0.19925056286336318\n",
      "\n",
      "\n",
      "\n",
      "201 epochs trained, time taken 0:00:10, projected remaining 0:00:05\n",
      "NB2 cost 0.2331905823343416\n",
      "Full cost 0.255113692102668\n",
      "relative_growth_rate\n",
      "\tavana max 1.546, min 0.45025\n",
      "\tky max 1.418, min 0.68002\n",
      "mean guide efficacy 0.8681221279909835\n",
      "t0_offset SD: [('avana', 0.13374801970467096), ('ky', 0.11046575061812819)]\n",
      "\n",
      "gene mean 0.0015387252842282556\n",
      "SD of gene means 0.6305461727172491\n",
      "Mean of gene SDs 0.19637985635490307\n",
      "\n",
      "\n",
      "\n",
      "251 epochs trained, time taken 0:00:13, projected remaining 0:00:03\n",
      "NB2 cost 0.23404740540913802\n",
      "Full cost 0.25587164087682\n",
      "relative_growth_rate\n",
      "\tavana max 1.520, min 0.45006\n",
      "\tky max 1.434, min 0.68467\n",
      "mean guide efficacy 0.8644394931450622\n",
      "t0_offset SD: [('avana', 0.13304747368865344), ('ky', 0.11074715794816044)]\n",
      "\n",
      "gene mean 0.00023933478445700216\n",
      "SD of gene means 0.631786934219321\n",
      "Mean of gene SDs 0.1956452066583568\n",
      "\n",
      "\n",
      "\n",
      "301 epochs trained, time taken 0:00:15, projected remaining 0:00:00\n",
      "NB2 cost 0.23347967976909434\n",
      "Full cost 0.25522066597069715\n",
      "relative_growth_rate\n",
      "\tavana max 1.540, min 0.44558\n",
      "\tky max 1.436, min 0.68798\n",
      "mean guide efficacy 0.8636680618402607\n",
      "t0_offset SD: [('avana', 0.13332439852901082), ('ky', 0.1095813012619616)]\n",
      "\n",
      "gene mean 0.0005705045117240542\n",
      "SD of gene means 0.6332259590809606\n",
      "Mean of gene SDs 0.19531776475047857\n",
      "\n",
      "\n",
      "\n"
     ]
    }
   ],
   "source": [
    "model2.train(301)"
   ]
  },
  {
   "cell_type": "markdown",
   "metadata": {},
   "source": [
    "Note that the gene effect now has NAs. These are cases where a cell line was only screened in one library and that library had no guides for that gene."
   ]
  },
  {
   "cell_type": "markdown",
   "metadata": {},
   "source": [
    "Chronos infers library batch effects. Note that these are only inferred for genes present in all libraries"
   ]
  },
  {
   "cell_type": "code",
   "execution_count": 54,
   "metadata": {},
   "outputs": [
    {
     "data": {
      "text/html": [
       "<div>\n",
       "<style scoped>\n",
       "    .dataframe tbody tr th:only-of-type {\n",
       "        vertical-align: middle;\n",
       "    }\n",
       "\n",
       "    .dataframe tbody tr th {\n",
       "        vertical-align: top;\n",
       "    }\n",
       "\n",
       "    .dataframe thead th {\n",
       "        text-align: right;\n",
       "    }\n",
       "</style>\n",
       "<table border=\"1\" class=\"dataframe\">\n",
       "  <thead>\n",
       "    <tr style=\"text-align: right;\">\n",
       "      <th>library</th>\n",
       "      <th>avana</th>\n",
       "      <th>ky</th>\n",
       "    </tr>\n",
       "    <tr>\n",
       "      <th>gene</th>\n",
       "      <th></th>\n",
       "      <th></th>\n",
       "    </tr>\n",
       "  </thead>\n",
       "  <tbody>\n",
       "    <tr>\n",
       "      <th>A1CF (29974)</th>\n",
       "      <td>-0.186442</td>\n",
       "      <td>0.150060</td>\n",
       "    </tr>\n",
       "    <tr>\n",
       "      <th>A2M (2)</th>\n",
       "      <td>-0.288799</td>\n",
       "      <td>0.232443</td>\n",
       "    </tr>\n",
       "    <tr>\n",
       "      <th>A2ML1 (144568)</th>\n",
       "      <td>-0.213286</td>\n",
       "      <td>0.171666</td>\n",
       "    </tr>\n",
       "    <tr>\n",
       "      <th>A3GALT2 (127550)</th>\n",
       "      <td>-0.092445</td>\n",
       "      <td>0.074405</td>\n",
       "    </tr>\n",
       "    <tr>\n",
       "      <th>A4GALT (53947)</th>\n",
       "      <td>-0.171986</td>\n",
       "      <td>0.138425</td>\n",
       "    </tr>\n",
       "    <tr>\n",
       "      <th>...</th>\n",
       "      <td>...</td>\n",
       "      <td>...</td>\n",
       "    </tr>\n",
       "    <tr>\n",
       "      <th>ZNF622 (90441)</th>\n",
       "      <td>-0.227152</td>\n",
       "      <td>0.182825</td>\n",
       "    </tr>\n",
       "    <tr>\n",
       "      <th>ZNF648 (127665)</th>\n",
       "      <td>-0.187112</td>\n",
       "      <td>0.150599</td>\n",
       "    </tr>\n",
       "    <tr>\n",
       "      <th>ZNF804B (219578)</th>\n",
       "      <td>-0.294177</td>\n",
       "      <td>0.236771</td>\n",
       "    </tr>\n",
       "    <tr>\n",
       "      <th>ZP2 (7783)</th>\n",
       "      <td>-0.240568</td>\n",
       "      <td>0.193624</td>\n",
       "    </tr>\n",
       "    <tr>\n",
       "      <th>ZSWIM2 (151112)</th>\n",
       "      <td>-0.279288</td>\n",
       "      <td>0.224788</td>\n",
       "    </tr>\n",
       "  </tbody>\n",
       "</table>\n",
       "<p>887 rows × 2 columns</p>\n",
       "</div>"
      ],
      "text/plain": [
       "library              avana        ky\n",
       "gene                                \n",
       "A1CF (29974)     -0.186442  0.150060\n",
       "A2M (2)          -0.288799  0.232443\n",
       "A2ML1 (144568)   -0.213286  0.171666\n",
       "A3GALT2 (127550) -0.092445  0.074405\n",
       "A4GALT (53947)   -0.171986  0.138425\n",
       "...                    ...       ...\n",
       "ZNF622 (90441)   -0.227152  0.182825\n",
       "ZNF648 (127665)  -0.187112  0.150599\n",
       "ZNF804B (219578) -0.294177  0.236771\n",
       "ZP2 (7783)       -0.240568  0.193624\n",
       "ZSWIM2 (151112)  -0.279288  0.224788\n",
       "\n",
       "[887 rows x 2 columns]"
      ]
     },
     "execution_count": 54,
     "metadata": {},
     "output_type": "execute_result"
    }
   ],
   "source": [
    "model2.library_effect"
   ]
  },
  {
   "cell_type": "markdown",
   "metadata": {},
   "source": [
    "## Running your screen with pretrained DepMap parameters"
   ]
  },
  {
   "cell_type": "markdown",
   "metadata": {},
   "source": [
    "If you conducted a screen in one of the DepMap integrated libraries (currently Avana, KY, or Humagne-CD), you can load parameters from the trained DepMap model and use them to process your specific screen. This gives you many of the benefits of coprocessing your screen with the complete DepMap dataset without the computational expense. "
   ]
  },
  {
   "cell_type": "markdown",
   "metadata": {},
   "source": [
    "The following command fetches the 23Q4 public dataset from Figshare and stores it in the Chronos package directory under Data/DepMapParameters"
   ]
  },
  {
   "cell_type": "code",
   "execution_count": 55,
   "metadata": {},
   "outputs": [
    {
     "name": "stdout",
     "output_type": "stream",
     "text": [
      "`url_loc` will be found relative to the chronos package directory\n",
      "'/Users/dempster/packages/chronos_public/chronos'\n",
      "Pass `relative_to_chronos=False` to make the path relative to your current working directory\n",
      "'/Users/dempster/packages/chronos_public'\n",
      "instead.\n",
      "\n",
      "`output_dir` will be found relative to the chronos package directory\n",
      "'/Users/dempster/packages/chronos_public/chronos'\n",
      "Pass `relative_to_chronos=False` to make the path relative to your current working directory\n",
      "'/Users/dempster/packages/chronos_public'\n",
      "instead.\n",
      "\n",
      "downloading files to /Users/dempster/packages/chronos_public/chronos/../Data/DepMapParameters/\n",
      "Skipping gene_effect.csv as it already exists, pass `overwrite=True` to overwrite\n",
      "Skipping guide_efficacy.csv as it already exists, pass `overwrite=True` to overwrite\n",
      "Skipping cell_line_efficacy.csv as it already exists, pass `overwrite=True` to overwrite\n",
      "Skipping library_effect.csv as it already exists, pass `overwrite=True` to overwrite\n",
      "Skipping t0_offset.csv as it already exists, pass `overwrite=True` to overwrite\n",
      "all files fetched, tranforming format\n",
      "transforming guide efficacy\n",
      "done\n"
     ]
    }
   ],
   "source": [
    "chronos.fetch_parameters()"
   ]
  },
  {
   "cell_type": "markdown",
   "metadata": {},
   "source": [
    "First, we create a model with the data we want to train as before, but with two important details:\n",
    "- we pass the argument `pretrained=True` when we initialize\n",
    "- the library batch names must match the DepMap library batch names, as that's what we're using for the pretrained model"
   ]
  },
  {
   "cell_type": "code",
   "execution_count": 56,
   "metadata": {
    "scrolled": true
   },
   "outputs": [
    {
     "name": "stdout",
     "output_type": "stream",
     "text": [
      "normalizing readcounts\n",
      "\n",
      "\n",
      "Finding all unique guides and genes\n",
      "found 3474 unique guides and 883 unique genes in Achilles-Avana-2D\n",
      "found 4084 unique guides and 833 unique genes in Achilles-KY-2D\n",
      "found 7558 unique guides and 887 unique genes overall\n",
      "\n",
      "finding guide-gene mapping indices\n",
      "\n",
      "finding all unique sequenced replicates, cell lines, and pDNA batches\n",
      "found 92 unique sequences (excluding pDNA) and 44 unique cell lines in Achilles-Avana-2D\n",
      "found 63 unique sequences (excluding pDNA) and 23 unique cell lines in Achilles-KY-2D\n",
      "found 155 unique replicates and 58 unique cell lines overall\n",
      "\n",
      "finding replicate-cell line mappings indices\n",
      "\n",
      "finding replicate-pDNA mappings indices\n",
      "\n",
      "\n",
      "assigning float constants\n",
      "Estimating or aligning variances\n",
      "\tEstimating excess variance (alpha) for Achilles-Avana-2D\n",
      "Between 0 (batch=Index(['Achilles-Avana-2D_Avana-2', 'Achilles-Avana-2D_Avana-3',\n",
      "       'Achilles-Avana-2D_Avana-4'],\n",
      "      dtype='object')) and 0 (batch=Index(['Achilles-Avana-2D_Avana-2', 'Achilles-Avana-2D_Avana-3',\n",
      "       'Achilles-Avana-2D_Avana-4'],\n",
      "      dtype='object')) negative control sgRNAs were found to be systematically over- or under-represented in the screens and excluded.\n",
      "\tEstimating excess variance (alpha) for Achilles-KY-2D\n",
      "Between 4 (batch=Index(['Achilles-KY-2D_KY-1'], dtype='object')) and 39 (batch=Index(['Achilles-KY-2D_KY-2'], dtype='object')) negative control sgRNAs were found to be systematically over- or under-represented in the screens and excluded.\n",
      "Creating excess variance tensors\n",
      "\tCreated excess variance tensor for Achilles-Avana-2D with shape [92, 1]\n",
      "\tCreated excess variance tensor for Achilles-KY-2D with shape [63, 1]\n",
      "initializing graph\n",
      "\n",
      "building gene effect mask\n",
      "\n",
      "building doubling vectors\n",
      "made days vector of shape [92, 1] for Achilles-Avana-2D\n",
      "made days vector of shape [63, 1] for Achilles-KY-2D\n",
      "\n",
      "building late observed timepoints\n"
     ]
    },
    {
     "name": "stderr",
     "output_type": "stream",
     "text": [
      "/Users/dempster/packages/chronos_public/chronos/model.py:1222: FutureWarning: DataFrame.groupby with axis=1 is deprecated. Do `frame.T.groupby(...)` without axis instead.\n",
      "  .groupby(guide_gene_map[key].set_index(\"sgrna\").gene, axis=1)\\\n",
      "/Users/dempster/packages/chronos_public/chronos/model.py:1222: FutureWarning: DataFrame.groupby with axis=1 is deprecated. Do `frame.T.groupby(...)` without axis instead.\n",
      "  .groupby(guide_gene_map[key].set_index(\"sgrna\").gene, axis=1)\\\n"
     ]
    },
    {
     "name": "stdout",
     "output_type": "stream",
     "text": [
      "\tbuilt normalized timepoints for Achilles-Avana-2D with shape (92, 3474) (replicates X guides)\n",
      "\tbuilt normalized timepoints for Achilles-KY-2D with shape (63, 4084) (replicates X guides)\n",
      "\n",
      "building t0 reads\n",
      "\n",
      "\n",
      "Building variables\n",
      "\n",
      "building t0 reads estimate\n",
      "made t0 batch with shape (2, 4084) for Achilles-Avana-2D\n",
      "made t0 batch with shape (2, 4084) for Achilles-KY-2D\n",
      "building guide efficacy\n",
      "built guide efficacy: shape [1, 7559]\n",
      "building growth rate\n",
      "built growth rate: shape {'Achilles-Avana-2D': [58, 1], 'Achilles-KY-2D': [58, 1]}\n",
      "\n",
      "building cell line efficacy\n",
      "built cell line efficacy: shapes {'Achilles-Avana-2D': [58, 1], 'Achilles-KY-2D': [58, 1]}\n",
      "building screen delay\n",
      "built screen delay\n",
      "building gene effect\n",
      "built core gene effect: 58 cell lines by 887 genes\n",
      "\n",
      "\n",
      "Connecting graph nodes in model\n",
      "\n",
      "building effective days\n",
      "built effective days, shapes {'Achilles-Avana-2D': [92, 887], 'Achilles-KY-2D': [63, 887]}\n",
      "\n",
      "building gene effect growth graph nodes\n",
      "built gene effect growth graph nodes, shapes {'Achilles-Avana-2D': [58, 887], 'Achilles-KY-2D': [58, 887]}\n",
      "\n",
      "building combined efficacy\n",
      "built combined efficacy, shape {'Achilles-Avana-2D': [58, 3474], 'Achilles-KY-2D': [58, 4084]}\n",
      "built expanded combined efficacy, shapes {'Achilles-Avana-2D': [92, 3474], 'Achilles-KY-2D': [63, 4084]}\n",
      "\n",
      "building growth estimates of edited cells and overall estimates of fold change in guide abundance\n",
      "built growth and change\n",
      "\n",
      "building unnormalized estimates of final abundance\n",
      "built unnormalized abundance\n",
      "\n",
      "building normalized estimates of final abundance\n",
      "built normalized abundance\n",
      "initializing precost variables\n",
      "\n",
      "\n",
      "Building all costs\n",
      "\n",
      "assembling guide efficacy regularization\n",
      "building smoothed regularization\n",
      "\n",
      "building t0 reads regularization/cost\n",
      "\n",
      "building NB2 cost\n"
     ]
    },
    {
     "name": "stderr",
     "output_type": "stream",
     "text": [
      "2024-02-01 13:34:02.602362: W tensorflow/c/c_api.cc:304] Operation '{name:'inferred_t0_3/base_Achilles-Avana-2D/Assign' id:11468 op device:{requested: '', assigned: ''} def:{{{node inferred_t0_3/base_Achilles-Avana-2D/Assign}} = AssignVariableOp[_has_manual_control_dependencies=true, dtype=DT_DOUBLE, validate_shape=false](inferred_t0_3/base_Achilles-Avana-2D, inferred_t0_3/base_Achilles-Avana-2D/Initializer/initial_value)}}' was changed by setting attribute after it was run by a session. This mutation will have no effect, and will trigger an error in the future. Either don't modify nodes after running them or create a new session.\n"
     ]
    },
    {
     "name": "stdout",
     "output_type": "stream",
     "text": [
      "building other regularizations\n",
      "\n",
      "Creating optimizer\n",
      "initializing rest of graph\n"
     ]
    },
    {
     "name": "stderr",
     "output_type": "stream",
     "text": [
      "2024-02-01 13:34:03.581631: W tensorflow/c/c_api.cc:304] Operation '{name:'GE_3/library_effect/Achilles-KY-2D/Assign' id:11676 op device:{requested: '', assigned: ''} def:{{{node GE_3/library_effect/Achilles-KY-2D/Assign}} = AssignVariableOp[_has_manual_control_dependencies=true, dtype=DT_DOUBLE, validate_shape=false](GE_3/library_effect/Achilles-KY-2D, GE_3/library_effect/Achilles-KY-2D/Initializer/initial_value)}}' was changed by setting attribute after it was run by a session. This mutation will have no effect, and will trigger an error in the future. Either don't modify nodes after running them or create a new session.\n"
     ]
    },
    {
     "name": "stdout",
     "output_type": "stream",
     "text": [
      "estimating initial screen efficacy and gene effect\n",
      "\t Achilles-Avana-2D\n",
      "\t Achilles-KY-2D\n"
     ]
    },
    {
     "name": "stderr",
     "output_type": "stream",
     "text": [
      "/Users/dempster/packages/chronos_public/chronos/model.py:1828: FutureWarning: DataFrame.groupby with axis=1 is deprecated. Do `frame.T.groupby(...)` without axis instead.\n",
      "  .groupby(guide_gene_map.set_index(\"sgrna\").gene, axis=1)\\\n",
      "/Users/dempster/packages/chronos_public/chronos/model.py:1828: FutureWarning: DataFrame.groupby with axis=1 is deprecated. Do `frame.T.groupby(...)` without axis instead.\n",
      "  .groupby(guide_gene_map.set_index(\"sgrna\").gene, axis=1)\\\n"
     ]
    },
    {
     "name": "stdout",
     "output_type": "stream",
     "text": [
      "\tverifying graph integrity\n",
      "verifying user inputs\n",
      "verifying variables\n",
      "verifying calculated terms\n",
      "\tAchilles-Avana-2D _gene_effect\n",
      "\tAchilles-Avana-2D _selected_efficacies\n",
      "\tAchilles-Avana-2D_predicted_readcounts_unscaled\n",
      "\tAchilles-Avana-2D _predicted_readcounts\n",
      "\tAchilles-Avana-2D _normalized_readcounts\n",
      "\tAchilles-Avana-2D _cost_presum\n",
      "sess run\n",
      "\tAchilles-Avana-2D _cost\n",
      "\tAchilles-Avana-2D _full_costs\n",
      "\tAchilles-KY-2D _gene_effect\n",
      "\tAchilles-KY-2D _selected_efficacies\n",
      "\tAchilles-KY-2D_predicted_readcounts_unscaled\n",
      "\tAchilles-KY-2D _predicted_readcounts\n",
      "\tAchilles-KY-2D _normalized_readcounts\n",
      "\tAchilles-KY-2D _cost_presum\n",
      "sess run\n",
      "\tAchilles-KY-2D _cost\n",
      "\tAchilles-KY-2D _full_costs\n",
      "waiting for user to load model\n"
     ]
    }
   ],
   "source": [
    "model2_pretrained = chronos.Chronos(\n",
    "    sequence_map={\"Achilles-Avana-2D\": sequence_map, 'Achilles-KY-2D': ky_sequence_map},\n",
    "    guide_gene_map={\"Achilles-Avana-2D\": guide_map, 'Achilles-KY-2D': ky_guide_map},\n",
    "    readcounts={\"Achilles-Avana-2D\": readcounts, 'Achilles-KY-2D': ky_readcounts},\n",
    "    negative_control_sgrnas={\"Achilles-Avana-2D\": negative_controls, \"Achilles-KY-2D\": ky_negative_controls},\n",
    "    pretrained=True\n",
    ")"
   ]
  },
  {
   "cell_type": "markdown",
   "metadata": {},
   "source": [
    "Now we import the DepMap data from the directory into the model, and train:"
   ]
  },
  {
   "cell_type": "code",
   "execution_count": 57,
   "metadata": {},
   "outputs": [
    {
     "name": "stdout",
     "output_type": "stream",
     "text": [
      "Chronos model loaded\n",
      "ready to train\n"
     ]
    }
   ],
   "source": [
    "model2_pretrained.import_model(\"./Data/DepMapParameters/\")"
   ]
  },
  {
   "cell_type": "code",
   "execution_count": 58,
   "metadata": {
    "scrolled": true
   },
   "outputs": [
    {
     "name": "stdout",
     "output_type": "stream",
     "text": [
      "NB2 cost 0.27051841394225706\n",
      "Full cost 0.462856857032057\n",
      "relative_growth_rate\n",
      "\tAchilles-Avana-2D max 1.058, min 0.95201\n",
      "\tAchilles-KY-2D max 1.051, min 0.96746\n",
      "mean guide efficacy 0.8814048828522121\n",
      "t0_offset SD: [('Achilles-Avana-2D', 0.1755915504675398), ('Achilles-KY-2D', 0.14386042441508556)]\n",
      "\n",
      "gene mean -0.44947652450601505\n",
      "SD of gene means 0.6593199766574569\n",
      "Mean of gene SDs 0.33749121397731985\n",
      "\n",
      "\n",
      "\n",
      "51 epochs trained, time taken 0:00:01, projected remaining 0:00:06\n",
      "NB2 cost 0.24033107886893623\n",
      "Full cost 0.34898158122362133\n",
      "relative_growth_rate\n",
      "\tAchilles-Avana-2D max 1.445, min 0.48423\n",
      "\tAchilles-KY-2D max 1.298, min 0.62995\n",
      "mean guide efficacy 0.8814048828522121\n",
      "t0_offset SD: [('Achilles-Avana-2D', 0.1755915504675398), ('Achilles-KY-2D', 0.14386042441508556)]\n",
      "\n",
      "gene mean -0.40089080854026826\n",
      "SD of gene means 0.6903018986321589\n",
      "Mean of gene SDs 0.28200727115320773\n",
      "\n",
      "\n",
      "\n",
      "101 epochs trained, time taken 0:00:02, projected remaining 0:00:04\n",
      "NB2 cost 0.22920596486640385\n",
      "Full cost 0.3086187957319814\n",
      "relative_growth_rate\n",
      "\tAchilles-Avana-2D max 1.749, min 0.37871\n",
      "\tAchilles-KY-2D max 1.315, min 0.52152\n",
      "mean guide efficacy 0.8814048828522121\n",
      "t0_offset SD: [('Achilles-Avana-2D', 0.1755915504675398), ('Achilles-KY-2D', 0.14386042441508556)]\n",
      "\n",
      "gene mean -0.41131465365728287\n",
      "SD of gene means 0.6705672796570279\n",
      "Mean of gene SDs 0.23011712896441955\n",
      "\n",
      "\n",
      "\n",
      "151 epochs trained, time taken 0:00:03, projected remaining 0:00:03\n",
      "NB2 cost 0.22840873594372588\n",
      "Full cost 0.30701797892832017\n",
      "relative_growth_rate\n",
      "\tAchilles-Avana-2D max 1.746, min 0.38809\n",
      "\tAchilles-KY-2D max 1.449, min 0.49692\n",
      "mean guide efficacy 0.8814048828522121\n",
      "t0_offset SD: [('Achilles-Avana-2D', 0.1755915504675398), ('Achilles-KY-2D', 0.14386042441508556)]\n",
      "\n",
      "gene mean -0.41064688966997376\n",
      "SD of gene means 0.6675204950130041\n",
      "Mean of gene SDs 0.22106167507095875\n",
      "\n",
      "\n",
      "\n",
      "201 epochs trained, time taken 0:00:04, projected remaining 0:00:02\n",
      "NB2 cost 0.22826080839276428\n",
      "Full cost 0.3067130081759468\n",
      "relative_growth_rate\n",
      "\tAchilles-Avana-2D max 1.745, min 0.38819\n",
      "\tAchilles-KY-2D max 1.501, min 0.48164\n",
      "mean guide efficacy 0.8814048828522121\n",
      "t0_offset SD: [('Achilles-Avana-2D', 0.1755915504675398), ('Achilles-KY-2D', 0.14386042441508556)]\n",
      "\n",
      "gene mean -0.4105305564990334\n",
      "SD of gene means 0.6670374937661809\n",
      "Mean of gene SDs 0.2182704023230125\n",
      "\n",
      "\n",
      "\n",
      "251 epochs trained, time taken 0:00:05, projected remaining 0:00:01\n",
      "NB2 cost 0.2282265881771355\n",
      "Full cost 0.30662955651187\n",
      "relative_growth_rate\n",
      "\tAchilles-Avana-2D max 1.745, min 0.38838\n",
      "\tAchilles-KY-2D max 1.518, min 0.47403\n",
      "mean guide efficacy 0.8814048828522121\n",
      "t0_offset SD: [('Achilles-Avana-2D', 0.1755915504675398), ('Achilles-KY-2D', 0.14386042441508556)]\n",
      "\n",
      "gene mean -0.4104854656442784\n",
      "SD of gene means 0.6668467499544143\n",
      "Mean of gene SDs 0.21735875003256305\n",
      "\n",
      "\n",
      "\n",
      "301 epochs trained, time taken 0:00:06, projected remaining 0:00:00\n",
      "NB2 cost 0.22821897148070794\n",
      "Full cost 0.306603584993956\n",
      "relative_growth_rate\n",
      "\tAchilles-Avana-2D max 1.745, min 0.38846\n",
      "\tAchilles-KY-2D max 1.524, min 0.47058\n",
      "mean guide efficacy 0.8814048828522121\n",
      "t0_offset SD: [('Achilles-Avana-2D', 0.1755915504675398), ('Achilles-KY-2D', 0.14386042441508556)]\n",
      "\n",
      "gene mean -0.41046709504947637\n",
      "SD of gene means 0.666756417425115\n",
      "Mean of gene SDs 0.21704766382806379\n",
      "\n",
      "\n",
      "\n"
     ]
    }
   ],
   "source": [
    "model2_pretrained.train()"
   ]
  },
  {
   "cell_type": "code",
   "execution_count": null,
   "metadata": {},
   "outputs": [],
   "source": []
  }
 ],
 "metadata": {
  "kernelspec": {
   "display_name": "python3.11",
   "language": "python",
   "name": "python3.11"
  },
  "language_info": {
   "codemirror_mode": {
    "name": "ipython",
    "version": 3
   },
   "file_extension": ".py",
   "mimetype": "text/x-python",
   "name": "python",
   "nbconvert_exporter": "python",
   "pygments_lexer": "ipython3",
   "version": "3.11.7"
  },
  "toc": {
   "base_numbering": 1,
   "nav_menu": {
    "height": "183.991px",
    "width": "287.997px"
   },
   "number_sections": true,
   "sideBar": true,
   "skip_h1_title": false,
   "title_cell": "Table of Contents",
   "title_sidebar": "Contents",
   "toc_cell": false,
   "toc_position": {
    "height": "calc(100% - 180px)",
    "left": "10px",
    "top": "150px",
    "width": "272px"
   },
   "toc_section_display": true,
   "toc_window_display": true
  }
 },
 "nbformat": 4,
 "nbformat_minor": 4
}
