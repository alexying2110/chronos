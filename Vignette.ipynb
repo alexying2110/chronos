{
 "cells": [
  {
   "cell_type": "markdown",
   "metadata": {},
   "source": [
    "# Chronos Vignette"
   ]
  },
  {
   "cell_type": "markdown",
   "metadata": {},
   "source": [
    "This vignette walks through a simple exercise in training Chronos on a subset of DepMap public 20Q4 and the Sanger Institute's Project Score data. "
   ]
  },
  {
   "cell_type": "markdown",
   "metadata": {},
   "source": [
    "## Imports"
   ]
  },
  {
   "cell_type": "code",
   "execution_count": 1,
   "metadata": {},
   "outputs": [],
   "source": [
    "%load_ext autoreload\n",
    "%autoreload 2"
   ]
  },
  {
   "cell_type": "code",
   "execution_count": 2,
   "metadata": {},
   "outputs": [],
   "source": [
    "import numpy as np\n",
    "import pandas as pd\n",
    "import chronos\n",
    "import os\n",
    "from matplotlib import pyplot as plt\n",
    "import seaborn as sns\n",
    "from taigapy import default_tc as tc"
   ]
  },
  {
   "cell_type": "markdown",
   "metadata": {},
   "source": [
    "Some tweaks that will make plots more legible"
   ]
  },
  {
   "cell_type": "code",
   "execution_count": 3,
   "metadata": {},
   "outputs": [],
   "source": [
    "from matplotlib import rcParams\n",
    "rcParams['axes.titlesize'] = 14\n",
    "rcParams['axes.spines.right'] = False\n",
    "rcParams['axes.spines.top'] = False\n",
    "rcParams['savefig.dpi'] = 200\n",
    "rcParams['savefig.transparent'] = False\n",
    "rcParams['font.family'] = 'Arial'\n",
    "rcParams['font.size'] = '11'\n",
    "rcParams['figure.dpi'] = 200\n",
    "rcParams[\"savefig.facecolor\"] = (1, 1, 1.0, 0.2)\n",
    "\n",
    "rcParams['xtick.labelsize'] = 10\n",
    "rcParams['ytick.labelsize'] = 10\n",
    "rcParams['legend.fontsize'] = 7"
   ]
  },
  {
   "cell_type": "markdown",
   "metadata": {},
   "source": [
    "## Setting up the Data"
   ]
  },
  {
   "cell_type": "markdown",
   "metadata": {},
   "source": [
    "Chronos always requires at least three dataframes: \n",
    "* a matrix of readcounts with sequenced entities as the index, individual sgRNAs as the columns, and values indicating how many reads were found for that sgRNA. A sequenced entity any vector of sgRNA readcounts read out during the experiment. It could be a sequencing run of pDNA, or of a biological replicate at some time point during the experiment.\n",
    "* A sequence map mapping sequenced entities to either pDNA or a cell line and giving the days since infection and pDNA batch. \n",
    "* A guide map mapping sgRNAs to genes. Each sgRNA included must map to one and only one gene."
   ]
  },
  {
   "cell_type": "markdown",
   "metadata": {},
   "source": [
    "Below, we'll load a small subset of the DepMap Avana data. The files have been reformatted from the release to the format Chronos expects"
   ]
  },
  {
   "cell_type": "code",
   "execution_count": 4,
   "metadata": {},
   "outputs": [],
   "source": [
    "sequence_map = pd.read_csv(\"Data/SampleData/AvanaSequenceMap.csv\")\n",
    "guide_map = pd.read_csv(\"Data/SampleData/AvanaGuideMap.csv\")\n",
    "readcounts = chronos.read_hdf5(\"Data/SampleData/AvanaReadcounts.hdf5\")"
   ]
  },
  {
   "cell_type": "markdown",
   "metadata": {},
   "source": [
    "Sequence maps must have the columns\n",
    "\n",
    "* sequence_id (str), which must match a row in readcounts\n",
    "* cell_line_name (str). Must be \"pDNA\" for pDNA, and each pDNA batch must have at least one pDNA measurement.\n",
    "* pDNA batch (any simple hashable type, preferably int or str). pDNA measurements sharing the same batch will be grouped and averaged, then used as the reference for all biological replicate sequencings assigned that same batch. If you don't have multiple pDNA batches (by far the most common experimental condition), just fill this column with 0 or some other constant value.\n",
    "* days: days post infection. This value will be ignored for pDNA.\n",
    "\n",
    "Other columns will be ignored."
   ]
  },
  {
   "cell_type": "code",
   "execution_count": 5,
   "metadata": {},
   "outputs": [
    {
     "data": {
      "text/html": [
       "<div>\n",
       "<style scoped>\n",
       "    .dataframe tbody tr th:only-of-type {\n",
       "        vertical-align: middle;\n",
       "    }\n",
       "\n",
       "    .dataframe tbody tr th {\n",
       "        vertical-align: top;\n",
       "    }\n",
       "\n",
       "    .dataframe thead th {\n",
       "        text-align: right;\n",
       "    }\n",
       "</style>\n",
       "<table border=\"1\" class=\"dataframe\">\n",
       "  <thead>\n",
       "    <tr style=\"text-align: right;\">\n",
       "      <th></th>\n",
       "      <th>sequence_ID</th>\n",
       "      <th>ScreenID</th>\n",
       "      <th>days</th>\n",
       "      <th>pDNA_batch</th>\n",
       "      <th>Replicate</th>\n",
       "      <th>ScreenType</th>\n",
       "      <th>cell_line_name</th>\n",
       "      <th>ModelConditionID</th>\n",
       "      <th>Library</th>\n",
       "      <th>PassesQC</th>\n",
       "    </tr>\n",
       "  </thead>\n",
       "  <tbody>\n",
       "    <tr>\n",
       "      <th>0</th>\n",
       "      <td>HEL-311Cas9_RepA_p4_Avana-3</td>\n",
       "      <td>SC-000004.AV01</td>\n",
       "      <td>21</td>\n",
       "      <td>Avana-3</td>\n",
       "      <td>A</td>\n",
       "      <td>2DS</td>\n",
       "      <td>ACH-000004</td>\n",
       "      <td>MC-000004-pA3k</td>\n",
       "      <td>Avana</td>\n",
       "      <td>True</td>\n",
       "    </tr>\n",
       "    <tr>\n",
       "      <th>1</th>\n",
       "      <td>HEL-311Cas9_RepB_p4_Avana-3</td>\n",
       "      <td>SC-000004.AV01</td>\n",
       "      <td>21</td>\n",
       "      <td>Avana-3</td>\n",
       "      <td>B</td>\n",
       "      <td>2DS</td>\n",
       "      <td>ACH-000004</td>\n",
       "      <td>MC-000004-pA3k</td>\n",
       "      <td>Avana</td>\n",
       "      <td>True</td>\n",
       "    </tr>\n",
       "    <tr>\n",
       "      <th>2</th>\n",
       "      <td>KU812-311cas9-RepA-p6_Avana-3</td>\n",
       "      <td>SC-000074.AV01</td>\n",
       "      <td>21</td>\n",
       "      <td>Avana-3</td>\n",
       "      <td>A</td>\n",
       "      <td>2DS</td>\n",
       "      <td>ACH-000074</td>\n",
       "      <td>MC-000074-OKtM</td>\n",
       "      <td>Avana</td>\n",
       "      <td>True</td>\n",
       "    </tr>\n",
       "    <tr>\n",
       "      <th>3</th>\n",
       "      <td>KU812-311cas9-RepB-p6_Avana-3</td>\n",
       "      <td>SC-000074.AV01</td>\n",
       "      <td>21</td>\n",
       "      <td>Avana-3</td>\n",
       "      <td>B</td>\n",
       "      <td>2DS</td>\n",
       "      <td>ACH-000074</td>\n",
       "      <td>MC-000074-OKtM</td>\n",
       "      <td>Avana</td>\n",
       "      <td>True</td>\n",
       "    </tr>\n",
       "    <tr>\n",
       "      <th>4</th>\n",
       "      <td>T47D-311Cas9-RepA-p6_Avana-4</td>\n",
       "      <td>SC-000147.AV01</td>\n",
       "      <td>21</td>\n",
       "      <td>Avana-4</td>\n",
       "      <td>A</td>\n",
       "      <td>2DS</td>\n",
       "      <td>ACH-000147</td>\n",
       "      <td>MC-000147-Uovr</td>\n",
       "      <td>Avana</td>\n",
       "      <td>True</td>\n",
       "    </tr>\n",
       "  </tbody>\n",
       "</table>\n",
       "</div>"
      ],
      "text/plain": [
       "                     sequence_ID        ScreenID  days pDNA_batch Replicate  \\\n",
       "0    HEL-311Cas9_RepA_p4_Avana-3  SC-000004.AV01    21    Avana-3         A   \n",
       "1    HEL-311Cas9_RepB_p4_Avana-3  SC-000004.AV01    21    Avana-3         B   \n",
       "2  KU812-311cas9-RepA-p6_Avana-3  SC-000074.AV01    21    Avana-3         A   \n",
       "3  KU812-311cas9-RepB-p6_Avana-3  SC-000074.AV01    21    Avana-3         B   \n",
       "4   T47D-311Cas9-RepA-p6_Avana-4  SC-000147.AV01    21    Avana-4         A   \n",
       "\n",
       "  ScreenType cell_line_name ModelConditionID Library  PassesQC  \n",
       "0        2DS     ACH-000004   MC-000004-pA3k   Avana      True  \n",
       "1        2DS     ACH-000004   MC-000004-pA3k   Avana      True  \n",
       "2        2DS     ACH-000074   MC-000074-OKtM   Avana      True  \n",
       "3        2DS     ACH-000074   MC-000074-OKtM   Avana      True  \n",
       "4        2DS     ACH-000147   MC-000147-Uovr   Avana      True  "
      ]
     },
     "execution_count": 5,
     "metadata": {},
     "output_type": "execute_result"
    }
   ],
   "source": [
    "sequence_map[:5]"
   ]
  },
  {
   "cell_type": "markdown",
   "metadata": {},
   "source": [
    "Guide maps must have the columns \n",
    "\n",
    "* sgrna (str): must match a column in readcounts. An sgrna can only appear once in this data frame.\n",
    "* gene (str): the gene the sgrna maps to.\n",
    "\n",
    "Other columns will be ignored."
   ]
  },
  {
   "cell_type": "code",
   "execution_count": 6,
   "metadata": {},
   "outputs": [
    {
     "data": {
      "text/html": [
       "<div>\n",
       "<style scoped>\n",
       "    .dataframe tbody tr th:only-of-type {\n",
       "        vertical-align: middle;\n",
       "    }\n",
       "\n",
       "    .dataframe tbody tr th {\n",
       "        vertical-align: top;\n",
       "    }\n",
       "\n",
       "    .dataframe thead th {\n",
       "        text-align: right;\n",
       "    }\n",
       "</style>\n",
       "<table border=\"1\" class=\"dataframe\">\n",
       "  <thead>\n",
       "    <tr style=\"text-align: right;\">\n",
       "      <th></th>\n",
       "      <th>sgrna</th>\n",
       "      <th>GenomeAlignment</th>\n",
       "      <th>gene</th>\n",
       "      <th>nAlignments</th>\n",
       "      <th>DropReason</th>\n",
       "      <th>UsedByChronos</th>\n",
       "    </tr>\n",
       "  </thead>\n",
       "  <tbody>\n",
       "    <tr>\n",
       "      <th>0</th>\n",
       "      <td>AAAAATGCGCAAATTCAGCG</td>\n",
       "      <td>chr3_138742712_-</td>\n",
       "      <td>PIK3CB (5291)</td>\n",
       "      <td>1.0</td>\n",
       "      <td>NaN</td>\n",
       "      <td>True</td>\n",
       "    </tr>\n",
       "    <tr>\n",
       "      <th>1</th>\n",
       "      <td>AAAACACATCAGTATAACAT</td>\n",
       "      <td>chr3_49368469_+</td>\n",
       "      <td>RHOA (387)</td>\n",
       "      <td>1.0</td>\n",
       "      <td>NaN</td>\n",
       "      <td>True</td>\n",
       "    </tr>\n",
       "    <tr>\n",
       "      <th>2</th>\n",
       "      <td>AAAACTACAGAAGCCTCCCG</td>\n",
       "      <td>chr10_34450424_-</td>\n",
       "      <td>PARD3 (56288)</td>\n",
       "      <td>1.0</td>\n",
       "      <td>NaN</td>\n",
       "      <td>True</td>\n",
       "    </tr>\n",
       "    <tr>\n",
       "      <th>3</th>\n",
       "      <td>AAAAGGCCTGACATATCTGA</td>\n",
       "      <td>chr15_66444677_+</td>\n",
       "      <td>MAP2K1 (5604)</td>\n",
       "      <td>2.0</td>\n",
       "      <td>NaN</td>\n",
       "      <td>True</td>\n",
       "    </tr>\n",
       "  </tbody>\n",
       "</table>\n",
       "</div>"
      ],
      "text/plain": [
       "                  sgrna   GenomeAlignment           gene  nAlignments  \\\n",
       "0  AAAAATGCGCAAATTCAGCG  chr3_138742712_-  PIK3CB (5291)          1.0   \n",
       "1  AAAACACATCAGTATAACAT   chr3_49368469_+     RHOA (387)          1.0   \n",
       "2  AAAACTACAGAAGCCTCCCG  chr10_34450424_-  PARD3 (56288)          1.0   \n",
       "3  AAAAGGCCTGACATATCTGA  chr15_66444677_+  MAP2K1 (5604)          2.0   \n",
       "\n",
       "   DropReason  UsedByChronos  \n",
       "0         NaN           True  \n",
       "1         NaN           True  \n",
       "2         NaN           True  \n",
       "3         NaN           True  "
      ]
     },
     "execution_count": 6,
     "metadata": {},
     "output_type": "execute_result"
    }
   ],
   "source": [
    "guide_map[:4]"
   ]
  },
  {
   "cell_type": "markdown",
   "metadata": {},
   "source": [
    "Finally, here's what readcounts should look like. They can include NaNs. Note the axes."
   ]
  },
  {
   "cell_type": "code",
   "execution_count": 7,
   "metadata": {},
   "outputs": [
    {
     "data": {
      "text/html": [
       "<div>\n",
       "<style scoped>\n",
       "    .dataframe tbody tr th:only-of-type {\n",
       "        vertical-align: middle;\n",
       "    }\n",
       "\n",
       "    .dataframe tbody tr th {\n",
       "        vertical-align: top;\n",
       "    }\n",
       "\n",
       "    .dataframe thead th {\n",
       "        text-align: right;\n",
       "    }\n",
       "</style>\n",
       "<table border=\"1\" class=\"dataframe\">\n",
       "  <thead>\n",
       "    <tr style=\"text-align: right;\">\n",
       "      <th></th>\n",
       "      <th>AAAAATGCGCAAATTCAGCG</th>\n",
       "      <th>AAAACACATCAGTATAACAT</th>\n",
       "      <th>AAAACTACAGAAGCCTCCCG</th>\n",
       "    </tr>\n",
       "  </thead>\n",
       "  <tbody>\n",
       "    <tr>\n",
       "      <th>HEL-311Cas9_RepA_p4_Avana-3</th>\n",
       "      <td>101.0</td>\n",
       "      <td>224.0</td>\n",
       "      <td>636.0</td>\n",
       "    </tr>\n",
       "    <tr>\n",
       "      <th>HEL-311Cas9_RepB_p4_Avana-3</th>\n",
       "      <td>147.0</td>\n",
       "      <td>400.0</td>\n",
       "      <td>350.0</td>\n",
       "    </tr>\n",
       "    <tr>\n",
       "      <th>KU812-311cas9-RepA-p6_Avana-3</th>\n",
       "      <td>124.0</td>\n",
       "      <td>191.0</td>\n",
       "      <td>364.0</td>\n",
       "    </tr>\n",
       "    <tr>\n",
       "      <th>KU812-311cas9-RepB-p6_Avana-3</th>\n",
       "      <td>129.0</td>\n",
       "      <td>536.0</td>\n",
       "      <td>1280.0</td>\n",
       "    </tr>\n",
       "  </tbody>\n",
       "</table>\n",
       "</div>"
      ],
      "text/plain": [
       "                               AAAAATGCGCAAATTCAGCG  AAAACACATCAGTATAACAT  \\\n",
       "HEL-311Cas9_RepA_p4_Avana-3                   101.0                 224.0   \n",
       "HEL-311Cas9_RepB_p4_Avana-3                   147.0                 400.0   \n",
       "KU812-311cas9-RepA-p6_Avana-3                 124.0                 191.0   \n",
       "KU812-311cas9-RepB-p6_Avana-3                 129.0                 536.0   \n",
       "\n",
       "                               AAAACTACAGAAGCCTCCCG  \n",
       "HEL-311Cas9_RepA_p4_Avana-3                   636.0  \n",
       "HEL-311Cas9_RepB_p4_Avana-3                   350.0  \n",
       "KU812-311cas9-RepA-p6_Avana-3                 364.0  \n",
       "KU812-311cas9-RepB-p6_Avana-3                1280.0  "
      ]
     },
     "execution_count": 7,
     "metadata": {},
     "output_type": "execute_result"
    }
   ],
   "source": [
    "readcounts.iloc[:4, :3]"
   ]
  },
  {
   "cell_type": "markdown",
   "metadata": {},
   "source": [
    "To QC the data, we'll want control groups. We'll use predefined sets of common and nonessential genes, and use these to define control sets of sgRNAs."
   ]
  },
  {
   "cell_type": "code",
   "execution_count": 8,
   "metadata": {},
   "outputs": [],
   "source": [
    "common_essentials = pd.read_csv(\"Data/SampleData/AchillesCommonEssentialControls.csv\")[\"Gene\"]\n",
    "nonessentials = pd.read_csv(\"Data/SampleData/AchillesNonessentialControls.csv\")[\"Gene\"]"
   ]
  },
  {
   "cell_type": "code",
   "execution_count": 9,
   "metadata": {},
   "outputs": [],
   "source": [
    "positive_controls = guide_map.sgrna[guide_map.gene.isin(common_essentials)]\n",
    "negative_controls = guide_map.sgrna[guide_map.gene.isin(nonessentials)]"
   ]
  },
  {
   "cell_type": "markdown",
   "metadata": {},
   "source": [
    "### Normalizing Readcounts"
   ]
  },
  {
   "cell_type": "markdown",
   "metadata": {},
   "source": [
    "It's recommended that you normalize the readcounts before running `nan_outgrowths` below to correct for library size/sequencing depth effects. Chronos' `normalize_readcounts` function has different behavior depending on what is provided. In the ideal case that both a `sequence_map` and abundant negative controls (>=1000) are supplied, normalization process in two stages:\n",
    "- pDNA counts are scaled so that the modes of the readcount log distributions are aligned.\n",
    "- Each other sequence is then scaled such that the median of the log reads of negative controls within the sequence matches the median of the same guides in the negative controls"
   ]
  },
  {
   "cell_type": "code",
   "execution_count": 10,
   "metadata": {},
   "outputs": [],
   "source": [
    "readcounts = chronos.normalize_readcounts(readcounts, negative_controls, sequence_map)"
   ]
  },
  {
   "cell_type": "markdown",
   "metadata": {},
   "source": [
    "### NaNing clonal outgrowths"
   ]
  },
  {
   "cell_type": "markdown",
   "metadata": {},
   "source": [
    "In Achilles, we've observed rare instances where a single guide in a single biological replicate will produce an unexpectedly large number of readcounts, while other guides targeting the same gene or other replicates of the same cell line do not show many readcounts. We suspect this is the result of a single clone gaining some fitness advantage. Although it _could_ be related to a change induced by the guide, in general it's probably misleading. Therefore Chronos has an option to identify and remove these events. Note this change occurs in place."
   ]
  },
  {
   "cell_type": "code",
   "execution_count": 11,
   "metadata": {},
   "outputs": [
    {
     "name": "stdout",
     "output_type": "stream",
     "text": [
      "calculating LFC\n",
      "stacking and annotating LFC\n",
      "finding group boundaries\n",
      "removing cases with only one guide and replicate\n",
      "finding maximal values\n",
      "making mask\n",
      "found 218 outgrowths, 6.8E-04 of the total\n",
      "pivoting mask\n",
      "aligning_mask\n",
      "NaNing\n"
     ]
    },
    {
     "name": "stderr",
     "output_type": "stream",
     "text": [
      "/Users/dempster/packages/chronos_public/chronos/model.py:486: FutureWarning: Downcasting object dtype arrays on .fillna, .ffill, .bfill is deprecated and will change in a future version. Call result.infer_objects(copy=False) instead. To opt-in to the future behavior, set `pd.set_option('future.no_silent_downcasting', True)`\n",
      "  .fillna(False)\\\n"
     ]
    }
   ],
   "source": [
    "chronos.nan_outgrowths(readcounts=readcounts, guide_gene_map=guide_map,\n",
    "                                   sequence_map=sequence_map)"
   ]
  },
  {
   "cell_type": "markdown",
   "metadata": {},
   "source": [
    "### QCing the data"
   ]
  },
  {
   "cell_type": "markdown",
   "metadata": {},
   "source": [
    "You can generate a report with basic QC metrics about your data. You don't have to have control guides to do this, but the report is most useful if you do. If you don't have the `reportlab` python package installed, this section will error and should be skipped. This command will write a pdf report named \"Initial QC.pdf\" in the `./Data/reports` directory."
   ]
  },
  {
   "cell_type": "code",
   "execution_count": 12,
   "metadata": {},
   "outputs": [],
   "source": [
    "reportdir = \"./Data/reports\"\n",
    "# permanently deletes the directory - careful if you edit this line!\n",
    "! rm -rf \"./Data/reports\"\n",
    "! mkdir \"./Data/reports\""
   ]
  },
  {
   "cell_type": "code",
   "execution_count": 13,
   "metadata": {},
   "outputs": [
    {
     "name": "stderr",
     "output_type": "stream",
     "text": [
      "/Users/dempster/packages/chronos_public/chronos/plotting.py:282: SyntaxWarning: \"is\" with 'str' literal. Did you mean \"==\"?\n",
      "  if c is \"density\" or outliers_from == \"density\":\n",
      "/Users/dempster/packages/chronos_public/chronos/plotting.py:286: SyntaxWarning: \"is\" with 'str' literal. Did you mean \"==\"?\n",
      "  if c is \"density\":\n",
      "/Users/dempster/packages/chronos_public/chronos/plotting.py:297: SyntaxWarning: \"is\" with 'str' literal. Did you mean \"==\"?\n",
      "  if c is \"density\" or outliers_from == \"density\":\n"
     ]
    },
    {
     "name": "stdout",
     "output_type": "stream",
     "text": [
      "calculating replicate correlation\n",
      "generating control separation metrics\n",
      "Plotting log fold-change distribution\n"
     ]
    },
    {
     "name": "stderr",
     "output_type": "stream",
     "text": [
      "Looks like you are using a tranform that doesn't support FancyArrowPatch, using ax.annotate instead. The arrows might strike through texts. Increasing shrinkA in arrowprops might help.\n"
     ]
    },
    {
     "name": "stdout",
     "output_type": "stream",
     "text": [
      "plotting control separation metrics\n"
     ]
    }
   ],
   "source": [
    "from chronos import reports\n",
    "metrics = reports.qc_initial_data(\n",
    "    \"Initial QC\", readcounts, sequence_map,guide_map, \n",
    "    negative_controls, positive_controls, directory=reportdir, \n",
    "       )"
   ]
  },
  {
   "cell_type": "markdown",
   "metadata": {},
   "source": [
    "Look in the Data/reports directory to see the QC report, \"Initial QC.pdf\"."
   ]
  },
  {
   "cell_type": "markdown",
   "metadata": {},
   "source": [
    "## Train Chronos"
   ]
  },
  {
   "cell_type": "markdown",
   "metadata": {},
   "source": [
    "### Creating the model"
   ]
  },
  {
   "cell_type": "markdown",
   "metadata": {},
   "source": [
    "Now we initialize the model. Note the form of the data: each of the three parameters is actually a dictionary. If we were training the model with data from multiple libraries simultaneously, each library's data would have its own entries in the dict. \n",
    "\n",
    "The `negative_control_sgrnas` is an optional parameter, but including it will allow 1. better removal of library size effects from readcounts, and 2. estimation of the negative binomial quadratic overdispersion parameter per screen, which is otherwise a fixed hyperparameter. If provided, these should be cutting sgRNAs that are strongly expected to have no viability impact.\n",
    "\n",
    "`log_dir` is an optional argument containing a directory for tensorflow to write summaries to. We include it here so that tensorboard can load the model."
   ]
  },
  {
   "cell_type": "code",
   "execution_count": 14,
   "metadata": {},
   "outputs": [],
   "source": [
    "logdir = \"./Data/logs\"\n",
    "# permanently deletes the directory - careful if you edit this line!\n",
    "! rm -rf \"./Data/logs\"\n",
    "! mkdir \"./Data/logs\""
   ]
  },
  {
   "cell_type": "code",
   "execution_count": 45,
   "metadata": {},
   "outputs": [],
   "source": [
    "import warnings\n",
    "warnings.filterwarnings(\"default\")"
   ]
  },
  {
   "cell_type": "code",
   "execution_count": 16,
   "metadata": {
    "scrolled": true
   },
   "outputs": [
    {
     "name": "stdout",
     "output_type": "stream",
     "text": [
      "normalizing readcounts\n",
      "\n",
      "\n",
      "Finding all unique guides and genes\n",
      "found 3474 unique guides and 883 unique genes in avana\n",
      "found 3474 unique guides and 883 unique genes overall\n",
      "\n",
      "finding guide-gene mapping indices\n",
      "\n",
      "finding all unique sequenced replicates, cell lines, and pDNA batches\n",
      "found 92 unique sequences (excluding pDNA), 92 unique replicates, and 44 unique cell lines in avana\n",
      "found 92 unique late time points and 44 unique cell lines overall\n",
      "\n",
      "finding sequence-cell line mappings indices\n",
      "\n",
      "finding replicate mappings indices\n",
      "\n",
      "finding late time point-pDNA mappings indices\n",
      "\n",
      "\n",
      "assigning float constants\n",
      "Estimating or aligning variances\n",
      "\tEstimating excess variance (alpha) for avana\n",
      "Creating excess variance tensors\n",
      "\tCreated excess variance tensor for avana with shape [92, 1]\n",
      "initializing graph\n",
      "\n",
      "building gene effect mask\n",
      "\n",
      "building doubling vectors\n",
      "made days vector of shape [92, 1] for avana\n",
      "\n",
      "building late observed timepoints\n"
     ]
    },
    {
     "name": "stderr",
     "output_type": "stream",
     "text": [
      "2025-05-12 12:40:52.092112: I tensorflow/compiler/mlir/mlir_graph_optimization_pass.cc:388] MLIR V1 optimization pass is not enabled\n",
      "2025-05-12 12:40:52.186563: W tensorflow/c/c_api.cc:305] Operation '{name:'excess_variance/avana/Assign' id:7 op device:{requested: '', assigned: ''} def:{{{node excess_variance/avana/Assign}} = AssignVariableOp[_has_manual_control_dependencies=true, dtype=DT_DOUBLE, validate_shape=false](excess_variance/avana, excess_variance/avana/Initializer/initial_value)}}' was changed by setting attribute after it was run by a session. This mutation will have no effect, and will trigger an error in the future. Either don't modify nodes after running them or create a new session.\n"
     ]
    },
    {
     "name": "stdout",
     "output_type": "stream",
     "text": [
      "\tbuilt normalized timepoints for avana with shape (92, 3474) (replicates X guides)\n",
      "\n",
      "building t0 reads\n",
      "\n",
      "\n",
      "Building variables\n",
      "\n",
      "building t0 reads estimate\n",
      "made t0 batch with shape (3, 3474) for avana\n",
      "building guide efficacy\n",
      "built guide efficacy: shape [1, 3475]\n",
      "building growth rate\n",
      "built growth rate: shape {'avana': [92, 1]}\n",
      "\n",
      "building replicate efficacy\n",
      "built replicate efficacy: shapes {'avana': [92, 1]}\n",
      "building screen delay\n",
      "built screen delay\n",
      "building gene effect\n",
      "built core gene effect: 44 cell lines by 883 genes\n",
      "\n",
      "\n",
      "Connecting graph nodes in model\n",
      "\n",
      "building effective days\n",
      "built effective days, shapes {'avana': [92, 883]}\n",
      "\n",
      "building gene effect growth graph nodes\n",
      "built gene effect growth graph nodes, shapes {'avana': [92, 883]}\n",
      "\n",
      "building combined efficacy\n",
      "built combined efficacy, shape {'avana': [92, 3474]}\n",
      "built expanded combined efficacy, shapes {'avana': [92, 3474]}\n",
      "\n",
      "building growth estimates of edited cells and overall estimates of fold change in guide abundance\n",
      "built growth and change\n",
      "\n",
      "building unnormalized estimates of final abundance\n",
      "built unnormalized abundance\n",
      "\n",
      "building normalized estimates of final abundance\n",
      "built normalized abundance\n",
      "initializing precost variables\n",
      "\n",
      "\n",
      "Building all costs\n",
      "\n",
      "assembling guide efficacy regularization\n",
      "building smoothed regularization\n",
      "\n",
      "building t0 reads regularization/cost\n",
      "\n",
      "building NB2 cost\n",
      "building other regularizations\n",
      "\n",
      "Creating optimizer\n",
      "\tcreating log at ./Data/logs\n",
      "initializing rest of graph\n",
      "estimating initial screen efficacy and gene effect\n",
      "\t avana\n"
     ]
    },
    {
     "name": "stderr",
     "output_type": "stream",
     "text": [
      "2025-05-12 12:40:52.652630: W tensorflow/c/c_api.cc:305] Operation '{name:'GE/library_effect/avana/Assign' id:121 op device:{requested: '', assigned: ''} def:{{{node GE/library_effect/avana/Assign}} = AssignVariableOp[_has_manual_control_dependencies=true, dtype=DT_DOUBLE, validate_shape=false](GE/library_effect/avana, GE/library_effect/avana/Initializer/initial_value)}}' was changed by setting attribute after it was run by a session. This mutation will have no effect, and will trigger an error in the future. Either don't modify nodes after running them or create a new session.\n"
     ]
    },
    {
     "name": "stdout",
     "output_type": "stream",
     "text": [
      "\tverifying graph integrity\n",
      "verifying user inputs\n",
      "verifying variables\n",
      "verifying calculated terms\n",
      "\tavana _gene_effect\n",
      "\tavana _selected_efficacies\n",
      "\tavana_predicted_readcounts_unscaled\n",
      "\tavana _predicted_readcounts\n",
      "\tavana _normalized_readcounts\n",
      "\tavana _cost_presum\n",
      "\tavana _cost\n",
      "\tavana _full_costs\n",
      "ready to train\n"
     ]
    }
   ],
   "source": [
    "model = chronos.Chronos(\n",
    "    sequence_map={\"avana\": sequence_map},\n",
    "    guide_gene_map={\"avana\": guide_map},\n",
    "    readcounts={\"avana\": readcounts},\n",
    "    negative_control_sgrnas={\"avana\": negative_controls},\n",
    "    log_dir=logdir\n",
    ")"
   ]
  },
  {
   "cell_type": "markdown",
   "metadata": {},
   "source": [
    "If you have tensorboard, the cell below will show Chronos' node structure. `GE` means gene effect (relative change in growth rate), `FC` means predicted fold change, `t0` is the inferred relative guide abundance at t0, and `out_norm` is the predicted readcounts. "
   ]
  },
  {
   "cell_type": "code",
   "execution_count": 17,
   "metadata": {
    "scrolled": true
   },
   "outputs": [
    {
     "data": {
      "text/plain": [
       "ERROR: Could not find `tensorboard`. Please ensure that your PATH\n",
       "contains an executable `tensorboard` program, or explicitly specify\n",
       "the path to a TensorBoard binary by setting the `TENSORBOARD_BINARY`\n",
       "environment variable."
      ]
     },
     "metadata": {},
     "output_type": "display_data"
    }
   ],
   "source": [
    "%reload_ext tensorboard\n",
    "!kill $(ps -e | grep 'tensorboard' | awk '{print $1}')\n",
    "%tensorboard --logdir ./data/logs"
   ]
  },
  {
   "cell_type": "markdown",
   "metadata": {},
   "source": [
    "Now, optimizing the model:"
   ]
  },
  {
   "cell_type": "markdown",
   "metadata": {},
   "source": [
    "### Train"
   ]
  },
  {
   "cell_type": "markdown",
   "metadata": {},
   "source": [
    "Below, we train  the model for 301 epochs. This should take a minute or so with periodic updates provided"
   ]
  },
  {
   "cell_type": "code",
   "execution_count": 18,
   "metadata": {
    "scrolled": true
   },
   "outputs": [
    {
     "name": "stdout",
     "output_type": "stream",
     "text": [
      "NB2 cost 0.33756349331032737\n",
      "Full cost 0.42319428424408934\n",
      "relative_growth_rate\n",
      "\tavana max 1.044, min 0.95132\n",
      "mean guide efficacy 0.9992216388508388\n",
      "t0_offset SD: [('avana', 7.067825166006519e-05)]\n",
      "\n",
      "gene mean -0.21225130962053954\n",
      "SD of gene means 0.2986844123655955\n",
      "Mean of gene SDs 0.2574354594325485\n",
      "\n",
      "\n",
      "\n",
      "51 epochs trained, time taken 0:00:02, projected remaining 0:00:09\n",
      "NB2 cost 0.22316316529389846\n",
      "Full cost 0.26341501274185036\n",
      "relative_growth_rate\n",
      "\tavana max 1.552, min 0.55603\n",
      "mean guide efficacy 0.9393618904987902\n",
      "t0_offset SD: [('avana', 0.14436808586505012)]\n",
      "\n",
      "gene mean -0.03604721360329419\n",
      "SD of gene means 0.4387252686171692\n",
      "Mean of gene SDs 0.22205442282141488\n",
      "\n",
      "\n",
      "\n",
      "101 epochs trained, time taken 0:00:03, projected remaining 0:00:07\n",
      "NB2 cost 0.21186558005709122\n",
      "Full cost 0.2374417499946373\n",
      "relative_growth_rate\n",
      "\tavana max 1.613, min 0.49923\n",
      "mean guide efficacy 0.8824348521186017\n",
      "t0_offset SD: [('avana', 0.137592686757471)]\n",
      "\n",
      "gene mean 0.0002671263945360245\n",
      "SD of gene means 0.4474360558256499\n",
      "Mean of gene SDs 0.19471495440577438\n",
      "\n",
      "\n",
      "\n",
      "151 epochs trained, time taken 0:00:05, projected remaining 0:00:05\n",
      "NB2 cost 0.21100363740996947\n",
      "Full cost 0.23570771544947547\n",
      "relative_growth_rate\n",
      "\tavana max 1.573, min 0.49683\n",
      "mean guide efficacy 0.8775909168646502\n",
      "t0_offset SD: [('avana', 0.13540121991989562)]\n",
      "\n",
      "gene mean -0.000321057208373154\n",
      "SD of gene means 0.4501700751479779\n",
      "Mean of gene SDs 0.18955525727284203\n",
      "\n",
      "\n",
      "\n",
      "201 epochs trained, time taken 0:00:07, projected remaining 0:00:03\n",
      "NB2 cost 0.21163986252725656\n",
      "Full cost 0.23675715357865618\n",
      "relative_growth_rate\n",
      "\tavana max 1.551, min 0.49752\n",
      "mean guide efficacy 0.8722248591241455\n",
      "t0_offset SD: [('avana', 0.13679310279056758)]\n",
      "\n",
      "gene mean 0.00043032129095535784\n",
      "SD of gene means 0.45115366029509113\n",
      "Mean of gene SDs 0.18708067043915413\n",
      "\n",
      "\n",
      "\n",
      "251 epochs trained, time taken 0:00:09, projected remaining 0:00:02\n",
      "NB2 cost 0.21161319904268283\n",
      "Full cost 0.2363549193158801\n",
      "relative_growth_rate\n",
      "\tavana max 1.569, min 0.49707\n",
      "mean guide efficacy 0.8687519007623705\n",
      "t0_offset SD: [('avana', 0.13542434963716704)]\n",
      "\n",
      "gene mean 0.00114008544488681\n",
      "SD of gene means 0.45231060178792204\n",
      "Mean of gene SDs 0.1859339531477405\n",
      "\n",
      "\n",
      "\n",
      "301 epochs trained, time taken 0:00:11, projected remaining 0:00:00\n",
      "NB2 cost 0.2111655795221217\n",
      "Full cost 0.2354847872970635\n",
      "relative_growth_rate\n",
      "\tavana max 1.579, min 0.49804\n",
      "mean guide efficacy 0.8678871322112006\n",
      "t0_offset SD: [('avana', 0.13414479822459882)]\n",
      "\n",
      "gene mean -0.0004828369134019363\n",
      "SD of gene means 0.4533471328432652\n",
      "Mean of gene SDs 0.1857245577969887\n",
      "\n",
      "\n",
      "\n"
     ]
    }
   ],
   "source": [
    "model.train(301)"
   ]
  },
  {
   "cell_type": "markdown",
   "metadata": {},
   "source": [
    "## After Training"
   ]
  },
  {
   "cell_type": "markdown",
   "metadata": {},
   "source": [
    "### Saving and Restoring"
   ]
  },
  {
   "cell_type": "markdown",
   "metadata": {},
   "source": [
    "Chronos' `save` method dumps all the inputs, outputs, and model parameters to the specified directory. These files are written such that they can be read in individually and analyzed, but also used to restore the model by passing the directory path to the function `load_saved_model`."
   ]
  },
  {
   "cell_type": "code",
   "execution_count": 19,
   "metadata": {},
   "outputs": [],
   "source": [
    "savedir = \"Data/Achilles_run\""
   ]
  },
  {
   "cell_type": "code",
   "execution_count": 20,
   "metadata": {},
   "outputs": [],
   "source": [
    "if not os.path.isdir(savedir):\n",
    "    os.mkdir(savedir)"
   ]
  },
  {
   "cell_type": "code",
   "execution_count": 21,
   "metadata": {},
   "outputs": [],
   "source": [
    "model.save(savedir, overwrite=True)"
   ]
  },
  {
   "cell_type": "code",
   "execution_count": 22,
   "metadata": {},
   "outputs": [
    {
     "name": "stdout",
     "output_type": "stream",
     "text": [
      "Saved files:\n",
      "\n",
      "\tlibrary_effect.csv\n",
      "\tcell_line_growth_rate.csv\n",
      "\tavana_predicted_readcounts.hdf5\n",
      "\tgrowth_rate.csv\n",
      "\tparameters.json\n",
      "\tguide_efficacy.csv\n",
      "\tavana_sequence_map.csv\n",
      "\treplicate_efficacy.csv\n",
      "\tt0_offset.csv\n",
      "\tavana_predicted_lfc.hdf5\n",
      "\tavana_guide_gene_map.csv\n",
      "\tgene_effect_corrected.hdf5\n",
      "\tavana_negative_control_sgrnas.csv\n",
      "\tscreen_delay.csv\n",
      "\tscreen_excess_variance.csv\n",
      "\tcell_line_efficacy.csv\n",
      "\tgene_effect.hdf5\n",
      "\tavana_readcounts.hdf5\n"
     ]
    }
   ],
   "source": [
    "print(\"Saved files:\\n\\n\" + '\\n'.join(['\\t' + s for s in os.listdir(savedir)\n",
    "                if s.endswith(\"csv\")\n",
    "                or s.endswith(\"hdf5\")\n",
    "                or s.endswith(\"json\")\n",
    "                ]))"
   ]
  },
  {
   "cell_type": "markdown",
   "metadata": {},
   "source": [
    "The .hdf5 files are binaries written with chronos' `write_hdf5` function, which is an efficient method for writing large matrices. They can be read with chronos' `read_hdf5` function."
   ]
  },
  {
   "cell_type": "markdown",
   "metadata": {},
   "source": [
    "Restoring the model can be done with a single function call:"
   ]
  },
  {
   "cell_type": "code",
   "execution_count": 23,
   "metadata": {
    "scrolled": true
   },
   "outputs": [
    {
     "name": "stdout",
     "output_type": "stream",
     "text": [
      "\n",
      "\n",
      "Finding all unique guides and genes\n",
      "found 3474 unique guides and 883 unique genes in avana\n",
      "found 3474 unique guides and 883 unique genes overall\n",
      "\n",
      "finding guide-gene mapping indices\n",
      "\n",
      "finding all unique sequenced replicates, cell lines, and pDNA batches\n",
      "found 92 unique sequences (excluding pDNA), 92 unique replicates, and 44 unique cell lines in avana\n",
      "found 92 unique late time points and 44 unique cell lines overall\n",
      "\n",
      "finding sequence-cell line mappings indices\n",
      "\n",
      "finding replicate mappings indices\n",
      "\n",
      "finding late time point-pDNA mappings indices\n",
      "\n",
      "\n",
      "assigning float constants\n",
      "Estimating or aligning variances\n",
      "\tEstimating excess variance (alpha) for avana\n",
      "Creating excess variance tensors\n",
      "\tCreated excess variance tensor for avana with shape [92, 1]\n",
      "initializing graph\n",
      "\n",
      "building gene effect mask\n",
      "\n",
      "building doubling vectors\n",
      "made days vector of shape [92, 1] for avana\n",
      "\n",
      "building late observed timepoints\n",
      "\tbuilt normalized timepoints for avana with shape (92, 3474) (replicates X guides)\n",
      "\n",
      "building t0 reads\n",
      "\n",
      "\n",
      "Building variables\n",
      "\n",
      "building t0 reads estimate\n",
      "made t0 batch with shape (3, 3474) for avana\n",
      "building guide efficacy\n",
      "built guide efficacy: shape [1, 3475]\n",
      "building growth rate\n",
      "built growth rate: shape {'avana': [92, 1]}\n",
      "\n",
      "building replicate efficacy\n",
      "built replicate efficacy: shapes {'avana': [92, 1]}\n",
      "building screen delay\n",
      "built screen delay\n",
      "building gene effect\n",
      "built core gene effect: 44 cell lines by 883 genes\n",
      "\n",
      "\n",
      "Connecting graph nodes in model\n",
      "\n",
      "building effective days\n",
      "built effective days, shapes {'avana': [92, 883]}\n",
      "\n",
      "building gene effect growth graph nodes\n",
      "built gene effect growth graph nodes, shapes {'avana': [92, 883]}\n",
      "\n",
      "building combined efficacy\n",
      "built combined efficacy, shape {'avana': [92, 3474]}\n",
      "built expanded combined efficacy, shapes {'avana': [92, 3474]}\n",
      "\n",
      "building growth estimates of edited cells and overall estimates of fold change in guide abundance\n",
      "built growth and change\n",
      "\n",
      "building unnormalized estimates of final abundance\n",
      "built unnormalized abundance\n",
      "\n",
      "building normalized estimates of final abundance\n",
      "built normalized abundance\n",
      "initializing precost variables\n",
      "\n",
      "\n",
      "Building all costs\n",
      "\n",
      "assembling guide efficacy regularization\n",
      "building smoothed regularization\n",
      "\n",
      "building t0 reads regularization/cost\n",
      "\n",
      "building NB2 cost\n",
      "building other regularizations\n",
      "\n",
      "Creating optimizer\n"
     ]
    },
    {
     "name": "stderr",
     "output_type": "stream",
     "text": [
      "2025-05-12 12:41:04.941947: W tensorflow/c/c_api.cc:305] Operation '{name:'excess_variance_1/avana/Assign' id:3006 op device:{requested: '', assigned: ''} def:{{{node excess_variance_1/avana/Assign}} = AssignVariableOp[_has_manual_control_dependencies=true, dtype=DT_DOUBLE, validate_shape=false](excess_variance_1/avana, excess_variance_1/avana/Initializer/initial_value)}}' was changed by setting attribute after it was run by a session. This mutation will have no effect, and will trigger an error in the future. Either don't modify nodes after running them or create a new session.\n"
     ]
    },
    {
     "name": "stdout",
     "output_type": "stream",
     "text": [
      "initializing rest of graph\n",
      "\tverifying graph integrity\n",
      "verifying user inputs\n"
     ]
    },
    {
     "name": "stderr",
     "output_type": "stream",
     "text": [
      "2025-05-12 12:41:05.400281: W tensorflow/c/c_api.cc:305] Operation '{name:'GE_1/library_effect/avana/Assign' id:3120 op device:{requested: '', assigned: ''} def:{{{node GE_1/library_effect/avana/Assign}} = AssignVariableOp[_has_manual_control_dependencies=true, dtype=DT_DOUBLE, validate_shape=false](GE_1/library_effect/avana, GE_1/library_effect/avana/Initializer/initial_value)}}' was changed by setting attribute after it was run by a session. This mutation will have no effect, and will trigger an error in the future. Either don't modify nodes after running them or create a new session.\n"
     ]
    },
    {
     "name": "stdout",
     "output_type": "stream",
     "text": [
      "verifying variables\n",
      "verifying calculated terms\n",
      "\tavana _gene_effect\n",
      "\tavana _selected_efficacies\n",
      "\tavana_predicted_readcounts_unscaled\n",
      "\tavana _predicted_readcounts\n",
      "\tavana _normalized_readcounts\n",
      "\tavana _cost_presum\n",
      "\tavana _cost\n",
      "\tavana _full_costs\n",
      "ready to train\n",
      "assigning trained parameters\n",
      "\tlibrary effect\n",
      "\tgene effect\n",
      "\tguide efficacy\n",
      "\tcell efficacy\n",
      "\tgrowth rate\n",
      "\tscreen excess variance\n",
      "\tscreen delay\n",
      "\tt0 offset\n",
      "Complete.\n",
      "Cost when saved: 0.211166, cost now: 0.211166\n",
      "Full cost when saved: 0.235485, full cost now: 0.235488\n"
     ]
    }
   ],
   "source": [
    "model_restored = chronos.load_saved_model(savedir)"
   ]
  },
  {
   "cell_type": "code",
   "execution_count": 24,
   "metadata": {},
   "outputs": [
    {
     "name": "stdout",
     "output_type": "stream",
     "text": [
      "trained model cost: 0.211166\n",
      "restored model cost: 0.211166\n"
     ]
    },
    {
     "name": "stderr",
     "output_type": "stream",
     "text": [
      "2025-05-12 12:41:06.505761: W tensorflow/c/c_api.cc:305] Operation '{name:'GE/library_effect/avana/Adam_1/Assign' id:1514 op device:{requested: '', assigned: ''} def:{{{node GE/library_effect/avana/Adam_1/Assign}} = AssignVariableOp[_has_manual_control_dependencies=true, dtype=DT_DOUBLE, validate_shape=false](GE/library_effect/avana/Adam_1, GE/library_effect/avana/Adam_1/Initializer/zeros)}}' was changed by setting attribute after it was run by a session. This mutation will have no effect, and will trigger an error in the future. Either don't modify nodes after running them or create a new session.\n"
     ]
    }
   ],
   "source": [
    "print(\"trained model cost: %f\\nrestored model cost: %f\" % (model.cost, model_restored.cost))"
   ]
  },
  {
   "cell_type": "markdown",
   "metadata": {},
   "source": [
    "The most important file for most use cases is gene_effect.hdf5, which holds Chronos' estimate of the relative change in growth rate caused by gene knockouts. Negative values indicate inhibitory effects. You can also access the gene effect (and other parameters) from the trained model directly:"
   ]
  },
  {
   "cell_type": "code",
   "execution_count": 25,
   "metadata": {},
   "outputs": [
    {
     "data": {
      "text/html": [
       "<div>\n",
       "<style scoped>\n",
       "    .dataframe tbody tr th:only-of-type {\n",
       "        vertical-align: middle;\n",
       "    }\n",
       "\n",
       "    .dataframe tbody tr th {\n",
       "        vertical-align: top;\n",
       "    }\n",
       "\n",
       "    .dataframe thead th {\n",
       "        text-align: right;\n",
       "    }\n",
       "</style>\n",
       "<table border=\"1\" class=\"dataframe\">\n",
       "  <thead>\n",
       "    <tr style=\"text-align: right;\">\n",
       "      <th>gene</th>\n",
       "      <th>A1CF (29974)</th>\n",
       "      <th>A2M (2)</th>\n",
       "      <th>A2ML1 (144568)</th>\n",
       "      <th>A3GALT2 (127550)</th>\n",
       "      <th>A4GALT (53947)</th>\n",
       "    </tr>\n",
       "    <tr>\n",
       "      <th>cell_line_name</th>\n",
       "      <th></th>\n",
       "      <th></th>\n",
       "      <th></th>\n",
       "      <th></th>\n",
       "      <th></th>\n",
       "    </tr>\n",
       "  </thead>\n",
       "  <tbody>\n",
       "    <tr>\n",
       "      <th>ACH-000004</th>\n",
       "      <td>0.340376</td>\n",
       "      <td>0.077406</td>\n",
       "      <td>0.274223</td>\n",
       "      <td>0.414413</td>\n",
       "      <td>0.195286</td>\n",
       "    </tr>\n",
       "    <tr>\n",
       "      <th>ACH-000074</th>\n",
       "      <td>0.401480</td>\n",
       "      <td>0.459203</td>\n",
       "      <td>0.662891</td>\n",
       "      <td>0.363061</td>\n",
       "      <td>0.326250</td>\n",
       "    </tr>\n",
       "    <tr>\n",
       "      <th>ACH-000147</th>\n",
       "      <td>0.367605</td>\n",
       "      <td>0.318176</td>\n",
       "      <td>0.449635</td>\n",
       "      <td>0.170751</td>\n",
       "      <td>0.423957</td>\n",
       "    </tr>\n",
       "    <tr>\n",
       "      <th>ACH-000168</th>\n",
       "      <td>0.354950</td>\n",
       "      <td>0.388335</td>\n",
       "      <td>0.535161</td>\n",
       "      <td>0.280943</td>\n",
       "      <td>0.278667</td>\n",
       "    </tr>\n",
       "  </tbody>\n",
       "</table>\n",
       "</div>"
      ],
      "text/plain": [
       "gene            A1CF (29974)   A2M (2)  A2ML1 (144568)  A3GALT2 (127550)  \\\n",
       "cell_line_name                                                             \n",
       "ACH-000004          0.340376  0.077406        0.274223          0.414413   \n",
       "ACH-000074          0.401480  0.459203        0.662891          0.363061   \n",
       "ACH-000147          0.367605  0.318176        0.449635          0.170751   \n",
       "ACH-000168          0.354950  0.388335        0.535161          0.280943   \n",
       "\n",
       "gene            A4GALT (53947)  \n",
       "cell_line_name                  \n",
       "ACH-000004            0.195286  \n",
       "ACH-000074            0.326250  \n",
       "ACH-000147            0.423957  \n",
       "ACH-000168            0.278667  "
      ]
     },
     "execution_count": 25,
     "metadata": {},
     "output_type": "execute_result"
    }
   ],
   "source": [
    "gene_effects = model.gene_effect\n",
    "\n",
    "gene_effects.iloc[:4, :5]"
   ]
  },
  {
   "cell_type": "markdown",
   "metadata": {},
   "source": [
    "If your library includes many depleting genes with negative gene effect scores, this can drive nonessential genes towards positive values as Chronos tries to maintain the overall mean score near 0: "
   ]
  },
  {
   "cell_type": "code",
   "execution_count": 26,
   "metadata": {},
   "outputs": [
    {
     "name": "stdout",
     "output_type": "stream",
     "text": [
      "Mean of all effects: -0.000, mean of nonessential gene effects: 0.309\n"
     ]
    }
   ],
   "source": [
    "print(\"Mean of all effects: %1.3f, mean of nonessential gene effects: %1.3f\" %(\n",
    "    np.nanmean(gene_effects.mean()), np.nanmean(gene_effects.reindex(columns=nonessentials))\n",
    "))"
   ]
  },
  {
   "cell_type": "markdown",
   "metadata": {},
   "source": [
    "We usually want nonessential gene effects to be centered at 0, so we can interpret 0 gene effect as \"no impact on viability.\" This is a trivial change to make."
   ]
  },
  {
   "cell_type": "code",
   "execution_count": 27,
   "metadata": {},
   "outputs": [],
   "source": [
    "gene_effects -= np.nanmean(gene_effects.reindex(columns=nonessentials))"
   ]
  },
  {
   "cell_type": "code",
   "execution_count": 28,
   "metadata": {},
   "outputs": [
    {
     "data": {
      "text/plain": [
       "Text(0.5, 0, 'Distribution of adjusted gene effects')"
      ]
     },
     "execution_count": 28,
     "metadata": {},
     "output_type": "execute_result"
    },
    {
     "data": {
      "image/png": "[encoded data removed]",
      "text/plain": [
       "<Figure size 1280x960 with 1 Axes>"
      ]
     },
     "metadata": {},
     "output_type": "display_data"
    }
   ],
   "source": [
    "sns.kdeplot(np.ravel(gene_effects))\n",
    "plt.xlabel(\"Distribution of adjusted gene effects\")"
   ]
  },
  {
   "cell_type": "markdown",
   "metadata": {},
   "source": [
    "### Copy Number Correction"
   ]
  },
  {
   "cell_type": "markdown",
   "metadata": {},
   "source": [
    "If you have gene-level copy number calls, Chronos includes an option to correct gene effect scores after the fact. This works best if the data has been scaled, as above."
   ]
  },
  {
   "cell_type": "code",
   "execution_count": 29,
   "metadata": {},
   "outputs": [
    {
     "data": {
      "text/html": [
       "<div>\n",
       "<style scoped>\n",
       "    .dataframe tbody tr th:only-of-type {\n",
       "        vertical-align: middle;\n",
       "    }\n",
       "\n",
       "    .dataframe tbody tr th {\n",
       "        vertical-align: top;\n",
       "    }\n",
       "\n",
       "    .dataframe thead th {\n",
       "        text-align: right;\n",
       "    }\n",
       "</style>\n",
       "<table border=\"1\" class=\"dataframe\">\n",
       "  <thead>\n",
       "    <tr style=\"text-align: right;\">\n",
       "      <th></th>\n",
       "      <th>A1CF (29974)</th>\n",
       "      <th>A2M (2)</th>\n",
       "      <th>A2ML1 (144568)</th>\n",
       "    </tr>\n",
       "  </thead>\n",
       "  <tbody>\n",
       "    <tr>\n",
       "      <th>ACH-001636</th>\n",
       "      <td>1.110663</td>\n",
       "      <td>1.047670</td>\n",
       "      <td>1.047670</td>\n",
       "    </tr>\n",
       "    <tr>\n",
       "      <th>ACH-000784</th>\n",
       "      <td>1.193826</td>\n",
       "      <td>1.161938</td>\n",
       "      <td>1.109943</td>\n",
       "    </tr>\n",
       "    <tr>\n",
       "      <th>ACH-000147</th>\n",
       "      <td>1.365585</td>\n",
       "      <td>0.499068</td>\n",
       "      <td>0.499068</td>\n",
       "    </tr>\n",
       "    <tr>\n",
       "      <th>ACH-000657</th>\n",
       "      <td>1.033547</td>\n",
       "      <td>1.040547</td>\n",
       "      <td>1.040547</td>\n",
       "    </tr>\n",
       "  </tbody>\n",
       "</table>\n",
       "</div>"
      ],
      "text/plain": [
       "            A1CF (29974)   A2M (2)  A2ML1 (144568)\n",
       "ACH-001636      1.110663  1.047670        1.047670\n",
       "ACH-000784      1.193826  1.161938        1.109943\n",
       "ACH-000147      1.365585  0.499068        0.499068\n",
       "ACH-000657      1.033547  1.040547        1.040547"
      ]
     },
     "execution_count": 29,
     "metadata": {},
     "output_type": "execute_result"
    }
   ],
   "source": [
    "cn = chronos.read_hdf5(\"Data/SampleData/OmicsCNGene.hdf5\")\n",
    "cn.iloc[:4, :3]"
   ]
  },
  {
   "cell_type": "markdown",
   "metadata": {},
   "source": [
    "Unfortunately, we don't have copy number calls for one of the genes targeted by the Avana library:"
   ]
  },
  {
   "cell_type": "code",
   "execution_count": 30,
   "metadata": {},
   "outputs": [
    {
     "name": "stdout",
     "output_type": "stream",
     "text": [
      "Missing 1 genes from gene_effect in copy_number.\n",
      "Examples: ['POU2AF3 (120376)']\n"
     ]
    }
   ],
   "source": [
    "try:\n",
    "    corrected, shifts = chronos.alternate_CN(gene_effects, cn)\n",
    "except ValueError as e:\n",
    "    print(e)"
   ]
  },
  {
   "cell_type": "markdown",
   "metadata": {},
   "source": [
    "We could choose to drop these genes. Instead, we'll assume normal ploidy (=1, in the current CCLE convention) for them and fill in the CN matrix accordingly."
   ]
  },
  {
   "cell_type": "code",
   "execution_count": 31,
   "metadata": {},
   "outputs": [],
   "source": [
    "for col in set(gene_effects.columns) - set(cn.columns):\n",
    "    cn[col] = 1"
   ]
  },
  {
   "cell_type": "code",
   "execution_count": 32,
   "metadata": {},
   "outputs": [
    {
     "name": "stdout",
     "output_type": "stream",
     "text": [
      "\n",
      "Fitting cell line group 1 of 1\n",
      "finding low CN gene effect shifts\n",
      "smoothing and interpolating cutting toxicity for all genes\n",
      "constructed spline matrix of shape 38852, 105\n",
      "\tcost: 0.04185739861985495\n",
      "\tcost: 0.040923649429068926\n",
      "\tcost: 0.040776716211305894\n",
      "\tcost: 0.04068494351096646\n",
      "\tcost: 0.04061986130278289\n",
      "\tcost: 0.040573599619373145\n",
      "generating matrix\n"
     ]
    }
   ],
   "source": [
    "corrected, shifts = chronos.alternate_CN(gene_effects, cn)"
   ]
  },
  {
   "cell_type": "markdown",
   "metadata": {},
   "source": [
    "The `shifts` dataframe contains some information about the inferred CN effect, while `corrected` contains the corrected gene effects matrix. Overall, gene effect matrices will change little after correction, since most genes in most lines are near diploid."
   ]
  },
  {
   "cell_type": "markdown",
   "metadata": {},
   "source": [
    "We'll write the corrected dataframe to the saved directory we made earlier"
   ]
  },
  {
   "cell_type": "code",
   "execution_count": 33,
   "metadata": {},
   "outputs": [],
   "source": [
    "chronos.write_hdf5(corrected, os.path.join(savedir, \"gene_effect_corrected.hdf5\"))"
   ]
  },
  {
   "cell_type": "markdown",
   "metadata": {},
   "source": [
    "### QC report"
   ]
  },
  {
   "cell_type": "markdown",
   "metadata": {},
   "source": [
    "The function `dataset_qc_report` in the `reports` module of Chronos presents a variety of QC metrics and interrogates some specific examples. The report minimally requires a set of positive and negative control genes. To get the full report requires copy number, mutation data, expression data, a list of expression addictions (genes which are dependencies in highly expressing lines), and oncogenic mutations."
   ]
  },
  {
   "cell_type": "markdown",
   "metadata": {},
   "source": [
    "Below, we'll load an annotated DepMap MAF file (subsetted to our cell lines). We'll select gain of function cancer driver events from it and generate a binary mutation matrix. We have a prior belief that cell lines with driver gain of function mutation events will be dependent on the mutated gene, so this matrix will be used by the QC report to assess our ability to identify selective dependencies. Specifically, we expect the oncogenes in this matrix to be dependencies in cell lines where the matrix is `True`, and not otherwise."
   ]
  },
  {
   "cell_type": "code",
   "execution_count": 34,
   "metadata": {},
   "outputs": [],
   "source": [
    "maf = pd.read_csv(\"Data/SampleData/OmicsSomaticMutations.csv\")"
   ]
  },
  {
   "cell_type": "code",
   "execution_count": 35,
   "metadata": {},
   "outputs": [],
   "source": [
    "cancer_relevant = maf[\n",
    "  (\n",
    "      maf.Driver | maf.LikelyDriver  \n",
    "  ) & (\n",
    "      maf.LikelyGoF\n",
    "  )\n",
    "]\n",
    "\n",
    "\n",
    "cancer_relevant = cancer_relevant[~cancer_relevant.duplicated(subset=[\"ModelID\", \"Gene\"])]\n",
    "\n",
    "cancer_relevant['truecol'] = True\n",
    "\n",
    "gof_matrix_base = pd.pivot(cancer_relevant, index=\"ModelID\", columns=\"Gene\", values=\"truecol\")"
   ]
  },
  {
   "cell_type": "markdown",
   "metadata": {},
   "source": [
    "Another way to evaluate selective dependencies is using expression addictions, a common pattern in which a gene is a stronger dependency in lines with higher expression. We'll use a list derived from DepMap RNAi (Tsherniak et al., Cell 2017), and subset our expression matrix to match."
   ]
  },
  {
   "cell_type": "code",
   "execution_count": 36,
   "metadata": {},
   "outputs": [],
   "source": [
    "expression_addictions = pd.read_csv(\"Data/SampleData/RNAiExpressionAddictions.csv\")['Gene']"
   ]
  },
  {
   "cell_type": "code",
   "execution_count": 37,
   "metadata": {},
   "outputs": [],
   "source": [
    "addiction_expressions = chronos.read_hdf5(\"Data/SampleData/OmicsExpressionProteinCodingGenesTPMLogp1.hdf5\")[\n",
    "    expression_addictions\n",
    "]"
   ]
  },
  {
   "cell_type": "markdown",
   "metadata": {},
   "source": [
    "Now, we're ready to run the QC report on Chronos' results:"
   ]
  },
  {
   "cell_type": "code",
   "execution_count": 38,
   "metadata": {
    "scrolled": true
   },
   "outputs": [
    {
     "name": "stdout",
     "output_type": "stream",
     "text": [
      "Loading data from Data/Achilles_run\n",
      "plotting global control separation\n",
      "plotting selective dependency separation\n",
      "plotting gene effect mean relationships\n",
      "plotting copy number effect\n",
      "plotting screen efficacy and growth rate\n",
      "plotting readcount predictions\n",
      "plotting LFC predictions\n",
      "plotting difference from naive gene score\n",
      "summarizing\n",
      "plotting genes with low agreement with naive gene effect\n",
      "\tTSR2 (90121)\n",
      "Guide and replicate key for TSR2 (90121), ACH-000937:\n",
      "avana    av\n",
      "dtype: object\n",
      "ACAGCCAGGAGAAGGCCAAG    avGuide1\n",
      "CCTGTGTTTACAGATCGCTG    avGuide2\n",
      "CGTTGGTCAACAGCTCTCCA    avGuide3\n",
      "TTTCCGGGCTGGGGTCTGCG    avGuide4\n",
      "dtype: object\n",
      "PF382-311CAS9_RepA_p6_Avana-3    avRep1\n",
      "PF382-311CAS9_RepB_p6_Avana-3    avRep2\n",
      "dtype: object\n",
      "Guide and replicate key for TSR2 (90121), ACH-000263:\n",
      "avana    av\n",
      "dtype: object\n",
      "ACAGCCAGGAGAAGGCCAAG    avGuide1\n",
      "CCTGTGTTTACAGATCGCTG    avGuide2\n",
      "CGTTGGTCAACAGCTCTCCA    avGuide3\n",
      "TTTCCGGGCTGGGGTCTGCG    avGuide4\n",
      "dtype: object\n",
      "KASUMI-1-311cas9_RepA_p6_Avana-3    avRep1\n",
      "KASUMI-1-311cas9_RepB_p6_Avana-3    avRep2\n",
      "dtype: object\n",
      "\tESR1 (2099)\n",
      "Guide and replicate key for ESR1 (2099), ACH-000147:\n",
      "avana    av\n",
      "dtype: object\n",
      "CGCCGTGTACAACTACCCCG    avGuide1\n",
      "GCACCATTGATAAAAACAGG    avGuide2\n",
      "GTAGACCTGCGCGTTGGCGG    avGuide3\n",
      "TCGCCTTTCCTGCAGCCCCA    avGuide4\n",
      "dtype: object\n",
      "T47D-311Cas9-RepA-p6_Avana-4    avRep1\n",
      "T47D-311Cas9-RepB-p6_Avana-4    avRep2\n",
      "dtype: object\n",
      "Guide and replicate key for ESR1 (2099), ACH-001636:\n",
      "avana    av\n",
      "dtype: object\n",
      "CGCCGTGTACAACTACCCCG    avGuide1\n",
      "GCACCATTGATAAAAACAGG    avGuide2\n",
      "GTAGACCTGCGCGTTGGCGG    avGuide3\n",
      "TCGCCTTTCCTGCAGCCCCA    avGuide4\n",
      "dtype: object\n",
      "RAMOS-311cas9-RepA-p6_Avana-4    avRep1\n",
      "RAMOS-311cas9-RepB-p6_Avana-4    avRep2\n",
      "dtype: object\n",
      "\tNIP7 (51388)\n",
      "Guide and replicate key for NIP7 (51388), ACH-000605:\n",
      "avana    av\n",
      "dtype: object\n",
      "CTTGTCCCCGGAAATATTGG    avGuide1\n",
      "GCTGGCCGCCAATATTTCCG    avGuide2\n",
      "GTTTCCGTCTGCACAACGAC    avGuide3\n",
      "TATCTTCTCAAACATGACAC    avGuide4\n",
      "dtype: object\n",
      "TE6-311cas9_RepA_p6_Avana-3    avRep1\n",
      "TE6-311cas9_RepB_p6_Avana-3    avRep2\n",
      "dtype: object\n",
      "Guide and replicate key for NIP7 (51388), ACH-000912:\n",
      "avana    av\n",
      "dtype: object\n",
      "CTTGTCCCCGGAAATATTGG    avGuide1\n",
      "GCTGGCCGCCAATATTTCCG    avGuide2\n",
      "GTTTCCGTCTGCACAACGAC    avGuide3\n",
      "TATCTTCTCAAACATGACAC    avGuide4\n",
      "dtype: object\n",
      "NCI-H2286-311caa9_RepA_p6_Avana-3    avRep1\n",
      "NCI-H2286-311caa9_RepB_p6_Avana-3    avRep2\n",
      "dtype: object\n",
      "\tFOXR1 (283150)\n",
      "Guide and replicate key for FOXR1 (283150), ACH-000004:\n",
      "avana    av\n",
      "dtype: object\n",
      "GAGACCTCCAGCTTTCCAGG    avGuide1\n",
      "GGAAGATGCCAGCTGCTCAG    avGuide2\n",
      "TGAGACCTCCAGCTTTCCAG    avGuide3\n",
      "TGGGATTTACCCACATCCAG    avGuide4\n",
      "dtype: object\n",
      "HEL-311Cas9_RepA_p4_Avana-3    avRep1\n",
      "HEL-311Cas9_RepB_p4_Avana-3    avRep2\n",
      "dtype: object\n",
      "Guide and replicate key for FOXR1 (283150), ACH-000750:\n",
      "avana    av\n",
      "dtype: object\n",
      "GAGACCTCCAGCTTTCCAGG    avGuide1\n",
      "GGAAGATGCCAGCTGCTCAG    avGuide2\n",
      "TGAGACCTCCAGCTTTCCAG    avGuide3\n",
      "TGGGATTTACCCACATCCAG    avGuide4\n",
      "dtype: object\n",
      "LOXIMVI-311Cas9_RepA_p6_Avana-2    avRep1\n",
      "LOXIMVI-311Cas9_RepB_p6_Avana-2    avRep2\n",
      "dtype: object\n",
      "\tSEC61A1 (29927)\n",
      "Guide and replicate key for SEC61A1 (29927), ACH-000458:\n",
      "avana    av\n",
      "dtype: object\n",
      "ACTACTGTCAACACTGGCCG    avGuide1\n",
      "CTGGCTTCTGAATTTCCGGC    avGuide2\n",
      "GCACACTAAGAAGATAAAGA    avGuide3\n",
      "GTGATTCTAGCCTCTAACAG    avGuide4\n",
      "dtype: object\n",
      "CJM-311Cas9_RepA_p7_Avana-3    avRep1\n",
      "CJM-311Cas9_RepB_p7_Avana-3    avRep2\n",
      "dtype: object\n",
      "Guide and replicate key for SEC61A1 (29927), ACH-000147:\n",
      "avana    av\n",
      "dtype: object\n",
      "ACTACTGTCAACACTGGCCG    avGuide1\n",
      "CTGGCTTCTGAATTTCCGGC    avGuide2\n",
      "GCACACTAAGAAGATAAAGA    avGuide3\n",
      "GTGATTCTAGCCTCTAACAG    avGuide4\n",
      "dtype: object\n",
      "T47D-311Cas9-RepA-p6_Avana-4    avRep1\n",
      "T47D-311Cas9-RepB-p6_Avana-4    avRep2\n",
      "dtype: object\n",
      "\tJAK2 (3717)\n",
      "Guide and replicate key for JAK2 (3717), ACH-000004:\n",
      "avana    av\n",
      "dtype: object\n",
      "ATAATCATACCTGAGCAAAG    avGuide1\n",
      "ATCTGCCTCAGATTTCCCAA    avGuide2\n",
      "CTGCCACTGCAATACCAACG    avGuide3\n",
      "GAGGTGCTACTTCTTTACAG    avGuide4\n",
      "dtype: object\n",
      "HEL-311Cas9_RepA_p4_Avana-3    avRep1\n",
      "HEL-311Cas9_RepB_p4_Avana-3    avRep2\n",
      "dtype: object\n",
      "Guide and replicate key for JAK2 (3717), ACH-000396:\n",
      "avana    av\n",
      "dtype: object\n",
      "ATAATCATACCTGAGCAAAG    avGuide1\n",
      "ATCTGCCTCAGATTTCCCAA    avGuide2\n",
      "CTGCCACTGCAATACCAACG    avGuide3\n",
      "GAGGTGCTACTTCTTTACAG    avGuide4\n",
      "dtype: object\n",
      "J82-311Cas9_RepA_p5_Avana-3    avRep1\n",
      "J82-311Cas9_RepB_p5_Avana-3    avRep2\n",
      "dtype: object\n",
      "\tNEDD1 (121441)\n",
      "Guide and replicate key for NEDD1 (121441), ACH-000988:\n",
      "avana    av\n",
      "dtype: object\n",
      "GGCTGACACTCCTCTAACTG    avGuide1\n",
      "TAGAACTGTGGCAATGGACG    avGuide2\n",
      "TCTATGTATTTGGTAAGCGG    avGuide3\n",
      "TGGCTATTGGATCTTCCCGG    avGuide4\n",
      "dtype: object\n",
      "MFE-319-311Cas9_RepA_p6_Avana-3    avRep1\n",
      "MFE-319-311Cas9_RepB_p6_Avana-3    avRep2\n",
      "dtype: object\n",
      "Guide and replicate key for NEDD1 (121441), ACH-000912:\n",
      "avana    av\n",
      "dtype: object\n",
      "GGCTGACACTCCTCTAACTG    avGuide1\n",
      "TAGAACTGTGGCAATGGACG    avGuide2\n",
      "TCTATGTATTTGGTAAGCGG    avGuide3\n",
      "TGGCTATTGGATCTTCCCGG    avGuide4\n",
      "dtype: object\n",
      "NCI-H2286-311caa9_RepA_p6_Avana-3    avRep1\n",
      "NCI-H2286-311caa9_RepB_p6_Avana-3    avRep2\n",
      "dtype: object\n",
      "\tMCM6 (4175)\n",
      "Guide and replicate key for MCM6 (4175), ACH-000787:\n",
      "avana    av\n",
      "dtype: object\n",
      "GGCAATGATGAAGTAAAACG    avGuide1\n",
      "GTTCACCCAGAGCTTGTGAG    avGuide2\n",
      "TCAAGGCCCGACACAGGTAA    avGuide3\n",
      "TGTTGCGCCAACCAACCCAA    avGuide4\n",
      "dtype: object\n",
      "LXF-289-311cas9 Rep B p6_Avana-3    avRep1\n",
      "LXF-289-311cas9 Rep C p6_Avana-3    avRep2\n",
      "LXF-289-311cas9 Rep D p6_Avana-3    avRep3\n",
      "dtype: object\n",
      "Guide and replicate key for MCM6 (4175), ACH-000750:\n",
      "avana    av\n",
      "dtype: object\n",
      "GGCAATGATGAAGTAAAACG    avGuide1\n",
      "GTTCACCCAGAGCTTGTGAG    avGuide2\n",
      "TCAAGGCCCGACACAGGTAA    avGuide3\n",
      "TGTTGCGCCAACCAACCCAA    avGuide4\n",
      "dtype: object\n",
      "LOXIMVI-311Cas9_RepA_p6_Avana-2    avRep1\n",
      "LOXIMVI-311Cas9_RepB_p6_Avana-2    avRep2\n",
      "dtype: object\n",
      "\tJAK3 (3718)\n",
      "Guide and replicate key for JAK3 (3718), ACH-000406:\n",
      "avana    av\n",
      "dtype: object\n",
      "GGAAGCTGTCAAAGTCCTGG    avGuide1\n",
      "GGAGCGGCTGGATCCAGCCG    avGuide2\n",
      "TCCTTCACCAAGATTTACCG    avGuide3\n",
      "TGCCGCCGTCACCAGCCACG    avGuide4\n",
      "dtype: object\n",
      "U937-101Cas9 Rep A p6_Avana-3    avRep1\n",
      "U937-101Cas9 Rep C p6_Avana-3    avRep2\n",
      "U937-101Cas9 Rep D p6_Avana-3    avRep3\n",
      "dtype: object\n",
      "Guide and replicate key for JAK3 (3718), ACH-000479:\n",
      "avana    av\n",
      "dtype: object\n",
      "GGAAGCTGTCAAAGTCCTGG    avGuide1\n",
      "GGAGCGGCTGGATCCAGCCG    avGuide2\n",
      "TCCTTCACCAAGATTTACCG    avGuide3\n",
      "TGCCGCCGTCACCAGCCACG    avGuide4\n",
      "dtype: object\n",
      "KNS-81-311cas9_RepA_p5_Avana-3    avRep1\n",
      "KNS-81-311cas9_RepB_p5_Avana-3    avRep2\n",
      "dtype: object\n",
      "\tPOU2AF3 (120376)\n",
      "Guide and replicate key for POU2AF3 (120376), ACH-001843:\n",
      "avana    av\n",
      "dtype: object\n",
      "CTTTGTGTGGAATTGAGCAA    avGuide1\n",
      "GCTCTGGTTAAAGCAGAAAG    avGuide2\n",
      "TCTGGTGTCCAGAGAAGCAG    avGuide3\n",
      "TTCTGGTGTCCAGAGAAGCA    avGuide4\n",
      "dtype: object\n",
      "ICC3-311cas9_RepA_p6_Avana-3    avRep1\n",
      "ICC3-311cas9_RepB_p6_Avana-3    avRep2\n",
      "dtype: object\n",
      "Guide and replicate key for POU2AF3 (120376), ACH-000750:\n",
      "avana    av\n",
      "dtype: object\n",
      "CTTTGTGTGGAATTGAGCAA    avGuide1\n",
      "GCTCTGGTTAAAGCAGAAAG    avGuide2\n",
      "TCTGGTGTCCAGAGAAGCAG    avGuide3\n",
      "TTCTGGTGTCCAGAGAAGCA    avGuide4\n",
      "dtype: object\n",
      "LOXIMVI-311Cas9_RepA_p6_Avana-2    avRep1\n",
      "LOXIMVI-311Cas9_RepB_p6_Avana-2    avRep2\n",
      "dtype: object\n",
      "\tGUCA2A (2980)\n",
      "Guide and replicate key for GUCA2A (2980), ACH-000996:\n",
      "avana    av\n",
      "dtype: object\n",
      "CCAGGAGCCCCAGGAGCCCA    avGuide1\n",
      "GCACAGTGCGGAGAGCAGGA    avGuide2\n",
      "GGCCCCAAGGAGGCACAGTG    avGuide3\n",
      "TGGGCTCCTGGGGCTCCTGG    avGuide4\n",
      "dtype: object\n",
      "HEC-251-311Cas9_RepA_p5_Avana-3    avRep1\n",
      "HEC-251-311Cas9_RepB_p5_Avana-3    avRep2\n",
      "dtype: object\n",
      "Guide and replicate key for GUCA2A (2980), ACH-001636:\n",
      "avana    av\n",
      "dtype: object\n",
      "CCAGGAGCCCCAGGAGCCCA    avGuide1\n",
      "GCACAGTGCGGAGAGCAGGA    avGuide2\n",
      "GGCCCCAAGGAGGCACAGTG    avGuide3\n",
      "TGGGCTCCTGGGGCTCCTGG    avGuide4\n",
      "dtype: object\n",
      "RAMOS-311cas9-RepA-p6_Avana-4    avRep1\n",
      "RAMOS-311cas9-RepB-p6_Avana-4    avRep2\n",
      "dtype: object\n",
      "\tCLEC2A (387836)\n",
      "Guide and replicate key for CLEC2A (387836), ACH-000004:\n",
      "avana    av\n",
      "dtype: object\n",
      "ATTAATCCAGAGCTGCGGGA    avGuide1\n",
      "CCATGATTAATCCAGAGCTG    avGuide2\n",
      "GAGCTGATGGCTTCATACAT    avGuide3\n",
      "GATGGCTTCATACATCGGAT    avGuide4\n",
      "dtype: object\n",
      "HEL-311Cas9_RepA_p4_Avana-3    avRep1\n",
      "HEL-311Cas9_RepB_p4_Avana-3    avRep2\n",
      "dtype: object\n",
      "Guide and replicate key for CLEC2A (387836), ACH-001636:\n",
      "avana    av\n",
      "dtype: object\n",
      "ATTAATCCAGAGCTGCGGGA    avGuide1\n",
      "CCATGATTAATCCAGAGCTG    avGuide2\n",
      "GAGCTGATGGCTTCATACAT    avGuide3\n",
      "GATGGCTTCATACATCGGAT    avGuide4\n",
      "dtype: object\n",
      "RAMOS-311cas9-RepA-p6_Avana-4    avRep1\n",
      "RAMOS-311cas9-RepB-p6_Avana-4    avRep2\n",
      "dtype: object\n",
      "\tRFT1 (91869)\n",
      "Guide and replicate key for RFT1 (91869), ACH-001674:\n",
      "avana    av\n",
      "dtype: object\n",
      "CCCCACTGAGACATGCTCTG    avGuide1\n",
      "GCTTGTGCCAAGACCCAAAA    avGuide2\n",
      "GGAGGCTATGGGCAGCCAGG    avGuide3\n",
      "GGTGATTGCAGAGAGCCTGT    avGuide4\n",
      "dtype: object\n",
      "TGW-311Cas9-RepA-P6_Avana-4    avRep1\n",
      "TGW-311Cas9-RepB-P6_Avana-4    avRep2\n",
      "dtype: object\n",
      "Guide and replicate key for RFT1 (91869), ACH-001636:\n",
      "avana    av\n",
      "dtype: object\n",
      "CCCCACTGAGACATGCTCTG    avGuide1\n",
      "GCTTGTGCCAAGACCCAAAA    avGuide2\n",
      "GGAGGCTATGGGCAGCCAGG    avGuide3\n",
      "GGTGATTGCAGAGAGCCTGT    avGuide4\n",
      "dtype: object\n",
      "RAMOS-311cas9-RepA-p6_Avana-4    avRep1\n",
      "RAMOS-311cas9-RepB-p6_Avana-4    avRep2\n",
      "dtype: object\n",
      "\tSCFD1 (23256)\n",
      "Guide and replicate key for SCFD1 (23256), ACH-001129:\n",
      "avana    av\n",
      "dtype: object\n",
      "ACTAGAATCTTACAGAGCAC    avGuide1\n",
      "CTAGGATTTCCATTTAAACA    avGuide2\n",
      "GAAGTCTTATGATTTAACTC    avGuide3\n",
      "GGAGTGGAAAACTCTCCAGC    avGuide4\n",
      "dtype: object\n",
      "MONO-MAC1-311cas9_RepA_p6_Avana-3    avRep1\n",
      "MONO-MAC1-311cas9_RepB_p6_Avana-3    avRep2\n",
      "dtype: object\n",
      "Guide and replicate key for SCFD1 (23256), ACH-000074:\n",
      "avana    av\n",
      "dtype: object\n",
      "ACTAGAATCTTACAGAGCAC    avGuide1\n",
      "CTAGGATTTCCATTTAAACA    avGuide2\n",
      "GAAGTCTTATGATTTAACTC    avGuide3\n",
      "GGAGTGGAAAACTCTCCAGC    avGuide4\n",
      "dtype: object\n",
      "KU812-311cas9-RepA-p6_Avana-3    avRep1\n",
      "KU812-311cas9-RepB-p6_Avana-3    avRep2\n",
      "dtype: object\n",
      "\tLRIT2 (340745)\n",
      "Guide and replicate key for LRIT2 (340745), ACH-000004:\n",
      "avana    av\n",
      "dtype: object\n",
      "GCCAGGATGCACTTGCTCAG    avGuide1\n",
      "GGCCTGTGCCAAGCATCGCA    avGuide2\n",
      "GGCGACAGTCACATACCCAG    avGuide3\n",
      "GGTATGTGACTGTCGCCTAA    avGuide4\n",
      "dtype: object\n",
      "HEL-311Cas9_RepA_p4_Avana-3    avRep1\n",
      "HEL-311Cas9_RepB_p4_Avana-3    avRep2\n",
      "dtype: object\n",
      "Guide and replicate key for LRIT2 (340745), ACH-001129:\n",
      "avana    av\n",
      "dtype: object\n",
      "GCCAGGATGCACTTGCTCAG    avGuide1\n",
      "GGCCTGTGCCAAGCATCGCA    avGuide2\n",
      "GGCGACAGTCACATACCCAG    avGuide3\n",
      "GGTATGTGACTGTCGCCTAA    avGuide4\n",
      "dtype: object\n",
      "MONO-MAC1-311cas9_RepA_p6_Avana-3    avRep1\n",
      "MONO-MAC1-311cas9_RepB_p6_Avana-3    avRep2\n",
      "dtype: object\n",
      "\tRRP1 (8568)\n",
      "Guide and replicate key for RRP1 (8568), ACH-000993:\n",
      "avana    av\n",
      "dtype: object\n",
      "CCTTCTGCAGAATTGCTGCC    avGuide1\n",
      "CTTCATCGAGATCTTCCTGG    avGuide2\n",
      "GCAGGTGACCCGGGACCGGG    avGuide3\n",
      "GCGCCTGGATAAATTCTACA    avGuide4\n",
      "dtype: object\n",
      "JHUEM7-311Cas9_RepA_p5_Avana-3    avRep1\n",
      "JHUEM7-311Cas9_RepB_p5_Avana-3    avRep2\n",
      "dtype: object\n",
      "Guide and replicate key for RRP1 (8568), ACH-000750:\n",
      "avana    av\n",
      "dtype: object\n",
      "CCTTCTGCAGAATTGCTGCC    avGuide1\n",
      "CTTCATCGAGATCTTCCTGG    avGuide2\n",
      "GCAGGTGACCCGGGACCGGG    avGuide3\n",
      "GCGCCTGGATAAATTCTACA    avGuide4\n",
      "dtype: object\n",
      "LOXIMVI-311Cas9_RepA_p6_Avana-2    avRep1\n",
      "LOXIMVI-311Cas9_RepB_p6_Avana-2    avRep2\n",
      "dtype: object\n",
      "\tSSU72 (29101)\n",
      "Guide and replicate key for SSU72 (29101), ACH-001736:\n",
      "avana    av\n",
      "dtype: object\n",
      "GAAATAAGAGAATCAAGCCC    avGuide1\n",
      "GAGTCCCTGTTCCAAAGGAT    avGuide2\n",
      "GCGTCCGATCCTTTGGAACA    avGuide3\n",
      "TTCTGGAATCTTTCTGGCCG    avGuide4\n",
      "dtype: object\n",
      "HB11;19-311CAS9_RepA_p6_Avana-3    avRep1\n",
      "HB11;19-311CAS9_RepB_p6_Avana-3    avRep2\n",
      "dtype: object\n",
      "Guide and replicate key for SSU72 (29101), ACH-000168:\n",
      "avana    av\n",
      "dtype: object\n",
      "GAAATAAGAGAATCAAGCCC    avGuide1\n",
      "GAGTCCCTGTTCCAAAGGAT    avGuide2\n",
      "GCGTCCGATCCTTTGGAACA    avGuide3\n",
      "TTCTGGAATCTTTCTGGCCG    avGuide4\n",
      "dtype: object\n",
      "NOMO-1-311Cas9_RepA_p4_Avana-2    avRep1\n",
      "NOMO-1-311Cas9_RepB_p4_Avana-2    avRep2\n",
      "dtype: object\n",
      "\tTNPO3 (23534)\n",
      "Guide and replicate key for TNPO3 (23534), ACH-000935:\n",
      "avana    av\n",
      "dtype: object\n",
      "CCAGTTGTTACAGATCCGGC    avGuide1\n",
      "GACTGCCTATCATATGGCCG    avGuide2\n",
      "TACCACGACCCAGATCCCAG    avGuide3\n",
      "TTACATGGTCTGGTTCCAGC    avGuide4\n",
      "dtype: object\n",
      "MDST8-311Cas9 Rep A p6_Avana-3    avRep1\n",
      "MDST8-311Cas9 Rep C p6_Avana-3    avRep2\n",
      "MDST8-311Cas9 Rep D p6_Avana-3    avRep3\n",
      "dtype: object\n",
      "Guide and replicate key for TNPO3 (23534), ACH-000527:\n",
      "avana    av\n",
      "dtype: object\n",
      "CCAGTTGTTACAGATCCGGC    avGuide1\n",
      "GACTGCCTATCATATGGCCG    avGuide2\n",
      "TACCACGACCCAGATCCCAG    avGuide3\n",
      "TTACATGGTCTGGTTCCAGC    avGuide4\n",
      "dtype: object\n",
      "OVISE-311cas9 Rep A p6_Avana-2    avRep1\n",
      "OVISE-311cas9 Rep B p6_Avana-2    avRep2\n",
      "OVISE-311cas9 Rep C p6_Avana-2    avRep3\n",
      "dtype: object\n",
      "\tPRDM1 (639)\n",
      "Guide and replicate key for PRDM1 (639), ACH-000183:\n",
      "avana    av\n",
      "dtype: object\n",
      "CTTGAACGCGTCCTACGGCA    avGuide1\n",
      "GGATGGGGTAAACGACCCGA    avGuide2\n",
      "TTACAATTCATGCCGTAGGG    avGuide3\n",
      "TTGGACAGATCTATTCCAGA    avGuide4\n",
      "dtype: object\n",
      "L363-311Cas9_RepA_p6_Avana-3    avRep1\n",
      "L363-311Cas9_RepB_p6_Avana-3    avRep2\n",
      "dtype: object\n",
      "Guide and replicate key for PRDM1 (639), ACH-000479:\n",
      "avana    av\n",
      "dtype: object\n",
      "CTTGAACGCGTCCTACGGCA    avGuide1\n",
      "GGATGGGGTAAACGACCCGA    avGuide2\n",
      "TTACAATTCATGCCGTAGGG    avGuide3\n",
      "TTGGACAGATCTATTCCAGA    avGuide4\n",
      "dtype: object\n",
      "KNS-81-311cas9_RepA_p5_Avana-3    avRep1\n",
      "KNS-81-311cas9_RepB_p5_Avana-3    avRep2\n",
      "dtype: object\n",
      "\tBTK (695)\n",
      "Guide and replicate key for BTK (695), ACH-001533:\n",
      "avana    av\n",
      "dtype: object\n",
      "AATGATCTACAGCTGCGGAA    avGuide1\n",
      "ATAGTAGGAGAGTTTGTGCA    avGuide2\n",
      "CTGTGTTTGCTAAATCCACA    avGuide3\n",
      "GATGCTCTCCAGAATCACTG    avGuide4\n",
      "dtype: object\n",
      "KARPAS1718-311cas9-RepA-p6_Avana-4    avRep1\n",
      "KARPAS1718-311cas9-RepB-p6_Avana-4    avRep2\n",
      "dtype: object\n",
      "Guide and replicate key for BTK (695), ACH-000183:\n",
      "avana    av\n",
      "dtype: object\n",
      "AATGATCTACAGCTGCGGAA    avGuide1\n",
      "ATAGTAGGAGAGTTTGTGCA    avGuide2\n",
      "CTGTGTTTGCTAAATCCACA    avGuide3\n",
      "GATGCTCTCCAGAATCACTG    avGuide4\n",
      "dtype: object\n",
      "L363-311Cas9_RepA_p6_Avana-3    avRep1\n",
      "L363-311Cas9_RepB_p6_Avana-3    avRep2\n",
      "dtype: object\n",
      "building report\n"
     ]
    }
   ],
   "source": [
    "metrics = reports.dataset_qc_report(\"ChronosAvana\", savedir, \n",
    "                          common_essentials, nonessentials,\n",
    "                          gof_matrix_base, addiction_expressions,\n",
    "                          cn, directory=\"Data/reports\",\n",
    "                          gene_effect_file=\"gene_effect_corrected.hdf5\"\n",
    "                         )"
   ]
  },
  {
   "cell_type": "markdown",
   "metadata": {},
   "source": [
    "## Identifying Hits"
   ]
  },
  {
   "cell_type": "markdown",
   "metadata": {},
   "source": [
    "## Identifying Hits"
   ]
  },
  {
   "cell_type": "markdown",
   "metadata": {},
   "source": [
    "You may be interested in getting a list of genes that are true dependencies in your screen. Chronos provides two methods to do this:\n",
    "\n",
    "- Given a set of negative control genes (or a boolean matrix of individual genes within specific cell lines that are negative controls, such as a matrix of unexpressed genes), Chronos can compute empirical p-values for the null hypothesis that the KO had no viability effect against the alternative hypothesis that it caused loss of viability\n",
    "-  Given a set of positive and negative control genes, Chronos can estimate the probability that a given gene effect score came from the distribution of positive controls vs negative controls. If the controls are representative of essential/nonessential genes, then the probability tells you how likely it is that a given score represents an essential gene for that cell line. \n",
    "\n",
    "To get an unbiased estimate, is important not to use CRISPR results from the same library to choose or refine the control sets. We want the scores for the gene sets to capture any bias or artifacts present in CRISPR."
   ]
  },
  {
   "cell_type": "code",
   "execution_count": 40,
   "metadata": {},
   "outputs": [],
   "source": [
    "from chronos.hit_calling import get_probability_dependent, get_pvalue_dependent"
   ]
  },
  {
   "cell_type": "markdown",
   "metadata": {},
   "source": [
    "**Note**: you should see UserWarnings with the following two cells that some negative/positive controls are missing from gene effect - this is expected. You should only worry about this warning if you expect all the controls to be present in your library."
   ]
  },
  {
   "cell_type": "code",
   "execution_count": 46,
   "metadata": {},
   "outputs": [
    {
     "name": "stderr",
     "output_type": "stream",
     "text": [
      "/Users/dempster/packages/chronos_public/chronos/hit_calling.py:1335: UserWarning: Not all negative_controls found in the gene effect columns: ['KRTAP10-4 (386672)', 'KRTAP10-12 (386685)', 'OR3A3 (8392)', 'DEFB104A (140596)', 'S100A7A (338324)']\n",
      "  warn(\"Not all %s found in the gene effect columns: %r\" % (label, missing[:5]))\n"
     ]
    }
   ],
   "source": [
    "# Expect a warning!\n",
    "pvalues = get_pvalue_dependent(corrected, nonessentials)"
   ]
  },
  {
   "cell_type": "code",
   "execution_count": 47,
   "metadata": {},
   "outputs": [
    {
     "name": "stderr",
     "output_type": "stream",
     "text": [
      "/Users/dempster/packages/chronos_public/chronos/hit_calling.py:1335: UserWarning: Not all positive controls found in the gene effect columns: ['WDR70 (55100)', 'RPL7L1 (285855)', 'RPL23A (6147)']\n",
      "  warn(\"Not all %s found in the gene effect columns: %r\" % (label, missing[:5]))\n",
      "/Users/dempster/packages/chronos_public/chronos/hit_calling.py:1335: UserWarning: Not all negative controls found in the gene effect columns: ['KRTAP10-4 (386672)', 'KRTAP10-12 (386685)', 'OR3A3 (8392)', 'DEFB104A (140596)', 'S100A7A (338324)']\n",
      "  warn(\"Not all %s found in the gene effect columns: %r\" % (label, missing[:5]))\n",
      "100%|██████████████████████████████████████████████████████████████████████| 44/44 [00:00<00:00, 267.57it/s]\n"
     ]
    }
   ],
   "source": [
    "# Expect a warning!\n",
    "probabilities = get_probability_dependent(corrected, nonessentials, common_essentials)"
   ]
  },
  {
   "cell_type": "markdown",
   "metadata": {},
   "source": [
    "Each of these has advantages and disadvantages for hit-calling. The probability of dependency is highly dependent on choosing a set of positive controls that accurately capture the distribution of gene-loss-driven depleting phenotypes in your screen. Too stringent a list will cause underestimates, while too loose a list will lead to failure control false discovery. The inverse is true of the negative controls, but it is often possible to identify a very rigorous and representative set of negative controls using unexpressed genes. You should plot the distributions of all your gene effect scores, your negative controls, and your positive controls to see if the positive controls really do represent the left tail:"
   ]
  },
  {
   "cell_type": "code",
   "execution_count": 43,
   "metadata": {},
   "outputs": [
    {
     "data": {
      "text/plain": [
       "Text(0.5, 0, 'Gene Effect')"
      ]
     },
     "execution_count": 43,
     "metadata": {},
     "output_type": "execute_result"
    },
    {
     "data": {
      "image/png": "[encoded data removed]",
      "text/plain": [
       "<Figure size 1280x960 with 1 Axes>"
      ]
     },
     "metadata": {},
     "output_type": "display_data"
    }
   ],
   "source": [
    "sns.kdeplot(np.ravel(corrected), label=\"All genes\", color=\"green\")\n",
    "sns.kdeplot(np.ravel(corrected.reindex(columns=common_essentials)), label=\"Positive controls\", color=\"red\", fill=True)\n",
    "sns.kdeplot(np.ravel(corrected.reindex(columns=nonessentials)), label=\"Negative controls\", color=\"blue\", fill=True)\n",
    "plt.legend()\n",
    "plt.xlabel(\"Gene Effect\")"
   ]
  },
  {
   "cell_type": "markdown",
   "metadata": {},
   "source": [
    "On the other hand, the power of the empirical p-values will be strictly limited by the number of negative controls. In fact, the minimum possible _p_ that can be achieved is 1 / len(negative_controls). This is likely to be an issue in a subgenome library. Below, we see the effect of this cap on significance:"
   ]
  },
  {
   "cell_type": "code",
   "execution_count": 48,
   "metadata": {},
   "outputs": [
    {
     "data": {
      "text/plain": [
       "Text(0, 0.5, '-Log10 P')"
      ]
     },
     "execution_count": 48,
     "metadata": {},
     "output_type": "execute_result"
    },
    {
     "data": {
      "image/png": "[encoded data removed]",
      "text/plain": [
       "<Figure size 2400x1000 with 2 Axes>"
      ]
     },
     "metadata": {},
     "output_type": "display_data"
    }
   ],
   "source": [
    "fig, axes = plt.subplots(1, 2, figsize=(12, 5))\n",
    "\n",
    "plt.sca(axes[0])\n",
    "for ind in probabilities.index:\n",
    "    plt.scatter(corrected.loc[ind], probabilities.loc[ind], s=5, alpha=.7, linewidth=.5, label=ind)\n",
    "plt.legend(fontsize=4, loc=\"lower left\")\n",
    "plt.xlabel(\"Gene Effect Estimate\")\n",
    "plt.ylabel(\"Probability of Dependency\")\n",
    "\n",
    "plt.sca(axes[1])\n",
    "for ind in pvalues.index:\n",
    "    plt.scatter(corrected.loc[ind], -np.log10(pvalues.loc[ind]), s=5, alpha=.7, linewidth=.5, label=ind)\n",
    "plt.xlabel(\"Gene Effect Estimate\")\n",
    "plt.ylabel(\"-Log10 P\")"
   ]
  },
  {
   "cell_type": "markdown",
   "metadata": {},
   "source": [
    "We can make a roughly head-to-head comparison of discoveries from the two methods by estimating a false discovery rate using each. Using p-values for many hypotheses, false discovery is typically controlled with the Benjamini-Hochberg procedure. This is a frequentist FDR. In contrast, using probabilities of dependency, we can directly estimate the Bayesian FDR: the number of true discoveries below a threshold is just the sum of the probabilities of dependency. See https://arxiv.org/pdf/1803.05284.pdf for a discussion of frequentist and Bayesian false discovery."
   ]
  },
  {
   "cell_type": "code",
   "execution_count": 49,
   "metadata": {},
   "outputs": [],
   "source": [
    "from chronos.hit_calling import get_fdr_from_probabilities, get_fdr_from_pvalues\n",
    "fdr_from_probabilities = get_fdr_from_probabilities(probabilities)\n",
    "fdr_from_pvalues = get_fdr_from_pvalues(pvalues)"
   ]
  },
  {
   "cell_type": "markdown",
   "metadata": {},
   "source": [
    "We'll do a quick, nonrigorous calibration check, considering only the control sets:"
   ]
  },
  {
   "cell_type": "code",
   "execution_count": 50,
   "metadata": {},
   "outputs": [],
   "source": [
    "def calibration_check(fdr, positive_controls, negative_controls):\n",
    "    controls_only = fdr\\\n",
    "    .reindex(columns=list(positive_controls) + list(negative_controls))\\\n",
    "    .dropna(axis=1)\n",
    "\n",
    "    is_essential = pd.DataFrame(\n",
    "        np.repeat(\n",
    "            controls_only.columns.isin(positive_controls).reshape(1, -1), \n",
    "            len(controls_only), axis=0\n",
    "        ),\n",
    "       index=controls_only.index,\n",
    "        columns=controls_only.columns\n",
    "    )\n",
    "    \n",
    "    calibration = pd.DataFrame({\n",
    "        \"FDR\": np.ravel(controls_only),\n",
    "        \"IsTrue\": np.ravel(is_essential)\n",
    "    }).sort_values(\"FDR\")\n",
    "    calibration[\"ProportionFalse\"] = np.cumsum(~calibration.IsTrue) / np.arange(1, len(calibration)+1)\n",
    "    \n",
    "    return calibration"
   ]
  },
  {
   "cell_type": "code",
   "execution_count": 51,
   "metadata": {},
   "outputs": [],
   "source": [
    "calibration_probabilities = calibration_check(fdr_from_probabilities, common_essentials, nonessentials)\n",
    "calibration_pvalues = calibration_check(fdr_from_pvalues, common_essentials, nonessentials)"
   ]
  },
  {
   "cell_type": "code",
   "execution_count": 52,
   "metadata": {},
   "outputs": [
    {
     "data": {
      "text/plain": [
       "<matplotlib.legend.Legend at 0x390838e30>"
      ]
     },
     "execution_count": 52,
     "metadata": {},
     "output_type": "execute_result"
    },
    {
     "data": {
      "image/png": "[encoded data removed]",
      "text/plain": [
       "<Figure size 1280x960 with 1 Axes>"
      ]
     },
     "metadata": {},
     "output_type": "display_data"
    }
   ],
   "source": [
    "plt.plot(\n",
    "    calibration_probabilities[\"ProportionFalse\"],\n",
    "    calibration_probabilities[\"FDR\"],\n",
    "    label=\"Using Probabilities (Bayesian)\"\n",
    ")\n",
    "\n",
    "plt.plot(\n",
    "    calibration_pvalues[\"ProportionFalse\"],\n",
    "    calibration_pvalues[\"FDR\"],\n",
    "    '--', \n",
    "    label=\"Using P-values (Frequentist)\"\n",
    ")\n",
    "\n",
    "max_fdr = calibration_probabilities.ProportionFalse.max()\n",
    "plt.plot([0, max_fdr], [0, max_fdr], '-.', color=\"black\", label=\"Perfect Calibration\")\n",
    "\n",
    "plt.ylabel(\"Estimated FDR\")\n",
    "plt.xlabel(\"True FDR\")\n",
    "plt.legend()"
   ]
  },
  {
   "attachments": {},
   "cell_type": "markdown",
   "metadata": {},
   "source": [
    "We can see that both estimates of FDR are conservative, which is surely preferable to being optimistic. This may be partly due to the presence of the noncontrol genes in the full data, which have a lower proportion of true dependencies than the controls and affect the FDR estimates in the controls. The probability based method has an unfair advantage as it as seen the same set of positive controls as well as the negative controls. To be truly rigorous we would need to split the controls used in training and in evaluating calibration, and run Chronos without any non-control genes. "
   ]
  },
  {
   "cell_type": "markdown",
   "metadata": {},
   "source": [
    "We should also note that having a large number of true dependencies our test library improves the apparent performance of the frequentist method, because it allows values to remain significant after the BH procedure. In a setting with few true dependencies, the frequentist method may become severely underpowered."
   ]
  },
  {
   "cell_type": "markdown",
   "metadata": {},
   "source": [
    "Summing up: using `get_probability_dependent` is more powerful, and especially so in the case of subgenome libraries with limited negative control sets and a modest proportion of true hits. However, it requires correctly specifying the positive control distribution by identifying _representative_ positive control genes independently from your screening data (ideally, independent of any CRISPR data). "
   ]
  },
  {
   "cell_type": "markdown",
   "metadata": {},
   "source": [
    "## Comparing a Screen in Two Conditions"
   ]
  },
  {
   "cell_type": "markdown",
   "metadata": {},
   "source": [
    "### Data Format for Comparing Conditions"
   ]
  },
  {
   "cell_type": "markdown",
   "metadata": {},
   "source": [
    "A common use case for comparing screens is the anchor screen, in which the same model is screened in two different conditions. In [DeWeirdt et al.](https://doi.org/10.1038%2Fs41467-020-14620-6) (2020), the Meljuso, OVCAR8, and A375 cell lines were screened using either small molecule inhibitors or S. Aureus knockouts of BCL2L1, MCL1, and PARP/PARP1 in combination with the Brunello genome-wide library. A subset of their screens with the BCL2L1 inhibitor A-1331852 is loaded below."
   ]
  },
  {
   "cell_type": "code",
   "execution_count": 55,
   "metadata": {},
   "outputs": [],
   "source": [
    "deweird_readcounts = chronos.read_hdf5(\"Data/SampleData/DeWeirdtReadcounts.hdf5\")\n",
    "\n",
    "deweirdt_condition_map = pd.read_csv(\"Data/SampleData/DeWeirdtConditionMap.csv\")\n",
    "\n",
    "deweirdt_guide_map = pd.read_csv(\"Data/SampleData/DeWeirdtGuideMap.csv\")\n",
    "\n",
    "deweirdt_negative_controls = deweirdt_guide_map.sgrna[\n",
    "    deweirdt_guide_map.gene.isin([s.split(' ')[0] for s in nonessentials])\n",
    "]"
   ]
  },
  {
   "cell_type": "markdown",
   "metadata": {},
   "source": [
    "The readcounts and guide maps are formatted just like the Avana data above. The condition map is very similar to a sequence map, but requires two additional columns: `\"replicate\"` and `\"condition\"`. __Different replicates should be biologically independent__, ideally independently library-transfected cell populations. Different sequences of the same replicate should be assigned the same replicate name."
   ]
  },
  {
   "cell_type": "code",
   "execution_count": 56,
   "metadata": {},
   "outputs": [
    {
     "data": {
      "text/html": [
       "<div>\n",
       "<style scoped>\n",
       "    .dataframe tbody tr th:only-of-type {\n",
       "        vertical-align: middle;\n",
       "    }\n",
       "\n",
       "    .dataframe tbody tr th {\n",
       "        vertical-align: top;\n",
       "    }\n",
       "\n",
       "    .dataframe thead th {\n",
       "        text-align: right;\n",
       "    }\n",
       "</style>\n",
       "<table border=\"1\" class=\"dataframe\">\n",
       "  <thead>\n",
       "    <tr style=\"text-align: right;\">\n",
       "      <th></th>\n",
       "      <th>sequence_ID</th>\n",
       "      <th>replicate</th>\n",
       "      <th>cell_line_name</th>\n",
       "      <th>days</th>\n",
       "      <th>pDNA_batch</th>\n",
       "      <th>condition</th>\n",
       "    </tr>\n",
       "  </thead>\n",
       "  <tbody>\n",
       "    <tr>\n",
       "      <th>0</th>\n",
       "      <td>pDNA</td>\n",
       "      <td>pDNA</td>\n",
       "      <td>pDNA</td>\n",
       "      <td>21</td>\n",
       "      <td>batch1</td>\n",
       "      <td>pDNA</td>\n",
       "    </tr>\n",
       "    <tr>\n",
       "      <th>1</th>\n",
       "      <td>Meljuso</td>\n",
       "      <td>RepA</td>\n",
       "      <td>Meljuso</td>\n",
       "      <td>21</td>\n",
       "      <td>batch1</td>\n",
       "      <td>Control</td>\n",
       "    </tr>\n",
       "    <tr>\n",
       "      <th>2</th>\n",
       "      <td>Meljuso.1</td>\n",
       "      <td>RepB</td>\n",
       "      <td>Meljuso</td>\n",
       "      <td>21</td>\n",
       "      <td>batch1</td>\n",
       "      <td>Control</td>\n",
       "    </tr>\n",
       "    <tr>\n",
       "      <th>3</th>\n",
       "      <td>Meljuso.2</td>\n",
       "      <td>RepA</td>\n",
       "      <td>Meljuso</td>\n",
       "      <td>21</td>\n",
       "      <td>batch1</td>\n",
       "      <td>A-1331852</td>\n",
       "    </tr>\n",
       "    <tr>\n",
       "      <th>4</th>\n",
       "      <td>Meljuso.3</td>\n",
       "      <td>RepB</td>\n",
       "      <td>Meljuso</td>\n",
       "      <td>21</td>\n",
       "      <td>batch1</td>\n",
       "      <td>A-1331852</td>\n",
       "    </tr>\n",
       "    <tr>\n",
       "      <th>5</th>\n",
       "      <td>OVCAR8</td>\n",
       "      <td>RepA</td>\n",
       "      <td>OVCAR8</td>\n",
       "      <td>21</td>\n",
       "      <td>batch1</td>\n",
       "      <td>Control</td>\n",
       "    </tr>\n",
       "    <tr>\n",
       "      <th>6</th>\n",
       "      <td>OVCAR8.1</td>\n",
       "      <td>RepB</td>\n",
       "      <td>OVCAR8</td>\n",
       "      <td>21</td>\n",
       "      <td>batch1</td>\n",
       "      <td>Control</td>\n",
       "    </tr>\n",
       "    <tr>\n",
       "      <th>7</th>\n",
       "      <td>OVCAR8.2</td>\n",
       "      <td>RepA</td>\n",
       "      <td>OVCAR8</td>\n",
       "      <td>21</td>\n",
       "      <td>batch1</td>\n",
       "      <td>A-1331852</td>\n",
       "    </tr>\n",
       "    <tr>\n",
       "      <th>8</th>\n",
       "      <td>OVCAR8.3</td>\n",
       "      <td>RepB</td>\n",
       "      <td>OVCAR8</td>\n",
       "      <td>21</td>\n",
       "      <td>batch1</td>\n",
       "      <td>A-1331852</td>\n",
       "    </tr>\n",
       "  </tbody>\n",
       "</table>\n",
       "</div>"
      ],
      "text/plain": [
       "  sequence_ID replicate cell_line_name  days pDNA_batch  condition\n",
       "0        pDNA      pDNA           pDNA    21     batch1       pDNA\n",
       "1     Meljuso      RepA        Meljuso    21     batch1    Control\n",
       "2   Meljuso.1      RepB        Meljuso    21     batch1    Control\n",
       "3   Meljuso.2      RepA        Meljuso    21     batch1  A-1331852\n",
       "4   Meljuso.3      RepB        Meljuso    21     batch1  A-1331852\n",
       "5      OVCAR8      RepA         OVCAR8    21     batch1    Control\n",
       "6    OVCAR8.1      RepB         OVCAR8    21     batch1    Control\n",
       "7    OVCAR8.2      RepA         OVCAR8    21     batch1  A-1331852\n",
       "8    OVCAR8.3      RepB         OVCAR8    21     batch1  A-1331852"
      ]
     },
     "execution_count": 56,
     "metadata": {},
     "output_type": "execute_result"
    }
   ],
   "source": [
    "deweirdt_condition_map"
   ]
  },
  {
   "cell_type": "markdown",
   "metadata": {},
   "source": [
    "Any cell line with less than two unique replicates in each of the two conditions being compared will not be evaluated."
   ]
  },
  {
   "cell_type": "markdown",
   "metadata": {},
   "source": [
    "It is important when running the comparison to first normalize the readcounts and `nan_outgrowths`. Otherwise, outliers that occur in single replicates will produce excessive noise that will reduce statistical power."
   ]
  },
  {
   "cell_type": "code",
   "execution_count": 57,
   "metadata": {},
   "outputs": [],
   "source": [
    "deweirdt_normed = chronos.normalize_readcounts(deweird_readcounts, deweirdt_negative_controls, deweirdt_condition_map)"
   ]
  },
  {
   "cell_type": "code",
   "execution_count": 58,
   "metadata": {},
   "outputs": [
    {
     "name": "stdout",
     "output_type": "stream",
     "text": [
      "calculating LFC\n",
      "stacking and annotating LFC\n",
      "finding group boundaries\n",
      "removing cases with only one guide and replicate\n",
      "finding maximal values\n",
      "making mask\n",
      "found 13 outgrowths, 2.3E-05 of the total\n",
      "pivoting mask\n",
      "aligning_mask\n",
      "NaNing\n"
     ]
    }
   ],
   "source": [
    "chronos.nan_outgrowths(deweirdt_normed, deweirdt_condition_map, deweirdt_guide_map, rpm_normalize=False)"
   ]
  },
  {
   "cell_type": "markdown",
   "metadata": {},
   "source": [
    "### Training with Conditions Distinguished"
   ]
  },
  {
   "cell_type": "markdown",
   "metadata": {},
   "source": [
    "To understand how `ChronosComparison` works, it helps to first manually create a model with conditions distinguished. First, we create a sequence map that distinguishes conditions. We'll compare \"Control\" and \"A-1331852\". The function `create_condition_map` creates the map, while the function `filter_sequence_map_by_condition` restricts the sequences considered to those matching one of the designated conditions and to cell lines with at least two unique replicates in each batch. It also will trim the number of replicates considered so that there is an even and equal number in each condition for each the cell line."
   ]
  },
  {
   "cell_type": "code",
   "execution_count": 59,
   "metadata": {},
   "outputs": [],
   "source": [
    "from chronos.hit_calling import filter_sequence_map_by_condition, create_condition_sequence_map\n",
    "\n",
    "condition_pair = (\"Control\", \"A-1331852\")\n",
    "distinguished_map = create_condition_sequence_map(\n",
    "    filter_sequence_map_by_condition(deweirdt_condition_map, condition_pair),\n",
    "    condition_pair\n",
    ")\n",
    "    "
   ]
  },
  {
   "cell_type": "code",
   "execution_count": 60,
   "metadata": {},
   "outputs": [
    {
     "data": {
      "text/html": [
       "<div>\n",
       "<style scoped>\n",
       "    .dataframe tbody tr th:only-of-type {\n",
       "        vertical-align: middle;\n",
       "    }\n",
       "\n",
       "    .dataframe tbody tr th {\n",
       "        vertical-align: top;\n",
       "    }\n",
       "\n",
       "    .dataframe thead th {\n",
       "        text-align: right;\n",
       "    }\n",
       "</style>\n",
       "<table border=\"1\" class=\"dataframe\">\n",
       "  <thead>\n",
       "    <tr style=\"text-align: right;\">\n",
       "      <th></th>\n",
       "      <th>sequence_ID</th>\n",
       "      <th>replicate</th>\n",
       "      <th>cell_line_name</th>\n",
       "      <th>days</th>\n",
       "      <th>pDNA_batch</th>\n",
       "      <th>condition</th>\n",
       "      <th>true_cell_line_name</th>\n",
       "    </tr>\n",
       "  </thead>\n",
       "  <tbody>\n",
       "    <tr>\n",
       "      <th>0</th>\n",
       "      <td>pDNA</td>\n",
       "      <td>pDNA</td>\n",
       "      <td>pDNA</td>\n",
       "      <td>21</td>\n",
       "      <td>batch1</td>\n",
       "      <td>pDNA</td>\n",
       "      <td>pDNA</td>\n",
       "    </tr>\n",
       "    <tr>\n",
       "      <th>1</th>\n",
       "      <td>Meljuso</td>\n",
       "      <td>RepA</td>\n",
       "      <td>Meljuso__in__Control</td>\n",
       "      <td>21</td>\n",
       "      <td>batch1</td>\n",
       "      <td>Control</td>\n",
       "      <td>Meljuso</td>\n",
       "    </tr>\n",
       "    <tr>\n",
       "      <th>2</th>\n",
       "      <td>Meljuso.1</td>\n",
       "      <td>RepB</td>\n",
       "      <td>Meljuso__in__Control</td>\n",
       "      <td>21</td>\n",
       "      <td>batch1</td>\n",
       "      <td>Control</td>\n",
       "      <td>Meljuso</td>\n",
       "    </tr>\n",
       "    <tr>\n",
       "      <th>3</th>\n",
       "      <td>Meljuso.2</td>\n",
       "      <td>RepA</td>\n",
       "      <td>Meljuso__in__A-1331852</td>\n",
       "      <td>21</td>\n",
       "      <td>batch1</td>\n",
       "      <td>A-1331852</td>\n",
       "      <td>Meljuso</td>\n",
       "    </tr>\n",
       "    <tr>\n",
       "      <th>4</th>\n",
       "      <td>Meljuso.3</td>\n",
       "      <td>RepB</td>\n",
       "      <td>Meljuso__in__A-1331852</td>\n",
       "      <td>21</td>\n",
       "      <td>batch1</td>\n",
       "      <td>A-1331852</td>\n",
       "      <td>Meljuso</td>\n",
       "    </tr>\n",
       "    <tr>\n",
       "      <th>5</th>\n",
       "      <td>OVCAR8</td>\n",
       "      <td>RepA</td>\n",
       "      <td>OVCAR8__in__Control</td>\n",
       "      <td>21</td>\n",
       "      <td>batch1</td>\n",
       "      <td>Control</td>\n",
       "      <td>OVCAR8</td>\n",
       "    </tr>\n",
       "    <tr>\n",
       "      <th>6</th>\n",
       "      <td>OVCAR8.1</td>\n",
       "      <td>RepB</td>\n",
       "      <td>OVCAR8__in__Control</td>\n",
       "      <td>21</td>\n",
       "      <td>batch1</td>\n",
       "      <td>Control</td>\n",
       "      <td>OVCAR8</td>\n",
       "    </tr>\n",
       "    <tr>\n",
       "      <th>7</th>\n",
       "      <td>OVCAR8.2</td>\n",
       "      <td>RepA</td>\n",
       "      <td>OVCAR8__in__A-1331852</td>\n",
       "      <td>21</td>\n",
       "      <td>batch1</td>\n",
       "      <td>A-1331852</td>\n",
       "      <td>OVCAR8</td>\n",
       "    </tr>\n",
       "    <tr>\n",
       "      <th>8</th>\n",
       "      <td>OVCAR8.3</td>\n",
       "      <td>RepB</td>\n",
       "      <td>OVCAR8__in__A-1331852</td>\n",
       "      <td>21</td>\n",
       "      <td>batch1</td>\n",
       "      <td>A-1331852</td>\n",
       "      <td>OVCAR8</td>\n",
       "    </tr>\n",
       "  </tbody>\n",
       "</table>\n",
       "</div>"
      ],
      "text/plain": [
       "  sequence_ID replicate          cell_line_name  days pDNA_batch  condition  \\\n",
       "0        pDNA      pDNA                    pDNA    21     batch1       pDNA   \n",
       "1     Meljuso      RepA    Meljuso__in__Control    21     batch1    Control   \n",
       "2   Meljuso.1      RepB    Meljuso__in__Control    21     batch1    Control   \n",
       "3   Meljuso.2      RepA  Meljuso__in__A-1331852    21     batch1  A-1331852   \n",
       "4   Meljuso.3      RepB  Meljuso__in__A-1331852    21     batch1  A-1331852   \n",
       "5      OVCAR8      RepA     OVCAR8__in__Control    21     batch1    Control   \n",
       "6    OVCAR8.1      RepB     OVCAR8__in__Control    21     batch1    Control   \n",
       "7    OVCAR8.2      RepA   OVCAR8__in__A-1331852    21     batch1  A-1331852   \n",
       "8    OVCAR8.3      RepB   OVCAR8__in__A-1331852    21     batch1  A-1331852   \n",
       "\n",
       "  true_cell_line_name  \n",
       "0                pDNA  \n",
       "1             Meljuso  \n",
       "2             Meljuso  \n",
       "3             Meljuso  \n",
       "4             Meljuso  \n",
       "5              OVCAR8  \n",
       "6              OVCAR8  \n",
       "7              OVCAR8  \n",
       "8              OVCAR8  "
      ]
     },
     "execution_count": 60,
     "metadata": {},
     "output_type": "execute_result"
    }
   ],
   "source": [
    "distinguished_map"
   ]
  },
  {
   "cell_type": "markdown",
   "metadata": {},
   "source": [
    "Notice that the `\"cell_line_name\"` column has been overwritten in the format \"<cell_line>__in__<condition>\". When we train Chronos, we'll get an individual assessment of each gene's effect in each cell line in each condition. The new column `\"true_cell_line_name\"` exists for convenience.\n",
    "\n",
    "Running Chronos works just like before:"
   ]
  },
  {
   "cell_type": "code",
   "execution_count": 61,
   "metadata": {
    "scrolled": true
   },
   "outputs": [
    {
     "name": "stdout",
     "output_type": "stream",
     "text": [
      "normalizing readcounts\n",
      "\n",
      "\n",
      "Finding all unique guides and genes\n",
      "found 71848 unique guides and 18238 unique genes in brunello\n",
      "found 71848 unique guides and 18238 unique genes overall\n",
      "\n",
      "finding guide-gene mapping indices\n",
      "\n",
      "finding all unique sequenced replicates, cell lines, and pDNA batches\n",
      "found 8 unique sequences (excluding pDNA), 8 unique replicates, and 4 unique cell lines in brunello\n",
      "found 8 unique late time points and 4 unique cell lines overall\n",
      "\n",
      "finding sequence-cell line mappings indices\n",
      "\n",
      "finding replicate mappings indices\n",
      "\n",
      "finding late time point-pDNA mappings indices\n",
      "\n",
      "\n",
      "assigning float constants\n",
      "Estimating or aligning variances\n",
      "\tEstimating excess variance (alpha) for brunello\n",
      "Creating excess variance tensors\n",
      "\tCreated excess variance tensor for brunello with shape [8, 1]\n",
      "initializing graph\n",
      "\n",
      "building gene effect mask\n",
      "\n",
      "building doubling vectors\n",
      "made days vector of shape [8, 1] for brunello\n",
      "\n",
      "building late observed timepoints\n",
      "\tbuilt normalized timepoints for brunello with shape (8, 71848) (replicates X guides)\n",
      "\n",
      "building t0 reads\n",
      "\n",
      "\n",
      "Building variables\n",
      "\n",
      "building t0 reads estimate\n",
      "made t0 batch with shape (1, 71848) for brunello\n",
      "building guide efficacy\n",
      "built guide efficacy: shape [1, 71849]\n",
      "building growth rate\n",
      "built growth rate: shape {'brunello': [8, 1]}\n",
      "\n",
      "building replicate efficacy\n",
      "built replicate efficacy: shapes {'brunello': [8, 1]}\n",
      "building screen delay\n",
      "built screen delay\n",
      "building gene effect\n",
      "built core gene effect: 4 cell lines by 18238 genes\n",
      "\n",
      "\n",
      "Connecting graph nodes in model\n",
      "\n",
      "building effective days\n",
      "built effective days, shapes {'brunello': [8, 18238]}\n",
      "\n",
      "building gene effect growth graph nodes\n",
      "built gene effect growth graph nodes, shapes {'brunello': [8, 18238]}\n",
      "\n",
      "building combined efficacy\n",
      "built combined efficacy, shape {'brunello': [8, 71848]}\n",
      "built expanded combined efficacy, shapes {'brunello': [8, 71848]}\n",
      "\n",
      "building growth estimates of edited cells and overall estimates of fold change in guide abundance\n",
      "built growth and change\n",
      "\n",
      "building unnormalized estimates of final abundance\n",
      "built unnormalized abundance\n",
      "\n",
      "building normalized estimates of final abundance\n",
      "built normalized abundance\n",
      "initializing precost variables\n",
      "\n",
      "\n",
      "Building all costs\n",
      "\n",
      "assembling guide efficacy regularization\n",
      "building smoothed regularization\n",
      "\n",
      "building t0 reads regularization/cost\n",
      "\n",
      "building NB2 cost\n"
     ]
    },
    {
     "name": "stderr",
     "output_type": "stream",
     "text": [
      "2025-05-12 12:53:35.193920: W tensorflow/c/c_api.cc:305] Operation '{name:'excess_variance_2/brunello/Assign' id:6159 op device:{requested: '', assigned: ''} def:{{{node excess_variance_2/brunello/Assign}} = AssignVariableOp[_has_manual_control_dependencies=true, dtype=DT_DOUBLE, validate_shape=false](excess_variance_2/brunello, excess_variance_2/brunello/Initializer/initial_value)}}' was changed by setting attribute after it was run by a session. This mutation will have no effect, and will trigger an error in the future. Either don't modify nodes after running them or create a new session.\n"
     ]
    },
    {
     "name": "stdout",
     "output_type": "stream",
     "text": [
      "building other regularizations\n",
      "\n",
      "Creating optimizer\n",
      "initializing rest of graph\n"
     ]
    },
    {
     "name": "stderr",
     "output_type": "stream",
     "text": [
      "2025-05-12 12:53:35.863640: W tensorflow/c/c_api.cc:305] Operation '{name:'GE_2/library_effect/brunello/Assign' id:6273 op device:{requested: '', assigned: ''} def:{{{node GE_2/library_effect/brunello/Assign}} = AssignVariableOp[_has_manual_control_dependencies=true, dtype=DT_DOUBLE, validate_shape=false](GE_2/library_effect/brunello, GE_2/library_effect/brunello/Initializer/initial_value)}}' was changed by setting attribute after it was run by a session. This mutation will have no effect, and will trigger an error in the future. Either don't modify nodes after running them or create a new session.\n"
     ]
    },
    {
     "name": "stdout",
     "output_type": "stream",
     "text": [
      "estimating initial screen efficacy and gene effect\n",
      "\t brunello\n",
      "\tverifying graph integrity\n",
      "verifying user inputs\n",
      "verifying variables\n",
      "verifying calculated terms\n",
      "\tbrunello _gene_effect\n",
      "\tbrunello _selected_efficacies\n",
      "\tbrunello_predicted_readcounts_unscaled\n",
      "\tbrunello _predicted_readcounts\n",
      "\tbrunello _normalized_readcounts\n",
      "\tbrunello _cost_presum\n",
      "\tbrunello _cost\n",
      "\tbrunello _full_costs\n",
      "ready to train\n"
     ]
    }
   ],
   "source": [
    "distinguished_model = chronos.Chronos(\n",
    "    readcounts={\"brunello\": deweird_readcounts},\n",
    "    sequence_map={\"brunello\": distinguished_map},\n",
    "    guide_gene_map={\"brunello\": deweirdt_guide_map},\n",
    "    negative_control_sgrnas={\"brunello\": deweirdt_negative_controls}\n",
    ")"
   ]
  },
  {
   "cell_type": "code",
   "execution_count": 62,
   "metadata": {
    "scrolled": true
   },
   "outputs": [
    {
     "name": "stdout",
     "output_type": "stream",
     "text": [
      "NB2 cost 0.3607387867099225\n",
      "Full cost 0.374797203732033\n",
      "relative_growth_rate\n",
      "\tbrunello max 1.024, min 0.98012\n",
      "mean guide efficacy 0.9992159643818324\n",
      "t0_offset SD: [('brunello', 6.76688271436395e-05)]\n",
      "\n",
      "gene mean -0.06654214067653512\n",
      "SD of gene means 0.2153641945833855\n",
      "Mean of gene SDs 0.08467051444992038\n",
      "\n",
      "\n",
      "\n",
      "51 epochs trained, time taken 0:00:22, projected remaining 0:01:47\n",
      "NB2 cost 0.19802599653093514\n",
      "Full cost 0.2313981039881089\n",
      "relative_growth_rate\n",
      "\tbrunello max 1.213, min 0.79680\n",
      "mean guide efficacy 0.9241026102583562\n",
      "t0_offset SD: [('brunello', 0.1492147607014348)]\n",
      "\n",
      "gene mean 0.06823594730037849\n",
      "SD of gene means 0.357880309985146\n",
      "Mean of gene SDs 0.11333338923074318\n",
      "\n",
      "\n",
      "\n",
      "101 epochs trained, time taken 0:00:43, projected remaining 0:01:26\n",
      "NB2 cost 0.17910053257357475\n",
      "Full cost 0.2043302447533906\n",
      "relative_growth_rate\n",
      "\tbrunello max 1.129, min 0.87024\n",
      "mean guide efficacy 0.8281283466195142\n",
      "t0_offset SD: [('brunello', 0.1443205899590891)]\n",
      "\n",
      "gene mean 0.0013883386411643061\n",
      "SD of gene means 0.4104148688557062\n",
      "Mean of gene SDs 0.11979669323697553\n",
      "\n",
      "\n",
      "\n",
      "151 epochs trained, time taken 0:01:05, projected remaining 0:01:04\n",
      "NB2 cost 0.17819901033755095\n",
      "Full cost 0.20291903441284137\n",
      "relative_growth_rate\n",
      "\tbrunello max 1.122, min 0.87461\n",
      "mean guide efficacy 0.8085955906462581\n",
      "t0_offset SD: [('brunello', 0.14225607196451484)]\n",
      "\n",
      "gene mean 0.0018272936852581946\n",
      "SD of gene means 0.4163970546379378\n",
      "Mean of gene SDs 0.12125200978827128\n",
      "\n",
      "\n",
      "\n",
      "201 epochs trained, time taken 0:01:26, projected remaining 0:00:43\n",
      "NB2 cost 0.17825872386788263\n",
      "Full cost 0.20307369228177966\n",
      "relative_growth_rate\n",
      "\tbrunello max 1.119, min 0.87566\n",
      "mean guide efficacy 0.7940185322514118\n",
      "t0_offset SD: [('brunello', 0.14184110053375212)]\n",
      "\n",
      "gene mean 0.000351327266417183\n",
      "SD of gene means 0.41982544297441016\n",
      "Mean of gene SDs 0.12249599024946273\n",
      "\n",
      "\n",
      "\n",
      "251 epochs trained, time taken 0:01:47, projected remaining 0:00:21\n",
      "NB2 cost 0.17814592700654974\n",
      "Full cost 0.20281453210709366\n",
      "relative_growth_rate\n",
      "\tbrunello max 1.122, min 0.87498\n",
      "mean guide efficacy 0.7852250066027233\n",
      "t0_offset SD: [('brunello', 0.14151712281434434)]\n",
      "\n",
      "gene mean 0.00011927142009787525\n",
      "SD of gene means 0.4218972441757023\n",
      "Mean of gene SDs 0.12266086505850968\n",
      "\n",
      "\n",
      "\n",
      "301 epochs trained, time taken 0:02:09, projected remaining 0:00:00\n",
      "NB2 cost 0.17816766019788696\n",
      "Full cost 0.2028713377235659\n",
      "relative_growth_rate\n",
      "\tbrunello max 1.120, min 0.87576\n",
      "mean guide efficacy 0.778775415914966\n",
      "t0_offset SD: [('brunello', 0.14125512543042754)]\n",
      "\n",
      "gene mean 0.0019716826840780206\n",
      "SD of gene means 0.4232750195414421\n",
      "Mean of gene SDs 0.12315148599717003\n",
      "\n",
      "\n",
      "\n"
     ]
    }
   ],
   "source": [
    "distinguished_model.train()"
   ]
  },
  {
   "cell_type": "markdown",
   "metadata": {},
   "source": [
    "MCL1 and BCL2L1 are a well-established synthetic lethal pair in cancer. Below, we see a difference of about 1.5 between the gene effects of MCL1 in the control condition and in the BCL2L1 inhibitor A-1331852. "
   ]
  },
  {
   "cell_type": "code",
   "execution_count": 63,
   "metadata": {},
   "outputs": [
    {
     "data": {
      "text/plain": [
       "cell_line_name\n",
       "Meljuso__in__A-1331852   -1.641092\n",
       "Meljuso__in__Control      0.093075\n",
       "OVCAR8__in__A-1331852    -1.387074\n",
       "OVCAR8__in__Control       0.065124\n",
       "Name: MCL1, dtype: float64"
      ]
     },
     "execution_count": 63,
     "metadata": {},
     "output_type": "execute_result"
    }
   ],
   "source": [
    "distinguished_model.gene_effect['MCL1']"
   ]
  },
  {
   "cell_type": "markdown",
   "metadata": {},
   "source": [
    "But are these differences significant?"
   ]
  },
  {
   "cell_type": "markdown",
   "metadata": {},
   "source": [
    "### Running the Comparator"
   ]
  },
  {
   "cell_type": "markdown",
   "metadata": {},
   "source": [
    "To test for significance, we first create a `hit_calling.ConditionComparison` instance. The input syntax is almost exactly the same as a `Chronos` model instance, except we replace the `sequence_map` argument with a `condition_map`."
   ]
  },
  {
   "cell_type": "code",
   "execution_count": 64,
   "metadata": {},
   "outputs": [
    {
     "name": "stdout",
     "output_type": "stream",
     "text": [
      "checking for high negative control correlation between replicates in the same condition\n"
     ]
    }
   ],
   "source": [
    "from chronos.hit_calling import ConditionComparison\n",
    "comparator = ConditionComparison(\n",
    "    readcounts={\"brunello\": deweird_readcounts},\n",
    "    condition_map={\"brunello\": deweirdt_condition_map},\n",
    "    guide_gene_map={\"brunello\": deweirdt_guide_map},\n",
    "    negative_control_sgrnas={\"brunello\": deweirdt_negative_controls},\n",
    ")"
   ]
  },
  {
   "cell_type": "markdown",
   "metadata": {},
   "source": [
    "To identify significant differences, `ConditionComparison` will first train a distinguished model, as above, then permute the condition labels so that each condition label has an equal number of replicates from each of the real conditions and train models on the permutations. These models have no biological difference between conditions, and can be used to form the null distribution. Permutations that have every condition flipped from an existing permutation are discarded. An example of a permuted map is shown below."
   ]
  },
  {
   "cell_type": "code",
   "execution_count": 65,
   "metadata": {},
   "outputs": [
    {
     "data": {
      "text/html": [
       "<div>\n",
       "<style scoped>\n",
       "    .dataframe tbody tr th:only-of-type {\n",
       "        vertical-align: middle;\n",
       "    }\n",
       "\n",
       "    .dataframe tbody tr th {\n",
       "        vertical-align: top;\n",
       "    }\n",
       "\n",
       "    .dataframe thead th {\n",
       "        text-align: right;\n",
       "    }\n",
       "</style>\n",
       "<table border=\"1\" class=\"dataframe\">\n",
       "  <thead>\n",
       "    <tr style=\"text-align: right;\">\n",
       "      <th></th>\n",
       "      <th>cell_line_name</th>\n",
       "      <th>condition</th>\n",
       "      <th>replicate_ID</th>\n",
       "      <th>pDNA_batch</th>\n",
       "      <th>true_condition</th>\n",
       "      <th>sequence_ID</th>\n",
       "      <th>replicate</th>\n",
       "      <th>days</th>\n",
       "      <th>true_cell_line_name</th>\n",
       "    </tr>\n",
       "  </thead>\n",
       "  <tbody>\n",
       "    <tr>\n",
       "      <th>0</th>\n",
       "      <td>Meljuso__in__A-1331852</td>\n",
       "      <td>A-1331852</td>\n",
       "      <td>Meljuso__IN__A-1331852_RepA_batch1</td>\n",
       "      <td>batch1</td>\n",
       "      <td>A-1331852</td>\n",
       "      <td>Meljuso.2</td>\n",
       "      <td>RepA</td>\n",
       "      <td>21</td>\n",
       "      <td>Meljuso</td>\n",
       "    </tr>\n",
       "    <tr>\n",
       "      <th>1</th>\n",
       "      <td>Meljuso__in__Control</td>\n",
       "      <td>Control</td>\n",
       "      <td>Meljuso__IN__A-1331852_RepB_batch1</td>\n",
       "      <td>batch1</td>\n",
       "      <td>A-1331852</td>\n",
       "      <td>Meljuso.3</td>\n",
       "      <td>RepB</td>\n",
       "      <td>21</td>\n",
       "      <td>Meljuso</td>\n",
       "    </tr>\n",
       "    <tr>\n",
       "      <th>2</th>\n",
       "      <td>Meljuso__in__A-1331852</td>\n",
       "      <td>A-1331852</td>\n",
       "      <td>Meljuso__IN__Control_RepA_batch1</td>\n",
       "      <td>batch1</td>\n",
       "      <td>Control</td>\n",
       "      <td>Meljuso</td>\n",
       "      <td>RepA</td>\n",
       "      <td>21</td>\n",
       "      <td>Meljuso</td>\n",
       "    </tr>\n",
       "    <tr>\n",
       "      <th>3</th>\n",
       "      <td>Meljuso__in__Control</td>\n",
       "      <td>Control</td>\n",
       "      <td>Meljuso__IN__Control_RepB_batch1</td>\n",
       "      <td>batch1</td>\n",
       "      <td>Control</td>\n",
       "      <td>Meljuso.1</td>\n",
       "      <td>RepB</td>\n",
       "      <td>21</td>\n",
       "      <td>Meljuso</td>\n",
       "    </tr>\n",
       "    <tr>\n",
       "      <th>4</th>\n",
       "      <td>OVCAR8__in__A-1331852</td>\n",
       "      <td>A-1331852</td>\n",
       "      <td>OVCAR8__IN__A-1331852_RepA_batch1</td>\n",
       "      <td>batch1</td>\n",
       "      <td>A-1331852</td>\n",
       "      <td>OVCAR8.2</td>\n",
       "      <td>RepA</td>\n",
       "      <td>21</td>\n",
       "      <td>OVCAR8</td>\n",
       "    </tr>\n",
       "    <tr>\n",
       "      <th>5</th>\n",
       "      <td>OVCAR8__in__Control</td>\n",
       "      <td>Control</td>\n",
       "      <td>OVCAR8__IN__A-1331852_RepB_batch1</td>\n",
       "      <td>batch1</td>\n",
       "      <td>A-1331852</td>\n",
       "      <td>OVCAR8.3</td>\n",
       "      <td>RepB</td>\n",
       "      <td>21</td>\n",
       "      <td>OVCAR8</td>\n",
       "    </tr>\n",
       "    <tr>\n",
       "      <th>6</th>\n",
       "      <td>OVCAR8__in__A-1331852</td>\n",
       "      <td>A-1331852</td>\n",
       "      <td>OVCAR8__IN__Control_RepA_batch1</td>\n",
       "      <td>batch1</td>\n",
       "      <td>Control</td>\n",
       "      <td>OVCAR8</td>\n",
       "      <td>RepA</td>\n",
       "      <td>21</td>\n",
       "      <td>OVCAR8</td>\n",
       "    </tr>\n",
       "    <tr>\n",
       "      <th>7</th>\n",
       "      <td>OVCAR8__in__Control</td>\n",
       "      <td>Control</td>\n",
       "      <td>OVCAR8__IN__Control_RepB_batch1</td>\n",
       "      <td>batch1</td>\n",
       "      <td>Control</td>\n",
       "      <td>OVCAR8.1</td>\n",
       "      <td>RepB</td>\n",
       "      <td>21</td>\n",
       "      <td>OVCAR8</td>\n",
       "    </tr>\n",
       "    <tr>\n",
       "      <th>8</th>\n",
       "      <td>pDNA</td>\n",
       "      <td>pDNA</td>\n",
       "      <td>pDNA__IN__pDNA_pDNA_batch1</td>\n",
       "      <td>batch1</td>\n",
       "      <td>pDNA</td>\n",
       "      <td>pDNA</td>\n",
       "      <td>pDNA</td>\n",
       "      <td>21</td>\n",
       "      <td>pDNA</td>\n",
       "    </tr>\n",
       "  </tbody>\n",
       "</table>\n",
       "</div>"
      ],
      "text/plain": [
       "           cell_line_name  condition                        replicate_ID  \\\n",
       "0  Meljuso__in__A-1331852  A-1331852  Meljuso__IN__A-1331852_RepA_batch1   \n",
       "1    Meljuso__in__Control    Control  Meljuso__IN__A-1331852_RepB_batch1   \n",
       "2  Meljuso__in__A-1331852  A-1331852    Meljuso__IN__Control_RepA_batch1   \n",
       "3    Meljuso__in__Control    Control    Meljuso__IN__Control_RepB_batch1   \n",
       "4   OVCAR8__in__A-1331852  A-1331852   OVCAR8__IN__A-1331852_RepA_batch1   \n",
       "5     OVCAR8__in__Control    Control   OVCAR8__IN__A-1331852_RepB_batch1   \n",
       "6   OVCAR8__in__A-1331852  A-1331852     OVCAR8__IN__Control_RepA_batch1   \n",
       "7     OVCAR8__in__Control    Control     OVCAR8__IN__Control_RepB_batch1   \n",
       "8                    pDNA       pDNA          pDNA__IN__pDNA_pDNA_batch1   \n",
       "\n",
       "  pDNA_batch true_condition sequence_ID replicate  days true_cell_line_name  \n",
       "0     batch1      A-1331852   Meljuso.2      RepA    21             Meljuso  \n",
       "1     batch1      A-1331852   Meljuso.3      RepB    21             Meljuso  \n",
       "2     batch1        Control     Meljuso      RepA    21             Meljuso  \n",
       "3     batch1        Control   Meljuso.1      RepB    21             Meljuso  \n",
       "4     batch1      A-1331852    OVCAR8.2      RepA    21              OVCAR8  \n",
       "5     batch1      A-1331852    OVCAR8.3      RepB    21              OVCAR8  \n",
       "6     batch1        Control      OVCAR8      RepA    21              OVCAR8  \n",
       "7     batch1        Control    OVCAR8.1      RepB    21              OVCAR8  \n",
       "8     batch1           pDNA        pDNA      pDNA    21                pDNA  "
      ]
     },
     "execution_count": 65,
     "metadata": {},
     "output_type": "execute_result"
    }
   ],
   "source": [
    "from chronos.hit_calling import create_permuted_sequence_maps\n",
    "\n",
    "create_permuted_sequence_maps(deweirdt_condition_map, condition_pair)[0]"
   ]
  },
  {
   "cell_type": "markdown",
   "metadata": {},
   "source": [
    "The number of permutations limits the minimum p-value that can be calculated. Due to the requirement that we only consider permutations that have equal numbers of replicates from each condition, the number of permutations actually generated is as follows:\n",
    "\n",
    "- Less than 2 replicates for any condition for a cell line: 0 permutations, that line is discarded\n",
    "- 2-3 replicates for any condition of any cell line: 2 permutations\n",
    "- At least 4 replicates for all conditions for all cell lines: 18 permutations\n",
    "- At least 6 replicates for all conditions for all cell lines: 200 permutations\n",
    "  \n",
    "For obvious reasons, we don't recommend including more than 4 replicates per condition unless your library is very small.\n",
    "\n",
    "Now, to compare the conditions. Note that with three models to train, this may take about 10 minutes."
   ]
  },
  {
   "cell_type": "code",
   "execution_count": 66,
   "metadata": {},
   "outputs": [
    {
     "name": "stdout",
     "output_type": "stream",
     "text": [
      "training model without conditions distinguished\n"
     ]
    },
    {
     "name": "stderr",
     "output_type": "stream",
     "text": [
      "2025-05-12 12:55:48.852261: W tensorflow/c/c_api.cc:305] Operation '{name:'excess_variance_3/brunello/Assign' id:9167 op device:{requested: '', assigned: ''} def:{{{node excess_variance_3/brunello/Assign}} = AssignVariableOp[_has_manual_control_dependencies=true, dtype=DT_DOUBLE, validate_shape=false](excess_variance_3/brunello, excess_variance_3/brunello/Initializer/initial_value)}}' was changed by setting attribute after it was run by a session. This mutation will have no effect, and will trigger an error in the future. Either don't modify nodes after running them or create a new session.\n",
      "2025-05-12 12:55:49.597996: W tensorflow/c/c_api.cc:305] Operation '{name:'GE_3/library_effect/brunello/Assign' id:9281 op device:{requested: '', assigned: ''} def:{{{node GE_3/library_effect/brunello/Assign}} = AssignVariableOp[_has_manual_control_dependencies=true, dtype=DT_DOUBLE, validate_shape=false](GE_3/library_effect/brunello, GE_3/library_effect/brunello/Initializer/initial_value)}}' was changed by setting attribute after it was run by a session. This mutation will have no effect, and will trigger an error in the future. Either don't modify nodes after running them or create a new session.\n"
     ]
    },
    {
     "name": "stdout",
     "output_type": "stream",
     "text": [
      "training model with conditions distinguished\n"
     ]
    },
    {
     "name": "stderr",
     "output_type": "stream",
     "text": [
      "2025-05-12 12:57:59.202714: W tensorflow/c/c_api.cc:305] Operation '{name:'excess_variance_4/brunello/Assign' id:12169 op device:{requested: '', assigned: ''} def:{{{node excess_variance_4/brunello/Assign}} = AssignVariableOp[_has_manual_control_dependencies=true, dtype=DT_DOUBLE, validate_shape=false](excess_variance_4/brunello, excess_variance_4/brunello/Initializer/initial_value)}}' was changed by setting attribute after it was run by a session. This mutation will have no effect, and will trigger an error in the future. Either don't modify nodes after running them or create a new session.\n",
      "2025-05-12 12:58:00.088007: W tensorflow/c/c_api.cc:305] Operation '{name:'GE_4/library_effect/brunello/Assign' id:12283 op device:{requested: '', assigned: ''} def:{{{node GE_4/library_effect/brunello/Assign}} = AssignVariableOp[_has_manual_control_dependencies=true, dtype=DT_DOUBLE, validate_shape=false](GE_4/library_effect/brunello, GE_4/library_effect/brunello/Initializer/initial_value)}}' was changed by setting attribute after it was run by a session. This mutation will have no effect, and will trigger an error in the future. Either don't modify nodes after running them or create a new session.\n"
     ]
    },
    {
     "name": "stdout",
     "output_type": "stream",
     "text": [
      "training models with permuted conditions\n",
      "\trandom iteration 0\n"
     ]
    },
    {
     "name": "stderr",
     "output_type": "stream",
     "text": [
      "2025-05-12 12:58:19.709423: W tensorflow/c/c_api.cc:305] Operation '{name:'excess_variance_5/brunello/Assign' id:15178 op device:{requested: '', assigned: ''} def:{{{node excess_variance_5/brunello/Assign}} = AssignVariableOp[_has_manual_control_dependencies=true, dtype=DT_DOUBLE, validate_shape=false](excess_variance_5/brunello, excess_variance_5/brunello/Initializer/initial_value)}}' was changed by setting attribute after it was run by a session. This mutation will have no effect, and will trigger an error in the future. Either don't modify nodes after running them or create a new session.\n",
      "2025-05-12 12:58:20.667641: W tensorflow/c/c_api.cc:305] Operation '{name:'GE_5/library_effect/brunello/Assign' id:15292 op device:{requested: '', assigned: ''} def:{{{node GE_5/library_effect/brunello/Assign}} = AssignVariableOp[_has_manual_control_dependencies=true, dtype=DT_DOUBLE, validate_shape=false](GE_5/library_effect/brunello, GE_5/library_effect/brunello/Initializer/initial_value)}}' was changed by setting attribute after it was run by a session. This mutation will have no effect, and will trigger an error in the future. Either don't modify nodes after running them or create a new session.\n"
     ]
    },
    {
     "name": "stdout",
     "output_type": "stream",
     "text": [
      "\trandom iteration 1\n"
     ]
    },
    {
     "name": "stderr",
     "output_type": "stream",
     "text": [
      "2025-05-12 12:58:40.961064: W tensorflow/c/c_api.cc:305] Operation '{name:'excess_variance_6/brunello/Assign' id:18187 op device:{requested: '', assigned: ''} def:{{{node excess_variance_6/brunello/Assign}} = AssignVariableOp[_has_manual_control_dependencies=true, dtype=DT_DOUBLE, validate_shape=false](excess_variance_6/brunello, excess_variance_6/brunello/Initializer/initial_value)}}' was changed by setting attribute after it was run by a session. This mutation will have no effect, and will trigger an error in the future. Either don't modify nodes after running them or create a new session.\n",
      "2025-05-12 12:58:42.007729: W tensorflow/c/c_api.cc:305] Operation '{name:'GE_6/library_effect/brunello/Assign' id:18301 op device:{requested: '', assigned: ''} def:{{{node GE_6/library_effect/brunello/Assign}} = AssignVariableOp[_has_manual_control_dependencies=true, dtype=DT_DOUBLE, validate_shape=false](GE_6/library_effect/brunello, GE_6/library_effect/brunello/Initializer/initial_value)}}' was changed by setting attribute after it was run by a session. This mutation will have no effect, and will trigger an error in the future. Either don't modify nodes after running them or create a new session.\n"
     ]
    },
    {
     "name": "stdout",
     "output_type": "stream",
     "text": [
      "calculating empirical significance\n"
     ]
    }
   ],
   "source": [
    "comparison_statistics = comparator.compare_conditions((\"Control\", \"A-1331852\"))"
   ]
  },
  {
   "cell_type": "markdown",
   "metadata": {},
   "source": [
    "Below, we can see the most significant differences. The expected hit MCL1 was found in both screens, while BAX and BCL2 were found in Meljuso. [MARCH5, UBE2J, and UBE2K are also expected findings](https://doi.org/10.1038/s41375-024-02178-x). Meljuso appears to be a cleaner screen with overall more significant hits."
   ]
  },
  {
   "cell_type": "code",
   "execution_count": 67,
   "metadata": {},
   "outputs": [
    {
     "data": {
      "text/html": [
       "<div>\n",
       "<style scoped>\n",
       "    .dataframe tbody tr th:only-of-type {\n",
       "        vertical-align: middle;\n",
       "    }\n",
       "\n",
       "    .dataframe tbody tr th {\n",
       "        vertical-align: top;\n",
       "    }\n",
       "\n",
       "    .dataframe thead th {\n",
       "        text-align: right;\n",
       "    }\n",
       "</style>\n",
       "<table border=\"1\" class=\"dataframe\">\n",
       "  <thead>\n",
       "    <tr style=\"text-align: right;\">\n",
       "      <th></th>\n",
       "      <th>cell_line_name</th>\n",
       "      <th>gene</th>\n",
       "      <th>gene_effect_in_Control</th>\n",
       "      <th>gene_effect_in_A-1331852</th>\n",
       "      <th>gene_effect_difference</th>\n",
       "      <th>gene_effect_difference_permutation_0</th>\n",
       "      <th>gene_effect_difference_permutation_1</th>\n",
       "      <th>likelihood</th>\n",
       "      <th>likelihood_undistinguished</th>\n",
       "      <th>likelihood_permutation_0</th>\n",
       "      <th>likelihood_permutation_1</th>\n",
       "      <th>likelihood_pval</th>\n",
       "      <th>readcount_bin</th>\n",
       "      <th>likelihood_fdr</th>\n",
       "    </tr>\n",
       "  </thead>\n",
       "  <tbody>\n",
       "    <tr>\n",
       "      <th>1384</th>\n",
       "      <td>Meljuso</td>\n",
       "      <td>BAX</td>\n",
       "      <td>0.171304</td>\n",
       "      <td>0.962540</td>\n",
       "      <td>0.791236</td>\n",
       "      <td>0.069138</td>\n",
       "      <td>-0.015855</td>\n",
       "      <td>-1232.936800</td>\n",
       "      <td>-1264.081738</td>\n",
       "      <td>-1262.997262</td>\n",
       "      <td>-1263.103483</td>\n",
       "      <td>1.626606e-07</td>\n",
       "      <td>(815.0, 12384.75]</td>\n",
       "      <td>7.414477e-04</td>\n",
       "    </tr>\n",
       "    <tr>\n",
       "      <th>8909</th>\n",
       "      <td>Meljuso</td>\n",
       "      <td>MARCH5</td>\n",
       "      <td>0.335778</td>\n",
       "      <td>-1.198236</td>\n",
       "      <td>-1.534013</td>\n",
       "      <td>-0.054792</td>\n",
       "      <td>-0.230300</td>\n",
       "      <td>-957.557783</td>\n",
       "      <td>-1026.134598</td>\n",
       "      <td>-1025.636396</td>\n",
       "      <td>-1023.691241</td>\n",
       "      <td>2.174494e-11</td>\n",
       "      <td>(815.0, 12384.75]</td>\n",
       "      <td>3.964755e-07</td>\n",
       "    </tr>\n",
       "    <tr>\n",
       "      <th>8993</th>\n",
       "      <td>Meljuso</td>\n",
       "      <td>MCL1</td>\n",
       "      <td>0.182587</td>\n",
       "      <td>-1.264652</td>\n",
       "      <td>-1.447239</td>\n",
       "      <td>0.028389</td>\n",
       "      <td>-0.197144</td>\n",
       "      <td>-898.052903</td>\n",
       "      <td>-943.307087</td>\n",
       "      <td>-942.853021</td>\n",
       "      <td>-941.818108</td>\n",
       "      <td>3.115660e-09</td>\n",
       "      <td>(815.0, 12384.75]</td>\n",
       "      <td>2.840391e-05</td>\n",
       "    </tr>\n",
       "    <tr>\n",
       "      <th>11870</th>\n",
       "      <td>Meljuso</td>\n",
       "      <td>PMAIP1</td>\n",
       "      <td>0.142532</td>\n",
       "      <td>0.950936</td>\n",
       "      <td>0.808404</td>\n",
       "      <td>0.086495</td>\n",
       "      <td>-0.053124</td>\n",
       "      <td>-1060.909452</td>\n",
       "      <td>-1090.667909</td>\n",
       "      <td>-1089.816189</td>\n",
       "      <td>-1089.942841</td>\n",
       "      <td>2.549318e-07</td>\n",
       "      <td>(815.0, 12384.75]</td>\n",
       "      <td>9.296343e-04</td>\n",
       "    </tr>\n",
       "    <tr>\n",
       "      <th>16802</th>\n",
       "      <td>Meljuso</td>\n",
       "      <td>UBE2J2</td>\n",
       "      <td>0.311285</td>\n",
       "      <td>-0.925920</td>\n",
       "      <td>-1.237205</td>\n",
       "      <td>-0.215930</td>\n",
       "      <td>-0.300839</td>\n",
       "      <td>-916.560479</td>\n",
       "      <td>-949.221670</td>\n",
       "      <td>-947.768446</td>\n",
       "      <td>-946.751765</td>\n",
       "      <td>1.009937e-07</td>\n",
       "      <td>(815.0, 12384.75]</td>\n",
       "      <td>6.138060e-04</td>\n",
       "    </tr>\n",
       "  </tbody>\n",
       "</table>\n",
       "</div>"
      ],
      "text/plain": [
       "      cell_line_name    gene  gene_effect_in_Control  \\\n",
       "1384         Meljuso     BAX                0.171304   \n",
       "8909         Meljuso  MARCH5                0.335778   \n",
       "8993         Meljuso    MCL1                0.182587   \n",
       "11870        Meljuso  PMAIP1                0.142532   \n",
       "16802        Meljuso  UBE2J2                0.311285   \n",
       "\n",
       "       gene_effect_in_A-1331852  gene_effect_difference  \\\n",
       "1384                   0.962540                0.791236   \n",
       "8909                  -1.198236               -1.534013   \n",
       "8993                  -1.264652               -1.447239   \n",
       "11870                  0.950936                0.808404   \n",
       "16802                 -0.925920               -1.237205   \n",
       "\n",
       "       gene_effect_difference_permutation_0  \\\n",
       "1384                               0.069138   \n",
       "8909                              -0.054792   \n",
       "8993                               0.028389   \n",
       "11870                              0.086495   \n",
       "16802                             -0.215930   \n",
       "\n",
       "       gene_effect_difference_permutation_1   likelihood  \\\n",
       "1384                              -0.015855 -1232.936800   \n",
       "8909                              -0.230300  -957.557783   \n",
       "8993                              -0.197144  -898.052903   \n",
       "11870                             -0.053124 -1060.909452   \n",
       "16802                             -0.300839  -916.560479   \n",
       "\n",
       "       likelihood_undistinguished  likelihood_permutation_0  \\\n",
       "1384                 -1264.081738              -1262.997262   \n",
       "8909                 -1026.134598              -1025.636396   \n",
       "8993                  -943.307087               -942.853021   \n",
       "11870                -1090.667909              -1089.816189   \n",
       "16802                 -949.221670               -947.768446   \n",
       "\n",
       "       likelihood_permutation_1  likelihood_pval      readcount_bin  \\\n",
       "1384               -1263.103483     1.626606e-07  (815.0, 12384.75]   \n",
       "8909               -1023.691241     2.174494e-11  (815.0, 12384.75]   \n",
       "8993                -941.818108     3.115660e-09  (815.0, 12384.75]   \n",
       "11870              -1089.942841     2.549318e-07  (815.0, 12384.75]   \n",
       "16802               -946.751765     1.009937e-07  (815.0, 12384.75]   \n",
       "\n",
       "       likelihood_fdr  \n",
       "1384     7.414477e-04  \n",
       "8909     3.964755e-07  \n",
       "8993     2.840391e-05  \n",
       "11870    9.296343e-04  \n",
       "16802    6.138060e-04  "
      ]
     },
     "execution_count": 67,
     "metadata": {},
     "output_type": "execute_result"
    }
   ],
   "source": [
    "comparison_statistics.sort_values([\"gene\"]).loc[lambda x: x.likelihood_fdr < .05]"
   ]
  },
  {
   "cell_type": "markdown",
   "metadata": {},
   "source": [
    "With multiple cell lines in the same pair of conditions, you may be interested in what change in what genes can be recovered by considering all lines together. `get_consensus_difference_statistics` combines likelihood changes across cell lines to create a consensus estimate of significance. This reports a number of additional genes not significant in either cell line individually."
   ]
  },
  {
   "cell_type": "code",
   "execution_count": 68,
   "metadata": {},
   "outputs": [
    {
     "data": {
      "text/html": [
       "<div>\n",
       "<style scoped>\n",
       "    .dataframe tbody tr th:only-of-type {\n",
       "        vertical-align: middle;\n",
       "    }\n",
       "\n",
       "    .dataframe tbody tr th {\n",
       "        vertical-align: top;\n",
       "    }\n",
       "\n",
       "    .dataframe thead th {\n",
       "        text-align: right;\n",
       "    }\n",
       "</style>\n",
       "<table border=\"1\" class=\"dataframe\">\n",
       "  <thead>\n",
       "    <tr style=\"text-align: right;\">\n",
       "      <th></th>\n",
       "      <th>mean_gene_effect_difference</th>\n",
       "      <th>mean_gene_effect_difference_permutation_0</th>\n",
       "      <th>mean_gene_effect_difference_permutation_1</th>\n",
       "      <th>likelihood_p</th>\n",
       "      <th>likelihood_fdr</th>\n",
       "    </tr>\n",
       "    <tr>\n",
       "      <th>gene</th>\n",
       "      <th></th>\n",
       "      <th></th>\n",
       "      <th></th>\n",
       "      <th></th>\n",
       "      <th></th>\n",
       "    </tr>\n",
       "  </thead>\n",
       "  <tbody>\n",
       "    <tr>\n",
       "      <th>MARCH5</th>\n",
       "      <td>-1.150322</td>\n",
       "      <td>0.091970</td>\n",
       "      <td>-0.088187</td>\n",
       "      <td>5.830092e-13</td>\n",
       "      <td>1.062884e-08</td>\n",
       "    </tr>\n",
       "    <tr>\n",
       "      <th>MCL1</th>\n",
       "      <td>-1.244676</td>\n",
       "      <td>0.359481</td>\n",
       "      <td>-0.081674</td>\n",
       "      <td>1.285511e-11</td>\n",
       "      <td>1.171807e-07</td>\n",
       "    </tr>\n",
       "    <tr>\n",
       "      <th>UBE2J2</th>\n",
       "      <td>-1.109908</td>\n",
       "      <td>0.007357</td>\n",
       "      <td>-0.179373</td>\n",
       "      <td>1.087161e-09</td>\n",
       "      <td>6.606676e-06</td>\n",
       "    </tr>\n",
       "    <tr>\n",
       "      <th>BAX</th>\n",
       "      <td>0.677812</td>\n",
       "      <td>0.069840</td>\n",
       "      <td>0.081049</td>\n",
       "      <td>1.691556e-09</td>\n",
       "      <td>7.709687e-06</td>\n",
       "    </tr>\n",
       "    <tr>\n",
       "      <th>PMAIP1</th>\n",
       "      <td>0.610446</td>\n",
       "      <td>0.042216</td>\n",
       "      <td>0.071793</td>\n",
       "      <td>1.540974e-08</td>\n",
       "      <td>5.618700e-05</td>\n",
       "    </tr>\n",
       "    <tr>\n",
       "      <th>UBE2K</th>\n",
       "      <td>-0.917493</td>\n",
       "      <td>0.240420</td>\n",
       "      <td>0.072598</td>\n",
       "      <td>4.707488e-08</td>\n",
       "      <td>1.430370e-04</td>\n",
       "    </tr>\n",
       "    <tr>\n",
       "      <th>THOC6</th>\n",
       "      <td>-0.724658</td>\n",
       "      <td>0.076055</td>\n",
       "      <td>0.057211</td>\n",
       "      <td>6.765191e-06</td>\n",
       "      <td>1.761946e-02</td>\n",
       "    </tr>\n",
       "  </tbody>\n",
       "</table>\n",
       "</div>"
      ],
      "text/plain": [
       "        mean_gene_effect_difference  \\\n",
       "gene                                  \n",
       "MARCH5                    -1.150322   \n",
       "MCL1                      -1.244676   \n",
       "UBE2J2                    -1.109908   \n",
       "BAX                        0.677812   \n",
       "PMAIP1                     0.610446   \n",
       "UBE2K                     -0.917493   \n",
       "THOC6                     -0.724658   \n",
       "\n",
       "        mean_gene_effect_difference_permutation_0  \\\n",
       "gene                                                \n",
       "MARCH5                                   0.091970   \n",
       "MCL1                                     0.359481   \n",
       "UBE2J2                                   0.007357   \n",
       "BAX                                      0.069840   \n",
       "PMAIP1                                   0.042216   \n",
       "UBE2K                                    0.240420   \n",
       "THOC6                                    0.076055   \n",
       "\n",
       "        mean_gene_effect_difference_permutation_1  likelihood_p  \\\n",
       "gene                                                              \n",
       "MARCH5                                  -0.088187  5.830092e-13   \n",
       "MCL1                                    -0.081674  1.285511e-11   \n",
       "UBE2J2                                  -0.179373  1.087161e-09   \n",
       "BAX                                      0.081049  1.691556e-09   \n",
       "PMAIP1                                   0.071793  1.540974e-08   \n",
       "UBE2K                                    0.072598  4.707488e-08   \n",
       "THOC6                                    0.057211  6.765191e-06   \n",
       "\n",
       "        likelihood_fdr  \n",
       "gene                    \n",
       "MARCH5    1.062884e-08  \n",
       "MCL1      1.171807e-07  \n",
       "UBE2J2    6.606676e-06  \n",
       "BAX       7.709687e-06  \n",
       "PMAIP1    5.618700e-05  \n",
       "UBE2K     1.430370e-04  \n",
       "THOC6     1.761946e-02  "
      ]
     },
     "execution_count": 68,
     "metadata": {},
     "output_type": "execute_result"
    }
   ],
   "source": [
    "from chronos.hit_calling import get_consensus_difference_statistics\n",
    "consensus = get_consensus_difference_statistics(comparison_statistics)\n",
    "consensus.sort_values(\"likelihood_fdr\").loc[lambda x: x.likelihood_fdr < .05]"
   ]
  },
  {
   "cell_type": "markdown",
   "metadata": {},
   "source": [
    "### Other notes"
   ]
  },
  {
   "cell_type": "markdown",
   "metadata": {},
   "source": [
    "If you want to compare two different screens in the same condition, you can create a condition map in which the two cell lines are assigned the same `\"cell_line_name\"` but a different `\"condition\"`. However, bear in mind that your real differences are likely to be confounded with batch effects. You can assess the degree of this problem by checking for false discoveries among negative controls or unexpressed genes.\n",
    "\n",
    "You may also find that your hits are dominated by common essentials. This can happen because the two conditions have different screen quality. In particular, if one condition is mildly or moderately growth-inhibiting, this can lead to less apparent common essential dropout (because all other cells are also dropping out) vs the other condition and make these genes appear systematically different in gene effect. This can be addressed by both increasing the `gene_effect_hierarchical` regularization in `ChronosCompare` (see `chronos.Chronos` for a description), and potentially also adding new bins to `gene_readcount_total_bin_quantiles` (default\": `[0.05]`) in `compare_conditions` (see `chronos.hit_calling.ConditionComparison.compare_conditions`.)"
   ]
  },
  {
   "cell_type": "markdown",
   "metadata": {},
   "source": [
    "## Running with multiple libraries"
   ]
  },
  {
   "cell_type": "markdown",
   "metadata": {},
   "source": [
    "We can add Sanger's [Project Score](https://www.nature.com/articles/s41586-019-1103-9) data (screened with the KY library) and run Chronos jointly on it and the Avana data. "
   ]
  },
  {
   "cell_type": "code",
   "execution_count": 69,
   "metadata": {},
   "outputs": [],
   "source": [
    "ky_guide_map = pd.read_csv(\"./Data/SampleData/KYGuideMap.csv\")\n",
    "ky_sequence_map = pd.read_csv(\"./Data/SampleData/KYSequenceMap.csv\")\n",
    "ky_readcounts = chronos.read_hdf5(\"./Data/SampleData/KYReadcounts.hdf5\")"
   ]
  },
  {
   "cell_type": "code",
   "execution_count": 70,
   "metadata": {},
   "outputs": [],
   "source": [
    "ky_positive_controls = ky_guide_map.sgrna[ky_guide_map.gene.isin(common_essentials)]\n",
    "ky_negative_controls = ky_guide_map.sgrna[ky_guide_map.gene.isin(nonessentials)]"
   ]
  },
  {
   "cell_type": "markdown",
   "metadata": {},
   "source": [
    "Note how the call signature of Chronos with multiple libraries is constructed:"
   ]
  },
  {
   "cell_type": "code",
   "execution_count": 71,
   "metadata": {},
   "outputs": [
    {
     "data": {
      "text/plain": [
       "pDNA_batch_KY-2        0\n",
       "pDNA_batch_KY-1        0\n",
       "RCCFG2_C908R3_KY-1     1\n",
       "RCCFG2_C908R2_KY-1     1\n",
       "RCCFG2_C908R1_KY-1     1\n",
       "                      ..\n",
       "HEC1_c907R3_KY-1      24\n",
       "HEC1_c907R2_KY-1      24\n",
       "SNU81_c903R1_KY-2     37\n",
       "SNU81_c903R2_KY-2     37\n",
       "SNU81_c903R3_KY-2     37\n",
       "Length: 65, dtype: int64"
      ]
     },
     "execution_count": 71,
     "metadata": {},
     "output_type": "execute_result"
    }
   ],
   "source": [
    "ky_readcounts.isnull().sum(axis=1).sort_values()"
   ]
  },
  {
   "cell_type": "code",
   "execution_count": 72,
   "metadata": {
    "scrolled": true
   },
   "outputs": [
    {
     "name": "stdout",
     "output_type": "stream",
     "text": [
      "normalizing readcounts\n",
      "\n",
      "\n",
      "Finding all unique guides and genes\n",
      "found 3474 unique guides and 883 unique genes in avana\n",
      "found 4084 unique guides and 833 unique genes in ky\n",
      "found 7558 unique guides and 887 unique genes overall\n",
      "\n",
      "finding guide-gene mapping indices\n",
      "\n",
      "finding all unique sequenced replicates, cell lines, and pDNA batches\n",
      "found 92 unique sequences (excluding pDNA), 92 unique replicates, and 44 unique cell lines in avana\n",
      "found 63 unique sequences (excluding pDNA), 63 unique replicates, and 23 unique cell lines in ky\n",
      "found 155 unique late time points and 58 unique cell lines overall\n",
      "\n",
      "finding sequence-cell line mappings indices\n",
      "\n",
      "finding replicate mappings indices\n",
      "\n",
      "finding late time point-pDNA mappings indices\n",
      "\n",
      "\n",
      "assigning float constants\n",
      "Estimating or aligning variances\n",
      "\tEstimating excess variance (alpha) for avana\n",
      "\tEstimating excess variance (alpha) for ky\n",
      "Creating excess variance tensors\n",
      "\tCreated excess variance tensor for avana with shape [92, 1]\n",
      "\tCreated excess variance tensor for ky with shape [63, 1]\n",
      "initializing graph\n",
      "\n",
      "building gene effect mask\n",
      "\n",
      "building doubling vectors\n",
      "made days vector of shape [92, 1] for avana\n",
      "made days vector of shape [63, 1] for ky\n",
      "\n",
      "building late observed timepoints\n",
      "\tbuilt normalized timepoints for avana with shape (92, 3474) (replicates X guides)\n",
      "\tbuilt normalized timepoints for ky with shape (63, 4084) (replicates X guides)\n",
      "\n",
      "building t0 reads\n",
      "\n",
      "\n",
      "Building variables\n",
      "\n",
      "building t0 reads estimate\n",
      "made t0 batch with shape (2, 4084) for avana\n",
      "made t0 batch with shape (2, 4084) for ky\n",
      "building guide efficacy\n",
      "built guide efficacy: shape [1, 7559]\n",
      "building growth rate\n",
      "built growth rate: shape {'avana': [92, 1], 'ky': [63, 1]}\n",
      "\n",
      "building replicate efficacy\n",
      "built replicate efficacy: shapes {'avana': [92, 1], 'ky': [63, 1]}\n",
      "building screen delay\n",
      "built screen delay\n",
      "building gene effect\n",
      "built core gene effect: 58 cell lines by 887 genes\n",
      "\n",
      "\n",
      "Connecting graph nodes in model\n",
      "\n",
      "building effective days\n",
      "built effective days, shapes {'avana': [92, 887], 'ky': [63, 887]}\n",
      "\n",
      "building gene effect growth graph nodes\n",
      "built gene effect growth graph nodes, shapes {'avana': [92, 887], 'ky': [63, 887]}\n",
      "\n",
      "building combined efficacy\n",
      "built combined efficacy, shape {'avana': [92, 3474], 'ky': [63, 4084]}\n",
      "built expanded combined efficacy, shapes {'avana': [92, 3474], 'ky': [63, 4084]}\n",
      "\n",
      "building growth estimates of edited cells and overall estimates of fold change in guide abundance\n",
      "built growth and change\n",
      "\n",
      "building unnormalized estimates of final abundance\n",
      "built unnormalized abundance\n",
      "\n",
      "building normalized estimates of final abundance\n",
      "built normalized abundance\n",
      "initializing precost variables\n"
     ]
    },
    {
     "name": "stderr",
     "output_type": "stream",
     "text": [
      "2025-05-12 12:59:04.086332: W tensorflow/c/c_api.cc:305] Operation '{name:'inferred_t0_7/base_avana/Assign' id:21224 op device:{requested: '', assigned: ''} def:{{{node inferred_t0_7/base_avana/Assign}} = AssignVariableOp[_has_manual_control_dependencies=true, dtype=DT_DOUBLE, validate_shape=false](inferred_t0_7/base_avana, inferred_t0_7/base_avana/Initializer/initial_value)}}' was changed by setting attribute after it was run by a session. This mutation will have no effect, and will trigger an error in the future. Either don't modify nodes after running them or create a new session.\n"
     ]
    },
    {
     "name": "stdout",
     "output_type": "stream",
     "text": [
      "\n",
      "\n",
      "Building all costs\n",
      "\n",
      "assembling guide efficacy regularization\n",
      "building smoothed regularization\n",
      "\n",
      "building t0 reads regularization/cost\n",
      "\n",
      "building NB2 cost\n",
      "building other regularizations\n",
      "\n",
      "Creating optimizer\n",
      "initializing rest of graph\n"
     ]
    },
    {
     "name": "stderr",
     "output_type": "stream",
     "text": [
      "2025-05-12 12:59:05.634044: W tensorflow/c/c_api.cc:305] Operation '{name:'GE_7/library_effect/ky/Assign' id:21381 op device:{requested: '', assigned: ''} def:{{{node GE_7/library_effect/ky/Assign}} = AssignVariableOp[_has_manual_control_dependencies=true, dtype=DT_DOUBLE, validate_shape=false](GE_7/library_effect/ky, GE_7/library_effect/ky/Initializer/initial_value)}}' was changed by setting attribute after it was run by a session. This mutation will have no effect, and will trigger an error in the future. Either don't modify nodes after running them or create a new session.\n"
     ]
    },
    {
     "name": "stdout",
     "output_type": "stream",
     "text": [
      "estimating initial screen efficacy and gene effect\n",
      "\t avana\n",
      "\t ky\n",
      "\tverifying graph integrity\n",
      "verifying user inputs\n",
      "verifying variables\n",
      "verifying calculated terms\n",
      "\tavana _gene_effect\n",
      "\tavana _selected_efficacies\n",
      "\tavana_predicted_readcounts_unscaled\n",
      "\tavana _predicted_readcounts\n",
      "\tavana _normalized_readcounts\n",
      "\tavana _cost_presum\n",
      "\tavana _cost\n",
      "\tavana _full_costs\n",
      "\tky _gene_effect\n",
      "\tky _selected_efficacies\n",
      "\tky_predicted_readcounts_unscaled\n",
      "\tky _predicted_readcounts\n",
      "\tky _normalized_readcounts\n",
      "\tky _cost_presum\n",
      "\tky _cost\n",
      "\tky _full_costs\n",
      "ready to train\n"
     ]
    }
   ],
   "source": [
    "model2 = chronos.Chronos(\n",
    "    sequence_map={\"avana\": sequence_map, 'ky': ky_sequence_map},\n",
    "    guide_gene_map={\"avana\": guide_map, 'ky': ky_guide_map},\n",
    "    readcounts={\"avana\": readcounts, 'ky': ky_readcounts},\n",
    "    negative_control_sgrnas={\"avana\": negative_controls, \"ky\": ky_negative_controls}\n",
    ")"
   ]
  },
  {
   "cell_type": "code",
   "execution_count": 73,
   "metadata": {
    "scrolled": true
   },
   "outputs": [
    {
     "name": "stdout",
     "output_type": "stream",
     "text": [
      "NB2 cost 0.36116881093613973\n",
      "Full cost 0.5063348856415822\n",
      "relative_growth_rate\n",
      "\tavana max 1.046, min 0.95895\n",
      "\tky max 1.035, min 0.96381\n",
      "mean guide efficacy 0.9992022641207472\n",
      "t0_offset SD: [('avana', 7.05028818120145e-05), ('ky', 7.560677090984819e-05)]\n",
      "\n",
      "gene mean -0.2620656632383462\n",
      "SD of gene means 0.42578742963298316\n",
      "Mean of gene SDs 0.34113608067182716\n",
      "\n",
      "\n",
      "\n",
      "51 epochs trained, time taken 0:00:04, projected remaining 0:00:18\n",
      "NB2 cost 0.2536400192191826\n",
      "Full cost 0.31338100755227094\n",
      "relative_growth_rate\n",
      "\tavana max 1.326, min 0.54335\n",
      "\tky max 1.447, min 0.45710\n",
      "mean guide efficacy 0.9376197459702587\n",
      "t0_offset SD: [('avana', 0.14045225765480046), ('ky', 0.1390929609715008)]\n",
      "\n",
      "gene mean -0.023351428969098788\n",
      "SD of gene means 0.5437052552218963\n",
      "Mean of gene SDs 0.27429813800169794\n",
      "\n",
      "\n",
      "\n",
      "101 epochs trained, time taken 0:00:07, projected remaining 0:00:13\n",
      "NB2 cost 0.23470940247071426\n",
      "Full cost 0.25863376517773184\n",
      "relative_growth_rate\n",
      "\tavana max 1.571, min 0.48643\n",
      "\tky max 1.309, min 0.62527\n",
      "mean guide efficacy 0.8750256986064887\n",
      "t0_offset SD: [('avana', 0.1364651024439614), ('ky', 0.1147575002883341)]\n",
      "\n",
      "gene mean 0.001527823859379141\n",
      "SD of gene means 0.6411755580207658\n",
      "Mean of gene SDs 0.21605700837354366\n",
      "\n",
      "\n",
      "\n",
      "151 epochs trained, time taken 0:00:10, projected remaining 0:00:09\n",
      "NB2 cost 0.23333727032994797\n",
      "Full cost 0.25583458047293406\n",
      "relative_growth_rate\n",
      "\tavana max 1.539, min 0.49157\n",
      "\tky max 1.410, min 0.67880\n",
      "mean guide efficacy 0.8715440294810691\n",
      "t0_offset SD: [('avana', 0.13467309783042483), ('ky', 0.11221437059286798)]\n",
      "\n",
      "gene mean -8.524818631508437e-05\n",
      "SD of gene means 0.646146670483901\n",
      "Mean of gene SDs 0.20301002963749668\n",
      "\n",
      "\n",
      "\n",
      "201 epochs trained, time taken 0:00:13, projected remaining 0:00:06\n",
      "NB2 cost 0.23309309109701082\n",
      "Full cost 0.25534921219350104\n",
      "relative_growth_rate\n",
      "\tavana max 1.528, min 0.49236\n",
      "\tky max 1.441, min 0.64717\n",
      "mean guide efficacy 0.8676557989814526\n",
      "t0_offset SD: [('avana', 0.133875617508279), ('ky', 0.1119544623015057)]\n",
      "\n",
      "gene mean -0.00010696084008454576\n",
      "SD of gene means 0.6488373716349771\n",
      "Mean of gene SDs 0.19956324859793936\n",
      "\n",
      "\n",
      "\n",
      "251 epochs trained, time taken 0:00:16, projected remaining 0:00:03\n",
      "NB2 cost 0.2329073744255019\n",
      "Full cost 0.25465970812925504\n",
      "relative_growth_rate\n",
      "\tavana max 1.512, min 0.49677\n",
      "\tky max 1.468, min 0.61569\n",
      "mean guide efficacy 0.8654416916467571\n",
      "t0_offset SD: [('avana', 0.13256557145450085), ('ky', 0.10929741848327519)]\n",
      "\n",
      "gene mean 0.0011388469298241142\n",
      "SD of gene means 0.6497482055781126\n",
      "Mean of gene SDs 0.19841607650040505\n",
      "\n",
      "\n",
      "\n",
      "301 epochs trained, time taken 0:00:19, projected remaining 0:00:00\n",
      "NB2 cost 0.23334825882879462\n",
      "Full cost 0.25525706771664297\n",
      "relative_growth_rate\n",
      "\tavana max 1.517, min 0.50691\n",
      "\tky max 1.428, min 0.60693\n",
      "mean guide efficacy 0.8628752409961734\n",
      "t0_offset SD: [('avana', 0.13301911888884466), ('ky', 0.1098050504117691)]\n",
      "\n",
      "gene mean 0.0018737887694536624\n",
      "SD of gene means 0.6490114918265942\n",
      "Mean of gene SDs 0.19789058144780491\n",
      "\n",
      "\n",
      "\n"
     ]
    }
   ],
   "source": [
    "model2.train(301)"
   ]
  },
  {
   "cell_type": "markdown",
   "metadata": {},
   "source": [
    "Note that the gene effect now has NAs. These are cases where a cell line was only screened in one library and that library had no guides for that gene."
   ]
  },
  {
   "cell_type": "markdown",
   "metadata": {},
   "source": [
    "Chronos infers library batch effects. Note that these are only inferred for genes present in all libraries"
   ]
  },
  {
   "cell_type": "markdown",
   "metadata": {},
   "source": [
    "## Running your screen with pretrained DepMap parameters"
   ]
  },
  {
   "cell_type": "markdown",
   "metadata": {},
   "source": [
    "If you conducted a screen in one of the DepMap integrated libraries (currently Avana, KY, or Humagne-CD), you can load parameters from the trained DepMap model and use them to process your specific screen. This gives you many of the benefits of coprocessing your screen with the complete DepMap dataset without the computational expense. "
   ]
  },
  {
   "cell_type": "markdown",
   "metadata": {},
   "source": [
    "The following command fetches the 22Q3 public dataset from Figshare and stores it in the Chronos package directory under Data/DepMapParameters"
   ]
  },
  {
   "cell_type": "code",
   "execution_count": 74,
   "metadata": {},
   "outputs": [
    {
     "name": "stdout",
     "output_type": "stream",
     "text": [
      "`url_loc` will be found relative to the chronos package directory\n",
      "'/Users/dempster/packages/chronos_public/chronos'\n",
      "Pass `relative_to_chronos=False` to make the path relative to your current working directory\n",
      "'/Users/dempster/packages/chronos_public'\n",
      "instead.\n",
      "\n",
      "`output_dir` will be found relative to the chronos package directory\n",
      "'/Users/dempster/packages/chronos_public/chronos'\n",
      "Pass `relative_to_chronos=False` to make the path relative to your current working directory\n",
      "'/Users/dempster/packages/chronos_public'\n",
      "instead.\n",
      "\n",
      "downloading files to /Users/dempster/packages/chronos_public/chronos/../Data/DepMapParameters/\n",
      "Skipping gene_effect.csv as it already exists, pass `overwrite=True` to overwrite\n",
      "Skipping guide_efficacy.csv as it already exists, pass `overwrite=True` to overwrite\n",
      "Skipping cell_line_efficacy.csv as it already exists, pass `overwrite=True` to overwrite\n",
      "Skipping library_effect.csv as it already exists, pass `overwrite=True` to overwrite\n",
      "Skipping t0_offset.csv as it already exists, pass `overwrite=True` to overwrite\n",
      "all files fetched, tranforming format\n",
      "transforming guide efficacy\n"
     ]
    },
    {
     "name": "stderr",
     "output_type": "stream",
     "text": [
      "/Users/dempster/packages/chronos_public/chronos/fetch_parameters.py:39: ResourceWarning: unclosed file <_io.TextIOWrapper name='/Users/dempster/packages/chronos_public/chronos/../Data/DepMapDataURLs.json' mode='r' encoding='UTF-8'>\n",
      "  url_dict = json.loads(open(url_loc).read())\n",
      "ResourceWarning: Enable tracemalloc to get the object allocation traceback\n"
     ]
    },
    {
     "name": "stdout",
     "output_type": "stream",
     "text": [
      "done\n"
     ]
    }
   ],
   "source": [
    "chronos.fetch_parameters()"
   ]
  },
  {
   "cell_type": "markdown",
   "metadata": {},
   "source": [
    "First, we create a model with the data we want to train as before, but with two important details:\n",
    "- we pass the argument `pretrained=True` when we initialize\n",
    "- the library batch names must match the DepMap library batch names, as that's what we're using for the pretrained model"
   ]
  },
  {
   "cell_type": "code",
   "execution_count": 75,
   "metadata": {
    "scrolled": true
   },
   "outputs": [
    {
     "name": "stdout",
     "output_type": "stream",
     "text": [
      "normalizing readcounts\n",
      "\n",
      "\n",
      "Finding all unique guides and genes\n",
      "found 3474 unique guides and 883 unique genes in Achilles-Avana-2D\n",
      "found 4084 unique guides and 833 unique genes in Achilles-KY-2D\n",
      "found 7558 unique guides and 887 unique genes overall\n",
      "\n",
      "finding guide-gene mapping indices\n",
      "\n",
      "finding all unique sequenced replicates, cell lines, and pDNA batches\n",
      "found 92 unique sequences (excluding pDNA), 92 unique replicates, and 44 unique cell lines in Achilles-Avana-2D\n",
      "found 63 unique sequences (excluding pDNA), 63 unique replicates, and 23 unique cell lines in Achilles-KY-2D\n",
      "found 155 unique late time points and 58 unique cell lines overall\n",
      "\n",
      "finding sequence-cell line mappings indices\n",
      "\n",
      "finding replicate mappings indices\n",
      "\n",
      "finding late time point-pDNA mappings indices\n",
      "\n",
      "\n",
      "assigning float constants\n",
      "Estimating or aligning variances\n",
      "\tEstimating excess variance (alpha) for Achilles-Avana-2D\n",
      "\tEstimating excess variance (alpha) for Achilles-KY-2D\n",
      "Creating excess variance tensors\n",
      "\tCreated excess variance tensor for Achilles-Avana-2D with shape [92, 1]\n",
      "\tCreated excess variance tensor for Achilles-KY-2D with shape [63, 1]\n",
      "initializing graph\n",
      "\n",
      "building gene effect mask\n",
      "\n",
      "building doubling vectors\n",
      "made days vector of shape [92, 1] for Achilles-Avana-2D\n",
      "made days vector of shape [63, 1] for Achilles-KY-2D\n",
      "\n",
      "building late observed timepoints\n",
      "\tbuilt normalized timepoints for Achilles-Avana-2D with shape (92, 3474) (replicates X guides)\n",
      "\tbuilt normalized timepoints for Achilles-KY-2D with shape (63, 4084) (replicates X guides)\n",
      "\n",
      "building t0 reads\n",
      "\n",
      "\n",
      "Building variables\n",
      "\n",
      "building t0 reads estimate\n",
      "made t0 batch with shape (2, 4084) for Achilles-Avana-2D\n",
      "made t0 batch with shape (2, 4084) for Achilles-KY-2D\n",
      "building guide efficacy\n",
      "built guide efficacy: shape [1, 7559]\n",
      "building growth rate\n",
      "built growth rate: shape {'Achilles-Avana-2D': [92, 1], 'Achilles-KY-2D': [63, 1]}\n",
      "\n",
      "building replicate efficacy\n",
      "built replicate efficacy: shapes {'Achilles-Avana-2D': [92, 1], 'Achilles-KY-2D': [63, 1]}\n",
      "building screen delay\n",
      "built screen delay\n",
      "building gene effect\n",
      "built core gene effect: 58 cell lines by 887 genes\n",
      "\n",
      "\n",
      "Connecting graph nodes in model\n",
      "\n",
      "building effective days\n",
      "built effective days, shapes {'Achilles-Avana-2D': [92, 887], 'Achilles-KY-2D': [63, 887]}\n",
      "\n",
      "building gene effect growth graph nodes\n",
      "built gene effect growth graph nodes, shapes {'Achilles-Avana-2D': [92, 887], 'Achilles-KY-2D': [63, 887]}\n",
      "\n",
      "building combined efficacy\n",
      "built combined efficacy, shape {'Achilles-Avana-2D': [92, 3474], 'Achilles-KY-2D': [63, 4084]}\n",
      "built expanded combined efficacy, shapes {'Achilles-Avana-2D': [92, 3474], 'Achilles-KY-2D': [63, 4084]}\n",
      "\n",
      "building growth estimates of edited cells and overall estimates of fold change in guide abundance\n",
      "built growth and change\n",
      "\n",
      "building unnormalized estimates of final abundance\n",
      "built unnormalized abundance\n",
      "\n",
      "building normalized estimates of final abundance\n",
      "built normalized abundance\n",
      "initializing precost variables\n"
     ]
    },
    {
     "name": "stderr",
     "output_type": "stream",
     "text": [
      "2025-05-12 12:59:30.694283: W tensorflow/c/c_api.cc:305] Operation '{name:'inferred_t0_8/base_Achilles-Avana-2D/Assign' id:26104 op device:{requested: '', assigned: ''} def:{{{node inferred_t0_8/base_Achilles-Avana-2D/Assign}} = AssignVariableOp[_has_manual_control_dependencies=true, dtype=DT_DOUBLE, validate_shape=false](inferred_t0_8/base_Achilles-Avana-2D, inferred_t0_8/base_Achilles-Avana-2D/Initializer/initial_value)}}' was changed by setting attribute after it was run by a session. This mutation will have no effect, and will trigger an error in the future. Either don't modify nodes after running them or create a new session.\n"
     ]
    },
    {
     "name": "stdout",
     "output_type": "stream",
     "text": [
      "\n",
      "\n",
      "Building all costs\n",
      "\n",
      "assembling guide efficacy regularization\n",
      "building smoothed regularization\n",
      "\n",
      "building t0 reads regularization/cost\n",
      "\n",
      "building NB2 cost\n",
      "building other regularizations\n",
      "\n",
      "Creating optimizer\n",
      "initializing rest of graph\n"
     ]
    },
    {
     "name": "stderr",
     "output_type": "stream",
     "text": [
      "2025-05-12 12:59:32.529720: W tensorflow/c/c_api.cc:305] Operation '{name:'GE_8/library_effect/Achilles-KY-2D/Assign' id:26254 op device:{requested: '', assigned: ''} def:{{{node GE_8/library_effect/Achilles-KY-2D/Assign}} = AssignVariableOp[_has_manual_control_dependencies=true, dtype=DT_DOUBLE, validate_shape=false](GE_8/library_effect/Achilles-KY-2D, GE_8/library_effect/Achilles-KY-2D/Initializer/initial_value)}}' was changed by setting attribute after it was run by a session. This mutation will have no effect, and will trigger an error in the future. Either don't modify nodes after running them or create a new session.\n"
     ]
    },
    {
     "name": "stdout",
     "output_type": "stream",
     "text": [
      "estimating initial screen efficacy and gene effect\n",
      "\t Achilles-Avana-2D\n",
      "\t Achilles-KY-2D\n",
      "\tverifying graph integrity\n",
      "verifying user inputs\n",
      "verifying variables\n",
      "verifying calculated terms\n",
      "\tAchilles-Avana-2D _gene_effect\n",
      "\tAchilles-Avana-2D _selected_efficacies\n",
      "\tAchilles-Avana-2D_predicted_readcounts_unscaled\n",
      "\tAchilles-Avana-2D _predicted_readcounts\n",
      "\tAchilles-Avana-2D _normalized_readcounts\n",
      "\tAchilles-Avana-2D _cost_presum\n",
      "\tAchilles-Avana-2D _cost\n",
      "\tAchilles-Avana-2D _full_costs\n",
      "\tAchilles-KY-2D _gene_effect\n",
      "\tAchilles-KY-2D _selected_efficacies\n",
      "\tAchilles-KY-2D_predicted_readcounts_unscaled\n",
      "\tAchilles-KY-2D _predicted_readcounts\n",
      "\tAchilles-KY-2D _normalized_readcounts\n",
      "\tAchilles-KY-2D _cost_presum\n",
      "\tAchilles-KY-2D _cost\n",
      "\tAchilles-KY-2D _full_costs\n",
      "waiting for user to load model\n"
     ]
    }
   ],
   "source": [
    "model2_pretrained = chronos.Chronos(\n",
    "    sequence_map={\"Achilles-Avana-2D\": sequence_map, 'Achilles-KY-2D': ky_sequence_map},\n",
    "    guide_gene_map={\"Achilles-Avana-2D\": guide_map, 'Achilles-KY-2D': ky_guide_map},\n",
    "    readcounts={\"Achilles-Avana-2D\": readcounts, 'Achilles-KY-2D': ky_readcounts},\n",
    "    negative_control_sgrnas={\"Achilles-Avana-2D\": negative_controls, \"Achilles-KY-2D\": ky_negative_controls},\n",
    "    pretrained=True\n",
    ")"
   ]
  },
  {
   "cell_type": "markdown",
   "metadata": {},
   "source": [
    "Now we import the DepMap data from the directory into the model, and train:"
   ]
  },
  {
   "cell_type": "code",
   "execution_count": null,
   "metadata": {},
   "outputs": [],
   "source": [
    "#Note: this example will not work until after DepMapParameters has been updated  the 25Q3 release this fall\n",
    "model2_pretrained.import_model(\"./Data/DepMapParameters/\")"
   ]
  },
  {
   "cell_type": "code",
   "execution_count": null,
   "metadata": {
    "scrolled": true
   },
   "outputs": [],
   "source": [
    "model2_pretrained.train()"
   ]
  },
  {
   "cell_type": "code",
   "execution_count": null,
   "metadata": {},
   "outputs": [],
   "source": []
  }
 ],
 "metadata": {
  "kernelspec": {
   "display_name": "Python 3 (ipykernel)",
   "language": "python",
   "name": "python3"
  },
  "language_info": {
   "codemirror_mode": {
    "name": "ipython",
    "version": 3
   },
   "file_extension": ".py",
   "mimetype": "text/x-python",
   "name": "python",
   "nbconvert_exporter": "python",
   "pygments_lexer": "ipython3",
   "version": "3.12.6"
  },
  "toc": {
   "base_numbering": 1,
   "nav_menu": {
    "height": "183.991px",
    "width": "287.997px"
   },
   "number_sections": true,
   "sideBar": true,
   "skip_h1_title": false,
   "title_cell": "Table of Contents",
   "title_sidebar": "Contents",
   "toc_cell": false,
   "toc_position": {
    "height": "calc(100% - 180px)",
    "left": "10px",
    "top": "150px",
    "width": "272px"
   },
   "toc_section_display": true,
   "toc_window_display": true
  }
 },
 "nbformat": 4,
 "nbformat_minor": 4
}
