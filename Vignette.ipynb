{
 "cells": [
  {
   "cell_type": "markdown",
   "metadata": {},
   "source": [
    "# Chronos Vignette"
   ]
  },
  {
   "cell_type": "markdown",
   "metadata": {},
   "source": [
    "This vignette walks through a simple exercise in training Chronos on a subset of DepMap public 20Q4 and the Sanger Institute's Project Score data. "
   ]
  },
  {
   "cell_type": "markdown",
   "metadata": {},
   "source": [
    "## Imports"
   ]
  },
  {
   "cell_type": "code",
   "execution_count": 1,
   "metadata": {},
   "outputs": [],
   "source": [
    "%load_ext autoreload\n",
    "%autoreload 2"
   ]
  },
  {
   "cell_type": "code",
   "execution_count": 2,
   "metadata": {},
   "outputs": [],
   "source": [
    "import numpy as np\n",
    "import pandas as pd\n",
    "import chronos\n",
    "import os\n",
    "from matplotlib import pyplot as plt\n",
    "import seaborn as sns\n",
    "from taigapy import default_tc as tc"
   ]
  },
  {
   "cell_type": "markdown",
   "metadata": {},
   "source": [
    "Some tweaks that will make plots more legible"
   ]
  },
  {
   "cell_type": "code",
   "execution_count": 3,
   "metadata": {},
   "outputs": [],
   "source": [
    "from matplotlib import rcParams\n",
    "rcParams['axes.titlesize'] = 14\n",
    "rcParams['axes.spines.right'] = False\n",
    "rcParams['axes.spines.top'] = False\n",
    "rcParams['savefig.dpi'] = 200\n",
    "rcParams['savefig.transparent'] = False\n",
    "rcParams['font.family'] = 'Arial'\n",
    "rcParams['font.size'] = '11'\n",
    "rcParams['figure.dpi'] = 200\n",
    "rcParams[\"savefig.facecolor\"] = (1, 1, 1.0, 0.2)\n",
    "\n",
    "rcParams['xtick.labelsize'] = 10\n",
    "rcParams['ytick.labelsize'] = 10\n",
    "rcParams['legend.fontsize'] = 7"
   ]
  },
  {
   "cell_type": "markdown",
   "metadata": {},
   "source": [
    "## Setting up the Data"
   ]
  },
  {
   "cell_type": "markdown",
   "metadata": {},
   "source": [
    "Chronos always requires at least three dataframes: \n",
    "* a matrix of readcounts with sequenced entities as the index, individual sgRNAs as the columns, and values indicating how many reads were found for that sgRNA. A sequenced entity any vector of sgRNA readcounts read out during the experiment. It could be a sequencing run of pDNA, or of a biological replicate at some time point during the experiment.\n",
    "* A sequence map mapping sequenced entities to either pDNA or a cell line and giving the days since infection and pDNA batch. \n",
    "* A guide map mapping sgRNAs to genes. Each sgRNA included must map to one and only one gene."
   ]
  },
  {
   "cell_type": "markdown",
   "metadata": {},
   "source": [
    "Below, we'll load a small subset of the DepMap Avana data. The files have been reformatted from the release to the format Chronos expects"
   ]
  },
  {
   "cell_type": "code",
   "execution_count": 4,
   "metadata": {},
   "outputs": [
    {
     "data": {
      "text/plain": [
       "<module 'h5py' from '/opt/homebrew/lib/python3.11/site-packages/h5py/__init__.py'>"
      ]
     },
     "execution_count": 4,
     "metadata": {},
     "output_type": "execute_result"
    }
   ],
   "source": [
    "import h5py\n",
    "h5py"
   ]
  },
  {
   "cell_type": "code",
   "execution_count": 5,
   "metadata": {},
   "outputs": [],
   "source": [
    "sequence_map = pd.read_csv(\"Data/SampleData/AvanaSequenceMap.csv\")\n",
    "guide_map = pd.read_csv(\"Data/SampleData/AvanaGuideMap.csv\")\n",
    "readcounts = chronos.read_hdf5(\"Data/SampleData/AvanaReadcounts.hdf5\")"
   ]
  },
  {
   "cell_type": "markdown",
   "metadata": {},
   "source": [
    "Sequence maps must have the columns\n",
    "\n",
    "* sequence_id (str), which must match a row in readcounts\n",
    "* cell_line_name (str). Must be \"pDNA\" for pDNA, and each pDNA batch must have at least one pDNA measurement.\n",
    "* pDNA batch (any simple hashable type, preferably int or str). pDNA measurements sharing the same batch will be grouped and averaged, then used as the reference for all biological replicate sequencings assigned that same batch. If you don't have multiple pDNA batches (by far the most common experimental condition), just fill this column with 0 or some other constant value.\n",
    "* days: days post infection. This value will be ignored for pDNA.\n",
    "\n",
    "Other columns will be ignored."
   ]
  },
  {
   "cell_type": "code",
   "execution_count": 6,
   "metadata": {},
   "outputs": [
    {
     "data": {
      "text/html": [
       "<div>\n",
       "<style scoped>\n",
       "    .dataframe tbody tr th:only-of-type {\n",
       "        vertical-align: middle;\n",
       "    }\n",
       "\n",
       "    .dataframe tbody tr th {\n",
       "        vertical-align: top;\n",
       "    }\n",
       "\n",
       "    .dataframe thead th {\n",
       "        text-align: right;\n",
       "    }\n",
       "</style>\n",
       "<table border=\"1\" class=\"dataframe\">\n",
       "  <thead>\n",
       "    <tr style=\"text-align: right;\">\n",
       "      <th></th>\n",
       "      <th>sequence_ID</th>\n",
       "      <th>ScreenID</th>\n",
       "      <th>days</th>\n",
       "      <th>pDNA_batch</th>\n",
       "      <th>Replicate</th>\n",
       "      <th>ScreenType</th>\n",
       "      <th>cell_line_name</th>\n",
       "      <th>ModelConditionID</th>\n",
       "      <th>Library</th>\n",
       "      <th>PassesQC</th>\n",
       "    </tr>\n",
       "  </thead>\n",
       "  <tbody>\n",
       "    <tr>\n",
       "      <th>0</th>\n",
       "      <td>HEL-311Cas9_RepA_p4_Avana-3</td>\n",
       "      <td>SC-000004.AV01</td>\n",
       "      <td>21</td>\n",
       "      <td>Avana-3</td>\n",
       "      <td>A</td>\n",
       "      <td>2DS</td>\n",
       "      <td>ACH-000004</td>\n",
       "      <td>MC-000004-pA3k</td>\n",
       "      <td>Avana</td>\n",
       "      <td>True</td>\n",
       "    </tr>\n",
       "    <tr>\n",
       "      <th>1</th>\n",
       "      <td>HEL-311Cas9_RepB_p4_Avana-3</td>\n",
       "      <td>SC-000004.AV01</td>\n",
       "      <td>21</td>\n",
       "      <td>Avana-3</td>\n",
       "      <td>B</td>\n",
       "      <td>2DS</td>\n",
       "      <td>ACH-000004</td>\n",
       "      <td>MC-000004-pA3k</td>\n",
       "      <td>Avana</td>\n",
       "      <td>True</td>\n",
       "    </tr>\n",
       "    <tr>\n",
       "      <th>2</th>\n",
       "      <td>KU812-311cas9-RepA-p6_Avana-3</td>\n",
       "      <td>SC-000074.AV01</td>\n",
       "      <td>21</td>\n",
       "      <td>Avana-3</td>\n",
       "      <td>A</td>\n",
       "      <td>2DS</td>\n",
       "      <td>ACH-000074</td>\n",
       "      <td>MC-000074-OKtM</td>\n",
       "      <td>Avana</td>\n",
       "      <td>True</td>\n",
       "    </tr>\n",
       "    <tr>\n",
       "      <th>3</th>\n",
       "      <td>KU812-311cas9-RepB-p6_Avana-3</td>\n",
       "      <td>SC-000074.AV01</td>\n",
       "      <td>21</td>\n",
       "      <td>Avana-3</td>\n",
       "      <td>B</td>\n",
       "      <td>2DS</td>\n",
       "      <td>ACH-000074</td>\n",
       "      <td>MC-000074-OKtM</td>\n",
       "      <td>Avana</td>\n",
       "      <td>True</td>\n",
       "    </tr>\n",
       "    <tr>\n",
       "      <th>4</th>\n",
       "      <td>T47D-311Cas9-RepA-p6_Avana-4</td>\n",
       "      <td>SC-000147.AV01</td>\n",
       "      <td>21</td>\n",
       "      <td>Avana-4</td>\n",
       "      <td>A</td>\n",
       "      <td>2DS</td>\n",
       "      <td>ACH-000147</td>\n",
       "      <td>MC-000147-Uovr</td>\n",
       "      <td>Avana</td>\n",
       "      <td>True</td>\n",
       "    </tr>\n",
       "  </tbody>\n",
       "</table>\n",
       "</div>"
      ],
      "text/plain": [
       "                     sequence_ID        ScreenID  days pDNA_batch Replicate  \\\n",
       "0    HEL-311Cas9_RepA_p4_Avana-3  SC-000004.AV01    21    Avana-3         A   \n",
       "1    HEL-311Cas9_RepB_p4_Avana-3  SC-000004.AV01    21    Avana-3         B   \n",
       "2  KU812-311cas9-RepA-p6_Avana-3  SC-000074.AV01    21    Avana-3         A   \n",
       "3  KU812-311cas9-RepB-p6_Avana-3  SC-000074.AV01    21    Avana-3         B   \n",
       "4   T47D-311Cas9-RepA-p6_Avana-4  SC-000147.AV01    21    Avana-4         A   \n",
       "\n",
       "  ScreenType cell_line_name ModelConditionID Library  PassesQC  \n",
       "0        2DS     ACH-000004   MC-000004-pA3k   Avana      True  \n",
       "1        2DS     ACH-000004   MC-000004-pA3k   Avana      True  \n",
       "2        2DS     ACH-000074   MC-000074-OKtM   Avana      True  \n",
       "3        2DS     ACH-000074   MC-000074-OKtM   Avana      True  \n",
       "4        2DS     ACH-000147   MC-000147-Uovr   Avana      True  "
      ]
     },
     "execution_count": 6,
     "metadata": {},
     "output_type": "execute_result"
    }
   ],
   "source": [
    "sequence_map[:5]"
   ]
  },
  {
   "cell_type": "markdown",
   "metadata": {},
   "source": [
    "Guide maps must have the columns \n",
    "\n",
    "* sgrna (str): must match a column in readcounts. An sgrna can only appear once in this data frame.\n",
    "* gene (str): the gene the sgrna maps to.\n",
    "\n",
    "Other columns will be ignored."
   ]
  },
  {
   "cell_type": "code",
   "execution_count": 7,
   "metadata": {},
   "outputs": [
    {
     "data": {
      "text/html": [
       "<div>\n",
       "<style scoped>\n",
       "    .dataframe tbody tr th:only-of-type {\n",
       "        vertical-align: middle;\n",
       "    }\n",
       "\n",
       "    .dataframe tbody tr th {\n",
       "        vertical-align: top;\n",
       "    }\n",
       "\n",
       "    .dataframe thead th {\n",
       "        text-align: right;\n",
       "    }\n",
       "</style>\n",
       "<table border=\"1\" class=\"dataframe\">\n",
       "  <thead>\n",
       "    <tr style=\"text-align: right;\">\n",
       "      <th></th>\n",
       "      <th>sgrna</th>\n",
       "      <th>GenomeAlignment</th>\n",
       "      <th>gene</th>\n",
       "      <th>nAlignments</th>\n",
       "      <th>DropReason</th>\n",
       "      <th>UsedByChronos</th>\n",
       "    </tr>\n",
       "  </thead>\n",
       "  <tbody>\n",
       "    <tr>\n",
       "      <th>0</th>\n",
       "      <td>AAAAATGCGCAAATTCAGCG</td>\n",
       "      <td>chr3_138742712_-</td>\n",
       "      <td>PIK3CB (5291)</td>\n",
       "      <td>1.0</td>\n",
       "      <td>NaN</td>\n",
       "      <td>True</td>\n",
       "    </tr>\n",
       "    <tr>\n",
       "      <th>1</th>\n",
       "      <td>AAAACACATCAGTATAACAT</td>\n",
       "      <td>chr3_49368469_+</td>\n",
       "      <td>RHOA (387)</td>\n",
       "      <td>1.0</td>\n",
       "      <td>NaN</td>\n",
       "      <td>True</td>\n",
       "    </tr>\n",
       "    <tr>\n",
       "      <th>2</th>\n",
       "      <td>AAAACTACAGAAGCCTCCCG</td>\n",
       "      <td>chr10_34450424_-</td>\n",
       "      <td>PARD3 (56288)</td>\n",
       "      <td>1.0</td>\n",
       "      <td>NaN</td>\n",
       "      <td>True</td>\n",
       "    </tr>\n",
       "    <tr>\n",
       "      <th>3</th>\n",
       "      <td>AAAAGGCCTGACATATCTGA</td>\n",
       "      <td>chr15_66444677_+</td>\n",
       "      <td>MAP2K1 (5604)</td>\n",
       "      <td>2.0</td>\n",
       "      <td>NaN</td>\n",
       "      <td>True</td>\n",
       "    </tr>\n",
       "  </tbody>\n",
       "</table>\n",
       "</div>"
      ],
      "text/plain": [
       "                  sgrna   GenomeAlignment           gene  nAlignments  \\\n",
       "0  AAAAATGCGCAAATTCAGCG  chr3_138742712_-  PIK3CB (5291)          1.0   \n",
       "1  AAAACACATCAGTATAACAT   chr3_49368469_+     RHOA (387)          1.0   \n",
       "2  AAAACTACAGAAGCCTCCCG  chr10_34450424_-  PARD3 (56288)          1.0   \n",
       "3  AAAAGGCCTGACATATCTGA  chr15_66444677_+  MAP2K1 (5604)          2.0   \n",
       "\n",
       "   DropReason  UsedByChronos  \n",
       "0         NaN           True  \n",
       "1         NaN           True  \n",
       "2         NaN           True  \n",
       "3         NaN           True  "
      ]
     },
     "execution_count": 7,
     "metadata": {},
     "output_type": "execute_result"
    }
   ],
   "source": [
    "guide_map[:4]"
   ]
  },
  {
   "cell_type": "markdown",
   "metadata": {},
   "source": [
    "Finally, here's what readcounts should look like. They can include NaNs. Note the axes."
   ]
  },
  {
   "cell_type": "code",
   "execution_count": 8,
   "metadata": {},
   "outputs": [
    {
     "data": {
      "text/html": [
       "<div>\n",
       "<style scoped>\n",
       "    .dataframe tbody tr th:only-of-type {\n",
       "        vertical-align: middle;\n",
       "    }\n",
       "\n",
       "    .dataframe tbody tr th {\n",
       "        vertical-align: top;\n",
       "    }\n",
       "\n",
       "    .dataframe thead th {\n",
       "        text-align: right;\n",
       "    }\n",
       "</style>\n",
       "<table border=\"1\" class=\"dataframe\">\n",
       "  <thead>\n",
       "    <tr style=\"text-align: right;\">\n",
       "      <th></th>\n",
       "      <th>AAAAATGCGCAAATTCAGCG</th>\n",
       "      <th>AAAACACATCAGTATAACAT</th>\n",
       "      <th>AAAACTACAGAAGCCTCCCG</th>\n",
       "    </tr>\n",
       "  </thead>\n",
       "  <tbody>\n",
       "    <tr>\n",
       "      <th>HEL-311Cas9_RepA_p4_Avana-3</th>\n",
       "      <td>101.0</td>\n",
       "      <td>224.0</td>\n",
       "      <td>636.0</td>\n",
       "    </tr>\n",
       "    <tr>\n",
       "      <th>HEL-311Cas9_RepB_p4_Avana-3</th>\n",
       "      <td>147.0</td>\n",
       "      <td>400.0</td>\n",
       "      <td>350.0</td>\n",
       "    </tr>\n",
       "    <tr>\n",
       "      <th>KU812-311cas9-RepA-p6_Avana-3</th>\n",
       "      <td>124.0</td>\n",
       "      <td>191.0</td>\n",
       "      <td>364.0</td>\n",
       "    </tr>\n",
       "    <tr>\n",
       "      <th>KU812-311cas9-RepB-p6_Avana-3</th>\n",
       "      <td>129.0</td>\n",
       "      <td>536.0</td>\n",
       "      <td>1280.0</td>\n",
       "    </tr>\n",
       "  </tbody>\n",
       "</table>\n",
       "</div>"
      ],
      "text/plain": [
       "                               AAAAATGCGCAAATTCAGCG  AAAACACATCAGTATAACAT  \\\n",
       "HEL-311Cas9_RepA_p4_Avana-3                   101.0                 224.0   \n",
       "HEL-311Cas9_RepB_p4_Avana-3                   147.0                 400.0   \n",
       "KU812-311cas9-RepA-p6_Avana-3                 124.0                 191.0   \n",
       "KU812-311cas9-RepB-p6_Avana-3                 129.0                 536.0   \n",
       "\n",
       "                               AAAACTACAGAAGCCTCCCG  \n",
       "HEL-311Cas9_RepA_p4_Avana-3                   636.0  \n",
       "HEL-311Cas9_RepB_p4_Avana-3                   350.0  \n",
       "KU812-311cas9-RepA-p6_Avana-3                 364.0  \n",
       "KU812-311cas9-RepB-p6_Avana-3                1280.0  "
      ]
     },
     "execution_count": 8,
     "metadata": {},
     "output_type": "execute_result"
    }
   ],
   "source": [
    "readcounts.iloc[:4, :3]"
   ]
  },
  {
   "cell_type": "markdown",
   "metadata": {},
   "source": [
    "To QC the data, we'll want control groups. We'll use predefined sets of common and nonessential genes, and use these to define control sets of sgRNAs."
   ]
  },
  {
   "cell_type": "code",
   "execution_count": 9,
   "metadata": {},
   "outputs": [],
   "source": [
    "common_essentials = pd.read_csv(\"Data/SampleData/AchillesCommonEssentialControls.csv\")[\"Gene\"]\n",
    "nonessentials = pd.read_csv(\"Data/SampleData/AchillesNonessentialControls.csv\")[\"Gene\"]"
   ]
  },
  {
   "cell_type": "code",
   "execution_count": 10,
   "metadata": {},
   "outputs": [],
   "source": [
    "positive_controls = guide_map.sgrna[guide_map.gene.isin(common_essentials)]\n",
    "negative_controls = guide_map.sgrna[guide_map.gene.isin(nonessentials)]"
   ]
  },
  {
   "cell_type": "markdown",
   "metadata": {},
   "source": [
    "### NaNing clonal outgrowths"
   ]
  },
  {
   "cell_type": "markdown",
   "metadata": {},
   "source": [
    "In Achilles, we've observed rare instances where a single guide in a single biological replicate will produce an unexpectedly large number of readcounts, while other guides targeting the same gene or other replicates of the same cell line do not show many readcounts. We suspect this is the result of a single clone gaining some fitness advantage. Although it _could_ be related to a change induced by the guide, in general it's probably misleading. Therefore Chronos has an option to identify and remove these events."
   ]
  },
  {
   "cell_type": "code",
   "execution_count": 11,
   "metadata": {},
   "outputs": [
    {
     "name": "stdout",
     "output_type": "stream",
     "text": [
      "calculating LFC\n",
      "stacking and annotating LFC\n"
     ]
    },
    {
     "name": "stderr",
     "output_type": "stream",
     "text": [
      "/Users/dempster/packages/chronos_public/chronos/model.py:215: RuntimeWarning: divide by zero encountered in divide\n",
      "  fc = pd.DataFrame(fc.values/pdna_reference.loc[sequence_map.set_index('sequence_ID').loc[reps, 'pDNA_batch']].values,\n",
      "/Users/dempster/packages/chronos_public/chronos/model.py:215: RuntimeWarning: invalid value encountered in divide\n",
      "  fc = pd.DataFrame(fc.values/pdna_reference.loc[sequence_map.set_index('sequence_ID').loc[reps, 'pDNA_batch']].values,\n",
      "/Users/dempster/packages/chronos_public/chronos/model.py:439: RuntimeWarning: divide by zero encountered in log2\n",
      "  np.log2(fc.values), index=fc.index,columns=fc.columns\n"
     ]
    },
    {
     "name": "stdout",
     "output_type": "stream",
     "text": [
      "finding group boundaries\n",
      "removing cases with only one guide and replicate\n",
      "finding maximal values\n",
      "making mask\n",
      "found 7 outgrowths, 2.2E-05 of the total\n",
      "pivoting mask\n",
      "aligning_mask\n",
      "NaNing\n"
     ]
    },
    {
     "name": "stderr",
     "output_type": "stream",
     "text": [
      "/Users/dempster/packages/chronos_public/chronos/model.py:478: FutureWarning: ChainedAssignmentError: behaviour will change in pandas 3.0!\n",
      "You are setting values through chained assignment. Currently this works in certain cases, but when using Copy-on-Write (which will become the default behaviour in pandas 3.0) this will never work to update the original DataFrame or Series, because the intermediate object on which we are setting values will behave as a copy.\n",
      "A typical example is when you are setting values in a column of a DataFrame, like:\n",
      "\n",
      "df[\"col\"][row_indexer] = value\n",
      "\n",
      "Use `df.loc[row_indexer, \"col\"] = values` instead, to perform the assignment in a single step and ensure this keeps updating the original `df`.\n",
      "\n",
      "See the caveats in the documentation: https://pandas.pydata.org/pandas-docs/stable/user_guide/indexing.html#returning-a-view-versus-a-copy\n",
      "\n",
      "  lfc_stack[\"Mask\"].loc[bad_rows] = True\n",
      "/Users/dempster/packages/chronos_public/chronos/model.py:478: SettingWithCopyWarning: \n",
      "A value is trying to be set on a copy of a slice from a DataFrame\n",
      "\n",
      "See the caveats in the documentation: https://pandas.pydata.org/pandas-docs/stable/user_guide/indexing.html#returning-a-view-versus-a-copy\n",
      "  lfc_stack[\"Mask\"].loc[bad_rows] = True\n",
      "/Users/dempster/packages/chronos_public/chronos/model.py:484: FutureWarning: Downcasting object dtype arrays on .fillna, .ffill, .bfill is deprecated and will change in a future version. Call result.infer_objects(copy=False) instead. To opt-in to the future behavior, set `pd.set_option('future.no_silent_downcasting', True)`\n",
      "  mask = mask.reindex(index=readcounts.index, columns=readcounts.columns).fillna(False)\n"
     ]
    }
   ],
   "source": [
    "chronos.nan_outgrowths(readcounts=readcounts, guide_gene_map=guide_map,\n",
    "                                   sequence_map=sequence_map)"
   ]
  },
  {
   "cell_type": "markdown",
   "metadata": {},
   "source": [
    "### QCing the data"
   ]
  },
  {
   "cell_type": "markdown",
   "metadata": {},
   "source": [
    "You can generate a report with basic QC metrics about your data. You don't have to have control guides to do this, but the report is most useful if you do. If you don't have the `reportlab` python package installed, this section will error and should be skipped. This command will write a pdf report named \"Initial QC.pdf\" in the `./Data/reports` directory."
   ]
  },
  {
   "cell_type": "code",
   "execution_count": 12,
   "metadata": {},
   "outputs": [],
   "source": [
    "reportdir = \"./Data/reports\"\n",
    "# permanently deletes the directory - careful if you edit this line!\n",
    "! rm -rf \"./Data/reports\"\n",
    "! mkdir \"./Data/reports\""
   ]
  },
  {
   "cell_type": "code",
   "execution_count": 13,
   "metadata": {},
   "outputs": [
    {
     "name": "stderr",
     "output_type": "stream",
     "text": [
      "/opt/homebrew/lib/python3.11/site-packages/umap/distances.py:1063: NumbaDeprecationWarning: The 'nopython' keyword argument was not supplied to the 'numba.jit' decorator. The implicit default value for this argument is currently False, but it will be changed to True in Numba 0.59.0. See https://numba.readthedocs.io/en/stable/reference/deprecation.html#deprecation-of-object-mode-fall-back-behaviour-when-using-jit for details.\n",
      "  @numba.jit()\n",
      "/opt/homebrew/lib/python3.11/site-packages/umap/distances.py:1071: NumbaDeprecationWarning: The 'nopython' keyword argument was not supplied to the 'numba.jit' decorator. The implicit default value for this argument is currently False, but it will be changed to True in Numba 0.59.0. See https://numba.readthedocs.io/en/stable/reference/deprecation.html#deprecation-of-object-mode-fall-back-behaviour-when-using-jit for details.\n",
      "  @numba.jit()\n",
      "/opt/homebrew/lib/python3.11/site-packages/umap/distances.py:1086: NumbaDeprecationWarning: The 'nopython' keyword argument was not supplied to the 'numba.jit' decorator. The implicit default value for this argument is currently False, but it will be changed to True in Numba 0.59.0. See https://numba.readthedocs.io/en/stable/reference/deprecation.html#deprecation-of-object-mode-fall-back-behaviour-when-using-jit for details.\n",
      "  @numba.jit()\n",
      "/opt/homebrew/lib/python3.11/site-packages/umap/umap_.py:660: NumbaDeprecationWarning: The 'nopython' keyword argument was not supplied to the 'numba.jit' decorator. The implicit default value for this argument is currently False, but it will be changed to True in Numba 0.59.0. See https://numba.readthedocs.io/en/stable/reference/deprecation.html#deprecation-of-object-mode-fall-back-behaviour-when-using-jit for details.\n",
      "  @numba.jit()\n"
     ]
    },
    {
     "name": "stdout",
     "output_type": "stream",
     "text": [
      "calculating replicate correlation\n",
      "generating control separation metrics\n",
      "Plotting log fold-change distribution\n"
     ]
    },
    {
     "name": "stderr",
     "output_type": "stream",
     "text": [
      "/opt/homebrew/lib/python3.11/site-packages/seaborn/_oldcore.py:1119: FutureWarning: use_inf_as_na option is deprecated and will be removed in a future version. Convert inf values to NaN before operating instead.\n",
      "  with pd.option_context('mode.use_inf_as_na', True):\n",
      "/opt/homebrew/lib/python3.11/site-packages/seaborn/_oldcore.py:1119: FutureWarning: use_inf_as_na option is deprecated and will be removed in a future version. Convert inf values to NaN before operating instead.\n",
      "  with pd.option_context('mode.use_inf_as_na', True):\n",
      "/opt/homebrew/lib/python3.11/site-packages/seaborn/_oldcore.py:1119: FutureWarning: use_inf_as_na option is deprecated and will be removed in a future version. Convert inf values to NaN before operating instead.\n",
      "  with pd.option_context('mode.use_inf_as_na', True):\n"
     ]
    },
    {
     "name": "stdout",
     "output_type": "stream",
     "text": [
      "plotting control separation metrics\n"
     ]
    },
    {
     "name": "stderr",
     "output_type": "stream",
     "text": [
      "/Users/dempster/packages/chronos_public/chronos/evaluations.py:317: UserWarning: The figure layout has changed to tight\n",
      "  plt.tight_layout()\n",
      "/Users/dempster/packages/chronos_public/chronos/reports.py:210: UserWarning: The figure layout has changed to tight\n",
      "  plt.tight_layout()\n",
      "/Users/dempster/packages/chronos_public/chronos/evaluations.py:317: UserWarning: The figure layout has changed to tight\n",
      "  plt.tight_layout()\n",
      "/Users/dempster/packages/chronos_public/chronos/reports.py:210: UserWarning: The figure layout has changed to tight\n",
      "  plt.tight_layout()\n",
      "/Users/dempster/packages/chronos_public/chronos/evaluations.py:317: UserWarning: The figure layout has changed to tight\n",
      "  plt.tight_layout()\n",
      "/Users/dempster/packages/chronos_public/chronos/reports.py:210: UserWarning: The figure layout has changed to tight\n",
      "  plt.tight_layout()\n",
      "/Users/dempster/packages/chronos_public/chronos/evaluations.py:317: UserWarning: The figure layout has changed to tight\n",
      "  plt.tight_layout()\n",
      "/Users/dempster/packages/chronos_public/chronos/reports.py:210: UserWarning: The figure layout has changed to tight\n",
      "  plt.tight_layout()\n",
      "/Users/dempster/packages/chronos_public/chronos/evaluations.py:317: UserWarning: The figure layout has changed to tight\n",
      "  plt.tight_layout()\n",
      "/Users/dempster/packages/chronos_public/chronos/reports.py:210: UserWarning: The figure layout has changed to tight\n",
      "  plt.tight_layout()\n",
      "/Users/dempster/packages/chronos_public/chronos/evaluations.py:317: UserWarning: The figure layout has changed to tight\n",
      "  plt.tight_layout()\n",
      "/Users/dempster/packages/chronos_public/chronos/reports.py:210: UserWarning: The figure layout has changed to tight\n",
      "  plt.tight_layout()\n",
      "/Users/dempster/packages/chronos_public/chronos/evaluations.py:317: UserWarning: The figure layout has changed to tight\n",
      "  plt.tight_layout()\n",
      "/Users/dempster/packages/chronos_public/chronos/reports.py:210: UserWarning: The figure layout has changed to tight\n",
      "  plt.tight_layout()\n"
     ]
    }
   ],
   "source": [
    "from chronos import reports\n",
    "metrics = reports.qc_initial_data(\"Initial QC\", readcounts, sequence_map,guide_map, \n",
    "        negative_controls, positive_controls,\n",
    "                  directory=reportdir\n",
    "       )"
   ]
  },
  {
   "cell_type": "markdown",
   "metadata": {},
   "source": [
    "Look in the Data/reports directory to see the QC report, \"Initial QC.pdf\"."
   ]
  },
  {
   "cell_type": "markdown",
   "metadata": {},
   "source": [
    "## Train Chronos"
   ]
  },
  {
   "cell_type": "markdown",
   "metadata": {},
   "source": [
    "### Creating the model"
   ]
  },
  {
   "cell_type": "markdown",
   "metadata": {},
   "source": [
    "Now we initialize the model. Note the form of the data: each of the three parameters is actually a dictionary. If we were training the model with data from multiple libraries simultaneously, each library's data would have its own entries in the dict. \n",
    "\n",
    "The `negative_control_sgrnas` is an optional parameter, but including it will allow 1. better removal of library size effects from readcounts, and 2. estimation of the negative binomial quadratic overdispersion parameter per screen, which is otherwise a fixed hyperparameter. If provided, these should be cutting sgRNAs that are strongly expected to have no viability impact.\n",
    "\n",
    "`log_dir` is an optional argument containing a directory for tensorflow to write summaries to. We include it here so that tensorboard can load the model."
   ]
  },
  {
   "cell_type": "code",
   "execution_count": 14,
   "metadata": {},
   "outputs": [],
   "source": [
    "logdir = \"./Data/logs\"\n",
    "# permanently deletes the directory - careful if you edit this line!\n",
    "! rm -rf \"./Data/logs\"\n",
    "! mkdir \"./Data/logs\""
   ]
  },
  {
   "cell_type": "code",
   "execution_count": 130,
   "metadata": {},
   "outputs": [],
   "source": [
    "import warnings\n",
    "warnings.filterwarnings(\"error\")"
   ]
  },
  {
   "cell_type": "code",
   "execution_count": 131,
   "metadata": {
    "scrolled": true
   },
   "outputs": [
    {
     "name": "stdout",
     "output_type": "stream",
     "text": [
      "normalizing readcounts\n",
      "\n",
      "\n",
      "Finding all unique guides and genes\n",
      "found 3474 unique guides and 883 unique genes in avana\n",
      "found 3474 unique guides and 883 unique genes overall\n",
      "\n",
      "finding guide-gene mapping indices\n",
      "\n",
      "finding all unique sequenced replicates, cell lines, and pDNA batches\n",
      "found 92 unique sequences (excluding pDNA), 92 unique replicates, and 44 unique cell lines in avana\n",
      "found 92 unique late time points and 44 unique cell lines overall\n",
      "\n",
      "finding sequence-cell line mappings indices\n",
      "\n",
      "finding replicate mappings indices\n",
      "\n",
      "finding late time point-pDNA mappings indices\n",
      "\n",
      "\n",
      "assigning float constants\n",
      "Estimating or aligning variances\n",
      "\tEstimating excess variance (alpha) for avana\n",
      "Creating excess variance tensors\n",
      "\tCreated excess variance tensor for avana with shape [92, 1]\n",
      "initializing graph\n",
      "\n",
      "building gene effect mask\n",
      "\n",
      "building doubling vectors\n",
      "made days vector of shape [92, 1] for avana\n",
      "\n",
      "building late observed timepoints\n",
      "\tbuilt normalized timepoints for avana with shape (92, 3474) (replicates X guides)\n",
      "\n",
      "building t0 reads\n",
      "\n",
      "\n",
      "Building variables\n",
      "\n",
      "building t0 reads estimate\n",
      "made t0 batch with shape (3, 3474) for avana\n",
      "building guide efficacy\n",
      "built guide efficacy: shape [1, 3475]\n",
      "building growth rate\n",
      "built growth rate: shape {'avana': [92, 1]}\n",
      "\n",
      "building replicate efficacy\n",
      "built replicate efficacy: shapes {'avana': [92, 1]}\n",
      "building screen delay\n",
      "built screen delay\n",
      "building gene effect\n",
      "built core gene effect: 44 cell lines by 883 genes\n",
      "\n",
      "\n",
      "Connecting graph nodes in model\n",
      "\n",
      "building effective days\n",
      "built effective days, shapes {'avana': [92, 883]}\n",
      "\n",
      "building gene effect growth graph nodes\n",
      "built gene effect growth graph nodes, shapes {'avana': [92, 883]}\n",
      "\n",
      "building combined efficacy\n",
      "built combined efficacy, shape {'avana': [92, 3474]}\n",
      "built expanded combined efficacy, shapes {'avana': [92, 3474]}\n",
      "\n",
      "building growth estimates of edited cells and overall estimates of fold change in guide abundance\n",
      "built growth and change\n",
      "\n",
      "building unnormalized estimates of final abundance\n",
      "built unnormalized abundance\n",
      "\n",
      "building normalized estimates of final abundance\n",
      "built normalized abundance\n",
      "initializing precost variables\n"
     ]
    },
    {
     "name": "stderr",
     "output_type": "stream",
     "text": [
      "2024-08-12 15:16:24.988485: W tensorflow/c/c_api.cc:304] Operation '{name:'excess_variance_28/avana/Assign' id:92918 op device:{requested: '', assigned: ''} def:{{{node excess_variance_28/avana/Assign}} = AssignVariableOp[_has_manual_control_dependencies=true, dtype=DT_DOUBLE, validate_shape=false](excess_variance_28/avana, excess_variance_28/avana/Initializer/initial_value)}}' was changed by setting attribute after it was run by a session. This mutation will have no effect, and will trigger an error in the future. Either don't modify nodes after running them or create a new session.\n"
     ]
    },
    {
     "name": "stdout",
     "output_type": "stream",
     "text": [
      "\n",
      "\n",
      "Building all costs\n",
      "\n",
      "assembling guide efficacy regularization\n",
      "building smoothed regularization\n",
      "\n",
      "building t0 reads regularization/cost\n",
      "\n",
      "building NB2 cost\n",
      "building other regularizations\n",
      "\n",
      "Creating optimizer\n",
      "\tcreating log at ./Data/logs\n",
      "initializing rest of graph\n"
     ]
    },
    {
     "name": "stderr",
     "output_type": "stream",
     "text": [
      "2024-08-12 15:16:30.237591: W tensorflow/c/c_api.cc:304] Operation '{name:'GE_27/library_effect/avana/Assign' id:93032 op device:{requested: '', assigned: ''} def:{{{node GE_27/library_effect/avana/Assign}} = AssignVariableOp[_has_manual_control_dependencies=true, dtype=DT_DOUBLE, validate_shape=false](GE_27/library_effect/avana, GE_27/library_effect/avana/Initializer/initial_value)}}' was changed by setting attribute after it was run by a session. This mutation will have no effect, and will trigger an error in the future. Either don't modify nodes after running them or create a new session.\n"
     ]
    },
    {
     "name": "stdout",
     "output_type": "stream",
     "text": [
      "estimating initial screen efficacy and gene effect\n",
      "\t avana\n",
      "\tverifying graph integrity\n",
      "verifying user inputs\n",
      "verifying variables\n",
      "verifying calculated terms\n",
      "\tavana _gene_effect\n",
      "\tavana _selected_efficacies\n",
      "\tavana_predicted_readcounts_unscaled\n",
      "\tavana _predicted_readcounts\n",
      "\tavana _normalized_readcounts\n",
      "\tavana _cost_presum\n",
      "sess run\n",
      "\tavana _cost\n",
      "\tavana _full_costs\n",
      "ready to train\n"
     ]
    }
   ],
   "source": [
    "model = chronos.Chronos(\n",
    "    sequence_map={\"avana\": sequence_map},\n",
    "    guide_gene_map={\"avana\": guide_map},\n",
    "    readcounts={\"avana\": readcounts},\n",
    "    negative_control_sgrnas={\"avana\": negative_controls},\n",
    "    log_dir=logdir\n",
    ")"
   ]
  },
  {
   "cell_type": "markdown",
   "metadata": {},
   "source": [
    "If you have tensorboard, the cell below will show Chronos' node structure. `GE` means gene effect (relative change in growth rate), `FC` means predicted fold change, `t0` is the inferred relative guide abundance at t0, and `out_norm` is the predicted readcounts. "
   ]
  },
  {
   "cell_type": "code",
   "execution_count": 16,
   "metadata": {
    "scrolled": true
   },
   "outputs": [
    {
     "data": {
      "text/html": [
       "\n",
       "      <iframe id=\"tensorboard-frame-9f3af13519ccad2f\" width=\"100%\" height=\"800\" frameborder=\"0\">\n",
       "      </iframe>\n",
       "      <script>\n",
       "        (function() {\n",
       "          const frame = document.getElementById(\"tensorboard-frame-9f3af13519ccad2f\");\n",
       "          const url = new URL(\"/\", window.location);\n",
       "          const port = 6006;\n",
       "          if (port) {\n",
       "            url.port = port;\n",
       "          }\n",
       "          frame.src = url;\n",
       "        })();\n",
       "      </script>\n",
       "    "
      ],
      "text/plain": [
       "<IPython.core.display.HTML object>"
      ]
     },
     "metadata": {},
     "output_type": "display_data"
    }
   ],
   "source": [
    "%reload_ext tensorboard\n",
    "!kill $(ps -e | grep 'tensorboard' | awk '{print $1}')\n",
    "%tensorboard --logdir ./data/logs"
   ]
  },
  {
   "cell_type": "markdown",
   "metadata": {},
   "source": [
    "Now, optimizing the model:"
   ]
  },
  {
   "cell_type": "markdown",
   "metadata": {},
   "source": [
    "### Train"
   ]
  },
  {
   "cell_type": "markdown",
   "metadata": {},
   "source": [
    "Below, we train  the model for 301 epochs. This should take a minute or so with periodic updates provided"
   ]
  },
  {
   "cell_type": "code",
   "execution_count": 132,
   "metadata": {
    "scrolled": true
   },
   "outputs": [
    {
     "name": "stdout",
     "output_type": "stream",
     "text": [
      "NB2 cost 0.8058704672804937\n",
      "Full cost 0.8953799625512898\n",
      "relative_growth_rate\n",
      "\tavana max 1.057, min 0.95814\n",
      "mean guide efficacy 0.9991814135764885\n",
      "t0_offset SD: [('avana', 7.071637591842546e-05)]\n",
      "\n",
      "gene mean -0.2067779237845317\n",
      "SD of gene means 0.2994857735474827\n",
      "Mean of gene SDs 0.2673650109993013\n",
      "\n",
      "\n",
      "\n",
      "51 epochs trained, time taken 0:00:03, projected remaining 0:00:16\n",
      "NB2 cost 0.31534656167265745\n",
      "Full cost 0.3774814419956902\n",
      "relative_growth_rate\n",
      "\tavana max 1.121, min 0.38272\n",
      "mean guide efficacy 0.9026981068463629\n",
      "t0_offset SD: [('avana', 0.14155660164208933)]\n",
      "\n",
      "gene mean -0.1318506595353203\n",
      "SD of gene means 0.33112118502988247\n",
      "Mean of gene SDs 0.23993253708615703\n",
      "\n",
      "\n",
      "\n",
      "101 epochs trained, time taken 0:00:05, projected remaining 0:00:09\n",
      "NB2 cost 0.2448701780390689\n",
      "Full cost 0.2762748644552632\n",
      "relative_growth_rate\n",
      "\tavana max 1.707, min 0.17346\n",
      "mean guide efficacy 0.874520048481221\n",
      "t0_offset SD: [('avana', 0.14155049799959127)]\n",
      "\n",
      "gene mean 0.0013798109275200122\n",
      "SD of gene means 0.41679413849442815\n",
      "Mean of gene SDs 0.2159716348716328\n",
      "\n",
      "\n",
      "\n",
      "151 epochs trained, time taken 0:00:06, projected remaining 0:00:06\n",
      "NB2 cost 0.23528384035647767\n",
      "Full cost 0.26367483785684764\n",
      "relative_growth_rate\n",
      "\tavana max 2.217, min 0.08604\n",
      "mean guide efficacy 0.8856367388966712\n",
      "t0_offset SD: [('avana', 0.1386256220823565)]\n",
      "\n",
      "gene mean 0.0014947618878866416\n",
      "SD of gene means 0.44065710986689693\n",
      "Mean of gene SDs 0.21314711331777497\n",
      "\n",
      "\n",
      "\n",
      "201 epochs trained, time taken 0:00:08, projected remaining 0:00:04\n",
      "NB2 cost 0.2313377225078683\n",
      "Full cost 0.259403838932446\n",
      "relative_growth_rate\n",
      "\tavana max 2.439, min 0.08078\n",
      "mean guide efficacy 0.8865314198407059\n",
      "t0_offset SD: [('avana', 0.13751179633679064)]\n",
      "\n",
      "gene mean 0.002034877710138516\n",
      "SD of gene means 0.45884229708495766\n",
      "Mean of gene SDs 0.2159393479898744\n",
      "\n",
      "\n",
      "\n",
      "251 epochs trained, time taken 0:00:09, projected remaining 0:00:02\n",
      "NB2 cost 0.22899761693561058\n",
      "Full cost 0.25707237838774694\n",
      "relative_growth_rate\n",
      "\tavana max 2.954, min 0.07779\n",
      "mean guide efficacy 0.8851454377577008\n",
      "t0_offset SD: [('avana', 0.13714378423510834)]\n",
      "\n",
      "gene mean 0.001399862943908842\n",
      "SD of gene means 0.474334042795813\n",
      "Mean of gene SDs 0.21863316798754673\n",
      "\n",
      "\n",
      "\n",
      "301 epochs trained, time taken 0:00:11, projected remaining 0:00:00\n",
      "NB2 cost 0.2277081787699742\n",
      "Full cost 0.2562385382456983\n",
      "relative_growth_rate\n",
      "\tavana max 3.326, min 0.07532\n",
      "mean guide efficacy 0.8829664885975563\n",
      "t0_offset SD: [('avana', 0.13812040610548096)]\n",
      "\n",
      "gene mean 0.002211753633416215\n",
      "SD of gene means 0.48804842069599613\n",
      "Mean of gene SDs 0.21888087127557349\n",
      "\n",
      "\n",
      "\n"
     ]
    }
   ],
   "source": [
    "model.train(301)"
   ]
  },
  {
   "cell_type": "code",
   "execution_count": 133,
   "metadata": {},
   "outputs": [],
   "source": [
    "presummed = model.cost_presum['avana']"
   ]
  },
  {
   "cell_type": "code",
   "execution_count": 139,
   "metadata": {},
   "outputs": [],
   "source": [
    "ev = model.excess_variance['avana'].values.reshape((-1, 1))"
   ]
  },
  {
   "cell_type": "code",
   "execution_count": 140,
   "metadata": {},
   "outputs": [],
   "source": [
    "reads = model.normalized_readcounts['avana'].values"
   ]
  },
  {
   "cell_type": "code",
   "execution_count": 141,
   "metadata": {},
   "outputs": [],
   "source": [
    "preds = model.predicted_readcounts['avana'].values"
   ]
  },
  {
   "cell_type": "code",
   "execution_count": 142,
   "metadata": {},
   "outputs": [],
   "source": [
    "manual_presummed = pd.DataFrame(\n",
    "    ((reads+1e-6) + 1./ev) * np.log(\n",
    "        1 + ev * (preds + 1e-6)\n",
    ") -\n",
    "    (reads+1e-6) * np.log(\n",
    "        (ev * preds + 1e-6)\n",
    "    ),\n",
    "    index=presummed.index, columns = presummed.columns\n",
    ")"
   ]
  },
  {
   "cell_type": "code",
   "execution_count": null,
   "metadata": {},
   "outputs": [],
   "source": [
    "presummed -"
   ]
  },
  {
   "cell_type": "markdown",
   "metadata": {},
   "source": [
    "## After Training"
   ]
  },
  {
   "cell_type": "markdown",
   "metadata": {},
   "source": [
    "### Saving and Restoring"
   ]
  },
  {
   "cell_type": "markdown",
   "metadata": {},
   "source": [
    "Chronos' `save` method dumps all the inputs, outputs, and model parameters to the specified directory. These files are written such that they can be read in individually and analyzed, but also used to restore the model by passing the directory path to the function `load_saved_model`."
   ]
  },
  {
   "cell_type": "code",
   "execution_count": 18,
   "metadata": {},
   "outputs": [],
   "source": [
    "savedir = \"Data/Achilles_run_compare\""
   ]
  },
  {
   "cell_type": "code",
   "execution_count": 19,
   "metadata": {},
   "outputs": [],
   "source": [
    "if not os.path.isdir(savedir):\n",
    "    os.mkdir(savedir)"
   ]
  },
  {
   "cell_type": "code",
   "execution_count": 39,
   "metadata": {},
   "outputs": [
    {
     "name": "stderr",
     "output_type": "stream",
     "text": [
      "2024-08-12 11:49:46.131003: W tensorflow/c/c_api.cc:304] Operation '{name:'GE_12/library_effect/avana/Adam_1/Assign' id:36917 op device:{requested: '', assigned: ''} def:{{{node GE_12/library_effect/avana/Adam_1/Assign}} = AssignVariableOp[_has_manual_control_dependencies=true, dtype=DT_DOUBLE, validate_shape=false](GE_12/library_effect/avana/Adam_1, GE_12/library_effect/avana/Adam_1/Initializer/zeros)}}' was changed by setting attribute after it was run by a session. This mutation will have no effect, and will trigger an error in the future. Either don't modify nodes after running them or create a new session.\n"
     ]
    }
   ],
   "source": [
    "model.save(savedir, overwrite=True)"
   ]
  },
  {
   "cell_type": "code",
   "execution_count": 40,
   "metadata": {},
   "outputs": [
    {
     "name": "stdout",
     "output_type": "stream",
     "text": [
      "Saved files:\n",
      "\n",
      "\tlibrary_effect.csv\n",
      "\tcell_line_growth_rate.csv\n",
      "\treplicate_growth_rate.csv\n",
      "\tavana_predicted_readcounts.hdf5\n",
      "\tgrowth_rate.csv\n",
      "\tparameters.json\n",
      "\tguide_efficacy.csv\n",
      "\tavana_sequence_map.csv\n",
      "\treplicate_efficacy.csv\n",
      "\tt0_offset.csv\n",
      "\tavana_predicted_lfc.hdf5\n",
      "\tavana_guide_gene_map.csv\n",
      "\tgene_effect_corrected.hdf5\n",
      "\tavana_negative_control_sgrnas.csv\n",
      "\tscreen_delay.csv\n",
      "\tscreen_excess_variance.csv\n",
      "\tcell_line_efficacy.csv\n",
      "\tgene_effect.hdf5\n",
      "\tavana_readcounts.hdf5\n"
     ]
    }
   ],
   "source": [
    "print(\"Saved files:\\n\\n\" + '\\n'.join(['\\t' + s for s in os.listdir(savedir)\n",
    "                if s.endswith(\"csv\")\n",
    "                or s.endswith(\"hdf5\")\n",
    "                or s.endswith(\"json\")\n",
    "                ]))"
   ]
  },
  {
   "cell_type": "markdown",
   "metadata": {},
   "source": [
    "The .hdf5 files are binaries written with chronos' `write_hdf5` function, which is an efficient method for writing large matrices. They can be read with chronos' `read_hdf5` function."
   ]
  },
  {
   "cell_type": "markdown",
   "metadata": {},
   "source": [
    "Restoring the model can be done with a single function call:"
   ]
  },
  {
   "cell_type": "code",
   "execution_count": 41,
   "metadata": {
    "scrolled": true
   },
   "outputs": [
    {
     "name": "stdout",
     "output_type": "stream",
     "text": [
      "\n",
      "\n",
      "Finding all unique guides and genes\n",
      "found 3474 unique guides and 883 unique genes in avana\n",
      "found 3474 unique guides and 883 unique genes overall\n",
      "\n",
      "finding guide-gene mapping indices\n",
      "\n",
      "finding all unique sequenced replicates, cell lines, and pDNA batches\n",
      "found 92 unique sequences (excluding pDNA), 92 unique replicates, and 44 unique cell lines in avana\n",
      "found 92 unique late time points and 44 unique cell lines overall\n",
      "\n",
      "finding sequence-cell line mappings indices\n",
      "\n",
      "finding replicate mappings indices\n",
      "\n",
      "finding late time point-pDNA mappings indices\n",
      "\n",
      "\n",
      "assigning float constants\n",
      "Estimating or aligning variances\n",
      "\tEstimating excess variance (alpha) for avana\n",
      "Creating excess variance tensors\n",
      "\tCreated excess variance tensor for avana with shape [92, 1]\n",
      "initializing graph\n",
      "\n",
      "building gene effect mask\n",
      "\n",
      "building doubling vectors\n",
      "made days vector of shape [92, 1] for avana\n",
      "\n",
      "building late observed timepoints\n"
     ]
    },
    {
     "name": "stderr",
     "output_type": "stream",
     "text": [
      "/Users/dempster/packages/chronos_public/chronos/model.py:379: UserWarning: Between 0 (batch=Index(['Avana-2', 'Avana-3', 'Avana-4'], dtype='object')) and 0 (batch=Index(['Avana-2', 'Avana-3', 'Avana-4'], dtype='object')) negative control sgRNAs were found to be systematically over- or under-represented in the screens and excluded.\n",
      "  warn(\"Between %i (batch=%r) and %i (batch=%r) negative control sgRNAs were found to be \\\n",
      "/Users/dempster/packages/chronos_public/chronos/model.py:1351: FutureWarning: DataFrame.groupby with axis=1 is deprecated. Do `frame.T.groupby(...)` without axis instead.\n",
      "  .groupby(guide_gene_map[key].set_index(\"sgrna\").gene, axis=1)\\\n"
     ]
    },
    {
     "name": "stdout",
     "output_type": "stream",
     "text": [
      "\tbuilt normalized timepoints for avana with shape (92, 3474) (replicates X guides)\n",
      "\n",
      "building t0 reads\n",
      "\n",
      "\n",
      "Building variables\n",
      "\n",
      "building t0 reads estimate\n",
      "made t0 batch with shape (3, 3474) for avana\n",
      "building guide efficacy\n",
      "built guide efficacy: shape [1, 3475]\n",
      "building growth rate\n",
      "built growth rate: shape {'avana': [92, 1]}\n",
      "\n",
      "building replicate efficacy\n",
      "built replicate efficacy: shapes {'avana': [92, 1]}\n",
      "building screen delay\n",
      "built screen delay\n",
      "building gene effect\n",
      "built core gene effect: 44 cell lines by 883 genes\n",
      "\n",
      "\n",
      "Connecting graph nodes in model\n",
      "\n",
      "building effective days\n",
      "built effective days, shapes {'avana': [92, 883]}\n",
      "\n",
      "building gene effect growth graph nodes\n",
      "built gene effect growth graph nodes, shapes {'avana': [92, 883]}\n",
      "\n",
      "building combined efficacy\n",
      "built combined efficacy, shape {'avana': [92, 3474]}\n",
      "built expanded combined efficacy, shapes {'avana': [92, 3474]}\n",
      "\n",
      "building growth estimates of edited cells and overall estimates of fold change in guide abundance\n",
      "built growth and change\n",
      "\n",
      "building unnormalized estimates of final abundance\n",
      "built unnormalized abundance\n",
      "\n",
      "building normalized estimates of final abundance\n",
      "built normalized abundance\n",
      "initializing precost variables\n"
     ]
    },
    {
     "name": "stderr",
     "output_type": "stream",
     "text": [
      "2024-08-12 11:49:47.805040: W tensorflow/c/c_api.cc:304] Operation '{name:'excess_variance_14/avana/Assign' id:41340 op device:{requested: '', assigned: ''} def:{{{node excess_variance_14/avana/Assign}} = AssignVariableOp[_has_manual_control_dependencies=true, dtype=DT_DOUBLE, validate_shape=false](excess_variance_14/avana, excess_variance_14/avana/Initializer/initial_value)}}' was changed by setting attribute after it was run by a session. This mutation will have no effect, and will trigger an error in the future. Either don't modify nodes after running them or create a new session.\n"
     ]
    },
    {
     "name": "stdout",
     "output_type": "stream",
     "text": [
      "\n",
      "\n",
      "Building all costs\n",
      "\n",
      "assembling guide efficacy regularization\n",
      "building smoothed regularization\n",
      "\n",
      "building t0 reads regularization/cost\n",
      "\n",
      "building NB2 cost\n",
      "building other regularizations\n",
      "\n",
      "Creating optimizer\n",
      "initializing rest of graph\n"
     ]
    },
    {
     "name": "stderr",
     "output_type": "stream",
     "text": [
      "2024-08-12 11:49:49.210599: W tensorflow/c/c_api.cc:304] Operation '{name:'GE_14/library_effect/avana/Assign' id:41454 op device:{requested: '', assigned: ''} def:{{{node GE_14/library_effect/avana/Assign}} = AssignVariableOp[_has_manual_control_dependencies=true, dtype=DT_DOUBLE, validate_shape=false](GE_14/library_effect/avana, GE_14/library_effect/avana/Initializer/initial_value)}}' was changed by setting attribute after it was run by a session. This mutation will have no effect, and will trigger an error in the future. Either don't modify nodes after running them or create a new session.\n"
     ]
    },
    {
     "name": "stdout",
     "output_type": "stream",
     "text": [
      "\tverifying graph integrity\n",
      "verifying user inputs\n",
      "verifying variables\n",
      "verifying calculated terms\n",
      "\tavana _gene_effect\n",
      "\tavana _selected_efficacies\n",
      "\tavana_predicted_readcounts_unscaled\n",
      "\tavana _predicted_readcounts\n",
      "\tavana _normalized_readcounts\n",
      "\tavana _cost_presum\n",
      "sess run\n",
      "\tavana _cost\n",
      "\tavana _full_costs\n",
      "ready to train\n",
      "assigning trained parameters\n",
      "\tlibrary effect\n",
      "\tgene effect\n",
      "\tguide efficacy\n",
      "\tcell efficacy\n",
      "                                                   library  replicate_efficacy\n",
      "replicate_ID                                                                  \n",
      "ACH-000004_Avana-3_HEL-311Cas9_RepA_p4_Avana-3       avana            0.848895\n",
      "ACH-000004_Avana-3_HEL-311Cas9_RepB_p4_Avana-3       avana            0.839082\n",
      "ACH-000074_Avana-3_KU812-311cas9-RepA-p6_Avana-3     avana            0.800177\n",
      "ACH-000074_Avana-3_KU812-311cas9-RepB-p6_Avana-3     avana            0.737671\n",
      "ACH-000147_Avana-4_T47D-311Cas9-RepA-p6_Avana-4      avana            0.900404\n",
      "...                                                    ...                 ...\n",
      "ACH-000614_Avana-4_RVH421RPMI-311Cas9-RepB-p6_A...   avana            0.929802\n",
      "ACH-000657_Avana-2_A2780-311cas9 Rep A p6_Avana-2    avana            0.903558\n",
      "ACH-000657_Avana-2_A2780-311cas9 Rep B p6_Avana-2    avana            0.903566\n",
      "ACH-002926_Avana-4_UPMD1-311cas9-RepA-p6_Avana-4     avana            0.690049\n",
      "ACH-002926_Avana-4_UPMD1-311cas9-RepB-p6_Avana-4     avana            0.716305\n",
      "\n",
      "[92 rows x 2 columns]\n",
      "\tgrowth rate\n",
      "                                                   library  growth_rate\n",
      "replicate_ID                                                           \n",
      "ACH-000004_Avana-3_HEL-311Cas9_RepA_p4_Avana-3       avana     0.709518\n",
      "ACH-000004_Avana-3_HEL-311Cas9_RepB_p4_Avana-3       avana     0.714478\n",
      "ACH-000074_Avana-3_KU812-311cas9-RepA-p6_Avana-3     avana     0.825061\n",
      "ACH-000074_Avana-3_KU812-311cas9-RepB-p6_Avana-3     avana     0.947731\n",
      "ACH-000147_Avana-4_T47D-311Cas9-RepA-p6_Avana-4      avana     0.801072\n",
      "...                                                    ...          ...\n",
      "ACH-000614_Avana-4_RVH421RPMI-311Cas9-RepB-p6_A...   avana     0.678904\n",
      "ACH-000657_Avana-2_A2780-311cas9 Rep A p6_Avana-2    avana     1.015311\n",
      "ACH-000657_Avana-2_A2780-311cas9 Rep B p6_Avana-2    avana     1.013179\n",
      "ACH-002926_Avana-4_UPMD1-311cas9-RepA-p6_Avana-4     avana     0.899127\n",
      "ACH-002926_Avana-4_UPMD1-311cas9-RepB-p6_Avana-4     avana     0.811940\n",
      "\n",
      "[92 rows x 2 columns]\n",
      "\tscreen excess variance\n",
      "\tscreen delay\n",
      "\tt0 offset\n",
      "Complete.\n",
      "Cost when saved: 0.232813, cost now: 0.232816\n",
      "Full cost when saved: 0.262208, full cost now: 0.262215\n"
     ]
    }
   ],
   "source": [
    "model_restored = chronos.load_saved_model(savedir)"
   ]
  },
  {
   "cell_type": "code",
   "execution_count": 42,
   "metadata": {},
   "outputs": [
    {
     "name": "stderr",
     "output_type": "stream",
     "text": [
      "2024-08-12 11:50:20.006410: W tensorflow/c/c_api.cc:304] Operation '{name:'GE_13/library_effect/avana/Adam_1/Assign' id:39866 op device:{requested: '', assigned: ''} def:{{{node GE_13/library_effect/avana/Adam_1/Assign}} = AssignVariableOp[_has_manual_control_dependencies=true, dtype=DT_DOUBLE, validate_shape=false](GE_13/library_effect/avana/Adam_1, GE_13/library_effect/avana/Adam_1/Initializer/zeros)}}' was changed by setting attribute after it was run by a session. This mutation will have no effect, and will trigger an error in the future. Either don't modify nodes after running them or create a new session.\n"
     ]
    },
    {
     "name": "stdout",
     "output_type": "stream",
     "text": [
      "trained model cost: 0.232813\n",
      "restored model cost: 0.232816\n"
     ]
    }
   ],
   "source": [
    "print(\"trained model cost: %f\\nrestored model cost: %f\" % (model.cost, model_restored.cost))"
   ]
  },
  {
   "cell_type": "markdown",
   "metadata": {},
   "source": [
    "The most important file for most use cases is gene_effect.hdf5, which holds Chronos' estimate of the relative change in growth rate caused by gene knockouts. Negative values indicate inhibitory effects. You can also access the gene effect (and other parameters) from the trained model directly:"
   ]
  },
  {
   "cell_type": "code",
   "execution_count": 43,
   "metadata": {},
   "outputs": [
    {
     "data": {
      "text/html": [
       "<div>\n",
       "<style scoped>\n",
       "    .dataframe tbody tr th:only-of-type {\n",
       "        vertical-align: middle;\n",
       "    }\n",
       "\n",
       "    .dataframe tbody tr th {\n",
       "        vertical-align: top;\n",
       "    }\n",
       "\n",
       "    .dataframe thead th {\n",
       "        text-align: right;\n",
       "    }\n",
       "</style>\n",
       "<table border=\"1\" class=\"dataframe\">\n",
       "  <thead>\n",
       "    <tr style=\"text-align: right;\">\n",
       "      <th>gene</th>\n",
       "      <th>A1CF (29974)</th>\n",
       "      <th>A2M (2)</th>\n",
       "      <th>A2ML1 (144568)</th>\n",
       "      <th>A3GALT2 (127550)</th>\n",
       "      <th>A4GALT (53947)</th>\n",
       "    </tr>\n",
       "    <tr>\n",
       "      <th>cell_line_name</th>\n",
       "      <th></th>\n",
       "      <th></th>\n",
       "      <th></th>\n",
       "      <th></th>\n",
       "      <th></th>\n",
       "    </tr>\n",
       "  </thead>\n",
       "  <tbody>\n",
       "    <tr>\n",
       "      <th>ACH-000004</th>\n",
       "      <td>0.394541</td>\n",
       "      <td>0.097681</td>\n",
       "      <td>0.326139</td>\n",
       "      <td>0.489147</td>\n",
       "      <td>0.255511</td>\n",
       "    </tr>\n",
       "    <tr>\n",
       "      <th>ACH-000074</th>\n",
       "      <td>0.460853</td>\n",
       "      <td>0.558831</td>\n",
       "      <td>0.754762</td>\n",
       "      <td>0.420351</td>\n",
       "      <td>0.382964</td>\n",
       "    </tr>\n",
       "    <tr>\n",
       "      <th>ACH-000147</th>\n",
       "      <td>0.435761</td>\n",
       "      <td>0.398605</td>\n",
       "      <td>0.530612</td>\n",
       "      <td>0.213187</td>\n",
       "      <td>0.516680</td>\n",
       "    </tr>\n",
       "    <tr>\n",
       "      <th>ACH-000168</th>\n",
       "      <td>0.422915</td>\n",
       "      <td>0.457571</td>\n",
       "      <td>0.628621</td>\n",
       "      <td>0.339600</td>\n",
       "      <td>0.343899</td>\n",
       "    </tr>\n",
       "  </tbody>\n",
       "</table>\n",
       "</div>"
      ],
      "text/plain": [
       "gene            A1CF (29974)   A2M (2)  A2ML1 (144568)  A3GALT2 (127550)  \\\n",
       "cell_line_name                                                             \n",
       "ACH-000004          0.394541  0.097681        0.326139          0.489147   \n",
       "ACH-000074          0.460853  0.558831        0.754762          0.420351   \n",
       "ACH-000147          0.435761  0.398605        0.530612          0.213187   \n",
       "ACH-000168          0.422915  0.457571        0.628621          0.339600   \n",
       "\n",
       "gene            A4GALT (53947)  \n",
       "cell_line_name                  \n",
       "ACH-000004            0.255511  \n",
       "ACH-000074            0.382964  \n",
       "ACH-000147            0.516680  \n",
       "ACH-000168            0.343899  "
      ]
     },
     "execution_count": 43,
     "metadata": {},
     "output_type": "execute_result"
    }
   ],
   "source": [
    "gene_effects = model.gene_effect\n",
    "\n",
    "gene_effects.iloc[:4, :5]"
   ]
  },
  {
   "cell_type": "markdown",
   "metadata": {},
   "source": [
    "If your library includes many depleting genes with negative gene effect scores, this can drive nonessential genes towards positive values as Chronos tries to maintain the overall mean score near 0: "
   ]
  },
  {
   "cell_type": "code",
   "execution_count": 44,
   "metadata": {},
   "outputs": [
    {
     "name": "stdout",
     "output_type": "stream",
     "text": [
      "Mean of all effects: 0.003, mean of nonessential gene effects: 0.372\n"
     ]
    }
   ],
   "source": [
    "print(\"Mean of all effects: %1.3f, mean of nonessential gene effects: %1.3f\" %(\n",
    "    np.nanmean(gene_effects.mean()), np.nanmean(gene_effects.reindex(columns=nonessentials))\n",
    "))"
   ]
  },
  {
   "cell_type": "markdown",
   "metadata": {},
   "source": [
    "We usually want nonessential gene effects to be centered at 0, so we can interpret 0 gene effect as \"no impact on viability.\" This is a trivial change to make."
   ]
  },
  {
   "cell_type": "code",
   "execution_count": 45,
   "metadata": {},
   "outputs": [],
   "source": [
    "gene_effects -= np.nanmean(gene_effects.reindex(columns=nonessentials))"
   ]
  },
  {
   "cell_type": "code",
   "execution_count": 46,
   "metadata": {},
   "outputs": [
    {
     "name": "stderr",
     "output_type": "stream",
     "text": [
      "/opt/homebrew/lib/python3.11/site-packages/seaborn/_oldcore.py:1119: FutureWarning: use_inf_as_na option is deprecated and will be removed in a future version. Convert inf values to NaN before operating instead.\n",
      "  with pd.option_context('mode.use_inf_as_na', True):\n"
     ]
    },
    {
     "data": {
      "text/plain": [
       "Text(0.5, 0, 'Distribution of adjusted gene effects')"
      ]
     },
     "execution_count": 46,
     "metadata": {},
     "output_type": "execute_result"
    },
    {
     "data": {
      "image/png": "[encoded data removed]",
      "text/plain": [
       "<Figure size 1280x960 with 1 Axes>"
      ]
     },
     "metadata": {},
     "output_type": "display_data"
    }
   ],
   "source": [
    "sns.kdeplot(np.ravel(gene_effects))\n",
    "plt.xlabel(\"Distribution of adjusted gene effects\")"
   ]
  },
  {
   "cell_type": "markdown",
   "metadata": {},
   "source": [
    "### Copy Number Correction"
   ]
  },
  {
   "cell_type": "markdown",
   "metadata": {},
   "source": [
    "If you have gene-level copy number calls, Chronos includes an option to correct gene effect scores after the fact. This works best if the data has been scaled, as above."
   ]
  },
  {
   "cell_type": "code",
   "execution_count": 49,
   "metadata": {},
   "outputs": [
    {
     "data": {
      "text/html": [
       "<div>\n",
       "<style scoped>\n",
       "    .dataframe tbody tr th:only-of-type {\n",
       "        vertical-align: middle;\n",
       "    }\n",
       "\n",
       "    .dataframe tbody tr th {\n",
       "        vertical-align: top;\n",
       "    }\n",
       "\n",
       "    .dataframe thead th {\n",
       "        text-align: right;\n",
       "    }\n",
       "</style>\n",
       "<table border=\"1\" class=\"dataframe\">\n",
       "  <thead>\n",
       "    <tr style=\"text-align: right;\">\n",
       "      <th></th>\n",
       "      <th>A1CF (29974)</th>\n",
       "      <th>A2M (2)</th>\n",
       "      <th>A2ML1 (144568)</th>\n",
       "    </tr>\n",
       "  </thead>\n",
       "  <tbody>\n",
       "    <tr>\n",
       "      <th>ACH-001636</th>\n",
       "      <td>1.110663</td>\n",
       "      <td>1.047670</td>\n",
       "      <td>1.047670</td>\n",
       "    </tr>\n",
       "    <tr>\n",
       "      <th>ACH-000784</th>\n",
       "      <td>1.193826</td>\n",
       "      <td>1.161938</td>\n",
       "      <td>1.109943</td>\n",
       "    </tr>\n",
       "    <tr>\n",
       "      <th>ACH-000147</th>\n",
       "      <td>1.365585</td>\n",
       "      <td>0.499068</td>\n",
       "      <td>0.499068</td>\n",
       "    </tr>\n",
       "    <tr>\n",
       "      <th>ACH-000657</th>\n",
       "      <td>1.033547</td>\n",
       "      <td>1.040547</td>\n",
       "      <td>1.040547</td>\n",
       "    </tr>\n",
       "  </tbody>\n",
       "</table>\n",
       "</div>"
      ],
      "text/plain": [
       "            A1CF (29974)   A2M (2)  A2ML1 (144568)\n",
       "ACH-001636      1.110663  1.047670        1.047670\n",
       "ACH-000784      1.193826  1.161938        1.109943\n",
       "ACH-000147      1.365585  0.499068        0.499068\n",
       "ACH-000657      1.033547  1.040547        1.040547"
      ]
     },
     "execution_count": 49,
     "metadata": {},
     "output_type": "execute_result"
    }
   ],
   "source": [
    "cn = chronos.read_hdf5(\"Data/SampleData/OmicsCNGene.hdf5\")\n",
    "cn.iloc[:4, :3]"
   ]
  },
  {
   "cell_type": "markdown",
   "metadata": {},
   "source": [
    "Unfortunately, we don't have copy number calls for one of the genes targeted by the Avana library:"
   ]
  },
  {
   "cell_type": "code",
   "execution_count": 50,
   "metadata": {},
   "outputs": [
    {
     "name": "stdout",
     "output_type": "stream",
     "text": [
      "Missing 1 genes from gene_effect in copy_number.\n",
      "Examples: ['POU2AF3 (120376)']\n"
     ]
    }
   ],
   "source": [
    "try:\n",
    "    corrected, shifts = chronos.alternate_CN(gene_effects, cn)\n",
    "except ValueError as e:\n",
    "    print(e)"
   ]
  },
  {
   "cell_type": "markdown",
   "metadata": {},
   "source": [
    "We could choose to drop these genes. Instead, we'll assume normal ploidy (=1, in the current CCLE convention) for them and fill in the CN matrix accordingly."
   ]
  },
  {
   "cell_type": "code",
   "execution_count": 51,
   "metadata": {},
   "outputs": [],
   "source": [
    "for col in set(gene_effects.columns) - set(cn.columns):\n",
    "    cn[col] = 1"
   ]
  },
  {
   "cell_type": "code",
   "execution_count": 52,
   "metadata": {},
   "outputs": [
    {
     "name": "stdout",
     "output_type": "stream",
     "text": [
      "\n",
      "Fitting cell line group 1 of 1\n",
      "finding low CN gene effect shifts\n",
      "smoothing and interpolating cutting toxicity for all genes\n",
      "constructed spline matrix of shape 38852, 105\n",
      "\tcost: 0.05977376112281391\n",
      "\tcost: 0.05909455735833785\n",
      "\tcost: 0.05903950275919463\n",
      "\tcost: 0.05900787423587113\n",
      "\tcost: 0.058986548214719846\n",
      "\tcost: 0.05897106509489016\n",
      "generating matrix\n"
     ]
    }
   ],
   "source": [
    "corrected, shifts = chronos.alternate_CN(gene_effects, cn)"
   ]
  },
  {
   "cell_type": "markdown",
   "metadata": {},
   "source": [
    "The `shifts` dataframe contains some information about the inferred CN effect, while `corrected` contains the corrected gene effects matrix. Overall, gene effect matrices will change little after correction, since most genes in most lines are near diploid."
   ]
  },
  {
   "cell_type": "markdown",
   "metadata": {},
   "source": [
    "We'll write the corrected dataframe to the saved directory we made earlier"
   ]
  },
  {
   "cell_type": "code",
   "execution_count": 53,
   "metadata": {},
   "outputs": [],
   "source": [
    "chronos.write_hdf5(corrected, os.path.join(savedir, \"gene_effect_corrected.hdf5\"))"
   ]
  },
  {
   "cell_type": "markdown",
   "metadata": {},
   "source": [
    "### QC report"
   ]
  },
  {
   "cell_type": "markdown",
   "metadata": {},
   "source": [
    "The function `dataset_qc_report` in the `reports` module of Chronos presents a variety of QC metrics and interrogates some specific examples. The report minimally requires a set of positive and negative control genes. To get the full report requires copy number, mutation data, expression data, a list of expression addictions (genes which are dependencies in highly expressing lines), and oncogenic mutations."
   ]
  },
  {
   "cell_type": "markdown",
   "metadata": {},
   "source": [
    "Below, we'll load an annotated DepMap MAF file (subsetted to our cell lines). We'll select gain of function cancer driver events from it and generate a binary mutation matrix. We have a prior belief that cell lines with driver gain of function mutation events will be dependent on the mutated gene, so this matrix will be used by the QC report to assess our ability to identify selective dependencies. Specifically, we expect the oncogenes in this matrix to be dependencies in cell lines where the matrix is `True`, and not otherwise."
   ]
  },
  {
   "cell_type": "code",
   "execution_count": 54,
   "metadata": {},
   "outputs": [],
   "source": [
    "maf = pd.read_csv(\"Data/SampleData/OmicsSomaticMutations.csv\")"
   ]
  },
  {
   "cell_type": "code",
   "execution_count": 55,
   "metadata": {},
   "outputs": [],
   "source": [
    "cancer_relevant = maf[\n",
    "  (\n",
    "      maf.Driver | maf.LikelyDriver  \n",
    "  ) & (\n",
    "      maf.LikelyGoF\n",
    "  )\n",
    "]\n",
    "\n",
    "\n",
    "cancer_relevant = cancer_relevant[~cancer_relevant.duplicated(subset=[\"ModelID\", \"Gene\"])]\n",
    "\n",
    "cancer_relevant['truecol'] = True\n",
    "\n",
    "gof_matrix_base = pd.pivot(cancer_relevant, index=\"ModelID\", columns=\"Gene\", values=\"truecol\")"
   ]
  },
  {
   "cell_type": "markdown",
   "metadata": {},
   "source": [
    "Another way to evaluate selective dependencies is using expression addictions, a common pattern in which a gene is a stronger dependency in lines with higher expression. We'll use a list derived from DepMap RNAi (Tsherniak et al., Cell 2017), and subset our expression matrix to match."
   ]
  },
  {
   "cell_type": "code",
   "execution_count": 56,
   "metadata": {},
   "outputs": [],
   "source": [
    "expression_addictions = pd.read_csv(\"Data/SampleData/RNAiExpressionAddictions.csv\")['Gene']"
   ]
  },
  {
   "cell_type": "code",
   "execution_count": 57,
   "metadata": {},
   "outputs": [],
   "source": [
    "addiction_expressions = chronos.read_hdf5(\"Data/SampleData/OmicsExpressionProteinCodingGenesTPMLogp1.hdf5\")[\n",
    "    expression_addictions\n",
    "]"
   ]
  },
  {
   "cell_type": "markdown",
   "metadata": {},
   "source": [
    "Now, we're ready to run the QC report on Chronos' results:"
   ]
  },
  {
   "cell_type": "code",
   "execution_count": 58,
   "metadata": {
    "scrolled": true
   },
   "outputs": [
    {
     "name": "stdout",
     "output_type": "stream",
     "text": [
      "Loading data from Data/Achilles_run_compare\n",
      "plotting global control separation\n"
     ]
    },
    {
     "name": "stderr",
     "output_type": "stream",
     "text": [
      "/opt/homebrew/lib/python3.11/site-packages/seaborn/_oldcore.py:1119: FutureWarning: use_inf_as_na option is deprecated and will be removed in a future version. Convert inf values to NaN before operating instead.\n",
      "  with pd.option_context('mode.use_inf_as_na', True):\n",
      "/opt/homebrew/lib/python3.11/site-packages/seaborn/_oldcore.py:1119: FutureWarning: use_inf_as_na option is deprecated and will be removed in a future version. Convert inf values to NaN before operating instead.\n",
      "  with pd.option_context('mode.use_inf_as_na', True):\n",
      "/opt/homebrew/lib/python3.11/site-packages/seaborn/_oldcore.py:1119: FutureWarning: use_inf_as_na option is deprecated and will be removed in a future version. Convert inf values to NaN before operating instead.\n",
      "  with pd.option_context('mode.use_inf_as_na', True):\n",
      "/opt/homebrew/lib/python3.11/site-packages/seaborn/_oldcore.py:1119: FutureWarning: use_inf_as_na option is deprecated and will be removed in a future version. Convert inf values to NaN before operating instead.\n",
      "  with pd.option_context('mode.use_inf_as_na', True):\n"
     ]
    },
    {
     "name": "stdout",
     "output_type": "stream",
     "text": [
      "plotting selective dependency separation\n"
     ]
    },
    {
     "name": "stderr",
     "output_type": "stream",
     "text": [
      "/Users/dempster/packages/chronos_public/chronos/evaluations.py:125: FutureWarning: Downcasting object dtype arrays on .fillna, .ffill, .bfill is deprecated and will change in a future version. Call result.infer_objects(copy=False) instead. To opt-in to the future behavior, set `pd.set_option('future.no_silent_downcasting', True)`\n",
      "  aligned_matrix = base_matrix.reindex(gene_effect.index).fillna(False)\n",
      "/Users/dempster/packages/chronos_public/chronos/evaluations.py:761: FutureWarning: Series.__getitem__ treating keys as positions is deprecated. In a future version, integer keys will always be treated as labels (consistent with DataFrame behavior). To access a value by position, use `ser.iloc[pos]`\n",
      "  texts = [plt.text(s=neg_means.index[i],x=neg_means[i], y=pos_means[i], fontsize=6, color=[.8, .3, .05]) for i in outliers]\n"
     ]
    },
    {
     "name": "stdout",
     "output_type": "stream",
     "text": [
      "plotting gene effect mean relationships\n",
      "plotting copy number effect\n",
      "plotting screen efficacy and growth rate\n"
     ]
    },
    {
     "name": "stderr",
     "output_type": "stream",
     "text": [
      "/opt/homebrew/lib/python3.11/site-packages/seaborn/_oldcore.py:1119: FutureWarning: use_inf_as_na option is deprecated and will be removed in a future version. Convert inf values to NaN before operating instead.\n",
      "  with pd.option_context('mode.use_inf_as_na', True):\n"
     ]
    },
    {
     "name": "stdout",
     "output_type": "stream",
     "text": [
      "plotting readcount predictions\n"
     ]
    },
    {
     "name": "stderr",
     "output_type": "stream",
     "text": [
      "/Users/dempster/packages/chronos_public/chronos/reports.py:452: UserWarning: The figure layout has changed to tight\n",
      "  plt.tight_layout()\n"
     ]
    },
    {
     "name": "stdout",
     "output_type": "stream",
     "text": [
      "plotting LFC predictions\n"
     ]
    },
    {
     "name": "stderr",
     "output_type": "stream",
     "text": [
      "/Users/dempster/packages/chronos_public/chronos/reports.py:452: UserWarning: The figure layout has changed to tight\n",
      "  plt.tight_layout()\n",
      "/Users/dempster/packages/chronos_public/chronos/reports.py:103: FutureWarning: DataFrame.groupby with axis=1 is deprecated. Do `frame.T.groupby(...)` without axis instead.\n",
      "  .groupby(data['guide_map'][library].set_index(\"sgrna\").gene, axis=1)\\\n"
     ]
    },
    {
     "name": "stdout",
     "output_type": "stream",
     "text": [
      "plotting difference from naive gene score\n",
      "summarizing\n",
      "plotting genes with low agreement with naive gene effect\n",
      "\tJAK2 (3717)\n"
     ]
    },
    {
     "name": "stderr",
     "output_type": "stream",
     "text": [
      "/opt/homebrew/lib/python3.11/site-packages/seaborn/_oldcore.py:1119: FutureWarning: use_inf_as_na option is deprecated and will be removed in a future version. Convert inf values to NaN before operating instead.\n",
      "  with pd.option_context('mode.use_inf_as_na', True):\n",
      "/opt/homebrew/lib/python3.11/site-packages/seaborn/_oldcore.py:1119: FutureWarning: use_inf_as_na option is deprecated and will be removed in a future version. Convert inf values to NaN before operating instead.\n",
      "  with pd.option_context('mode.use_inf_as_na', True):\n",
      "/opt/homebrew/lib/python3.11/site-packages/seaborn/_oldcore.py:1119: FutureWarning: use_inf_as_na option is deprecated and will be removed in a future version. Convert inf values to NaN before operating instead.\n",
      "  with pd.option_context('mode.use_inf_as_na', True):\n",
      "/opt/homebrew/lib/python3.11/site-packages/seaborn/_oldcore.py:1119: FutureWarning: use_inf_as_na option is deprecated and will be removed in a future version. Convert inf values to NaN before operating instead.\n",
      "  with pd.option_context('mode.use_inf_as_na', True):\n"
     ]
    },
    {
     "name": "stdout",
     "output_type": "stream",
     "text": [
      "avana    avana\n",
      "dtype: object avana    avana\n",
      "dtype: object\n",
      "Guide and replicate key for JAK2 (3717), ACH-000004:\n",
      "avana    av\n",
      "dtype: object\n",
      "ATAATCATACCTGAGCAAAG    avGuide1\n",
      "ATCTGCCTCAGATTTCCCAA    avGuide2\n",
      "CTGCCACTGCAATACCAACG    avGuide3\n",
      "GAGGTGCTACTTCTTTACAG    avGuide4\n",
      "dtype: object\n",
      "HEL-311Cas9_RepA_p4_Avana-3    avRep1\n",
      "HEL-311Cas9_RepB_p4_Avana-3    avRep2\n",
      "dtype: object\n",
      "avana    avana\n",
      "dtype: object avana    avana\n",
      "dtype: object\n",
      "Guide and replicate key for JAK2 (3717), ACH-001736:\n",
      "avana    av\n",
      "dtype: object\n",
      "ATAATCATACCTGAGCAAAG    avGuide1\n",
      "ATCTGCCTCAGATTTCCCAA    avGuide2\n",
      "CTGCCACTGCAATACCAACG    avGuide3\n",
      "GAGGTGCTACTTCTTTACAG    avGuide4\n",
      "dtype: object\n",
      "HB11;19-311CAS9_RepA_p6_Avana-3    avRep1\n",
      "HB11;19-311CAS9_RepB_p6_Avana-3    avRep2\n",
      "dtype: object\n",
      "\tESR1 (2099)\n"
     ]
    },
    {
     "name": "stderr",
     "output_type": "stream",
     "text": [
      "/opt/homebrew/lib/python3.11/site-packages/seaborn/_oldcore.py:1119: FutureWarning: use_inf_as_na option is deprecated and will be removed in a future version. Convert inf values to NaN before operating instead.\n",
      "  with pd.option_context('mode.use_inf_as_na', True):\n",
      "/opt/homebrew/lib/python3.11/site-packages/seaborn/_oldcore.py:1119: FutureWarning: use_inf_as_na option is deprecated and will be removed in a future version. Convert inf values to NaN before operating instead.\n",
      "  with pd.option_context('mode.use_inf_as_na', True):\n",
      "/opt/homebrew/lib/python3.11/site-packages/seaborn/_oldcore.py:1119: FutureWarning: use_inf_as_na option is deprecated and will be removed in a future version. Convert inf values to NaN before operating instead.\n",
      "  with pd.option_context('mode.use_inf_as_na', True):\n",
      "/opt/homebrew/lib/python3.11/site-packages/seaborn/_oldcore.py:1119: FutureWarning: use_inf_as_na option is deprecated and will be removed in a future version. Convert inf values to NaN before operating instead.\n",
      "  with pd.option_context('mode.use_inf_as_na', True):\n"
     ]
    },
    {
     "name": "stdout",
     "output_type": "stream",
     "text": [
      "avana    avana\n",
      "dtype: object avana    avana\n",
      "dtype: object\n",
      "Guide and replicate key for ESR1 (2099), ACH-000147:\n",
      "avana    av\n",
      "dtype: object\n",
      "CGCCGTGTACAACTACCCCG    avGuide1\n",
      "GCACCATTGATAAAAACAGG    avGuide2\n",
      "GTAGACCTGCGCGTTGGCGG    avGuide3\n",
      "TCGCCTTTCCTGCAGCCCCA    avGuide4\n",
      "dtype: object\n",
      "T47D-311Cas9-RepA-p6_Avana-4    avRep1\n",
      "T47D-311Cas9-RepB-p6_Avana-4    avRep2\n",
      "dtype: object\n",
      "avana    avana\n",
      "dtype: object avana    avana\n",
      "dtype: object\n",
      "Guide and replicate key for ESR1 (2099), ACH-001303:\n",
      "avana    av\n",
      "dtype: object\n",
      "CGCCGTGTACAACTACCCCG    avGuide1\n",
      "GCACCATTGATAAAAACAGG    avGuide2\n",
      "GTAGACCTGCGCGTTGGCGG    avGuide3\n",
      "TCGCCTTTCCTGCAGCCCCA    avGuide4\n",
      "dtype: object\n",
      "NB1643-311Cas9_RepA_p4_Avana-3    avRep1\n",
      "NB1643-311Cas9_RepB_p4_Avana-3    avRep2\n",
      "dtype: object\n",
      "\tDPRX (503834)\n"
     ]
    },
    {
     "name": "stderr",
     "output_type": "stream",
     "text": [
      "/opt/homebrew/lib/python3.11/site-packages/seaborn/_oldcore.py:1119: FutureWarning: use_inf_as_na option is deprecated and will be removed in a future version. Convert inf values to NaN before operating instead.\n",
      "  with pd.option_context('mode.use_inf_as_na', True):\n",
      "/opt/homebrew/lib/python3.11/site-packages/seaborn/_oldcore.py:1119: FutureWarning: use_inf_as_na option is deprecated and will be removed in a future version. Convert inf values to NaN before operating instead.\n",
      "  with pd.option_context('mode.use_inf_as_na', True):\n",
      "/opt/homebrew/lib/python3.11/site-packages/seaborn/_oldcore.py:1119: FutureWarning: use_inf_as_na option is deprecated and will be removed in a future version. Convert inf values to NaN before operating instead.\n",
      "  with pd.option_context('mode.use_inf_as_na', True):\n",
      "/opt/homebrew/lib/python3.11/site-packages/seaborn/_oldcore.py:1119: FutureWarning: use_inf_as_na option is deprecated and will be removed in a future version. Convert inf values to NaN before operating instead.\n",
      "  with pd.option_context('mode.use_inf_as_na', True):\n"
     ]
    },
    {
     "name": "stdout",
     "output_type": "stream",
     "text": [
      "avana    avana\n",
      "dtype: object avana    avana\n",
      "dtype: object\n",
      "Guide and replicate key for DPRX (503834), ACH-000004:\n",
      "avana    av\n",
      "dtype: object\n",
      "AGGACCAGATGCATTCACAC    avGuide1\n",
      "CCACAACCGCCAATACCAGA    avGuide2\n",
      "GGCTCAGAGGATCTTCGTAA    avGuide3\n",
      "TTAGAAGATGCCAGGCTCAG    avGuide4\n",
      "dtype: object\n",
      "HEL-311Cas9_RepA_p4_Avana-3    avRep1\n",
      "HEL-311Cas9_RepB_p4_Avana-3    avRep2\n",
      "dtype: object\n",
      "avana    avana\n",
      "dtype: object avana    avana\n",
      "dtype: object\n",
      "Guide and replicate key for DPRX (503834), ACH-001843:\n",
      "avana    av\n",
      "dtype: object\n",
      "AGGACCAGATGCATTCACAC    avGuide1\n",
      "CCACAACCGCCAATACCAGA    avGuide2\n",
      "GGCTCAGAGGATCTTCGTAA    avGuide3\n",
      "TTAGAAGATGCCAGGCTCAG    avGuide4\n",
      "dtype: object\n",
      "ICC3-311cas9_RepA_p6_Avana-3    avRep1\n",
      "ICC3-311cas9_RepB_p6_Avana-3    avRep2\n",
      "dtype: object\n",
      "\tMCM6 (4175)\n"
     ]
    },
    {
     "name": "stderr",
     "output_type": "stream",
     "text": [
      "/opt/homebrew/lib/python3.11/site-packages/seaborn/_oldcore.py:1119: FutureWarning: use_inf_as_na option is deprecated and will be removed in a future version. Convert inf values to NaN before operating instead.\n",
      "  with pd.option_context('mode.use_inf_as_na', True):\n",
      "/opt/homebrew/lib/python3.11/site-packages/seaborn/_oldcore.py:1119: FutureWarning: use_inf_as_na option is deprecated and will be removed in a future version. Convert inf values to NaN before operating instead.\n",
      "  with pd.option_context('mode.use_inf_as_na', True):\n",
      "/opt/homebrew/lib/python3.11/site-packages/seaborn/_oldcore.py:1119: FutureWarning: use_inf_as_na option is deprecated and will be removed in a future version. Convert inf values to NaN before operating instead.\n",
      "  with pd.option_context('mode.use_inf_as_na', True):\n",
      "/opt/homebrew/lib/python3.11/site-packages/seaborn/_oldcore.py:1119: FutureWarning: use_inf_as_na option is deprecated and will be removed in a future version. Convert inf values to NaN before operating instead.\n",
      "  with pd.option_context('mode.use_inf_as_na', True):\n"
     ]
    },
    {
     "name": "stdout",
     "output_type": "stream",
     "text": [
      "avana    avana\n",
      "dtype: object avana    avana\n",
      "dtype: object\n",
      "Guide and replicate key for MCM6 (4175), ACH-000912:\n",
      "avana    av\n",
      "dtype: object\n",
      "GGCAATGATGAAGTAAAACG    avGuide1\n",
      "GTTCACCCAGAGCTTGTGAG    avGuide2\n",
      "TCAAGGCCCGACACAGGTAA    avGuide3\n",
      "TGTTGCGCCAACCAACCCAA    avGuide4\n",
      "dtype: object\n",
      "NCI-H2286-311caa9_RepA_p6_Avana-3    avRep1\n",
      "NCI-H2286-311caa9_RepB_p6_Avana-3    avRep2\n",
      "dtype: object\n",
      "avana    avana\n",
      "dtype: object avana    avana\n",
      "dtype: object\n",
      "Guide and replicate key for MCM6 (4175), ACH-001303:\n",
      "avana    av\n",
      "dtype: object\n",
      "GGCAATGATGAAGTAAAACG    avGuide1\n",
      "GTTCACCCAGAGCTTGTGAG    avGuide2\n",
      "TCAAGGCCCGACACAGGTAA    avGuide3\n",
      "TGTTGCGCCAACCAACCCAA    avGuide4\n",
      "dtype: object\n",
      "NB1643-311Cas9_RepA_p4_Avana-3    avRep1\n",
      "NB1643-311Cas9_RepB_p4_Avana-3    avRep2\n",
      "dtype: object\n",
      "\tSLC6A5 (9152)\n"
     ]
    },
    {
     "name": "stderr",
     "output_type": "stream",
     "text": [
      "/opt/homebrew/lib/python3.11/site-packages/seaborn/_oldcore.py:1119: FutureWarning: use_inf_as_na option is deprecated and will be removed in a future version. Convert inf values to NaN before operating instead.\n",
      "  with pd.option_context('mode.use_inf_as_na', True):\n",
      "/opt/homebrew/lib/python3.11/site-packages/seaborn/_oldcore.py:1119: FutureWarning: use_inf_as_na option is deprecated and will be removed in a future version. Convert inf values to NaN before operating instead.\n",
      "  with pd.option_context('mode.use_inf_as_na', True):\n",
      "/opt/homebrew/lib/python3.11/site-packages/seaborn/_oldcore.py:1119: FutureWarning: use_inf_as_na option is deprecated and will be removed in a future version. Convert inf values to NaN before operating instead.\n",
      "  with pd.option_context('mode.use_inf_as_na', True):\n"
     ]
    },
    {
     "name": "stdout",
     "output_type": "stream",
     "text": [
      "avana    avana\n",
      "dtype: object avana    avana\n",
      "dtype: object\n",
      "Guide and replicate key for SLC6A5 (9152), ACH-000657:\n",
      "avana    av\n",
      "dtype: object\n",
      "GGGATGAGAATAAGGCCCGA    avGuide1\n",
      "GGGTTGTTGCAGGAGCCCCA    avGuide2\n",
      "TTTGTGTCTGTACTACCCTG    avGuide3\n",
      "dtype: object\n",
      "A2780-311cas9 Rep A p6_Avana-2    avRep1\n",
      "A2780-311cas9 Rep B p6_Avana-2    avRep2\n",
      "dtype: object\n",
      "avana    avana\n",
      "dtype: object avana    avana\n",
      "dtype: object\n",
      "Guide and replicate key for SLC6A5 (9152), ACH-000404:\n",
      "avana    av\n",
      "dtype: object\n",
      "GGGATGAGAATAAGGCCCGA    avGuide1\n",
      "GGGTTGTTGCAGGAGCCCCA    avGuide2\n",
      "TTTGTGTCTGTACTACCCTG    avGuide3\n",
      "dtype: object\n",
      "K029AX-311cas9_RepB_p6_Avana-3    avRep1\n",
      "dtype: object\n",
      "\tMED20 (9477)\n"
     ]
    },
    {
     "name": "stderr",
     "output_type": "stream",
     "text": [
      "/opt/homebrew/lib/python3.11/site-packages/seaborn/_oldcore.py:1119: FutureWarning: use_inf_as_na option is deprecated and will be removed in a future version. Convert inf values to NaN before operating instead.\n",
      "  with pd.option_context('mode.use_inf_as_na', True):\n",
      "/opt/homebrew/lib/python3.11/site-packages/seaborn/_oldcore.py:1119: FutureWarning: use_inf_as_na option is deprecated and will be removed in a future version. Convert inf values to NaN before operating instead.\n",
      "  with pd.option_context('mode.use_inf_as_na', True):\n",
      "/opt/homebrew/lib/python3.11/site-packages/seaborn/_oldcore.py:1119: FutureWarning: use_inf_as_na option is deprecated and will be removed in a future version. Convert inf values to NaN before operating instead.\n",
      "  with pd.option_context('mode.use_inf_as_na', True):\n",
      "/opt/homebrew/lib/python3.11/site-packages/seaborn/_oldcore.py:1119: FutureWarning: use_inf_as_na option is deprecated and will be removed in a future version. Convert inf values to NaN before operating instead.\n",
      "  with pd.option_context('mode.use_inf_as_na', True):\n"
     ]
    },
    {
     "name": "stdout",
     "output_type": "stream",
     "text": [
      "avana    avana\n",
      "dtype: object avana    avana\n",
      "dtype: object\n",
      "Guide and replicate key for MED20 (9477), ACH-001842:\n",
      "avana    av\n",
      "dtype: object\n",
      "GCAAGGGCCATTCTCAAAGA    avGuide1\n",
      "GGACTGTGAGACTTACCATA    avGuide2\n",
      "TCACTGACCTTGGCTGCCAA    avGuide3\n",
      "TGGTGTCAGCAATAAGGCAA    avGuide4\n",
      "dtype: object\n",
      "ICC2-311cas9_RepA_p6_Avana-3    avRep1\n",
      "ICC2-311cas9_RepB_p6_Avana-3    avRep2\n",
      "dtype: object\n",
      "avana    avana\n",
      "dtype: object avana    avana\n",
      "dtype: object\n",
      "Guide and replicate key for MED20 (9477), ACH-001563:\n",
      "avana    av\n",
      "dtype: object\n",
      "GCAAGGGCCATTCTCAAAGA    avGuide1\n",
      "GGACTGTGAGACTTACCATA    avGuide2\n",
      "TCACTGACCTTGGCTGCCAA    avGuide3\n",
      "TGGTGTCAGCAATAAGGCAA    avGuide4\n",
      "dtype: object\n",
      "MM127-311cas9_RepA_p5_Avana-3    avRep1\n",
      "MM127-311cas9_RepB_p5_Avana-3    avRep2\n",
      "dtype: object\n",
      "\tBTK (695)\n"
     ]
    },
    {
     "name": "stderr",
     "output_type": "stream",
     "text": [
      "/opt/homebrew/lib/python3.11/site-packages/seaborn/_oldcore.py:1119: FutureWarning: use_inf_as_na option is deprecated and will be removed in a future version. Convert inf values to NaN before operating instead.\n",
      "  with pd.option_context('mode.use_inf_as_na', True):\n",
      "/opt/homebrew/lib/python3.11/site-packages/seaborn/_oldcore.py:1119: FutureWarning: use_inf_as_na option is deprecated and will be removed in a future version. Convert inf values to NaN before operating instead.\n",
      "  with pd.option_context('mode.use_inf_as_na', True):\n",
      "/opt/homebrew/lib/python3.11/site-packages/seaborn/_oldcore.py:1119: FutureWarning: use_inf_as_na option is deprecated and will be removed in a future version. Convert inf values to NaN before operating instead.\n",
      "  with pd.option_context('mode.use_inf_as_na', True):\n",
      "/opt/homebrew/lib/python3.11/site-packages/seaborn/_oldcore.py:1119: FutureWarning: use_inf_as_na option is deprecated and will be removed in a future version. Convert inf values to NaN before operating instead.\n",
      "  with pd.option_context('mode.use_inf_as_na', True):\n"
     ]
    },
    {
     "name": "stdout",
     "output_type": "stream",
     "text": [
      "avana    avana\n",
      "dtype: object avana    avana\n",
      "dtype: object\n",
      "Guide and replicate key for BTK (695), ACH-001554:\n",
      "avana    av\n",
      "dtype: object\n",
      "AATGATCTACAGCTGCGGAA    avGuide1\n",
      "ATAGTAGGAGAGTTTGTGCA    avGuide2\n",
      "CTGTGTTTGCTAAATCCACA    avGuide3\n",
      "GATGCTCTCCAGAATCACTG    avGuide4\n",
      "dtype: object\n",
      "MEL202-311cas9_RepA_p6_Avana-3    avRep1\n",
      "MEL202-311cas9_RepB_p6_Avana-3    avRep2\n",
      "dtype: object\n",
      "avana    avana\n",
      "dtype: object avana    avana\n",
      "dtype: object\n",
      "Guide and replicate key for BTK (695), ACH-000183:\n",
      "avana    av\n",
      "dtype: object\n",
      "AATGATCTACAGCTGCGGAA    avGuide1\n",
      "ATAGTAGGAGAGTTTGTGCA    avGuide2\n",
      "CTGTGTTTGCTAAATCCACA    avGuide3\n",
      "GATGCTCTCCAGAATCACTG    avGuide4\n",
      "dtype: object\n",
      "L363-311Cas9_RepA_p6_Avana-3    avRep1\n",
      "L363-311Cas9_RepB_p6_Avana-3    avRep2\n",
      "dtype: object\n",
      "\tOR5M1 (390168)\n"
     ]
    },
    {
     "name": "stderr",
     "output_type": "stream",
     "text": [
      "/opt/homebrew/lib/python3.11/site-packages/seaborn/_oldcore.py:1119: FutureWarning: use_inf_as_na option is deprecated and will be removed in a future version. Convert inf values to NaN before operating instead.\n",
      "  with pd.option_context('mode.use_inf_as_na', True):\n",
      "/opt/homebrew/lib/python3.11/site-packages/seaborn/_oldcore.py:1119: FutureWarning: use_inf_as_na option is deprecated and will be removed in a future version. Convert inf values to NaN before operating instead.\n",
      "  with pd.option_context('mode.use_inf_as_na', True):\n",
      "/opt/homebrew/lib/python3.11/site-packages/seaborn/_oldcore.py:1119: FutureWarning: use_inf_as_na option is deprecated and will be removed in a future version. Convert inf values to NaN before operating instead.\n",
      "  with pd.option_context('mode.use_inf_as_na', True):\n"
     ]
    },
    {
     "name": "stdout",
     "output_type": "stream",
     "text": [
      "avana    avana\n",
      "dtype: object avana    avana\n",
      "dtype: object\n",
      "Guide and replicate key for OR5M1 (390168), ACH-001533:\n",
      "avana    av\n",
      "dtype: object\n",
      "GTAAAACTCAGTGATCACCA    avGuide1\n",
      "GTGTGATTAGGTAGATCGCA    avGuide2\n",
      "TCCTGGAACTGTAATGCAAA    avGuide3\n",
      "dtype: object\n",
      "KARPAS1718-311cas9-RepA-p6_Avana-4    avRep1\n",
      "KARPAS1718-311cas9-RepB-p6_Avana-4    avRep2\n",
      "dtype: object\n",
      "avana    avana\n",
      "dtype: object avana    avana\n",
      "dtype: object\n",
      "Guide and replicate key for OR5M1 (390168), ACH-001843:\n",
      "avana    av\n",
      "dtype: object\n",
      "GTAAAACTCAGTGATCACCA    avGuide1\n",
      "GTGTGATTAGGTAGATCGCA    avGuide2\n",
      "TCCTGGAACTGTAATGCAAA    avGuide3\n",
      "dtype: object\n",
      "ICC3-311cas9_RepA_p6_Avana-3    avRep1\n",
      "ICC3-311cas9_RepB_p6_Avana-3    avRep2\n",
      "dtype: object\n",
      "\tGALNTL5 (168391)\n"
     ]
    },
    {
     "name": "stderr",
     "output_type": "stream",
     "text": [
      "/opt/homebrew/lib/python3.11/site-packages/seaborn/_oldcore.py:1119: FutureWarning: use_inf_as_na option is deprecated and will be removed in a future version. Convert inf values to NaN before operating instead.\n",
      "  with pd.option_context('mode.use_inf_as_na', True):\n",
      "/opt/homebrew/lib/python3.11/site-packages/seaborn/_oldcore.py:1119: FutureWarning: use_inf_as_na option is deprecated and will be removed in a future version. Convert inf values to NaN before operating instead.\n",
      "  with pd.option_context('mode.use_inf_as_na', True):\n",
      "/opt/homebrew/lib/python3.11/site-packages/seaborn/_oldcore.py:1119: FutureWarning: use_inf_as_na option is deprecated and will be removed in a future version. Convert inf values to NaN before operating instead.\n",
      "  with pd.option_context('mode.use_inf_as_na', True):\n",
      "/opt/homebrew/lib/python3.11/site-packages/seaborn/_oldcore.py:1119: FutureWarning: use_inf_as_na option is deprecated and will be removed in a future version. Convert inf values to NaN before operating instead.\n",
      "  with pd.option_context('mode.use_inf_as_na', True):\n"
     ]
    },
    {
     "name": "stdout",
     "output_type": "stream",
     "text": [
      "avana    avana\n",
      "dtype: object avana    avana\n",
      "dtype: object\n",
      "Guide and replicate key for GALNTL5 (168391), ACH-000657:\n",
      "avana    av\n",
      "dtype: object\n",
      "ATAAGAAACAAAAAGAGAGA    avGuide1\n",
      "GAGCTTCTCATGCTTCAGGT    avGuide2\n",
      "GGAACACCAGAACATCCCCT    avGuide3\n",
      "TGACAATGCTGGCAGTCGGG    avGuide4\n",
      "dtype: object\n",
      "A2780-311cas9 Rep A p6_Avana-2    avRep1\n",
      "A2780-311cas9 Rep B p6_Avana-2    avRep2\n",
      "dtype: object\n",
      "avana    avana\n",
      "dtype: object avana    avana\n",
      "dtype: object\n",
      "Guide and replicate key for GALNTL5 (168391), ACH-001129:\n",
      "avana    av\n",
      "dtype: object\n",
      "ATAAGAAACAAAAAGAGAGA    avGuide1\n",
      "GAGCTTCTCATGCTTCAGGT    avGuide2\n",
      "GGAACACCAGAACATCCCCT    avGuide3\n",
      "TGACAATGCTGGCAGTCGGG    avGuide4\n",
      "dtype: object\n",
      "MONO-MAC1-311cas9_RepA_p6_Avana-3    avRep1\n",
      "MONO-MAC1-311cas9_RepB_p6_Avana-3    avRep2\n",
      "dtype: object\n",
      "\tGPX6 (257202)\n"
     ]
    },
    {
     "name": "stderr",
     "output_type": "stream",
     "text": [
      "/opt/homebrew/lib/python3.11/site-packages/seaborn/_oldcore.py:1119: FutureWarning: use_inf_as_na option is deprecated and will be removed in a future version. Convert inf values to NaN before operating instead.\n",
      "  with pd.option_context('mode.use_inf_as_na', True):\n",
      "/opt/homebrew/lib/python3.11/site-packages/seaborn/_oldcore.py:1119: FutureWarning: use_inf_as_na option is deprecated and will be removed in a future version. Convert inf values to NaN before operating instead.\n",
      "  with pd.option_context('mode.use_inf_as_na', True):\n",
      "/opt/homebrew/lib/python3.11/site-packages/seaborn/_oldcore.py:1119: FutureWarning: use_inf_as_na option is deprecated and will be removed in a future version. Convert inf values to NaN before operating instead.\n",
      "  with pd.option_context('mode.use_inf_as_na', True):\n",
      "/opt/homebrew/lib/python3.11/site-packages/seaborn/_oldcore.py:1119: FutureWarning: use_inf_as_na option is deprecated and will be removed in a future version. Convert inf values to NaN before operating instead.\n",
      "  with pd.option_context('mode.use_inf_as_na', True):\n"
     ]
    },
    {
     "name": "stdout",
     "output_type": "stream",
     "text": [
      "avana    avana\n",
      "dtype: object avana    avana\n",
      "dtype: object\n",
      "Guide and replicate key for GPX6 (257202), ACH-001843:\n",
      "avana    av\n",
      "dtype: object\n",
      "CCAGGTGGATTGCAACAAAG    avGuide1\n",
      "GAAAAACAGGACAAGACAGG    avGuide2\n",
      "GATGTACTCCTCGCCGTTGA    avGuide3\n",
      "TATGGAGCCCTCACCCTCAA    avGuide4\n",
      "dtype: object\n",
      "ICC3-311cas9_RepA_p6_Avana-3    avRep1\n",
      "ICC3-311cas9_RepB_p6_Avana-3    avRep2\n",
      "dtype: object\n",
      "avana    avana\n",
      "dtype: object avana    avana\n",
      "dtype: object\n",
      "Guide and replicate key for GPX6 (257202), ACH-000774:\n",
      "avana    av\n",
      "dtype: object\n",
      "CCAGGTGGATTGCAACAAAG    avGuide1\n",
      "GAAAAACAGGACAAGACAGG    avGuide2\n",
      "GATGTACTCCTCGCCGTTGA    avGuide3\n",
      "TATGGAGCCCTCACCCTCAA    avGuide4\n",
      "dtype: object\n",
      "RERF-LC-Ad2-311cas9_RepA_p6_Avana-3    avRep1\n",
      "RERF-LC-Ad2-311cas9_RepB_p6_Avana-3    avRep2\n",
      "dtype: object\n",
      "\tIQCF1 (132141)\n"
     ]
    },
    {
     "name": "stderr",
     "output_type": "stream",
     "text": [
      "/opt/homebrew/lib/python3.11/site-packages/seaborn/_oldcore.py:1119: FutureWarning: use_inf_as_na option is deprecated and will be removed in a future version. Convert inf values to NaN before operating instead.\n",
      "  with pd.option_context('mode.use_inf_as_na', True):\n",
      "/opt/homebrew/lib/python3.11/site-packages/seaborn/_oldcore.py:1119: FutureWarning: use_inf_as_na option is deprecated and will be removed in a future version. Convert inf values to NaN before operating instead.\n",
      "  with pd.option_context('mode.use_inf_as_na', True):\n",
      "/opt/homebrew/lib/python3.11/site-packages/seaborn/_oldcore.py:1119: FutureWarning: use_inf_as_na option is deprecated and will be removed in a future version. Convert inf values to NaN before operating instead.\n",
      "  with pd.option_context('mode.use_inf_as_na', True):\n",
      "/opt/homebrew/lib/python3.11/site-packages/seaborn/_oldcore.py:1119: FutureWarning: use_inf_as_na option is deprecated and will be removed in a future version. Convert inf values to NaN before operating instead.\n",
      "  with pd.option_context('mode.use_inf_as_na', True):\n"
     ]
    },
    {
     "name": "stdout",
     "output_type": "stream",
     "text": [
      "avana    avana\n",
      "dtype: object avana    avana\n",
      "dtype: object\n",
      "Guide and replicate key for IQCF1 (132141), ACH-001129:\n",
      "avana    av\n",
      "dtype: object\n",
      "AGGAGCAGAGTCAAAGGCAG    avGuide1\n",
      "GAAGCTCTCTGACAAAGATA    avGuide2\n",
      "GCTCCTAAGGACAAATGGGT    avGuide3\n",
      "TCTGGTTGAGACACAGACAG    avGuide4\n",
      "dtype: object\n",
      "MONO-MAC1-311cas9_RepA_p6_Avana-3    avRep1\n",
      "MONO-MAC1-311cas9_RepB_p6_Avana-3    avRep2\n",
      "dtype: object\n",
      "avana    avana\n",
      "dtype: object avana    avana\n",
      "dtype: object\n",
      "Guide and replicate key for IQCF1 (132141), ACH-001843:\n",
      "avana    av\n",
      "dtype: object\n",
      "AGGAGCAGAGTCAAAGGCAG    avGuide1\n",
      "GAAGCTCTCTGACAAAGATA    avGuide2\n",
      "GCTCCTAAGGACAAATGGGT    avGuide3\n",
      "TCTGGTTGAGACACAGACAG    avGuide4\n",
      "dtype: object\n",
      "ICC3-311cas9_RepA_p6_Avana-3    avRep1\n",
      "ICC3-311cas9_RepB_p6_Avana-3    avRep2\n",
      "dtype: object\n",
      "\tNPVF (64111)\n"
     ]
    },
    {
     "name": "stderr",
     "output_type": "stream",
     "text": [
      "/opt/homebrew/lib/python3.11/site-packages/seaborn/_oldcore.py:1119: FutureWarning: use_inf_as_na option is deprecated and will be removed in a future version. Convert inf values to NaN before operating instead.\n",
      "  with pd.option_context('mode.use_inf_as_na', True):\n",
      "/opt/homebrew/lib/python3.11/site-packages/seaborn/_oldcore.py:1119: FutureWarning: use_inf_as_na option is deprecated and will be removed in a future version. Convert inf values to NaN before operating instead.\n",
      "  with pd.option_context('mode.use_inf_as_na', True):\n",
      "/opt/homebrew/lib/python3.11/site-packages/seaborn/_oldcore.py:1119: FutureWarning: use_inf_as_na option is deprecated and will be removed in a future version. Convert inf values to NaN before operating instead.\n",
      "  with pd.option_context('mode.use_inf_as_na', True):\n",
      "/opt/homebrew/lib/python3.11/site-packages/seaborn/_oldcore.py:1119: FutureWarning: use_inf_as_na option is deprecated and will be removed in a future version. Convert inf values to NaN before operating instead.\n",
      "  with pd.option_context('mode.use_inf_as_na', True):\n"
     ]
    },
    {
     "name": "stdout",
     "output_type": "stream",
     "text": [
      "avana    avana\n",
      "dtype: object avana    avana\n",
      "dtype: object\n",
      "Guide and replicate key for NPVF (64111), ACH-000479:\n",
      "avana    av\n",
      "dtype: object\n",
      "ACGTTCCTCCCAAATCTCAA    avGuide1\n",
      "ACTTGCCATTGAGATTTGGG    avGuide2\n",
      "CATTTCTAATTATAGCCTAG    avGuide3\n",
      "TAGCCTAGAGGATACCCAAA    avGuide4\n",
      "dtype: object\n",
      "KNS-81-311cas9_RepA_p5_Avana-3    avRep1\n",
      "KNS-81-311cas9_RepB_p5_Avana-3    avRep2\n",
      "dtype: object\n",
      "avana    avana\n",
      "dtype: object avana    avana\n",
      "dtype: object\n",
      "Guide and replicate key for NPVF (64111), ACH-001843:\n",
      "avana    av\n",
      "dtype: object\n",
      "ACGTTCCTCCCAAATCTCAA    avGuide1\n",
      "ACTTGCCATTGAGATTTGGG    avGuide2\n",
      "CATTTCTAATTATAGCCTAG    avGuide3\n",
      "TAGCCTAGAGGATACCCAAA    avGuide4\n",
      "dtype: object\n",
      "ICC3-311cas9_RepA_p6_Avana-3    avRep1\n",
      "ICC3-311cas9_RepB_p6_Avana-3    avRep2\n",
      "dtype: object\n",
      "\tTSR2 (90121)\n"
     ]
    },
    {
     "name": "stderr",
     "output_type": "stream",
     "text": [
      "/opt/homebrew/lib/python3.11/site-packages/seaborn/_oldcore.py:1119: FutureWarning: use_inf_as_na option is deprecated and will be removed in a future version. Convert inf values to NaN before operating instead.\n",
      "  with pd.option_context('mode.use_inf_as_na', True):\n",
      "/opt/homebrew/lib/python3.11/site-packages/seaborn/_oldcore.py:1119: FutureWarning: use_inf_as_na option is deprecated and will be removed in a future version. Convert inf values to NaN before operating instead.\n",
      "  with pd.option_context('mode.use_inf_as_na', True):\n",
      "/opt/homebrew/lib/python3.11/site-packages/seaborn/_oldcore.py:1119: FutureWarning: use_inf_as_na option is deprecated and will be removed in a future version. Convert inf values to NaN before operating instead.\n",
      "  with pd.option_context('mode.use_inf_as_na', True):\n",
      "/opt/homebrew/lib/python3.11/site-packages/seaborn/_oldcore.py:1119: FutureWarning: use_inf_as_na option is deprecated and will be removed in a future version. Convert inf values to NaN before operating instead.\n",
      "  with pd.option_context('mode.use_inf_as_na', True):\n"
     ]
    },
    {
     "name": "stdout",
     "output_type": "stream",
     "text": [
      "avana    avana\n",
      "dtype: object avana    avana\n",
      "dtype: object\n",
      "Guide and replicate key for TSR2 (90121), ACH-000946:\n",
      "avana    av\n",
      "dtype: object\n",
      "ACAGCCAGGAGAAGGCCAAG    avGuide1\n",
      "CCTGTGTTTACAGATCGCTG    avGuide2\n",
      "CGTTGGTCAACAGCTCTCCA    avGuide3\n",
      "TTTCCGGGCTGGGGTCTGCG    avGuide4\n",
      "dtype: object\n",
      "HEC265-311Cas9_RepA_p6_Avana-3    avRep1\n",
      "HEC265-311Cas9_RepB_p6_Avana-3    avRep2\n",
      "dtype: object\n",
      "avana    avana\n",
      "dtype: object avana    avana\n",
      "dtype: object\n",
      "Guide and replicate key for TSR2 (90121), ACH-000147:\n",
      "avana    av\n",
      "dtype: object\n",
      "ACAGCCAGGAGAAGGCCAAG    avGuide1\n",
      "CCTGTGTTTACAGATCGCTG    avGuide2\n",
      "CGTTGGTCAACAGCTCTCCA    avGuide3\n",
      "TTTCCGGGCTGGGGTCTGCG    avGuide4\n",
      "dtype: object\n",
      "T47D-311Cas9-RepA-p6_Avana-4    avRep1\n",
      "T47D-311Cas9-RepB-p6_Avana-4    avRep2\n",
      "dtype: object\n",
      "\tRHBDD1 (84236)\n"
     ]
    },
    {
     "name": "stderr",
     "output_type": "stream",
     "text": [
      "/opt/homebrew/lib/python3.11/site-packages/seaborn/_oldcore.py:1119: FutureWarning: use_inf_as_na option is deprecated and will be removed in a future version. Convert inf values to NaN before operating instead.\n",
      "  with pd.option_context('mode.use_inf_as_na', True):\n",
      "/opt/homebrew/lib/python3.11/site-packages/seaborn/_oldcore.py:1119: FutureWarning: use_inf_as_na option is deprecated and will be removed in a future version. Convert inf values to NaN before operating instead.\n",
      "  with pd.option_context('mode.use_inf_as_na', True):\n",
      "/opt/homebrew/lib/python3.11/site-packages/seaborn/_oldcore.py:1119: FutureWarning: use_inf_as_na option is deprecated and will be removed in a future version. Convert inf values to NaN before operating instead.\n",
      "  with pd.option_context('mode.use_inf_as_na', True):\n",
      "/opt/homebrew/lib/python3.11/site-packages/seaborn/_oldcore.py:1119: FutureWarning: use_inf_as_na option is deprecated and will be removed in a future version. Convert inf values to NaN before operating instead.\n",
      "  with pd.option_context('mode.use_inf_as_na', True):\n"
     ]
    },
    {
     "name": "stdout",
     "output_type": "stream",
     "text": [
      "avana    avana\n",
      "dtype: object avana    avana\n",
      "dtype: object\n",
      "Guide and replicate key for RHBDD1 (84236), ACH-001411:\n",
      "avana    av\n",
      "dtype: object\n",
      "CCATGCAACGGAGATCAAGA    avGuide1\n",
      "CCTGATATCTGGCCATGCAA    avGuide2\n",
      "CTAAGGCAGGAGCTATACAG    avGuide3\n",
      "GTATAGCTCCTGCCTTAGTG    avGuide4\n",
      "dtype: object\n",
      "UMUC5-311Cas9_RepA_p6_Avana-3    avRep1\n",
      "UMUC5-311Cas9_RepB_p6_Avana-3    avRep2\n",
      "dtype: object\n",
      "avana    avana\n",
      "dtype: object avana    avana\n",
      "dtype: object\n",
      "Guide and replicate key for RHBDD1 (84236), ACH-001843:\n",
      "avana    av\n",
      "dtype: object\n",
      "CCATGCAACGGAGATCAAGA    avGuide1\n",
      "CCTGATATCTGGCCATGCAA    avGuide2\n",
      "CTAAGGCAGGAGCTATACAG    avGuide3\n",
      "GTATAGCTCCTGCCTTAGTG    avGuide4\n",
      "dtype: object\n",
      "ICC3-311cas9_RepA_p6_Avana-3    avRep1\n",
      "ICC3-311cas9_RepB_p6_Avana-3    avRep2\n",
      "dtype: object\n",
      "\tCBLIF (2694)\n"
     ]
    },
    {
     "name": "stderr",
     "output_type": "stream",
     "text": [
      "/opt/homebrew/lib/python3.11/site-packages/seaborn/_oldcore.py:1119: FutureWarning: use_inf_as_na option is deprecated and will be removed in a future version. Convert inf values to NaN before operating instead.\n",
      "  with pd.option_context('mode.use_inf_as_na', True):\n",
      "/opt/homebrew/lib/python3.11/site-packages/seaborn/_oldcore.py:1119: FutureWarning: use_inf_as_na option is deprecated and will be removed in a future version. Convert inf values to NaN before operating instead.\n",
      "  with pd.option_context('mode.use_inf_as_na', True):\n",
      "/opt/homebrew/lib/python3.11/site-packages/seaborn/_oldcore.py:1119: FutureWarning: use_inf_as_na option is deprecated and will be removed in a future version. Convert inf values to NaN before operating instead.\n",
      "  with pd.option_context('mode.use_inf_as_na', True):\n",
      "/opt/homebrew/lib/python3.11/site-packages/seaborn/_oldcore.py:1119: FutureWarning: use_inf_as_na option is deprecated and will be removed in a future version. Convert inf values to NaN before operating instead.\n",
      "  with pd.option_context('mode.use_inf_as_na', True):\n"
     ]
    },
    {
     "name": "stdout",
     "output_type": "stream",
     "text": [
      "avana    avana\n",
      "dtype: object avana    avana\n",
      "dtype: object\n",
      "Guide and replicate key for CBLIF (2694), ACH-000937:\n",
      "avana    av\n",
      "dtype: object\n",
      "ACTTGTATTCCATTGACCAA    avGuide1\n",
      "GAATGGATACTTTATCCCCA    avGuide2\n",
      "GGTGAGGCCGAGCTGCCCAA    avGuide3\n",
      "GTACATACAGGTCAGAGCCA    avGuide4\n",
      "dtype: object\n",
      "PF382-311CAS9_RepA_p6_Avana-3    avRep1\n",
      "PF382-311CAS9_RepB_p6_Avana-3    avRep2\n",
      "dtype: object\n",
      "avana    avana\n",
      "dtype: object avana    avana\n",
      "dtype: object\n",
      "Guide and replicate key for CBLIF (2694), ACH-001843:\n",
      "avana    av\n",
      "dtype: object\n",
      "ACTTGTATTCCATTGACCAA    avGuide1\n",
      "GAATGGATACTTTATCCCCA    avGuide2\n",
      "GGTGAGGCCGAGCTGCCCAA    avGuide3\n",
      "GTACATACAGGTCAGAGCCA    avGuide4\n",
      "dtype: object\n",
      "ICC3-311cas9_RepA_p6_Avana-3    avRep1\n",
      "ICC3-311cas9_RepB_p6_Avana-3    avRep2\n",
      "dtype: object\n",
      "\tPRMT5 (10419)\n"
     ]
    },
    {
     "name": "stderr",
     "output_type": "stream",
     "text": [
      "/opt/homebrew/lib/python3.11/site-packages/seaborn/_oldcore.py:1119: FutureWarning: use_inf_as_na option is deprecated and will be removed in a future version. Convert inf values to NaN before operating instead.\n",
      "  with pd.option_context('mode.use_inf_as_na', True):\n",
      "/opt/homebrew/lib/python3.11/site-packages/seaborn/_oldcore.py:1119: FutureWarning: use_inf_as_na option is deprecated and will be removed in a future version. Convert inf values to NaN before operating instead.\n",
      "  with pd.option_context('mode.use_inf_as_na', True):\n",
      "/opt/homebrew/lib/python3.11/site-packages/seaborn/_oldcore.py:1119: FutureWarning: use_inf_as_na option is deprecated and will be removed in a future version. Convert inf values to NaN before operating instead.\n",
      "  with pd.option_context('mode.use_inf_as_na', True):\n",
      "/opt/homebrew/lib/python3.11/site-packages/seaborn/_oldcore.py:1119: FutureWarning: use_inf_as_na option is deprecated and will be removed in a future version. Convert inf values to NaN before operating instead.\n",
      "  with pd.option_context('mode.use_inf_as_na', True):\n"
     ]
    },
    {
     "name": "stdout",
     "output_type": "stream",
     "text": [
      "avana    avana\n",
      "dtype: object avana    avana\n",
      "dtype: object\n",
      "Guide and replicate key for PRMT5 (10419), ACH-000993:\n",
      "avana    av\n",
      "dtype: object\n",
      "ATGAACTCCCTCTTGAAACG    avGuide1\n",
      "CTAGTCATCCCGGAGAAGCA    avGuide2\n",
      "GGAGAAAAACCCAAATGCCG    avGuide3\n",
      "GGTTGCTACTCACGTCACCA    avGuide4\n",
      "dtype: object\n",
      "JHUEM7-311Cas9_RepA_p5_Avana-3    avRep1\n",
      "JHUEM7-311Cas9_RepB_p5_Avana-3    avRep2\n",
      "dtype: object\n",
      "avana    avana\n",
      "dtype: object avana    avana\n",
      "dtype: object\n",
      "Guide and replicate key for PRMT5 (10419), ACH-001843:\n",
      "avana    av\n",
      "dtype: object\n",
      "ATGAACTCCCTCTTGAAACG    avGuide1\n",
      "CTAGTCATCCCGGAGAAGCA    avGuide2\n",
      "GGAGAAAAACCCAAATGCCG    avGuide3\n",
      "GGTTGCTACTCACGTCACCA    avGuide4\n",
      "dtype: object\n",
      "ICC3-311cas9_RepA_p6_Avana-3    avRep1\n",
      "ICC3-311cas9_RepB_p6_Avana-3    avRep2\n",
      "dtype: object\n",
      "\tGCG (2641)\n"
     ]
    },
    {
     "name": "stderr",
     "output_type": "stream",
     "text": [
      "/opt/homebrew/lib/python3.11/site-packages/seaborn/_oldcore.py:1119: FutureWarning: use_inf_as_na option is deprecated and will be removed in a future version. Convert inf values to NaN before operating instead.\n",
      "  with pd.option_context('mode.use_inf_as_na', True):\n",
      "/opt/homebrew/lib/python3.11/site-packages/seaborn/_oldcore.py:1119: FutureWarning: use_inf_as_na option is deprecated and will be removed in a future version. Convert inf values to NaN before operating instead.\n",
      "  with pd.option_context('mode.use_inf_as_na', True):\n",
      "/opt/homebrew/lib/python3.11/site-packages/seaborn/_oldcore.py:1119: FutureWarning: use_inf_as_na option is deprecated and will be removed in a future version. Convert inf values to NaN before operating instead.\n",
      "  with pd.option_context('mode.use_inf_as_na', True):\n",
      "/opt/homebrew/lib/python3.11/site-packages/seaborn/_oldcore.py:1119: FutureWarning: use_inf_as_na option is deprecated and will be removed in a future version. Convert inf values to NaN before operating instead.\n",
      "  with pd.option_context('mode.use_inf_as_na', True):\n"
     ]
    },
    {
     "name": "stdout",
     "output_type": "stream",
     "text": [
      "avana    avana\n",
      "dtype: object avana    avana\n",
      "dtype: object\n",
      "Guide and replicate key for GCG (2641), ACH-000396:\n",
      "avana    av\n",
      "dtype: object\n",
      "ACGTTCCCTTCAAGACACAG    avGuide1\n",
      "AGTGGTTGATGAATACCAAG    avGuide2\n",
      "TGATCCTGATCAGATGAACG    avGuide3\n",
      "TTTCTCCTCTGTGTCTTGAA    avGuide4\n",
      "dtype: object\n",
      "J82-311Cas9_RepA_p5_Avana-3    avRep1\n",
      "J82-311Cas9_RepB_p5_Avana-3    avRep2\n",
      "dtype: object\n",
      "avana    avana\n",
      "dtype: object avana    avana\n",
      "dtype: object\n",
      "Guide and replicate key for GCG (2641), ACH-001843:\n",
      "avana    av\n",
      "dtype: object\n",
      "ACGTTCCCTTCAAGACACAG    avGuide1\n",
      "AGTGGTTGATGAATACCAAG    avGuide2\n",
      "TGATCCTGATCAGATGAACG    avGuide3\n",
      "TTTCTCCTCTGTGTCTTGAA    avGuide4\n",
      "dtype: object\n",
      "ICC3-311cas9_RepA_p6_Avana-3    avRep1\n",
      "ICC3-311cas9_RepB_p6_Avana-3    avRep2\n",
      "dtype: object\n",
      "\tRFT1 (91869)\n"
     ]
    },
    {
     "name": "stderr",
     "output_type": "stream",
     "text": [
      "/opt/homebrew/lib/python3.11/site-packages/seaborn/_oldcore.py:1119: FutureWarning: use_inf_as_na option is deprecated and will be removed in a future version. Convert inf values to NaN before operating instead.\n",
      "  with pd.option_context('mode.use_inf_as_na', True):\n",
      "/opt/homebrew/lib/python3.11/site-packages/seaborn/_oldcore.py:1119: FutureWarning: use_inf_as_na option is deprecated and will be removed in a future version. Convert inf values to NaN before operating instead.\n",
      "  with pd.option_context('mode.use_inf_as_na', True):\n",
      "/opt/homebrew/lib/python3.11/site-packages/seaborn/_oldcore.py:1119: FutureWarning: use_inf_as_na option is deprecated and will be removed in a future version. Convert inf values to NaN before operating instead.\n",
      "  with pd.option_context('mode.use_inf_as_na', True):\n",
      "/opt/homebrew/lib/python3.11/site-packages/seaborn/_oldcore.py:1119: FutureWarning: use_inf_as_na option is deprecated and will be removed in a future version. Convert inf values to NaN before operating instead.\n",
      "  with pd.option_context('mode.use_inf_as_na', True):\n"
     ]
    },
    {
     "name": "stdout",
     "output_type": "stream",
     "text": [
      "avana    avana\n",
      "dtype: object avana    avana\n",
      "dtype: object\n",
      "Guide and replicate key for RFT1 (91869), ACH-001736:\n",
      "avana    av\n",
      "dtype: object\n",
      "CCCCACTGAGACATGCTCTG    avGuide1\n",
      "GCTTGTGCCAAGACCCAAAA    avGuide2\n",
      "GGAGGCTATGGGCAGCCAGG    avGuide3\n",
      "GGTGATTGCAGAGAGCCTGT    avGuide4\n",
      "dtype: object\n",
      "HB11;19-311CAS9_RepA_p6_Avana-3    avRep1\n",
      "HB11;19-311CAS9_RepB_p6_Avana-3    avRep2\n",
      "dtype: object\n",
      "avana    avana\n",
      "dtype: object avana    avana\n",
      "dtype: object\n",
      "Guide and replicate key for RFT1 (91869), ACH-001674:\n",
      "avana    av\n",
      "dtype: object\n",
      "CCCCACTGAGACATGCTCTG    avGuide1\n",
      "GCTTGTGCCAAGACCCAAAA    avGuide2\n",
      "GGAGGCTATGGGCAGCCAGG    avGuide3\n",
      "GGTGATTGCAGAGAGCCTGT    avGuide4\n",
      "dtype: object\n",
      "TGW-311Cas9-RepA-P6_Avana-4    avRep1\n",
      "TGW-311Cas9-RepB-P6_Avana-4    avRep2\n",
      "dtype: object\n",
      "\tIFNA4 (3441)\n"
     ]
    },
    {
     "name": "stderr",
     "output_type": "stream",
     "text": [
      "/opt/homebrew/lib/python3.11/site-packages/seaborn/_oldcore.py:1119: FutureWarning: use_inf_as_na option is deprecated and will be removed in a future version. Convert inf values to NaN before operating instead.\n",
      "  with pd.option_context('mode.use_inf_as_na', True):\n",
      "/opt/homebrew/lib/python3.11/site-packages/seaborn/_oldcore.py:1119: FutureWarning: use_inf_as_na option is deprecated and will be removed in a future version. Convert inf values to NaN before operating instead.\n",
      "  with pd.option_context('mode.use_inf_as_na', True):\n",
      "/opt/homebrew/lib/python3.11/site-packages/seaborn/_oldcore.py:1119: FutureWarning: use_inf_as_na option is deprecated and will be removed in a future version. Convert inf values to NaN before operating instead.\n",
      "  with pd.option_context('mode.use_inf_as_na', True):\n"
     ]
    },
    {
     "name": "stdout",
     "output_type": "stream",
     "text": [
      "avana    avana\n",
      "dtype: object avana    avana\n",
      "dtype: object\n",
      "Guide and replicate key for IFNA4 (3441), ACH-000774:\n",
      "avana    av\n",
      "dtype: object\n",
      "ACATGATTTCGGATTCCCCG    avGuide1\n",
      "GGCCATCAAACTCCTCCTCG    avGuide2\n",
      "GTGGCCATCAAACTCCTCCT    avGuide3\n",
      "dtype: object\n",
      "RERF-LC-Ad2-311cas9_RepA_p6_Avana-3    avRep1\n",
      "RERF-LC-Ad2-311cas9_RepB_p6_Avana-3    avRep2\n",
      "dtype: object\n",
      "avana    avana\n",
      "dtype: object avana    avana\n",
      "dtype: object\n",
      "Guide and replicate key for IFNA4 (3441), ACH-001843:\n",
      "avana    av\n",
      "dtype: object\n",
      "ACATGATTTCGGATTCCCCG    avGuide1\n",
      "GGCCATCAAACTCCTCCTCG    avGuide2\n",
      "GTGGCCATCAAACTCCTCCT    avGuide3\n",
      "dtype: object\n",
      "ICC3-311cas9_RepA_p6_Avana-3    avRep1\n",
      "ICC3-311cas9_RepB_p6_Avana-3    avRep2\n",
      "dtype: object\n",
      "building report\n"
     ]
    }
   ],
   "source": [
    "metrics = reports.dataset_qc_report(\"ChronosAvana\", savedir, \n",
    "                          common_essentials, nonessentials,\n",
    "                          gof_matrix_base, addiction_expressions,\n",
    "                          cn, directory=\"Data/reports\",\n",
    "                          gene_effect_file=\"gene_effect_corrected.hdf5\"\n",
    "                         )"
   ]
  },
  {
   "cell_type": "markdown",
   "metadata": {},
   "source": [
    "## Identifying Hits"
   ]
  },
  {
   "cell_type": "markdown",
   "metadata": {},
   "source": [
    "You may be interested in getting a list of genes that are true dependencies in your screen. Chronos provides two methods to do this:\n",
    "\n",
    "- Given a set of negative control genes (or a boolean matrix of individual genes within specific cell lines that are negative controls, such as a matrix of unexpressed genes), Chronos can compute empirical p-values for the null hypothesis that the KO had no viability effect against the alternative hypothesis that it caused loss of viability\n",
    "-  Given a set of positive and negative control genes, Chronos can estimate the probability that a given gene effect score came from the distribution of positive controls vs negative controls. If the controls are representative of essential/nonessential genes, then the probability tells you how likely it is that a given score represents an essential gene for that cell line. \n",
    "\n",
    "To get an unbiased estimate, is important not to use CRISPR results from the same library to choose or refine the control sets. We want the scores for the gene sets to capture any bias or artifacts present in CRISPR."
   ]
  },
  {
   "cell_type": "code",
   "execution_count": 59,
   "metadata": {},
   "outputs": [],
   "source": [
    "from chronos.hit_calling import get_probability_dependent, get_pvalue_dependent"
   ]
  },
  {
   "cell_type": "code",
   "execution_count": 60,
   "metadata": {},
   "outputs": [
    {
     "name": "stderr",
     "output_type": "stream",
     "text": [
      "/Users/dempster/packages/chronos_public/chronos/hit_calling.py:957: UserWarning: Not all negative_controls found in the gene effect columns: ['KRTAP9-2 (83899)', 'LYZL1 (84569)', 'OR3A3 (8392)', 'KRTAP4-7 (100132476)', 'PRB4 (5545)']\n",
      "  warn(\"Not all %s found in the gene effect columns: %r\" % (label, missing[:5]))\n"
     ]
    }
   ],
   "source": [
    "pvalues = get_pvalue_dependent(corrected, nonessentials)"
   ]
  },
  {
   "cell_type": "code",
   "execution_count": 61,
   "metadata": {
    "scrolled": true
   },
   "outputs": [
    {
     "name": "stderr",
     "output_type": "stream",
     "text": [
      "/Users/dempster/packages/chronos_public/chronos/hit_calling.py:957: UserWarning: Not all positive controls found in the gene effect columns: ['RPL7L1 (285855)', 'RPL23A (6147)', 'WDR70 (55100)']\n",
      "  warn(\"Not all %s found in the gene effect columns: %r\" % (label, missing[:5]))\n",
      "/Users/dempster/packages/chronos_public/chronos/hit_calling.py:957: UserWarning: Not all negative controls found in the gene effect columns: ['KRTAP9-2 (83899)', 'LYZL1 (84569)', 'OR3A3 (8392)', 'KRTAP4-7 (100132476)', 'PRB4 (5545)']\n",
      "  warn(\"Not all %s found in the gene effect columns: %r\" % (label, missing[:5]))\n"
     ]
    },
    {
     "name": "stdout",
     "output_type": "stream",
     "text": [
      "Converged at likelihood 13.665663 with 28 iterations\n",
      "Converged at likelihood 2.740307 with 25 iterations\n",
      "Converged at likelihood 109.684301 with 22 iterations\n",
      "Converged at likelihood 16.249940 with 31 iterations\n",
      "Converged at likelihood 59.096422 with 21 iterations\n",
      "Converged at likelihood -1.861705 with 19 iterations\n",
      "Converged at likelihood 35.621631 with 25 iterations\n",
      "Converged at likelihood 15.792085 with 36 iterations\n",
      "Converged at likelihood -19.010594 with 16 iterations\n",
      "Converged at likelihood 9.578673 with 26 iterations\n",
      "Converged at likelihood 157.128862 with 17 iterations\n",
      "Converged at likelihood 46.857201 with 28 iterations\n",
      "Converged at likelihood 64.435779 with 21 iterations\n",
      "Converged at likelihood -16.459246 with 18 iterations\n",
      "Converged at likelihood 145.397666 with 16 iterations\n",
      "Converged at likelihood 38.159549 with 27 iterations\n",
      "Converged at likelihood 122.480525 with 20 iterations\n",
      "Converged at likelihood 257.482467 with 38 iterations\n",
      "Converged at likelihood 106.351501 with 20 iterations\n",
      "Converged at likelihood -24.678548 with 15 iterations\n",
      "Converged at likelihood 68.816249 with 26 iterations\n",
      "Converged at likelihood 82.196171 with 21 iterations\n",
      "Converged at likelihood 291.925082 with 23 iterations\n",
      "Converged at likelihood 138.558055 with 18 iterations\n",
      "Converged at likelihood 13.924238 with 29 iterations\n",
      "Converged at likelihood 87.252013 with 23 iterations\n",
      "Converged at likelihood 71.051610 with 24 iterations\n",
      "Converged at likelihood 66.155377 with 22 iterations\n",
      "Converged at likelihood 81.788302 with 31 iterations\n",
      "Converged at likelihood 182.247092 with 27 iterations\n",
      "Converged at likelihood 42.683157 with 30 iterations\n",
      "Converged at likelihood -7.404917 with 16 iterations\n",
      "Converged at likelihood -3.559381 with 17 iterations\n",
      "Converged at likelihood -5.669812 with 14 iterations\n",
      "Converged at likelihood 47.574685 with 22 iterations\n",
      "Converged at likelihood 317.968128 with 22 iterations\n",
      "Converged at likelihood 82.309156 with 28 iterations\n",
      "Converged at likelihood -8.674814 with 16 iterations\n",
      "Converged at likelihood 65.050864 with 24 iterations\n",
      "Converged at likelihood 119.670603 with 20 iterations\n",
      "Converged at likelihood 66.606257 with 26 iterations\n",
      "Converged at likelihood -152.330580 with 20 iterations\n",
      "Converged at likelihood 133.353885 with 19 iterations\n",
      "Converged at likelihood 92.572779 with 20 iterations\n"
     ]
    }
   ],
   "source": [
    "probabilities = get_probability_dependent(corrected, nonessentials, common_essentials)"
   ]
  },
  {
   "cell_type": "markdown",
   "metadata": {},
   "source": [
    "Each of these has advantages and disadvantages for hit-calling. The probability of dependency is highly dependent on choosing a set of positive controls that accurately capture the distribution of gene-loss-driven depleting phenotypes in your screen. Too stringent a list will cause underestimates, while too loose a list will lead to failure control false discovery. The inverse is true of the negative controls, but it is often possible to identify a very rigorous and representative set of negative controls using unexpressed genes. You should plot the distributions of all your gene effect scores, your negative controls, and your positive controls to see if the positive controls really do represent the left tail:"
   ]
  },
  {
   "cell_type": "code",
   "execution_count": 62,
   "metadata": {},
   "outputs": [
    {
     "name": "stderr",
     "output_type": "stream",
     "text": [
      "/opt/homebrew/lib/python3.11/site-packages/seaborn/_oldcore.py:1119: FutureWarning: use_inf_as_na option is deprecated and will be removed in a future version. Convert inf values to NaN before operating instead.\n",
      "  with pd.option_context('mode.use_inf_as_na', True):\n",
      "/opt/homebrew/lib/python3.11/site-packages/seaborn/_oldcore.py:1119: FutureWarning: use_inf_as_na option is deprecated and will be removed in a future version. Convert inf values to NaN before operating instead.\n",
      "  with pd.option_context('mode.use_inf_as_na', True):\n",
      "/opt/homebrew/lib/python3.11/site-packages/seaborn/_oldcore.py:1119: FutureWarning: use_inf_as_na option is deprecated and will be removed in a future version. Convert inf values to NaN before operating instead.\n",
      "  with pd.option_context('mode.use_inf_as_na', True):\n"
     ]
    },
    {
     "data": {
      "text/plain": [
       "Text(0.5, 0, 'Gene Effect')"
      ]
     },
     "execution_count": 62,
     "metadata": {},
     "output_type": "execute_result"
    },
    {
     "data": {
      "image/png": "[encoded data removed]",
      "text/plain": [
       "<Figure size 1280x960 with 1 Axes>"
      ]
     },
     "metadata": {},
     "output_type": "display_data"
    }
   ],
   "source": [
    "sns.kdeplot(np.ravel(corrected), label=\"All genes\", color=\"green\")\n",
    "sns.kdeplot(np.ravel(corrected.reindex(columns=common_essentials)), label=\"Positive controls\", color=\"red\", fill=True)\n",
    "sns.kdeplot(np.ravel(corrected.reindex(columns=nonessentials)), label=\"Negative controls\", color=\"blue\", fill=True)\n",
    "plt.legend()\n",
    "plt.xlabel(\"Gene Effect\")"
   ]
  },
  {
   "cell_type": "markdown",
   "metadata": {},
   "source": [
    "On the other hand, the power of the empirical p-values will be strictly limited by the number of negative controls. In fact, the minimum possible _p_ that can be achieved is 1 / len(negative_controls). This is likely to be an issue in a subgenome library. Below, we see the effect of this cap on significance:"
   ]
  },
  {
   "cell_type": "code",
   "execution_count": 63,
   "metadata": {},
   "outputs": [
    {
     "data": {
      "text/plain": [
       "Text(0, 0.5, '-Log10 P')"
      ]
     },
     "execution_count": 63,
     "metadata": {},
     "output_type": "execute_result"
    },
    {
     "data": {
      "image/png": "[encoded data removed]",
      "text/plain": [
       "<Figure size 2400x1000 with 2 Axes>"
      ]
     },
     "metadata": {},
     "output_type": "display_data"
    }
   ],
   "source": [
    "fig, axes = plt.subplots(1, 2, figsize=(12, 5))\n",
    "\n",
    "plt.sca(axes[0])\n",
    "for ind in probabilities.index:\n",
    "    plt.scatter(corrected.loc[ind], probabilities.loc[ind], s=5, alpha=.7, linewidth=.5, label=ind)\n",
    "plt.legend(fontsize=4, loc=\"lower left\")\n",
    "plt.xlabel(\"Gene Effect Estimate\")\n",
    "plt.ylabel(\"Probability of Dependency\")\n",
    "\n",
    "plt.sca(axes[1])\n",
    "for ind in pvalues.index:\n",
    "    plt.scatter(corrected.loc[ind], -np.log10(pvalues.loc[ind]), s=5, alpha=.7, linewidth=.5, label=ind)\n",
    "plt.xlabel(\"Gene Effect Estimate\")\n",
    "plt.ylabel(\"-Log10 P\")"
   ]
  },
  {
   "cell_type": "markdown",
   "metadata": {},
   "source": [
    "We can make a roughly head-to-head comparison of discoveries from the two methods by estimating a false discovery rate using each. Using p-values for many hypotheses, false discovery is typically controlled with the Benjamini-Hochberg procedure. This is a frequentist FDR. In contrast, using probabilities of dependency, we can directly estimate the Bayesian FDR: the number of true discoveries below a threshold is just the sum of the probabilities of dependency. See https://arxiv.org/pdf/1803.05284.pdf for a discussion of frequentist and Bayesian false discovery."
   ]
  },
  {
   "cell_type": "code",
   "execution_count": 64,
   "metadata": {},
   "outputs": [],
   "source": [
    "from chronos.hit_calling import get_fdr_from_probabilities, get_fdr_from_pvalues\n",
    "fdr_from_probabilities = get_fdr_from_probabilities(probabilities)\n",
    "fdr_from_pvalues = get_fdr_from_pvalues(pvalues)"
   ]
  },
  {
   "cell_type": "markdown",
   "metadata": {},
   "source": [
    "We'll do a quick, nonrigorous calibration check, considering only the control sets:"
   ]
  },
  {
   "cell_type": "code",
   "execution_count": 65,
   "metadata": {},
   "outputs": [],
   "source": [
    "def calibration_check(fdr, positive_controls, negative_controls):\n",
    "    controls_only = fdr\\\n",
    "    .reindex(columns=list(positive_controls) + list(negative_controls))\\\n",
    "    .dropna(axis=1)\n",
    "\n",
    "    is_essential = pd.DataFrame(\n",
    "        np.repeat(\n",
    "            controls_only.columns.isin(positive_controls).reshape(1, -1), \n",
    "            len(controls_only), axis=0\n",
    "        ),\n",
    "       index=controls_only.index,\n",
    "        columns=controls_only.columns\n",
    "    )\n",
    "    \n",
    "    calibration = pd.DataFrame({\n",
    "        \"FDR\": np.ravel(controls_only),\n",
    "        \"IsTrue\": np.ravel(is_essential)\n",
    "    }).sort_values(\"FDR\")\n",
    "    calibration[\"ProportionFalse\"] = np.cumsum(~calibration.IsTrue) / np.arange(1, len(calibration)+1)\n",
    "    \n",
    "    return calibration"
   ]
  },
  {
   "cell_type": "code",
   "execution_count": 66,
   "metadata": {},
   "outputs": [],
   "source": [
    "calibration_probabilities = calibration_check(fdr_from_probabilities, common_essentials, nonessentials)\n",
    "calibration_pvalues = calibration_check(fdr_from_pvalues, common_essentials, nonessentials)"
   ]
  },
  {
   "cell_type": "code",
   "execution_count": 67,
   "metadata": {},
   "outputs": [
    {
     "data": {
      "text/plain": [
       "<matplotlib.legend.Legend at 0x3f7fd4550>"
      ]
     },
     "execution_count": 67,
     "metadata": {},
     "output_type": "execute_result"
    },
    {
     "data": {
      "image/png": "[encoded data removed]",
      "text/plain": [
       "<Figure size 1280x960 with 1 Axes>"
      ]
     },
     "metadata": {},
     "output_type": "display_data"
    }
   ],
   "source": [
    "plt.plot(\n",
    "    calibration_probabilities[\"ProportionFalse\"],\n",
    "    calibration_probabilities[\"FDR\"],\n",
    "    label=\"Using Probabilities (Bayesian)\"\n",
    ")\n",
    "\n",
    "plt.plot(\n",
    "    calibration_pvalues[\"ProportionFalse\"],\n",
    "    calibration_pvalues[\"FDR\"],\n",
    "    '--', \n",
    "    label=\"Using P-values (Frequentist)\"\n",
    ")\n",
    "\n",
    "max_fdr = calibration_probabilities.ProportionFalse.max()\n",
    "plt.plot([0, max_fdr], [0, max_fdr], '-.', color=\"black\", label=\"Perfect Calibration\")\n",
    "\n",
    "plt.ylabel(\"Estimated FDR\")\n",
    "plt.xlabel(\"True FDR\")\n",
    "plt.legend()"
   ]
  },
  {
   "attachments": {},
   "cell_type": "markdown",
   "metadata": {},
   "source": [
    "We can see that both estimates of FDR are conservative, which is surely preferable to being optimistic. This may be partly due to the presence of the noncontrol genes in the full data, which have a lower proportion of true dependencies than the controls and affect the FDR estimates in the controls. The probability based method has an unfair advantage as it as seen the same set of positive controls as well as the negative controls. To be truly rigorous we would need to split the controls used in training and in evaluating calibration, and run Chronos without any non-control genes. \n",
    "\n",
    "Note that the BH estimates reach 1, while probability-based estimates saturate below 1. This is because the BH procedure assumes the proportion of true discoveries is approximately 0 over the whole dataset:"
   ]
  },
  {
   "cell_type": "code",
   "execution_count": 68,
   "metadata": {},
   "outputs": [
    {
     "data": {
      "text/plain": [
       "(1.0, 1.0)"
      ]
     },
     "execution_count": 68,
     "metadata": {},
     "output_type": "execute_result"
    }
   ],
   "source": [
    "fdr_from_pvalues.max().max(), fdr_from_pvalues.max(axis=1).mean()"
   ]
  },
  {
   "cell_type": "code",
   "execution_count": 69,
   "metadata": {},
   "outputs": [
    {
     "data": {
      "text/plain": [
       "(0.6330216534307214, 0.5951358104162263)"
      ]
     },
     "execution_count": 69,
     "metadata": {},
     "output_type": "execute_result"
    }
   ],
   "source": [
    "fdr_from_probabilities.max(axis=1).max(), fdr_from_probabilities.max(axis=1).mean()"
   ]
  },
  {
   "cell_type": "markdown",
   "metadata": {},
   "source": [
    "If an estimated FDR is correct, 1- the maximum FDR for a cell line should be equal to the fraction of true dependencies in that cell line. The lowest probability-based estimate of 0.38 is close to the proportion of common essential genes in the dataset (0.36), illustrating the greater power of the FDRs computed this way. When we compute FDRs from p-values using the Benjamini-Hochberg procedure, we are estimating adjusted p-values to _control_ false discovery rather than the true FDR, and the adjusted p-values reach 1.\n",
    "\n",
    "We should also note that having a large number of true dependencies our test library improves the apparent performance of the frequentist method, because it allows values to remain significant after the BH procedure. In a setting with few true dependencies, the frequentist method may become severely underpowered."
   ]
  },
  {
   "cell_type": "markdown",
   "metadata": {},
   "source": [
    "Summing up: using `get_probability_dependent` is more powerful, and especially so in the case of subgenome libraries with limited negative control sets and a modest proportion of true hits. However, it requires correctly specifying the positive control distribution by identifying _representative_ positive control genes independently from your screening data (ideally, independent of any CRISPR data). "
   ]
  },
  {
   "cell_type": "markdown",
   "metadata": {},
   "source": [
    "## Comparing a Screen in Two Conditions"
   ]
  },
  {
   "cell_type": "markdown",
   "metadata": {},
   "source": [
    "### Data Format for Comparing Conditions"
   ]
  },
  {
   "cell_type": "markdown",
   "metadata": {},
   "source": [
    "A common use case for comparing screens is the anchor screen, in which the same model is screened in two different conditions. In [DeWeirdt et al.](https://doi.org/10.1038%2Fs41467-020-14620-6) (2020), the Meljuso, OVCAR8, and A375 cell lines were screened using either small molecule inhibitors or S. Aureus knockouts of BCL2L1, MCL1, and PARP/PARP1 in combination with the Brunello genome-wide library. A subset of their screens with the BCL2L1 inhibitor A-1331852 is loaded below."
   ]
  },
  {
   "cell_type": "code",
   "execution_count": 70,
   "metadata": {},
   "outputs": [],
   "source": [
    "deweird_readcounts = chronos.read_hdf5(\"Data/SampleData/DeWeirdtReadcounts.hdf5\")\n",
    "\n",
    "deweirdt_condition_map = pd.read_csv(\"Data/SampleData/DeWeirdtConditionMap.csv\")\n",
    "\n",
    "deweirdt_guide_map = pd.read_csv(\"Data/SampleData/DeWeirdtGuideMap.csv\")\n",
    "\n",
    "deweirdt_negative_controls = deweirdt_guide_map.sgrna[\n",
    "    deweirdt_guide_map.gene.isin([s.split(' ')[0] for s in nonessentials])\n",
    "]"
   ]
  },
  {
   "cell_type": "markdown",
   "metadata": {},
   "source": [
    "The readcounts and guide maps are formatted just like the Avana data above. The condition map is very similar to a sequence map, but requires two additional columns: `\"replicate\"` and `\"condition\"`. __Different replicates should be biologically independent__, ideally independently library-transfected cell populations. Different sequences of the same replicate should be assigned the same replicate name."
   ]
  },
  {
   "cell_type": "code",
   "execution_count": 71,
   "metadata": {},
   "outputs": [
    {
     "data": {
      "text/html": [
       "<div>\n",
       "<style scoped>\n",
       "    .dataframe tbody tr th:only-of-type {\n",
       "        vertical-align: middle;\n",
       "    }\n",
       "\n",
       "    .dataframe tbody tr th {\n",
       "        vertical-align: top;\n",
       "    }\n",
       "\n",
       "    .dataframe thead th {\n",
       "        text-align: right;\n",
       "    }\n",
       "</style>\n",
       "<table border=\"1\" class=\"dataframe\">\n",
       "  <thead>\n",
       "    <tr style=\"text-align: right;\">\n",
       "      <th></th>\n",
       "      <th>sequence_ID</th>\n",
       "      <th>replicate</th>\n",
       "      <th>cell_line_name</th>\n",
       "      <th>days</th>\n",
       "      <th>pDNA_batch</th>\n",
       "      <th>condition</th>\n",
       "    </tr>\n",
       "  </thead>\n",
       "  <tbody>\n",
       "    <tr>\n",
       "      <th>0</th>\n",
       "      <td>pDNA</td>\n",
       "      <td>pDNA</td>\n",
       "      <td>pDNA</td>\n",
       "      <td>21</td>\n",
       "      <td>batch1</td>\n",
       "      <td>pDNA</td>\n",
       "    </tr>\n",
       "    <tr>\n",
       "      <th>1</th>\n",
       "      <td>Meljuso</td>\n",
       "      <td>RepA</td>\n",
       "      <td>Meljuso</td>\n",
       "      <td>21</td>\n",
       "      <td>batch1</td>\n",
       "      <td>Control</td>\n",
       "    </tr>\n",
       "    <tr>\n",
       "      <th>2</th>\n",
       "      <td>Meljuso.1</td>\n",
       "      <td>RepB</td>\n",
       "      <td>Meljuso</td>\n",
       "      <td>21</td>\n",
       "      <td>batch1</td>\n",
       "      <td>Control</td>\n",
       "    </tr>\n",
       "    <tr>\n",
       "      <th>3</th>\n",
       "      <td>Meljuso.2</td>\n",
       "      <td>RepA</td>\n",
       "      <td>Meljuso</td>\n",
       "      <td>21</td>\n",
       "      <td>batch1</td>\n",
       "      <td>A-1331852</td>\n",
       "    </tr>\n",
       "    <tr>\n",
       "      <th>4</th>\n",
       "      <td>Meljuso.3</td>\n",
       "      <td>RepB</td>\n",
       "      <td>Meljuso</td>\n",
       "      <td>21</td>\n",
       "      <td>batch1</td>\n",
       "      <td>A-1331852</td>\n",
       "    </tr>\n",
       "    <tr>\n",
       "      <th>5</th>\n",
       "      <td>OVCAR8</td>\n",
       "      <td>RepA</td>\n",
       "      <td>OVCAR8</td>\n",
       "      <td>21</td>\n",
       "      <td>batch1</td>\n",
       "      <td>Control</td>\n",
       "    </tr>\n",
       "    <tr>\n",
       "      <th>6</th>\n",
       "      <td>OVCAR8.1</td>\n",
       "      <td>RepB</td>\n",
       "      <td>OVCAR8</td>\n",
       "      <td>21</td>\n",
       "      <td>batch1</td>\n",
       "      <td>Control</td>\n",
       "    </tr>\n",
       "    <tr>\n",
       "      <th>7</th>\n",
       "      <td>OVCAR8.2</td>\n",
       "      <td>RepA</td>\n",
       "      <td>OVCAR8</td>\n",
       "      <td>21</td>\n",
       "      <td>batch1</td>\n",
       "      <td>A-1331852</td>\n",
       "    </tr>\n",
       "    <tr>\n",
       "      <th>8</th>\n",
       "      <td>OVCAR8.3</td>\n",
       "      <td>RepB</td>\n",
       "      <td>OVCAR8</td>\n",
       "      <td>21</td>\n",
       "      <td>batch1</td>\n",
       "      <td>A-1331852</td>\n",
       "    </tr>\n",
       "  </tbody>\n",
       "</table>\n",
       "</div>"
      ],
      "text/plain": [
       "  sequence_ID replicate cell_line_name  days pDNA_batch  condition\n",
       "0        pDNA      pDNA           pDNA    21     batch1       pDNA\n",
       "1     Meljuso      RepA        Meljuso    21     batch1    Control\n",
       "2   Meljuso.1      RepB        Meljuso    21     batch1    Control\n",
       "3   Meljuso.2      RepA        Meljuso    21     batch1  A-1331852\n",
       "4   Meljuso.3      RepB        Meljuso    21     batch1  A-1331852\n",
       "5      OVCAR8      RepA         OVCAR8    21     batch1    Control\n",
       "6    OVCAR8.1      RepB         OVCAR8    21     batch1    Control\n",
       "7    OVCAR8.2      RepA         OVCAR8    21     batch1  A-1331852\n",
       "8    OVCAR8.3      RepB         OVCAR8    21     batch1  A-1331852"
      ]
     },
     "execution_count": 71,
     "metadata": {},
     "output_type": "execute_result"
    }
   ],
   "source": [
    "deweirdt_condition_map"
   ]
  },
  {
   "cell_type": "markdown",
   "metadata": {},
   "source": [
    "Any cell line with less than two unique replicates in each of the two conditions being compared will not be evaluated."
   ]
  },
  {
   "cell_type": "markdown",
   "metadata": {},
   "source": [
    "It is important when running the comparison to first normalize the readcounts and `nan_outgrowths`. Otherwise, outliers that occur in single replicates will produce excessive noise that will reduce statistical power."
   ]
  },
  {
   "cell_type": "code",
   "execution_count": 72,
   "metadata": {},
   "outputs": [],
   "source": [
    "deweirdt_normed = chronos.normalize_readcounts(deweird_readcounts, deweirdt_negative_controls, deweirdt_condition_map)"
   ]
  },
  {
   "cell_type": "code",
   "execution_count": 73,
   "metadata": {},
   "outputs": [
    {
     "name": "stdout",
     "output_type": "stream",
     "text": [
      "calculating LFC\n",
      "stacking and annotating LFC\n",
      "finding group boundaries\n",
      "removing cases with only one guide and replicate\n",
      "finding maximal values\n",
      "making mask\n",
      "found 26 outgrowths, 4.5E-05 of the total\n",
      "pivoting mask\n",
      "aligning_mask\n"
     ]
    },
    {
     "name": "stderr",
     "output_type": "stream",
     "text": [
      "/Users/dempster/packages/chronos_public/chronos/model.py:478: FutureWarning: ChainedAssignmentError: behaviour will change in pandas 3.0!\n",
      "You are setting values through chained assignment. Currently this works in certain cases, but when using Copy-on-Write (which will become the default behaviour in pandas 3.0) this will never work to update the original DataFrame or Series, because the intermediate object on which we are setting values will behave as a copy.\n",
      "A typical example is when you are setting values in a column of a DataFrame, like:\n",
      "\n",
      "df[\"col\"][row_indexer] = value\n",
      "\n",
      "Use `df.loc[row_indexer, \"col\"] = values` instead, to perform the assignment in a single step and ensure this keeps updating the original `df`.\n",
      "\n",
      "See the caveats in the documentation: https://pandas.pydata.org/pandas-docs/stable/user_guide/indexing.html#returning-a-view-versus-a-copy\n",
      "\n",
      "  lfc_stack[\"Mask\"].loc[bad_rows] = True\n",
      "/Users/dempster/packages/chronos_public/chronos/model.py:478: SettingWithCopyWarning: \n",
      "A value is trying to be set on a copy of a slice from a DataFrame\n",
      "\n",
      "See the caveats in the documentation: https://pandas.pydata.org/pandas-docs/stable/user_guide/indexing.html#returning-a-view-versus-a-copy\n",
      "  lfc_stack[\"Mask\"].loc[bad_rows] = True\n",
      "/Users/dempster/packages/chronos_public/chronos/model.py:484: FutureWarning: Downcasting object dtype arrays on .fillna, .ffill, .bfill is deprecated and will change in a future version. Call result.infer_objects(copy=False) instead. To opt-in to the future behavior, set `pd.set_option('future.no_silent_downcasting', True)`\n",
      "  mask = mask.reindex(index=readcounts.index, columns=readcounts.columns).fillna(False)\n"
     ]
    },
    {
     "name": "stdout",
     "output_type": "stream",
     "text": [
      "NaNing\n"
     ]
    }
   ],
   "source": [
    "chronos.nan_outgrowths(deweirdt_normed, deweirdt_condition_map, deweirdt_guide_map, rpm_normalize=False)"
   ]
  },
  {
   "cell_type": "markdown",
   "metadata": {},
   "source": [
    "### Training with Conditions Distinguished"
   ]
  },
  {
   "cell_type": "markdown",
   "metadata": {},
   "source": [
    "To understand how `ChronosComparison` works, it helps to first manually create a model with conditions distinguished. First, we create a sequence map that distinguishes conditions. We'll compare \"Control\" and \"A-1331852\". The function `create_condition_map` creates the map, while the function `filter_sequence_map_by_condition` restricts the sequences considered to those matching one of the designated conditions and to cell lines with at least two unique replicates in each batch. It also will trim the number of replicates considered so that there is an even and equal number in each condition for each the cell line."
   ]
  },
  {
   "cell_type": "code",
   "execution_count": 74,
   "metadata": {},
   "outputs": [],
   "source": [
    "from chronos.hit_calling import filter_sequence_map_by_condition, create_condition_sequence_map\n",
    "\n",
    "condition_pair = (\"Control\", \"A-1331852\")\n",
    "distinguished_map = create_condition_sequence_map(\n",
    "    filter_sequence_map_by_condition(deweirdt_condition_map, condition_pair),\n",
    "    condition_pair\n",
    ")\n",
    "    "
   ]
  },
  {
   "cell_type": "code",
   "execution_count": 75,
   "metadata": {},
   "outputs": [
    {
     "data": {
      "text/html": [
       "<div>\n",
       "<style scoped>\n",
       "    .dataframe tbody tr th:only-of-type {\n",
       "        vertical-align: middle;\n",
       "    }\n",
       "\n",
       "    .dataframe tbody tr th {\n",
       "        vertical-align: top;\n",
       "    }\n",
       "\n",
       "    .dataframe thead th {\n",
       "        text-align: right;\n",
       "    }\n",
       "</style>\n",
       "<table border=\"1\" class=\"dataframe\">\n",
       "  <thead>\n",
       "    <tr style=\"text-align: right;\">\n",
       "      <th></th>\n",
       "      <th>sequence_ID</th>\n",
       "      <th>replicate</th>\n",
       "      <th>cell_line_name</th>\n",
       "      <th>days</th>\n",
       "      <th>pDNA_batch</th>\n",
       "      <th>condition</th>\n",
       "      <th>true_cell_line_name</th>\n",
       "    </tr>\n",
       "  </thead>\n",
       "  <tbody>\n",
       "    <tr>\n",
       "      <th>0</th>\n",
       "      <td>pDNA</td>\n",
       "      <td>pDNA</td>\n",
       "      <td>pDNA</td>\n",
       "      <td>21</td>\n",
       "      <td>batch1</td>\n",
       "      <td>pDNA</td>\n",
       "      <td>pDNA</td>\n",
       "    </tr>\n",
       "    <tr>\n",
       "      <th>1</th>\n",
       "      <td>Meljuso</td>\n",
       "      <td>RepA</td>\n",
       "      <td>Meljuso__in__Control</td>\n",
       "      <td>21</td>\n",
       "      <td>batch1</td>\n",
       "      <td>Control</td>\n",
       "      <td>Meljuso</td>\n",
       "    </tr>\n",
       "    <tr>\n",
       "      <th>2</th>\n",
       "      <td>Meljuso.1</td>\n",
       "      <td>RepB</td>\n",
       "      <td>Meljuso__in__Control</td>\n",
       "      <td>21</td>\n",
       "      <td>batch1</td>\n",
       "      <td>Control</td>\n",
       "      <td>Meljuso</td>\n",
       "    </tr>\n",
       "    <tr>\n",
       "      <th>3</th>\n",
       "      <td>Meljuso.2</td>\n",
       "      <td>RepA</td>\n",
       "      <td>Meljuso__in__A-1331852</td>\n",
       "      <td>21</td>\n",
       "      <td>batch1</td>\n",
       "      <td>A-1331852</td>\n",
       "      <td>Meljuso</td>\n",
       "    </tr>\n",
       "    <tr>\n",
       "      <th>4</th>\n",
       "      <td>Meljuso.3</td>\n",
       "      <td>RepB</td>\n",
       "      <td>Meljuso__in__A-1331852</td>\n",
       "      <td>21</td>\n",
       "      <td>batch1</td>\n",
       "      <td>A-1331852</td>\n",
       "      <td>Meljuso</td>\n",
       "    </tr>\n",
       "    <tr>\n",
       "      <th>5</th>\n",
       "      <td>OVCAR8</td>\n",
       "      <td>RepA</td>\n",
       "      <td>OVCAR8__in__Control</td>\n",
       "      <td>21</td>\n",
       "      <td>batch1</td>\n",
       "      <td>Control</td>\n",
       "      <td>OVCAR8</td>\n",
       "    </tr>\n",
       "    <tr>\n",
       "      <th>6</th>\n",
       "      <td>OVCAR8.1</td>\n",
       "      <td>RepB</td>\n",
       "      <td>OVCAR8__in__Control</td>\n",
       "      <td>21</td>\n",
       "      <td>batch1</td>\n",
       "      <td>Control</td>\n",
       "      <td>OVCAR8</td>\n",
       "    </tr>\n",
       "    <tr>\n",
       "      <th>7</th>\n",
       "      <td>OVCAR8.2</td>\n",
       "      <td>RepA</td>\n",
       "      <td>OVCAR8__in__A-1331852</td>\n",
       "      <td>21</td>\n",
       "      <td>batch1</td>\n",
       "      <td>A-1331852</td>\n",
       "      <td>OVCAR8</td>\n",
       "    </tr>\n",
       "    <tr>\n",
       "      <th>8</th>\n",
       "      <td>OVCAR8.3</td>\n",
       "      <td>RepB</td>\n",
       "      <td>OVCAR8__in__A-1331852</td>\n",
       "      <td>21</td>\n",
       "      <td>batch1</td>\n",
       "      <td>A-1331852</td>\n",
       "      <td>OVCAR8</td>\n",
       "    </tr>\n",
       "  </tbody>\n",
       "</table>\n",
       "</div>"
      ],
      "text/plain": [
       "  sequence_ID replicate          cell_line_name  days pDNA_batch  condition  \\\n",
       "0        pDNA      pDNA                    pDNA    21     batch1       pDNA   \n",
       "1     Meljuso      RepA    Meljuso__in__Control    21     batch1    Control   \n",
       "2   Meljuso.1      RepB    Meljuso__in__Control    21     batch1    Control   \n",
       "3   Meljuso.2      RepA  Meljuso__in__A-1331852    21     batch1  A-1331852   \n",
       "4   Meljuso.3      RepB  Meljuso__in__A-1331852    21     batch1  A-1331852   \n",
       "5      OVCAR8      RepA     OVCAR8__in__Control    21     batch1    Control   \n",
       "6    OVCAR8.1      RepB     OVCAR8__in__Control    21     batch1    Control   \n",
       "7    OVCAR8.2      RepA   OVCAR8__in__A-1331852    21     batch1  A-1331852   \n",
       "8    OVCAR8.3      RepB   OVCAR8__in__A-1331852    21     batch1  A-1331852   \n",
       "\n",
       "  true_cell_line_name  \n",
       "0                pDNA  \n",
       "1             Meljuso  \n",
       "2             Meljuso  \n",
       "3             Meljuso  \n",
       "4             Meljuso  \n",
       "5              OVCAR8  \n",
       "6              OVCAR8  \n",
       "7              OVCAR8  \n",
       "8              OVCAR8  "
      ]
     },
     "execution_count": 75,
     "metadata": {},
     "output_type": "execute_result"
    }
   ],
   "source": [
    "distinguished_map"
   ]
  },
  {
   "cell_type": "markdown",
   "metadata": {},
   "source": [
    "Notice that the `\"cell_line_name\"` column has been overwritten in the format \"<cell_line>__in__<condition>\". When we train Chronos, we'll get an individual assessment of each gene's effect in each cell line in each condition. The new column `\"true_cell_line_name\"` exists for convenience.\n",
    "\n",
    "Running Chronos works just like before:"
   ]
  },
  {
   "cell_type": "code",
   "execution_count": 76,
   "metadata": {
    "scrolled": true
   },
   "outputs": [
    {
     "name": "stdout",
     "output_type": "stream",
     "text": [
      "normalizing readcounts\n",
      "\n",
      "\n",
      "Finding all unique guides and genes\n",
      "found 71848 unique guides and 18238 unique genes in brunello\n",
      "found 71848 unique guides and 18238 unique genes overall\n",
      "\n",
      "finding guide-gene mapping indices\n",
      "\n",
      "finding all unique sequenced replicates, cell lines, and pDNA batches\n",
      "found 8 unique sequences (excluding pDNA), 8 unique replicates, and 4 unique cell lines in brunello\n",
      "found 8 unique late time points and 4 unique cell lines overall\n",
      "\n",
      "finding sequence-cell line mappings indices\n",
      "\n",
      "finding replicate mappings indices\n",
      "\n",
      "finding late time point-pDNA mappings indices\n",
      "\n",
      "\n",
      "assigning float constants\n",
      "Estimating or aligning variances\n",
      "\tEstimating excess variance (alpha) for brunello\n",
      "Creating excess variance tensors\n",
      "\tCreated excess variance tensor for brunello with shape [8, 1]\n",
      "initializing graph\n",
      "\n",
      "building gene effect mask\n",
      "\n",
      "building doubling vectors\n",
      "made days vector of shape [8, 1] for brunello\n",
      "\n",
      "building late observed timepoints\n"
     ]
    },
    {
     "name": "stderr",
     "output_type": "stream",
     "text": [
      "/Users/dempster/packages/chronos_public/chronos/model.py:379: UserWarning: Between 1 (batch=Index(['batch1'], dtype='object')) and 1 (batch=Index(['batch1'], dtype='object')) negative control sgRNAs were found to be systematically over- or under-represented in the screens and excluded.\n",
      "  warn(\"Between %i (batch=%r) and %i (batch=%r) negative control sgRNAs were found to be \\\n",
      "/Users/dempster/packages/chronos_public/chronos/model.py:1351: FutureWarning: DataFrame.groupby with axis=1 is deprecated. Do `frame.T.groupby(...)` without axis instead.\n",
      "  .groupby(guide_gene_map[key].set_index(\"sgrna\").gene, axis=1)\\\n"
     ]
    },
    {
     "name": "stdout",
     "output_type": "stream",
     "text": [
      "\tbuilt normalized timepoints for brunello with shape (8, 71848) (replicates X guides)\n",
      "\n",
      "building t0 reads\n",
      "\n",
      "\n",
      "Building variables\n",
      "\n",
      "building t0 reads estimate\n",
      "made t0 batch with shape (1, 71848) for brunello\n",
      "building guide efficacy\n",
      "built guide efficacy: shape [1, 71849]\n",
      "building growth rate\n",
      "built growth rate: shape {'brunello': [8, 1]}\n",
      "\n",
      "building replicate efficacy\n",
      "built replicate efficacy: shapes {'brunello': [8, 1]}\n",
      "building screen delay\n",
      "built screen delay\n",
      "building gene effect\n",
      "built core gene effect: 4 cell lines by 18238 genes\n",
      "\n",
      "\n",
      "Connecting graph nodes in model\n",
      "\n",
      "building effective days\n",
      "built effective days, shapes {'brunello': [8, 18238]}\n",
      "\n",
      "building gene effect growth graph nodes\n",
      "built gene effect growth graph nodes, shapes {'brunello': [8, 18238]}\n",
      "\n",
      "building combined efficacy\n",
      "built combined efficacy, shape {'brunello': [8, 71848]}\n",
      "built expanded combined efficacy, shapes {'brunello': [8, 71848]}\n",
      "\n",
      "building growth estimates of edited cells and overall estimates of fold change in guide abundance\n",
      "built growth and change\n",
      "\n",
      "building unnormalized estimates of final abundance\n",
      "built unnormalized abundance\n",
      "\n",
      "building normalized estimates of final abundance\n",
      "built normalized abundance\n",
      "initializing precost variables\n"
     ]
    },
    {
     "name": "stderr",
     "output_type": "stream",
     "text": [
      "2024-08-12 11:52:25.881347: W tensorflow/c/c_api.cc:304] Operation '{name:'excess_variance_15/brunello/Assign' id:44460 op device:{requested: '', assigned: ''} def:{{{node excess_variance_15/brunello/Assign}} = AssignVariableOp[_has_manual_control_dependencies=true, dtype=DT_DOUBLE, validate_shape=false](excess_variance_15/brunello, excess_variance_15/brunello/Initializer/initial_value)}}' was changed by setting attribute after it was run by a session. This mutation will have no effect, and will trigger an error in the future. Either don't modify nodes after running them or create a new session.\n"
     ]
    },
    {
     "name": "stdout",
     "output_type": "stream",
     "text": [
      "\n",
      "\n",
      "Building all costs\n",
      "\n",
      "assembling guide efficacy regularization\n",
      "building smoothed regularization\n",
      "\n",
      "building t0 reads regularization/cost\n",
      "\n",
      "building NB2 cost\n",
      "building other regularizations\n",
      "\n",
      "Creating optimizer\n",
      "initializing rest of graph\n"
     ]
    },
    {
     "name": "stderr",
     "output_type": "stream",
     "text": [
      "2024-08-12 11:52:27.483331: W tensorflow/c/c_api.cc:304] Operation '{name:'GE_15/library_effect/brunello/Assign' id:44574 op device:{requested: '', assigned: ''} def:{{{node GE_15/library_effect/brunello/Assign}} = AssignVariableOp[_has_manual_control_dependencies=true, dtype=DT_DOUBLE, validate_shape=false](GE_15/library_effect/brunello, GE_15/library_effect/brunello/Initializer/initial_value)}}' was changed by setting attribute after it was run by a session. This mutation will have no effect, and will trigger an error in the future. Either don't modify nodes after running them or create a new session.\n"
     ]
    },
    {
     "name": "stdout",
     "output_type": "stream",
     "text": [
      "estimating initial screen efficacy and gene effect\n",
      "\t brunello\n",
      "{'brunello': replicate_ID\n",
      "Meljuso__in__A-1331852__IN__A-1331852_RepA_batch1    0.822697\n",
      "Meljuso__in__A-1331852__IN__A-1331852_RepB_batch1    0.802493\n",
      "Meljuso__in__Control__IN__Control_RepA_batch1        0.809282\n",
      "Meljuso__in__Control__IN__Control_RepB_batch1        0.793646\n",
      "OVCAR8__in__A-1331852__IN__A-1331852_RepA_batch1     0.618191\n",
      "OVCAR8__in__A-1331852__IN__A-1331852_RepB_batch1     0.604117\n",
      "OVCAR8__in__Control__IN__Control_RepA_batch1         0.602468\n",
      "OVCAR8__in__Control__IN__Control_RepB_batch1         0.592334\n",
      "dtype: float64}\n"
     ]
    },
    {
     "name": "stderr",
     "output_type": "stream",
     "text": [
      "/Users/dempster/packages/chronos_public/chronos/model.py:2005: FutureWarning: DataFrame.groupby with axis=1 is deprecated. Do `frame.T.groupby(...)` without axis instead.\n",
      "  .groupby(guide_gene_map.set_index(\"sgrna\").gene, axis=1)\\\n"
     ]
    },
    {
     "name": "stdout",
     "output_type": "stream",
     "text": [
      "\tverifying graph integrity\n",
      "verifying user inputs\n",
      "verifying variables\n",
      "verifying calculated terms\n",
      "\tbrunello _gene_effect\n",
      "\tbrunello _selected_efficacies\n",
      "\tbrunello_predicted_readcounts_unscaled\n",
      "\tbrunello _predicted_readcounts\n",
      "\tbrunello _normalized_readcounts\n",
      "\tbrunello _cost_presum\n",
      "sess run\n",
      "\tbrunello _cost\n",
      "\tbrunello _full_costs\n",
      "ready to train\n"
     ]
    }
   ],
   "source": [
    "distinguished_model = chronos.Chronos(\n",
    "    readcounts={\"brunello\": deweird_readcounts},\n",
    "    sequence_map={\"brunello\": distinguished_map},\n",
    "    guide_gene_map={\"brunello\": deweirdt_guide_map},\n",
    "    negative_control_sgrnas={\"brunello\": deweirdt_negative_controls}\n",
    ")"
   ]
  },
  {
   "cell_type": "code",
   "execution_count": 77,
   "metadata": {
    "scrolled": true
   },
   "outputs": [
    {
     "name": "stdout",
     "output_type": "stream",
     "text": [
      "NB2 cost 0.3991733014150046\n",
      "Full cost 0.41344486750531684\n",
      "relative_growth_rate\n",
      "\tbrunello max 1.024, min 0.96159\n",
      "mean guide efficacy 0.9992065009154941\n",
      "t0_offset SD: [('brunello', 6.766742800234974e-05)]\n",
      "\n",
      "gene mean -0.06692586391821059\n",
      "SD of gene means 0.2172180554985622\n",
      "Mean of gene SDs 0.08560298631533862\n",
      "\n",
      "\n",
      "\n",
      "51 epochs trained, time taken 0:00:20, projected remaining 0:01:38\n",
      "NB2 cost 0.20262120758504967\n",
      "Full cost 0.2348283792390444\n",
      "relative_growth_rate\n",
      "\tbrunello max 1.172, min 0.84158\n",
      "mean guide efficacy 0.9210064144452821\n",
      "t0_offset SD: [('brunello', 0.14898236363834205)]\n",
      "\n",
      "gene mean 0.06301294471579773\n",
      "SD of gene means 0.3546767420653138\n",
      "Mean of gene SDs 0.12551738216296005\n",
      "\n",
      "\n",
      "\n",
      "101 epochs trained, time taken 0:00:39, projected remaining 0:01:18\n",
      "NB2 cost 0.1788675875315961\n",
      "Full cost 0.20388359465134792\n",
      "relative_growth_rate\n",
      "\tbrunello max 1.123, min 0.87014\n",
      "mean guide efficacy 0.8211833725759042\n",
      "t0_offset SD: [('brunello', 0.1441963971609431)]\n",
      "\n",
      "gene mean 0.000939796574060863\n",
      "SD of gene means 0.4054344011483312\n",
      "Mean of gene SDs 0.11881287087460515\n",
      "\n",
      "\n",
      "\n",
      "151 epochs trained, time taken 0:00:58, projected remaining 0:00:58\n",
      "NB2 cost 0.1778393716804113\n",
      "Full cost 0.20253510602959865\n",
      "relative_growth_rate\n",
      "\tbrunello max 1.119, min 0.87241\n",
      "mean guide efficacy 0.8072030863256584\n",
      "t0_offset SD: [('brunello', 0.14234673077732787)]\n",
      "\n",
      "gene mean 0.0018847649388959464\n",
      "SD of gene means 0.4089618695088082\n",
      "Mean of gene SDs 0.12002074977341148\n",
      "\n",
      "\n",
      "\n",
      "201 epochs trained, time taken 0:01:18, projected remaining 0:00:39\n",
      "NB2 cost 0.17788919616115118\n",
      "Full cost 0.2024114377335319\n",
      "relative_growth_rate\n",
      "\tbrunello max 1.121, min 0.87025\n",
      "mean guide efficacy 0.7940619437605047\n",
      "t0_offset SD: [('brunello', 0.14181788666989023)]\n",
      "\n",
      "gene mean 0.0008100575048243446\n",
      "SD of gene means 0.41144663702136325\n",
      "Mean of gene SDs 0.1204864036046933\n",
      "\n",
      "\n",
      "\n",
      "251 epochs trained, time taken 0:01:37, projected remaining 0:00:19\n",
      "NB2 cost 0.17784195141226392\n",
      "Full cost 0.2024881114094231\n",
      "relative_growth_rate\n",
      "\tbrunello max 1.123, min 0.87383\n",
      "mean guide efficacy 0.7851880620051227\n",
      "t0_offset SD: [('brunello', 0.14150194635110774)]\n",
      "\n",
      "gene mean 0.002162920276161838\n",
      "SD of gene means 0.4136560651213046\n",
      "Mean of gene SDs 0.12107061542568248\n",
      "\n",
      "\n",
      "\n",
      "301 epochs trained, time taken 0:01:56, projected remaining 0:00:00\n",
      "NB2 cost 0.17790036094033215\n",
      "Full cost 0.2025733245767493\n",
      "relative_growth_rate\n",
      "\tbrunello max 1.123, min 0.87166\n",
      "mean guide efficacy 0.7790315150291557\n",
      "t0_offset SD: [('brunello', 0.14128192449083712)]\n",
      "\n",
      "gene mean -0.00048764574480997106\n",
      "SD of gene means 0.41401147251580817\n",
      "Mean of gene SDs 0.12130447959560572\n",
      "\n",
      "\n",
      "\n"
     ]
    }
   ],
   "source": [
    "distinguished_model.train()"
   ]
  },
  {
   "cell_type": "markdown",
   "metadata": {},
   "source": [
    "MCL1 and BCL2L1 are a well-established synthetic lethal pair in cancer. Below, we see a difference of about 1.5 between the gene effects of MCL1 in the control condition and in the BCL2L1 inhibitor A-1331852. "
   ]
  },
  {
   "cell_type": "code",
   "execution_count": 78,
   "metadata": {},
   "outputs": [
    {
     "data": {
      "text/plain": [
       "cell_line_name\n",
       "Meljuso__in__A-1331852    0.062499\n",
       "Meljuso__in__Control     -1.630182\n",
       "OVCAR8__in__A-1331852     0.031462\n",
       "OVCAR8__in__Control      -1.364929\n",
       "Name: MCL1, dtype: float64"
      ]
     },
     "execution_count": 78,
     "metadata": {},
     "output_type": "execute_result"
    }
   ],
   "source": [
    "distinguished_model.gene_effect['MCL1']"
   ]
  },
  {
   "cell_type": "markdown",
   "metadata": {},
   "source": [
    "But are these differences significant?"
   ]
  },
  {
   "cell_type": "markdown",
   "metadata": {},
   "source": [
    "### Running the Comparator"
   ]
  },
  {
   "cell_type": "markdown",
   "metadata": {},
   "source": [
    "To test for significance, we first create a `hit_calling.ConditionComparison` instance. The input syntax is almost exactly the same as a `Chronos` model instance, except we replace the `sequence_map` argument with a `condition_map`."
   ]
  },
  {
   "cell_type": "code",
   "execution_count": 79,
   "metadata": {},
   "outputs": [],
   "source": [
    "from chronos.hit_calling import ConditionComparison\n",
    "comparator = ConditionComparison(\n",
    "    readcounts={\"brunello\": deweird_readcounts},\n",
    "    condition_map={\"brunello\": deweirdt_condition_map},\n",
    "    guide_gene_map={\"brunello\": deweirdt_guide_map},\n",
    "    negative_control_sgrnas={\"brunello\": deweirdt_negative_controls},\n",
    ")"
   ]
  },
  {
   "cell_type": "markdown",
   "metadata": {},
   "source": [
    "To identify significant differences, `ConditionComparison` will first train a distinguished model, as above, then permute the condition labels so that each condition label has an equal number of replicates from each of the real conditions and train models on the permutations. These models have no biological difference between conditions, and can be used to form the null distribution. Permutations that have every condition flipped from an existing permutation are discarded. An example of a permuted map is shown below."
   ]
  },
  {
   "cell_type": "code",
   "execution_count": 80,
   "metadata": {},
   "outputs": [
    {
     "data": {
      "text/html": [
       "<div>\n",
       "<style scoped>\n",
       "    .dataframe tbody tr th:only-of-type {\n",
       "        vertical-align: middle;\n",
       "    }\n",
       "\n",
       "    .dataframe tbody tr th {\n",
       "        vertical-align: top;\n",
       "    }\n",
       "\n",
       "    .dataframe thead th {\n",
       "        text-align: right;\n",
       "    }\n",
       "</style>\n",
       "<table border=\"1\" class=\"dataframe\">\n",
       "  <thead>\n",
       "    <tr style=\"text-align: right;\">\n",
       "      <th></th>\n",
       "      <th>cell_line_name</th>\n",
       "      <th>condition</th>\n",
       "      <th>replicate_ID</th>\n",
       "      <th>pDNA_batch</th>\n",
       "      <th>true_condition</th>\n",
       "      <th>sequence_ID</th>\n",
       "      <th>replicate</th>\n",
       "      <th>days</th>\n",
       "      <th>true_cell_line_name</th>\n",
       "    </tr>\n",
       "  </thead>\n",
       "  <tbody>\n",
       "    <tr>\n",
       "      <th>0</th>\n",
       "      <td>Meljuso__in__A-1331852</td>\n",
       "      <td>A-1331852</td>\n",
       "      <td>Meljuso__IN__A-1331852_RepA_batch1</td>\n",
       "      <td>batch1</td>\n",
       "      <td>A-1331852</td>\n",
       "      <td>Meljuso.2</td>\n",
       "      <td>RepA</td>\n",
       "      <td>21</td>\n",
       "      <td>Meljuso</td>\n",
       "    </tr>\n",
       "    <tr>\n",
       "      <th>1</th>\n",
       "      <td>Meljuso__in__Control</td>\n",
       "      <td>Control</td>\n",
       "      <td>Meljuso__IN__A-1331852_RepB_batch1</td>\n",
       "      <td>batch1</td>\n",
       "      <td>A-1331852</td>\n",
       "      <td>Meljuso.3</td>\n",
       "      <td>RepB</td>\n",
       "      <td>21</td>\n",
       "      <td>Meljuso</td>\n",
       "    </tr>\n",
       "    <tr>\n",
       "      <th>2</th>\n",
       "      <td>Meljuso__in__A-1331852</td>\n",
       "      <td>A-1331852</td>\n",
       "      <td>Meljuso__IN__Control_RepA_batch1</td>\n",
       "      <td>batch1</td>\n",
       "      <td>Control</td>\n",
       "      <td>Meljuso</td>\n",
       "      <td>RepA</td>\n",
       "      <td>21</td>\n",
       "      <td>Meljuso</td>\n",
       "    </tr>\n",
       "    <tr>\n",
       "      <th>3</th>\n",
       "      <td>Meljuso__in__Control</td>\n",
       "      <td>Control</td>\n",
       "      <td>Meljuso__IN__Control_RepB_batch1</td>\n",
       "      <td>batch1</td>\n",
       "      <td>Control</td>\n",
       "      <td>Meljuso.1</td>\n",
       "      <td>RepB</td>\n",
       "      <td>21</td>\n",
       "      <td>Meljuso</td>\n",
       "    </tr>\n",
       "    <tr>\n",
       "      <th>4</th>\n",
       "      <td>OVCAR8__in__A-1331852</td>\n",
       "      <td>A-1331852</td>\n",
       "      <td>OVCAR8__IN__A-1331852_RepA_batch1</td>\n",
       "      <td>batch1</td>\n",
       "      <td>A-1331852</td>\n",
       "      <td>OVCAR8.2</td>\n",
       "      <td>RepA</td>\n",
       "      <td>21</td>\n",
       "      <td>OVCAR8</td>\n",
       "    </tr>\n",
       "    <tr>\n",
       "      <th>5</th>\n",
       "      <td>OVCAR8__in__Control</td>\n",
       "      <td>Control</td>\n",
       "      <td>OVCAR8__IN__A-1331852_RepB_batch1</td>\n",
       "      <td>batch1</td>\n",
       "      <td>A-1331852</td>\n",
       "      <td>OVCAR8.3</td>\n",
       "      <td>RepB</td>\n",
       "      <td>21</td>\n",
       "      <td>OVCAR8</td>\n",
       "    </tr>\n",
       "    <tr>\n",
       "      <th>6</th>\n",
       "      <td>OVCAR8__in__A-1331852</td>\n",
       "      <td>A-1331852</td>\n",
       "      <td>OVCAR8__IN__Control_RepA_batch1</td>\n",
       "      <td>batch1</td>\n",
       "      <td>Control</td>\n",
       "      <td>OVCAR8</td>\n",
       "      <td>RepA</td>\n",
       "      <td>21</td>\n",
       "      <td>OVCAR8</td>\n",
       "    </tr>\n",
       "    <tr>\n",
       "      <th>7</th>\n",
       "      <td>OVCAR8__in__Control</td>\n",
       "      <td>Control</td>\n",
       "      <td>OVCAR8__IN__Control_RepB_batch1</td>\n",
       "      <td>batch1</td>\n",
       "      <td>Control</td>\n",
       "      <td>OVCAR8.1</td>\n",
       "      <td>RepB</td>\n",
       "      <td>21</td>\n",
       "      <td>OVCAR8</td>\n",
       "    </tr>\n",
       "    <tr>\n",
       "      <th>8</th>\n",
       "      <td>pDNA</td>\n",
       "      <td>pDNA</td>\n",
       "      <td>pDNA__IN__pDNA_pDNA_batch1</td>\n",
       "      <td>batch1</td>\n",
       "      <td>pDNA</td>\n",
       "      <td>pDNA</td>\n",
       "      <td>pDNA</td>\n",
       "      <td>21</td>\n",
       "      <td>pDNA</td>\n",
       "    </tr>\n",
       "  </tbody>\n",
       "</table>\n",
       "</div>"
      ],
      "text/plain": [
       "           cell_line_name  condition                        replicate_ID  \\\n",
       "0  Meljuso__in__A-1331852  A-1331852  Meljuso__IN__A-1331852_RepA_batch1   \n",
       "1    Meljuso__in__Control    Control  Meljuso__IN__A-1331852_RepB_batch1   \n",
       "2  Meljuso__in__A-1331852  A-1331852    Meljuso__IN__Control_RepA_batch1   \n",
       "3    Meljuso__in__Control    Control    Meljuso__IN__Control_RepB_batch1   \n",
       "4   OVCAR8__in__A-1331852  A-1331852   OVCAR8__IN__A-1331852_RepA_batch1   \n",
       "5     OVCAR8__in__Control    Control   OVCAR8__IN__A-1331852_RepB_batch1   \n",
       "6   OVCAR8__in__A-1331852  A-1331852     OVCAR8__IN__Control_RepA_batch1   \n",
       "7     OVCAR8__in__Control    Control     OVCAR8__IN__Control_RepB_batch1   \n",
       "8                    pDNA       pDNA          pDNA__IN__pDNA_pDNA_batch1   \n",
       "\n",
       "  pDNA_batch true_condition sequence_ID replicate  days true_cell_line_name  \n",
       "0     batch1      A-1331852   Meljuso.2      RepA    21             Meljuso  \n",
       "1     batch1      A-1331852   Meljuso.3      RepB    21             Meljuso  \n",
       "2     batch1        Control     Meljuso      RepA    21             Meljuso  \n",
       "3     batch1        Control   Meljuso.1      RepB    21             Meljuso  \n",
       "4     batch1      A-1331852    OVCAR8.2      RepA    21              OVCAR8  \n",
       "5     batch1      A-1331852    OVCAR8.3      RepB    21              OVCAR8  \n",
       "6     batch1        Control      OVCAR8      RepA    21              OVCAR8  \n",
       "7     batch1        Control    OVCAR8.1      RepB    21              OVCAR8  \n",
       "8     batch1           pDNA        pDNA      pDNA    21                pDNA  "
      ]
     },
     "execution_count": 80,
     "metadata": {},
     "output_type": "execute_result"
    }
   ],
   "source": [
    "from chronos.hit_calling import create_permuted_sequence_maps\n",
    "\n",
    "create_permuted_sequence_maps(deweirdt_condition_map, condition_pair)[0]"
   ]
  },
  {
   "cell_type": "markdown",
   "metadata": {},
   "source": [
    "The number of permutations limits the minimum p-value that can be calculated. Due to the requirement that we only consider permutations that have equal numbers of replicates from each condition, the number of permutations actually generated is as follows:\n",
    "\n",
    "- Less than 2 replicates for any condition for a cell line: 0 permutations, that line is discarded\n",
    "- 2-3 replicates for any condition of any cell line: 2 permutations\n",
    "- At least 4 replicates for all conditions for all cell lines: 18 permutations\n",
    "- At least 6 replicates for all conditions for all cell lines: 200 permutations\n",
    "  \n",
    "For obvious reasons, we don't recommend including more than 4 replicates per condition unless your library is very small.\n",
    "\n",
    "Now, to compare the conditions. Note that with three models to train, this may take about 10 minutes."
   ]
  },
  {
   "cell_type": "code",
   "execution_count": 81,
   "metadata": {},
   "outputs": [
    {
     "name": "stderr",
     "output_type": "stream",
     "text": [
      "/Users/dempster/packages/chronos_public/chronos/hit_calling.py:605: FutureWarning: DataFrame.groupby with axis=1 is deprecated. Do `frame.T.groupby(...)` without axis instead.\n",
      "  .groupby(guide_gene_map[key].set_index(\"sgrna\")[\"gene\"], axis=1)\\\n"
     ]
    },
    {
     "name": "stdout",
     "output_type": "stream",
     "text": [
      "training model without conditions distinguished\n"
     ]
    },
    {
     "name": "stderr",
     "output_type": "stream",
     "text": [
      "/Users/dempster/packages/chronos_public/chronos/model.py:379: UserWarning: Between 1 (batch=Index(['batch1'], dtype='object')) and 1 (batch=Index(['batch1'], dtype='object')) negative control sgRNAs were found to be systematically over- or under-represented in the screens and excluded.\n",
      "  warn(\"Between %i (batch=%r) and %i (batch=%r) negative control sgRNAs were found to be \\\n",
      "/Users/dempster/packages/chronos_public/chronos/model.py:1351: FutureWarning: DataFrame.groupby with axis=1 is deprecated. Do `frame.T.groupby(...)` without axis instead.\n",
      "  .groupby(guide_gene_map[key].set_index(\"sgrna\").gene, axis=1)\\\n",
      "2024-08-12 11:54:30.792003: W tensorflow/c/c_api.cc:304] Operation '{name:'excess_variance_16/brunello/Assign' id:47485 op device:{requested: '', assigned: ''} def:{{{node excess_variance_16/brunello/Assign}} = AssignVariableOp[_has_manual_control_dependencies=true, dtype=DT_DOUBLE, validate_shape=false](excess_variance_16/brunello, excess_variance_16/brunello/Initializer/initial_value)}}' was changed by setting attribute after it was run by a session. This mutation will have no effect, and will trigger an error in the future. Either don't modify nodes after running them or create a new session.\n",
      "2024-08-12 11:54:32.484413: W tensorflow/c/c_api.cc:304] Operation '{name:'GE_16/library_effect/brunello/Assign' id:47599 op device:{requested: '', assigned: ''} def:{{{node GE_16/library_effect/brunello/Assign}} = AssignVariableOp[_has_manual_control_dependencies=true, dtype=DT_DOUBLE, validate_shape=false](GE_16/library_effect/brunello, GE_16/library_effect/brunello/Initializer/initial_value)}}' was changed by setting attribute after it was run by a session. This mutation will have no effect, and will trigger an error in the future. Either don't modify nodes after running them or create a new session.\n",
      "/Users/dempster/packages/chronos_public/chronos/model.py:2005: FutureWarning: DataFrame.groupby with axis=1 is deprecated. Do `frame.T.groupby(...)` without axis instead.\n",
      "  .groupby(guide_gene_map.set_index(\"sgrna\").gene, axis=1)\\\n"
     ]
    },
    {
     "name": "stdout",
     "output_type": "stream",
     "text": [
      "{'brunello': replicate_ID\n",
      "Meljuso__IN__A-1331852_RepA_batch1    0.822697\n",
      "Meljuso__IN__A-1331852_RepB_batch1    0.802493\n",
      "Meljuso__IN__Control_RepA_batch1      0.809282\n",
      "Meljuso__IN__Control_RepB_batch1      0.793646\n",
      "OVCAR8__IN__A-1331852_RepA_batch1     0.618191\n",
      "OVCAR8__IN__A-1331852_RepB_batch1     0.604117\n",
      "OVCAR8__IN__Control_RepA_batch1       0.602468\n",
      "OVCAR8__IN__Control_RepB_batch1       0.592334\n",
      "dtype: float64}\n"
     ]
    },
    {
     "name": "stderr",
     "output_type": "stream",
     "text": [
      "/Users/dempster/packages/chronos_public/chronos/hit_calling.py:61: FutureWarning: DataFrame.groupby with axis=1 is deprecated. Do `frame.T.groupby(...)` without axis instead.\n",
      "  .groupby(model.guide_gene_map[key].set_index(\"sgrna\")[\"gene\"], axis=1).sum()\n"
     ]
    },
    {
     "name": "stdout",
     "output_type": "stream",
     "text": [
      "training model with conditions distinguished\n"
     ]
    },
    {
     "name": "stderr",
     "output_type": "stream",
     "text": [
      "/Users/dempster/packages/chronos_public/chronos/model.py:379: UserWarning: Between 1 (batch=Index(['batch1'], dtype='object')) and 1 (batch=Index(['batch1'], dtype='object')) negative control sgRNAs were found to be systematically over- or under-represented in the screens and excluded.\n",
      "  warn(\"Between %i (batch=%r) and %i (batch=%r) negative control sgRNAs were found to be \\\n",
      "/Users/dempster/packages/chronos_public/chronos/model.py:1351: FutureWarning: DataFrame.groupby with axis=1 is deprecated. Do `frame.T.groupby(...)` without axis instead.\n",
      "  .groupby(guide_gene_map[key].set_index(\"sgrna\").gene, axis=1)\\\n",
      "2024-08-12 11:56:29.248230: W tensorflow/c/c_api.cc:304] Operation '{name:'excess_variance_17/brunello/Assign' id:50460 op device:{requested: '', assigned: ''} def:{{{node excess_variance_17/brunello/Assign}} = AssignVariableOp[_has_manual_control_dependencies=true, dtype=DT_DOUBLE, validate_shape=false](excess_variance_17/brunello, excess_variance_17/brunello/Initializer/initial_value)}}' was changed by setting attribute after it was run by a session. This mutation will have no effect, and will trigger an error in the future. Either don't modify nodes after running them or create a new session.\n",
      "2024-08-12 11:56:30.987802: W tensorflow/c/c_api.cc:304] Operation '{name:'GE_17/library_effect/brunello/Assign' id:50574 op device:{requested: '', assigned: ''} def:{{{node GE_17/library_effect/brunello/Assign}} = AssignVariableOp[_has_manual_control_dependencies=true, dtype=DT_DOUBLE, validate_shape=false](GE_17/library_effect/brunello, GE_17/library_effect/brunello/Initializer/initial_value)}}' was changed by setting attribute after it was run by a session. This mutation will have no effect, and will trigger an error in the future. Either don't modify nodes after running them or create a new session.\n",
      "/Users/dempster/packages/chronos_public/chronos/model.py:2005: FutureWarning: DataFrame.groupby with axis=1 is deprecated. Do `frame.T.groupby(...)` without axis instead.\n",
      "  .groupby(guide_gene_map.set_index(\"sgrna\").gene, axis=1)\\\n"
     ]
    },
    {
     "name": "stdout",
     "output_type": "stream",
     "text": [
      "{'brunello': replicate_ID\n",
      "Meljuso__IN__A-1331852_RepA_batch1    0.822697\n",
      "Meljuso__IN__A-1331852_RepB_batch1    0.802493\n",
      "Meljuso__IN__Control_RepA_batch1      0.809282\n",
      "Meljuso__IN__Control_RepB_batch1      0.793646\n",
      "OVCAR8__IN__A-1331852_RepA_batch1     0.618191\n",
      "OVCAR8__IN__A-1331852_RepB_batch1     0.604117\n",
      "OVCAR8__IN__Control_RepA_batch1       0.602468\n",
      "OVCAR8__IN__Control_RepB_batch1       0.592334\n",
      "dtype: float64}\n"
     ]
    },
    {
     "name": "stderr",
     "output_type": "stream",
     "text": [
      "/Users/dempster/packages/chronos_public/chronos/hit_calling.py:61: FutureWarning: DataFrame.groupby with axis=1 is deprecated. Do `frame.T.groupby(...)` without axis instead.\n",
      "  .groupby(model.guide_gene_map[key].set_index(\"sgrna\")[\"gene\"], axis=1).sum()\n"
     ]
    },
    {
     "name": "stdout",
     "output_type": "stream",
     "text": [
      "training models with permuted conditions\n",
      "\trandom iteration 0\n"
     ]
    },
    {
     "name": "stderr",
     "output_type": "stream",
     "text": [
      "/Users/dempster/packages/chronos_public/chronos/model.py:379: UserWarning: Between 1 (batch=Index(['batch1'], dtype='object')) and 1 (batch=Index(['batch1'], dtype='object')) negative control sgRNAs were found to be systematically over- or under-represented in the screens and excluded.\n",
      "  warn(\"Between %i (batch=%r) and %i (batch=%r) negative control sgRNAs were found to be \\\n",
      "/Users/dempster/packages/chronos_public/chronos/model.py:1351: FutureWarning: DataFrame.groupby with axis=1 is deprecated. Do `frame.T.groupby(...)` without axis instead.\n",
      "  .groupby(guide_gene_map[key].set_index(\"sgrna\").gene, axis=1)\\\n",
      "2024-08-12 11:58:34.242294: W tensorflow/c/c_api.cc:304] Operation '{name:'excess_variance_18/brunello/Assign' id:53413 op device:{requested: '', assigned: ''} def:{{{node excess_variance_18/brunello/Assign}} = AssignVariableOp[_has_manual_control_dependencies=true, dtype=DT_DOUBLE, validate_shape=false](excess_variance_18/brunello, excess_variance_18/brunello/Initializer/initial_value)}}' was changed by setting attribute after it was run by a session. This mutation will have no effect, and will trigger an error in the future. Either don't modify nodes after running them or create a new session.\n",
      "2024-08-12 11:58:36.102054: W tensorflow/c/c_api.cc:304] Operation '{name:'GE_18/library_effect/brunello/Assign' id:53527 op device:{requested: '', assigned: ''} def:{{{node GE_18/library_effect/brunello/Assign}} = AssignVariableOp[_has_manual_control_dependencies=true, dtype=DT_DOUBLE, validate_shape=false](GE_18/library_effect/brunello, GE_18/library_effect/brunello/Initializer/initial_value)}}' was changed by setting attribute after it was run by a session. This mutation will have no effect, and will trigger an error in the future. Either don't modify nodes after running them or create a new session.\n",
      "/Users/dempster/packages/chronos_public/chronos/model.py:2005: FutureWarning: DataFrame.groupby with axis=1 is deprecated. Do `frame.T.groupby(...)` without axis instead.\n",
      "  .groupby(guide_gene_map.set_index(\"sgrna\").gene, axis=1)\\\n"
     ]
    },
    {
     "name": "stdout",
     "output_type": "stream",
     "text": [
      "{'brunello': replicate_ID\n",
      "Meljuso__IN__A-1331852_RepA_batch1    0.822697\n",
      "Meljuso__IN__A-1331852_RepB_batch1    0.802493\n",
      "Meljuso__IN__Control_RepA_batch1      0.809282\n",
      "Meljuso__IN__Control_RepB_batch1      0.793646\n",
      "OVCAR8__IN__A-1331852_RepA_batch1     0.618191\n",
      "OVCAR8__IN__A-1331852_RepB_batch1     0.604117\n",
      "OVCAR8__IN__Control_RepA_batch1       0.602468\n",
      "OVCAR8__IN__Control_RepB_batch1       0.592334\n",
      "dtype: float64}\n"
     ]
    },
    {
     "name": "stderr",
     "output_type": "stream",
     "text": [
      "/Users/dempster/packages/chronos_public/chronos/hit_calling.py:61: FutureWarning: DataFrame.groupby with axis=1 is deprecated. Do `frame.T.groupby(...)` without axis instead.\n",
      "  .groupby(model.guide_gene_map[key].set_index(\"sgrna\")[\"gene\"], axis=1).sum()\n"
     ]
    },
    {
     "name": "stdout",
     "output_type": "stream",
     "text": [
      "\trandom iteration 1\n"
     ]
    },
    {
     "name": "stderr",
     "output_type": "stream",
     "text": [
      "/Users/dempster/packages/chronos_public/chronos/model.py:379: UserWarning: Between 1 (batch=Index(['batch1'], dtype='object')) and 1 (batch=Index(['batch1'], dtype='object')) negative control sgRNAs were found to be systematically over- or under-represented in the screens and excluded.\n",
      "  warn(\"Between %i (batch=%r) and %i (batch=%r) negative control sgRNAs were found to be \\\n",
      "/Users/dempster/packages/chronos_public/chronos/model.py:1351: FutureWarning: DataFrame.groupby with axis=1 is deprecated. Do `frame.T.groupby(...)` without axis instead.\n",
      "  .groupby(guide_gene_map[key].set_index(\"sgrna\").gene, axis=1)\\\n",
      "2024-08-12 12:00:38.554377: W tensorflow/c/c_api.cc:304] Operation '{name:'excess_variance_19/brunello/Assign' id:56366 op device:{requested: '', assigned: ''} def:{{{node excess_variance_19/brunello/Assign}} = AssignVariableOp[_has_manual_control_dependencies=true, dtype=DT_DOUBLE, validate_shape=false](excess_variance_19/brunello, excess_variance_19/brunello/Initializer/initial_value)}}' was changed by setting attribute after it was run by a session. This mutation will have no effect, and will trigger an error in the future. Either don't modify nodes after running them or create a new session.\n",
      "2024-08-12 12:00:40.497921: W tensorflow/c/c_api.cc:304] Operation '{name:'GE_19/library_effect/brunello/Assign' id:56480 op device:{requested: '', assigned: ''} def:{{{node GE_19/library_effect/brunello/Assign}} = AssignVariableOp[_has_manual_control_dependencies=true, dtype=DT_DOUBLE, validate_shape=false](GE_19/library_effect/brunello, GE_19/library_effect/brunello/Initializer/initial_value)}}' was changed by setting attribute after it was run by a session. This mutation will have no effect, and will trigger an error in the future. Either don't modify nodes after running them or create a new session.\n",
      "/Users/dempster/packages/chronos_public/chronos/model.py:2005: FutureWarning: DataFrame.groupby with axis=1 is deprecated. Do `frame.T.groupby(...)` without axis instead.\n",
      "  .groupby(guide_gene_map.set_index(\"sgrna\").gene, axis=1)\\\n"
     ]
    },
    {
     "name": "stdout",
     "output_type": "stream",
     "text": [
      "{'brunello': replicate_ID\n",
      "Meljuso__IN__A-1331852_RepA_batch1    0.822697\n",
      "Meljuso__IN__A-1331852_RepB_batch1    0.802493\n",
      "Meljuso__IN__Control_RepA_batch1      0.809282\n",
      "Meljuso__IN__Control_RepB_batch1      0.793646\n",
      "OVCAR8__IN__A-1331852_RepA_batch1     0.618191\n",
      "OVCAR8__IN__A-1331852_RepB_batch1     0.604117\n",
      "OVCAR8__IN__Control_RepA_batch1       0.602468\n",
      "OVCAR8__IN__Control_RepB_batch1       0.592334\n",
      "dtype: float64}\n",
      "calculating empirical significance\n"
     ]
    },
    {
     "name": "stderr",
     "output_type": "stream",
     "text": [
      "/Users/dempster/packages/chronos_public/chronos/hit_calling.py:61: FutureWarning: DataFrame.groupby with axis=1 is deprecated. Do `frame.T.groupby(...)` without axis instead.\n",
      "  .groupby(model.guide_gene_map[key].set_index(\"sgrna\")[\"gene\"], axis=1).sum()\n"
     ]
    }
   ],
   "source": [
    "comparison_statistics = comparator.compare_conditions((\"A-1331852\", \"Control\"))"
   ]
  },
  {
   "cell_type": "markdown",
   "metadata": {},
   "source": [
    "Below, we can see the most significant differences. The expected hit MCL1 was found in both screens, while BAX and BCL2 were found in Meljuso. [MARCH5, UBE2J, and UBE2K are also expected findings](https://doi.org/10.1038/s41375-024-02178-x). Meljuso appears to be a cleaner screen with overall more significant hits, but at least one difference between it and OVCAR8 stems from different underlying biology: OVCAR8 is TP53 null. "
   ]
  },
  {
   "cell_type": "code",
   "execution_count": 82,
   "metadata": {},
   "outputs": [
    {
     "data": {
      "text/html": [
       "<div>\n",
       "<style scoped>\n",
       "    .dataframe tbody tr th:only-of-type {\n",
       "        vertical-align: middle;\n",
       "    }\n",
       "\n",
       "    .dataframe tbody tr th {\n",
       "        vertical-align: top;\n",
       "    }\n",
       "\n",
       "    .dataframe thead th {\n",
       "        text-align: right;\n",
       "    }\n",
       "</style>\n",
       "<table border=\"1\" class=\"dataframe\">\n",
       "  <thead>\n",
       "    <tr style=\"text-align: right;\">\n",
       "      <th></th>\n",
       "      <th>cell_line_name</th>\n",
       "      <th>gene</th>\n",
       "      <th>gene_effect_in_A-1331852</th>\n",
       "      <th>gene_effect_in_Control</th>\n",
       "      <th>gene_effect_difference</th>\n",
       "      <th>likelihood</th>\n",
       "      <th>likelihood_undistinguished</th>\n",
       "      <th>likelihood_permutation_0</th>\n",
       "      <th>likelihood_permutation_1</th>\n",
       "      <th>likelihood_pval</th>\n",
       "      <th>readcount_bin</th>\n",
       "      <th>likelihood_fdr</th>\n",
       "    </tr>\n",
       "  </thead>\n",
       "  <tbody>\n",
       "    <tr>\n",
       "      <th>1384</th>\n",
       "      <td>Meljuso</td>\n",
       "      <td>BAX</td>\n",
       "      <td>0.130719</td>\n",
       "      <td>0.918304</td>\n",
       "      <td>0.787585</td>\n",
       "      <td>-1233.401745</td>\n",
       "      <td>-1263.815041</td>\n",
       "      <td>-1262.944137</td>\n",
       "      <td>-1263.929586</td>\n",
       "      <td>1.283730e-07</td>\n",
       "      <td>(815.0, 12384.75]</td>\n",
       "      <td>5.699679e-04</td>\n",
       "    </tr>\n",
       "    <tr>\n",
       "      <th>1423</th>\n",
       "      <td>Meljuso</td>\n",
       "      <td>BCL2</td>\n",
       "      <td>0.342512</td>\n",
       "      <td>-0.434956</td>\n",
       "      <td>-0.777468</td>\n",
       "      <td>-885.147364</td>\n",
       "      <td>-903.349547</td>\n",
       "      <td>-898.651762</td>\n",
       "      <td>-899.782072</td>\n",
       "      <td>6.817695e-06</td>\n",
       "      <td>(815.0, 12384.75]</td>\n",
       "      <td>2.072352e-02</td>\n",
       "    </tr>\n",
       "    <tr>\n",
       "      <th>8909</th>\n",
       "      <td>Meljuso</td>\n",
       "      <td>MARCH5</td>\n",
       "      <td>0.245070</td>\n",
       "      <td>-1.991027</td>\n",
       "      <td>-2.236096</td>\n",
       "      <td>-942.066615</td>\n",
       "      <td>-1026.638312</td>\n",
       "      <td>-1024.901996</td>\n",
       "      <td>-1023.264251</td>\n",
       "      <td>7.258860e-12</td>\n",
       "      <td>(815.0, 12384.75]</td>\n",
       "      <td>1.323871e-07</td>\n",
       "    </tr>\n",
       "    <tr>\n",
       "      <th>27231</th>\n",
       "      <td>OVCAR8</td>\n",
       "      <td>MCL1</td>\n",
       "      <td>0.055763</td>\n",
       "      <td>-1.361082</td>\n",
       "      <td>-1.416845</td>\n",
       "      <td>-1144.716078</td>\n",
       "      <td>-1163.455213</td>\n",
       "      <td>-1158.815886</td>\n",
       "      <td>-1163.725223</td>\n",
       "      <td>2.719582e-06</td>\n",
       "      <td>(815.0, 12384.75]</td>\n",
       "      <td>2.479987e-02</td>\n",
       "    </tr>\n",
       "    <tr>\n",
       "      <th>8993</th>\n",
       "      <td>Meljuso</td>\n",
       "      <td>MCL1</td>\n",
       "      <td>0.087336</td>\n",
       "      <td>-1.640505</td>\n",
       "      <td>-1.727841</td>\n",
       "      <td>-891.647845</td>\n",
       "      <td>-943.405137</td>\n",
       "      <td>-943.561657</td>\n",
       "      <td>-942.344296</td>\n",
       "      <td>1.085449e-09</td>\n",
       "      <td>(815.0, 12384.75]</td>\n",
       "      <td>9.898208e-06</td>\n",
       "    </tr>\n",
       "    <tr>\n",
       "      <th>11870</th>\n",
       "      <td>Meljuso</td>\n",
       "      <td>PMAIP1</td>\n",
       "      <td>0.115910</td>\n",
       "      <td>0.922978</td>\n",
       "      <td>0.807067</td>\n",
       "      <td>-1061.362746</td>\n",
       "      <td>-1091.065656</td>\n",
       "      <td>-1090.926042</td>\n",
       "      <td>-1090.132838</td>\n",
       "      <td>1.562583e-07</td>\n",
       "      <td>(815.0, 12384.75]</td>\n",
       "      <td>5.699679e-04</td>\n",
       "    </tr>\n",
       "    <tr>\n",
       "      <th>16306</th>\n",
       "      <td>Meljuso</td>\n",
       "      <td>TP53</td>\n",
       "      <td>1.263288</td>\n",
       "      <td>1.823763</td>\n",
       "      <td>0.560476</td>\n",
       "      <td>-1365.341612</td>\n",
       "      <td>-1381.278187</td>\n",
       "      <td>-1368.281876</td>\n",
       "      <td>-1378.998878</td>\n",
       "      <td>1.723661e-05</td>\n",
       "      <td>(815.0, 12384.75]</td>\n",
       "      <td>4.490876e-02</td>\n",
       "    </tr>\n",
       "    <tr>\n",
       "      <th>16802</th>\n",
       "      <td>Meljuso</td>\n",
       "      <td>UBE2J2</td>\n",
       "      <td>0.191474</td>\n",
       "      <td>-1.200998</td>\n",
       "      <td>-1.392472</td>\n",
       "      <td>-905.637449</td>\n",
       "      <td>-950.045090</td>\n",
       "      <td>-948.091174</td>\n",
       "      <td>-946.763590</td>\n",
       "      <td>4.599244e-09</td>\n",
       "      <td>(815.0, 12384.75]</td>\n",
       "      <td>2.796033e-05</td>\n",
       "    </tr>\n",
       "    <tr>\n",
       "      <th>35041</th>\n",
       "      <td>OVCAR8</td>\n",
       "      <td>UBE2K</td>\n",
       "      <td>0.045088</td>\n",
       "      <td>-1.716752</td>\n",
       "      <td>-1.761839</td>\n",
       "      <td>-1112.928860</td>\n",
       "      <td>-1140.585014</td>\n",
       "      <td>-1139.398505</td>\n",
       "      <td>-1140.222741</td>\n",
       "      <td>1.887640e-07</td>\n",
       "      <td>(815.0, 12384.75]</td>\n",
       "      <td>3.442679e-03</td>\n",
       "    </tr>\n",
       "  </tbody>\n",
       "</table>\n",
       "</div>"
      ],
      "text/plain": [
       "      cell_line_name    gene  gene_effect_in_A-1331852  \\\n",
       "1384         Meljuso     BAX                  0.130719   \n",
       "1423         Meljuso    BCL2                  0.342512   \n",
       "8909         Meljuso  MARCH5                  0.245070   \n",
       "27231         OVCAR8    MCL1                  0.055763   \n",
       "8993         Meljuso    MCL1                  0.087336   \n",
       "11870        Meljuso  PMAIP1                  0.115910   \n",
       "16306        Meljuso    TP53                  1.263288   \n",
       "16802        Meljuso  UBE2J2                  0.191474   \n",
       "35041         OVCAR8   UBE2K                  0.045088   \n",
       "\n",
       "       gene_effect_in_Control  gene_effect_difference   likelihood  \\\n",
       "1384                 0.918304                0.787585 -1233.401745   \n",
       "1423                -0.434956               -0.777468  -885.147364   \n",
       "8909                -1.991027               -2.236096  -942.066615   \n",
       "27231               -1.361082               -1.416845 -1144.716078   \n",
       "8993                -1.640505               -1.727841  -891.647845   \n",
       "11870                0.922978                0.807067 -1061.362746   \n",
       "16306                1.823763                0.560476 -1365.341612   \n",
       "16802               -1.200998               -1.392472  -905.637449   \n",
       "35041               -1.716752               -1.761839 -1112.928860   \n",
       "\n",
       "       likelihood_undistinguished  likelihood_permutation_0  \\\n",
       "1384                 -1263.815041              -1262.944137   \n",
       "1423                  -903.349547               -898.651762   \n",
       "8909                 -1026.638312              -1024.901996   \n",
       "27231                -1163.455213              -1158.815886   \n",
       "8993                  -943.405137               -943.561657   \n",
       "11870                -1091.065656              -1090.926042   \n",
       "16306                -1381.278187              -1368.281876   \n",
       "16802                 -950.045090               -948.091174   \n",
       "35041                -1140.585014              -1139.398505   \n",
       "\n",
       "       likelihood_permutation_1  likelihood_pval      readcount_bin  \\\n",
       "1384               -1263.929586     1.283730e-07  (815.0, 12384.75]   \n",
       "1423                -899.782072     6.817695e-06  (815.0, 12384.75]   \n",
       "8909               -1023.264251     7.258860e-12  (815.0, 12384.75]   \n",
       "27231              -1163.725223     2.719582e-06  (815.0, 12384.75]   \n",
       "8993                -942.344296     1.085449e-09  (815.0, 12384.75]   \n",
       "11870              -1090.132838     1.562583e-07  (815.0, 12384.75]   \n",
       "16306              -1378.998878     1.723661e-05  (815.0, 12384.75]   \n",
       "16802               -946.763590     4.599244e-09  (815.0, 12384.75]   \n",
       "35041              -1140.222741     1.887640e-07  (815.0, 12384.75]   \n",
       "\n",
       "       likelihood_fdr  \n",
       "1384     5.699679e-04  \n",
       "1423     2.072352e-02  \n",
       "8909     1.323871e-07  \n",
       "27231    2.479987e-02  \n",
       "8993     9.898208e-06  \n",
       "11870    5.699679e-04  \n",
       "16306    4.490876e-02  \n",
       "16802    2.796033e-05  \n",
       "35041    3.442679e-03  "
      ]
     },
     "execution_count": 82,
     "metadata": {},
     "output_type": "execute_result"
    }
   ],
   "source": [
    "comparison_statistics.sort_values([\"gene\"]).loc[lambda x: x.likelihood_fdr < .05]"
   ]
  },
  {
   "cell_type": "markdown",
   "metadata": {},
   "source": [
    "### Other notes"
   ]
  },
  {
   "cell_type": "markdown",
   "metadata": {},
   "source": [
    "If you want to compare two different screens in the same condition, you can create a condition map in which the two cell lines are assigned the same `\"cell_line_name\"` but a different `\"condition\"`. However, bear in mind that your real differences are likely to be confounded with batch effects. You can assess the degree of this problem by checking for false discoveries among negative controls or unexpressed genes.\n",
    "\n",
    "You may also find that your hits are dominated by common essentials. This can happen because the two conditions have different screen quality. In particular, if one condition is mildly or moderately growth-inhibiting, this can lead to less apparent common essential dropout (because all other cells are also dropping out) vs the other condition and make these genes appear systematically different in gene effect. This can be addressed by both increasing the `gene_effect_hierarchical` regularization in `ChronosCompare` (see `chronos.Chronos` for a description), and potentially also adding new bins to `gene_readcount_total_bin_quantiles` (default\": `[0.05]`) in `compare_conditions` (see `chronos.hit_calling.ConditionComparison.compare_conditions`.)"
   ]
  },
  {
   "cell_type": "markdown",
   "metadata": {},
   "source": [
    "## Running with multiple libraries"
   ]
  },
  {
   "cell_type": "markdown",
   "metadata": {},
   "source": [
    "We can add Sanger's [Project Score](https://www.nature.com/articles/s41586-019-1103-9) data (screened with the KY library) and run Chronos jointly on it and the Avana data. "
   ]
  },
  {
   "cell_type": "code",
   "execution_count": 83,
   "metadata": {},
   "outputs": [],
   "source": [
    "ky_guide_map = pd.read_csv(\"./Data/SampleData/KYGuideMap.csv\")\n",
    "ky_sequence_map = pd.read_csv(\"./Data/SampleData/KYSequenceMap.csv\")\n",
    "ky_readcounts = chronos.read_hdf5(\"./Data/SampleData/KYReadcounts.hdf5\")"
   ]
  },
  {
   "cell_type": "code",
   "execution_count": 84,
   "metadata": {},
   "outputs": [],
   "source": [
    "ky_positive_controls = ky_guide_map.sgrna[ky_guide_map.gene.isin(common_essentials)]\n",
    "ky_negative_controls = ky_guide_map.sgrna[ky_guide_map.gene.isin(nonessentials)]"
   ]
  },
  {
   "cell_type": "markdown",
   "metadata": {},
   "source": [
    "Note how the call signature of Chronos with multiple libraries is constructed:"
   ]
  },
  {
   "cell_type": "code",
   "execution_count": 93,
   "metadata": {},
   "outputs": [
    {
     "data": {
      "text/plain": [
       "pDNA_batch_KY-2        0\n",
       "pDNA_batch_KY-1        0\n",
       "RCCFG2_C908R3_KY-1     1\n",
       "RCCFG2_C908R2_KY-1     1\n",
       "RCCFG2_C908R1_KY-1     1\n",
       "                      ..\n",
       "HEC1_c907R3_KY-1      24\n",
       "HEC1_c907R2_KY-1      24\n",
       "SNU81_c903R1_KY-2     37\n",
       "SNU81_c903R2_KY-2     37\n",
       "SNU81_c903R3_KY-2     37\n",
       "Length: 65, dtype: int64"
      ]
     },
     "execution_count": 93,
     "metadata": {},
     "output_type": "execute_result"
    }
   ],
   "source": [
    "ky_readcounts.isnull().sum(axis=1).sort_values()"
   ]
  },
  {
   "cell_type": "code",
   "execution_count": 100,
   "metadata": {
    "scrolled": true
   },
   "outputs": [
    {
     "name": "stdout",
     "output_type": "stream",
     "text": [
      "normalizing readcounts\n",
      "\n",
      "\n",
      "Finding all unique guides and genes\n",
      "found 3474 unique guides and 883 unique genes in avana\n",
      "found 4084 unique guides and 833 unique genes in ky\n",
      "found 7558 unique guides and 887 unique genes overall\n",
      "\n",
      "finding guide-gene mapping indices\n",
      "\n",
      "finding all unique sequenced replicates, cell lines, and pDNA batches\n",
      "found 92 unique sequences (excluding pDNA), 92 unique replicates, and 44 unique cell lines in avana\n",
      "found 63 unique sequences (excluding pDNA), 63 unique replicates, and 23 unique cell lines in ky\n",
      "found 155 unique late time points and 58 unique cell lines overall\n",
      "\n",
      "finding sequence-cell line mappings indices\n",
      "\n",
      "finding replicate mappings indices\n",
      "\n",
      "finding late time point-pDNA mappings indices\n",
      "\n",
      "\n",
      "assigning float constants\n",
      "Estimating or aligning variances\n",
      "\tEstimating excess variance (alpha) for avana\n",
      "\tEstimating excess variance (alpha) for ky\n",
      "Creating excess variance tensors\n",
      "\tCreated excess variance tensor for avana with shape [92, 1]\n",
      "\tCreated excess variance tensor for ky with shape [63, 1]\n",
      "initializing graph\n",
      "\n",
      "building gene effect mask\n",
      "\n",
      "building doubling vectors\n",
      "made days vector of shape [92, 1] for avana\n",
      "made days vector of shape [63, 1] for ky\n",
      "\n",
      "building late observed timepoints\n"
     ]
    },
    {
     "name": "stderr",
     "output_type": "stream",
     "text": [
      "/Users/dempster/packages/chronos_public/chronos/model.py:379: UserWarning: Between 0 (batch=Index(['Avana-2', 'Avana-3', 'Avana-4'], dtype='object')) and 0 (batch=Index(['Avana-2', 'Avana-3', 'Avana-4'], dtype='object')) negative control sgRNAs were found to be systematically over- or under-represented in the screens and excluded.\n",
      "  warn(\"Between %i (batch=%r) and %i (batch=%r) negative control sgRNAs were found to be \\\n",
      "/Users/dempster/packages/chronos_public/chronos/model.py:379: UserWarning: Between 4 (batch=Index(['KY-1'], dtype='object')) and 39 (batch=Index(['KY-2'], dtype='object')) negative control sgRNAs were found to be systematically over- or under-represented in the screens and excluded.\n",
      "  warn(\"Between %i (batch=%r) and %i (batch=%r) negative control sgRNAs were found to be \\\n",
      "/Users/dempster/packages/chronos_public/chronos/model.py:1355: FutureWarning: Downcasting object dtype arrays on .fillna, .ffill, .bfill is deprecated and will change in a future version. Call result.infer_objects(copy=False) instead. To opt-in to the future behavior, set `pd.set_option('future.no_silent_downcasting', True)`\n",
      "  .any().T\\\n",
      "/Users/dempster/packages/chronos_public/chronos/model.py:1355: FutureWarning: Downcasting object dtype arrays on .fillna, .ffill, .bfill is deprecated and will change in a future version. Call result.infer_objects(copy=False) instead. To opt-in to the future behavior, set `pd.set_option('future.no_silent_downcasting', True)`\n",
      "  .any().T\\\n"
     ]
    },
    {
     "name": "stdout",
     "output_type": "stream",
     "text": [
      "\tbuilt normalized timepoints for avana with shape (92, 3474) (replicates X guides)\n",
      "\tbuilt normalized timepoints for ky with shape (63, 4084) (replicates X guides)\n",
      "\n",
      "building t0 reads\n",
      "\n",
      "\n",
      "Building variables\n",
      "\n",
      "building t0 reads estimate\n",
      "made t0 batch with shape (2, 4084) for avana\n",
      "made t0 batch with shape (2, 4084) for ky\n",
      "building guide efficacy\n",
      "built guide efficacy: shape [1, 7559]\n",
      "building growth rate\n",
      "built growth rate: shape {'avana': [92, 1], 'ky': [63, 1]}\n",
      "\n",
      "building replicate efficacy\n",
      "built replicate efficacy: shapes {'avana': [92, 1], 'ky': [63, 1]}\n",
      "building screen delay\n",
      "built screen delay\n",
      "building gene effect\n",
      "built core gene effect: 58 cell lines by 887 genes\n",
      "\n",
      "\n",
      "Connecting graph nodes in model\n",
      "\n",
      "building effective days\n",
      "built effective days, shapes {'avana': [92, 887], 'ky': [63, 887]}\n",
      "\n",
      "building gene effect growth graph nodes\n",
      "built gene effect growth graph nodes, shapes {'avana': [92, 887], 'ky': [63, 887]}\n",
      "\n",
      "building combined efficacy\n",
      "built combined efficacy, shape {'avana': [92, 3474], 'ky': [63, 4084]}\n",
      "built expanded combined efficacy, shapes {'avana': [92, 3474], 'ky': [63, 4084]}\n",
      "\n",
      "building growth estimates of edited cells and overall estimates of fold change in guide abundance\n",
      "built growth and change\n",
      "\n",
      "building unnormalized estimates of final abundance\n",
      "built unnormalized abundance\n",
      "\n",
      "building normalized estimates of final abundance\n",
      "built normalized abundance\n",
      "initializing precost variables\n"
     ]
    },
    {
     "name": "stderr",
     "output_type": "stream",
     "text": [
      "2024-08-12 14:51:36.883621: W tensorflow/c/c_api.cc:304] Operation '{name:'inferred_t0_24/base_avana/Assign' id:78625 op device:{requested: '', assigned: ''} def:{{{node inferred_t0_24/base_avana/Assign}} = AssignVariableOp[_has_manual_control_dependencies=true, dtype=DT_DOUBLE, validate_shape=false](inferred_t0_24/base_avana, inferred_t0_24/base_avana/Initializer/initial_value)}}' was changed by setting attribute after it was run by a session. This mutation will have no effect, and will trigger an error in the future. Either don't modify nodes after running them or create a new session.\n"
     ]
    },
    {
     "name": "stdout",
     "output_type": "stream",
     "text": [
      "\n",
      "\n",
      "Building all costs\n",
      "\n",
      "assembling guide efficacy regularization\n",
      "building smoothed regularization\n",
      "\n",
      "building t0 reads regularization/cost\n",
      "\n",
      "building NB2 cost\n",
      "building other regularizations\n",
      "\n",
      "Creating optimizer\n"
     ]
    },
    {
     "name": "stderr",
     "output_type": "stream",
     "text": [
      "Exception ignored in: <function Chronos.__del__ at 0x444b6f7e0>\n",
      "Traceback (most recent call last):\n",
      "  File \"/Users/dempster/packages/chronos_public/chronos/model.py\", line 2490, in __del__\n",
      "    self.sess.close()\n",
      "    ^^^^^^^^^\n",
      "AttributeError: 'Chronos' object has no attribute 'sess'\n"
     ]
    },
    {
     "name": "stdout",
     "output_type": "stream",
     "text": [
      "initializing rest of graph\n"
     ]
    },
    {
     "name": "stderr",
     "output_type": "stream",
     "text": [
      "2024-08-12 14:51:40.710236: W tensorflow/c/c_api.cc:304] Operation '{name:'GE_24/library_effect/ky/Assign' id:78782 op device:{requested: '', assigned: ''} def:{{{node GE_24/library_effect/ky/Assign}} = AssignVariableOp[_has_manual_control_dependencies=true, dtype=DT_DOUBLE, validate_shape=false](GE_24/library_effect/ky, GE_24/library_effect/ky/Initializer/initial_value)}}' was changed by setting attribute after it was run by a session. This mutation will have no effect, and will trigger an error in the future. Either don't modify nodes after running them or create a new session.\n"
     ]
    },
    {
     "name": "stdout",
     "output_type": "stream",
     "text": [
      "estimating initial screen efficacy and gene effect\n",
      "\t avana\n",
      "\t ky\n",
      "{'avana': replicate_ID\n",
      "ACH-000004_Avana-3_HEL-311Cas9_RepA_p4_Avana-3      0.848895\n",
      "ACH-000004_Avana-3_HEL-311Cas9_RepB_p4_Avana-3      0.839082\n",
      "ACH-000074_Avana-3_KU812-311cas9-RepA-p6_Avana-3    0.800177\n",
      "ACH-000074_Avana-3_KU812-311cas9-RepB-p6_Avana-3    0.737671\n",
      "ACH-000147_Avana-4_T47D-311Cas9-RepA-p6_Avana-4     0.900404\n",
      "                                                      ...   \n",
      "ACH-001843_Avana-3_ICC3-311cas9_RepB_p6_Avana-3     0.979425\n",
      "ACH-002029_Avana-4_SAS-311cas9-RepA-p6_Avana-4      0.901975\n",
      "ACH-002029_Avana-4_SAS-311cas9-RepB-p6_Avana-4      0.912121\n",
      "ACH-002926_Avana-4_UPMD1-311cas9-RepA-p6_Avana-4    0.690049\n",
      "ACH-002926_Avana-4_UPMD1-311cas9-RepB-p6_Avana-4    0.716305\n",
      "Length: 92, dtype: float64, 'ky': replicate_ID\n",
      "ACH-000147_KY-2_T47d_c903R2_KY-2      0.936306\n",
      "ACH-000147_KY-2_T47d_c903R3_KY-2      0.937123\n",
      "ACH-000149_KY-1_SKNSH_c906R1_KY-1     0.989990\n",
      "ACH-000149_KY-1_SKNSH_c906R2_KY-1     0.986197\n",
      "ACH-000149_KY-1_SKNSH_c906R3_KY-1     0.982573\n",
      "                                        ...   \n",
      "ACH-002189_KY-1_RCCFG2_C908R2_KY-1    0.915985\n",
      "ACH-002189_KY-1_RCCFG2_C908R3_KY-1    0.927938\n",
      "ACH-002265_KY-1_LB771H_c908R1_KY-1    0.949946\n",
      "ACH-002265_KY-1_LB771H_c908R2_KY-1    0.954156\n",
      "ACH-002265_KY-1_LB771H_c908R3_KY-1    0.918984\n",
      "Length: 63, dtype: float64}\n",
      "\tverifying graph integrity\n",
      "verifying user inputs\n",
      "verifying variables\n",
      "verifying calculated terms\n",
      "\tavana _gene_effect\n",
      "\tavana _selected_efficacies\n",
      "\tavana_predicted_readcounts_unscaled\n",
      "\tavana _predicted_readcounts\n",
      "\tavana _normalized_readcounts\n",
      "\tavana _cost_presum\n",
      "sess run\n",
      "\tavana _cost\n",
      "\tavana _full_costs\n",
      "\tky _gene_effect\n",
      "\tky _selected_efficacies\n",
      "\tky_predicted_readcounts_unscaled\n",
      "\tky _predicted_readcounts\n",
      "\tky _normalized_readcounts\n",
      "\tky _cost_presum\n",
      "sess run\n",
      "\tky _cost\n",
      "\tky _full_costs\n",
      "ready to train\n"
     ]
    }
   ],
   "source": [
    "model2 = chronos.Chronos(\n",
    "    sequence_map={\"avana\": sequence_map, 'ky': ky_sequence_map},\n",
    "    guide_gene_map={\"avana\": guide_map, 'ky': ky_guide_map},\n",
    "    readcounts={\"avana\": readcounts, 'ky': ky_readcounts},\n",
    "    negative_control_sgrnas={\"avana\": negative_controls, \"ky\": ky_negative_controls}\n",
    ")"
   ]
  },
  {
   "cell_type": "code",
   "execution_count": 101,
   "metadata": {
    "scrolled": true
   },
   "outputs": [
    {
     "name": "stdout",
     "output_type": "stream",
     "text": [
      "NB2 cost 0.727986713699823\n",
      "Full cost 0.880178839791503\n",
      "relative_growth_rate\n",
      "\tavana max 1.039, min 0.96435\n",
      "\tky max 1.040, min 0.94475\n",
      "mean guide efficacy 0.9991671677457519\n",
      "t0_offset SD: [('avana', 7.057347774681473e-05), ('ky', 7.592626472748726e-05)]\n",
      "\n",
      "gene mean -0.2598303274712771\n",
      "SD of gene means 0.430249704359308\n",
      "Mean of gene SDs 0.3511754874721306\n",
      "\n",
      "\n",
      "\n",
      "51 epochs trained, time taken 0:00:04, projected remaining 0:00:19\n",
      "NB2 cost 0.339027300911562\n",
      "Full cost 0.42117272450658605\n",
      "relative_growth_rate\n",
      "\tavana max 1.128, min 0.38771\n",
      "\tky max 1.388, min 0.45419\n",
      "mean guide efficacy 0.8985810191789981\n",
      "t0_offset SD: [('avana', 0.14477393812257477), ('ky', 0.134973802096055)]\n",
      "\n",
      "gene mean -0.1551578497450504\n",
      "SD of gene means 0.44956692002385185\n",
      "Mean of gene SDs 0.2771686519260135\n",
      "\n",
      "\n",
      "\n",
      "101 epochs trained, time taken 0:00:06, projected remaining 0:00:13\n",
      "NB2 cost 0.2654941121115779\n",
      "Full cost 0.2928517407561188\n",
      "relative_growth_rate\n",
      "\tavana max 1.618, min 0.20911\n",
      "\tky max 1.687, min 0.56840\n",
      "mean guide efficacy 0.8586484416133018\n",
      "t0_offset SD: [('avana', 0.1399166682895657), ('ky', 0.11654303273305443)]\n",
      "\n",
      "gene mean 0.001114667111790256\n",
      "SD of gene means 0.594580283973831\n",
      "Mean of gene SDs 0.21770644591505514\n",
      "\n",
      "\n",
      "\n",
      "151 epochs trained, time taken 0:00:09, projected remaining 0:00:09\n",
      "NB2 cost 0.2559902781321793\n",
      "Full cost 0.27984965844076437\n",
      "relative_growth_rate\n",
      "\tavana max 2.151, min 0.08958\n",
      "\tky max 1.655, min 0.54836\n",
      "mean guide efficacy 0.8688455380777488\n",
      "t0_offset SD: [('avana', 0.13843903607430105), ('ky', 0.11051210911543698)]\n",
      "\n",
      "gene mean 0.001721337717877808\n",
      "SD of gene means 0.6197338678837091\n",
      "Mean of gene SDs 0.2073333971544653\n",
      "\n",
      "\n",
      "\n",
      "201 epochs trained, time taken 0:00:12, projected remaining 0:00:06\n",
      "NB2 cost 0.25283145604320456\n",
      "Full cost 0.2761974771665412\n",
      "relative_growth_rate\n",
      "\tavana max 2.436, min 0.07631\n",
      "\tky max 1.665, min 0.54566\n",
      "mean guide efficacy 0.8687890246716087\n",
      "t0_offset SD: [('avana', 0.13847731534770308), ('ky', 0.10838023898931168)]\n",
      "\n",
      "gene mean 0.0028583682726886802\n",
      "SD of gene means 0.6358313129701961\n",
      "Mean of gene SDs 0.20539855939199517\n",
      "\n",
      "\n",
      "\n",
      "251 epochs trained, time taken 0:00:14, projected remaining 0:00:03\n",
      "NB2 cost 0.2512584111253437\n",
      "Full cost 0.2746032048872526\n",
      "relative_growth_rate\n",
      "\tavana max 2.690, min 0.07421\n",
      "\tky max 1.678, min 0.53570\n",
      "mean guide efficacy 0.867455541361062\n",
      "t0_offset SD: [('avana', 0.13879411165337913), ('ky', 0.10795055365847168)]\n",
      "\n",
      "gene mean 0.002777119787380391\n",
      "SD of gene means 0.6459192438374225\n",
      "Mean of gene SDs 0.2040928948320226\n",
      "\n",
      "\n",
      "\n",
      "301 epochs trained, time taken 0:00:17, projected remaining 0:00:00\n",
      "NB2 cost 0.2500477374273414\n",
      "Full cost 0.2731759337137284\n",
      "relative_growth_rate\n",
      "\tavana max 3.261, min 0.07335\n",
      "\tky max 1.697, min 0.53714\n",
      "mean guide efficacy 0.8655593679402025\n",
      "t0_offset SD: [('avana', 0.13796224455249054), ('ky', 0.10661651675174093)]\n",
      "\n",
      "gene mean 0.003912275579185407\n",
      "SD of gene means 0.6559192898856502\n",
      "Mean of gene SDs 0.2019898899286294\n",
      "\n",
      "\n",
      "\n"
     ]
    }
   ],
   "source": [
    "model2.train(301)"
   ]
  },
  {
   "cell_type": "markdown",
   "metadata": {},
   "source": [
    "Note that the gene effect now has NAs. These are cases where a cell line was only screened in one library and that library had no guides for that gene."
   ]
  },
  {
   "cell_type": "markdown",
   "metadata": {},
   "source": [
    "Chronos infers library batch effects. Note that these are only inferred for genes present in all libraries"
   ]
  },
  {
   "cell_type": "markdown",
   "metadata": {},
   "source": [
    "## Running your screen with pretrained DepMap parameters"
   ]
  },
  {
   "cell_type": "markdown",
   "metadata": {},
   "source": [
    "If you conducted a screen in one of the DepMap integrated libraries (currently Avana, KY, or Humagne-CD), you can load parameters from the trained DepMap model and use them to process your specific screen. This gives you many of the benefits of coprocessing your screen with the complete DepMap dataset without the computational expense. "
   ]
  },
  {
   "cell_type": "markdown",
   "metadata": {},
   "source": [
    "The following command fetches the 23Q4 public dataset from Figshare and stores it in the Chronos package directory under Data/DepMapParameters"
   ]
  },
  {
   "cell_type": "code",
   "execution_count": null,
   "metadata": {},
   "outputs": [],
   "source": [
    "chronos.fetch_parameters()"
   ]
  },
  {
   "cell_type": "markdown",
   "metadata": {},
   "source": [
    "First, we create a model with the data we want to train as before, but with two important details:\n",
    "- we pass the argument `pretrained=True` when we initialize\n",
    "- the library batch names must match the DepMap library batch names, as that's what we're using for the pretrained model"
   ]
  },
  {
   "cell_type": "code",
   "execution_count": 114,
   "metadata": {
    "scrolled": true
   },
   "outputs": [
    {
     "name": "stdout",
     "output_type": "stream",
     "text": [
      "normalizing readcounts\n",
      "\n",
      "\n",
      "Finding all unique guides and genes\n",
      "found 3474 unique guides and 883 unique genes in avana\n",
      "found 4084 unique guides and 833 unique genes in ky\n",
      "found 7558 unique guides and 887 unique genes overall\n",
      "\n",
      "finding guide-gene mapping indices\n",
      "\n",
      "finding all unique sequenced replicates, cell lines, and pDNA batches\n",
      "found 92 unique sequences (excluding pDNA), 92 unique replicates, and 44 unique cell lines in avana\n",
      "found 63 unique sequences (excluding pDNA), 63 unique replicates, and 23 unique cell lines in ky\n",
      "found 155 unique late time points and 58 unique cell lines overall\n",
      "\n",
      "finding sequence-cell line mappings indices\n",
      "\n",
      "finding replicate mappings indices\n",
      "\n",
      "finding late time point-pDNA mappings indices\n",
      "\n",
      "\n",
      "assigning float constants\n",
      "Estimating or aligning variances\n",
      "\tEstimating excess variance (alpha) for avana\n",
      "\tEstimating excess variance (alpha) for ky\n",
      "Creating excess variance tensors\n",
      "\tCreated excess variance tensor for avana with shape [92, 1]\n",
      "\tCreated excess variance tensor for ky with shape [63, 1]\n",
      "initializing graph\n",
      "\n",
      "building gene effect mask\n",
      "\n",
      "building doubling vectors\n",
      "made days vector of shape [92, 1] for avana\n",
      "made days vector of shape [63, 1] for ky\n",
      "\n",
      "building late observed timepoints\n"
     ]
    },
    {
     "name": "stderr",
     "output_type": "stream",
     "text": [
      "/Users/dempster/packages/chronos_public/chronos/model.py:379: UserWarning: Between 0 (batch=Index(['Avana-2', 'Avana-3', 'Avana-4'], dtype='object')) and 0 (batch=Index(['Avana-2', 'Avana-3', 'Avana-4'], dtype='object')) negative control sgRNAs were found to be systematically over- or under-represented in the screens and excluded.\n",
      "  warn(\"Between %i (batch=%r) and %i (batch=%r) negative control sgRNAs were found to be \\\n",
      "/Users/dempster/packages/chronos_public/chronos/model.py:379: UserWarning: Between 4 (batch=Index(['KY-1'], dtype='object')) and 39 (batch=Index(['KY-2'], dtype='object')) negative control sgRNAs were found to be systematically over- or under-represented in the screens and excluded.\n",
      "  warn(\"Between %i (batch=%r) and %i (batch=%r) negative control sgRNAs were found to be \\\n",
      "/Users/dempster/packages/chronos_public/chronos/model.py:1355: FutureWarning: Downcasting object dtype arrays on .fillna, .ffill, .bfill is deprecated and will change in a future version. Call result.infer_objects(copy=False) instead. To opt-in to the future behavior, set `pd.set_option('future.no_silent_downcasting', True)`\n",
      "  .fillna(False)\n",
      "/Users/dempster/packages/chronos_public/chronos/model.py:1355: FutureWarning: Downcasting object dtype arrays on .fillna, .ffill, .bfill is deprecated and will change in a future version. Call result.infer_objects(copy=False) instead. To opt-in to the future behavior, set `pd.set_option('future.no_silent_downcasting', True)`\n",
      "  .fillna(False)\n"
     ]
    },
    {
     "name": "stdout",
     "output_type": "stream",
     "text": [
      "\tbuilt normalized timepoints for avana with shape (92, 3474) (replicates X guides)\n",
      "\tbuilt normalized timepoints for ky with shape (63, 4084) (replicates X guides)\n",
      "\n",
      "building t0 reads\n",
      "\n",
      "\n",
      "Building variables\n",
      "\n",
      "building t0 reads estimate\n",
      "made t0 batch with shape (2, 4084) for avana\n",
      "made t0 batch with shape (2, 4084) for ky\n",
      "building guide efficacy\n",
      "built guide efficacy: shape [1, 7559]\n",
      "building growth rate\n",
      "built growth rate: shape {'avana': [92, 1], 'ky': [63, 1]}\n",
      "\n",
      "building replicate efficacy\n",
      "built replicate efficacy: shapes {'avana': [92, 1], 'ky': [63, 1]}\n",
      "building screen delay\n",
      "built screen delay\n",
      "building gene effect\n",
      "built core gene effect: 58 cell lines by 887 genes\n",
      "\n",
      "\n",
      "Connecting graph nodes in model\n",
      "\n",
      "building effective days\n",
      "built effective days, shapes {'avana': [92, 887], 'ky': [63, 887]}\n",
      "\n",
      "building gene effect growth graph nodes\n",
      "built gene effect growth graph nodes, shapes {'avana': [92, 887], 'ky': [63, 887]}\n",
      "\n",
      "building combined efficacy\n",
      "built combined efficacy, shape {'avana': [92, 3474], 'ky': [63, 4084]}\n",
      "built expanded combined efficacy, shapes {'avana': [92, 3474], 'ky': [63, 4084]}\n",
      "\n",
      "building growth estimates of edited cells and overall estimates of fold change in guide abundance\n",
      "built growth and change\n",
      "\n",
      "building unnormalized estimates of final abundance\n",
      "built unnormalized abundance\n",
      "\n",
      "building normalized estimates of final abundance\n",
      "built normalized abundance\n",
      "initializing precost variables\n"
     ]
    },
    {
     "name": "stderr",
     "output_type": "stream",
     "text": [
      "2024-08-12 15:00:57.909538: W tensorflow/c/c_api.cc:304] Operation '{name:'inferred_t0_26/base_avana/Assign' id:88183 op device:{requested: '', assigned: ''} def:{{{node inferred_t0_26/base_avana/Assign}} = AssignVariableOp[_has_manual_control_dependencies=true, dtype=DT_DOUBLE, validate_shape=false](inferred_t0_26/base_avana, inferred_t0_26/base_avana/Initializer/initial_value)}}' was changed by setting attribute after it was run by a session. This mutation will have no effect, and will trigger an error in the future. Either don't modify nodes after running them or create a new session.\n"
     ]
    },
    {
     "name": "stdout",
     "output_type": "stream",
     "text": [
      "\n",
      "\n",
      "Building all costs\n",
      "\n",
      "assembling guide efficacy regularization\n",
      "building smoothed regularization\n",
      "\n",
      "building t0 reads regularization/cost\n",
      "\n",
      "building NB2 cost\n",
      "building other regularizations\n",
      "\n",
      "Creating optimizer\n",
      "initializing rest of graph\n"
     ]
    },
    {
     "name": "stderr",
     "output_type": "stream",
     "text": [
      "2024-08-12 15:01:01.516231: W tensorflow/c/c_api.cc:304] Operation '{name:'GE_26/library_effect/ky/Assign' id:88333 op device:{requested: '', assigned: ''} def:{{{node GE_26/library_effect/ky/Assign}} = AssignVariableOp[_has_manual_control_dependencies=true, dtype=DT_DOUBLE, validate_shape=false](GE_26/library_effect/ky, GE_26/library_effect/ky/Initializer/initial_value)}}' was changed by setting attribute after it was run by a session. This mutation will have no effect, and will trigger an error in the future. Either don't modify nodes after running them or create a new session.\n"
     ]
    },
    {
     "name": "stdout",
     "output_type": "stream",
     "text": [
      "estimating initial screen efficacy and gene effect\n",
      "\t avana\n",
      "\t ky\n",
      "\tverifying graph integrity\n",
      "verifying user inputs\n",
      "verifying variables\n",
      "verifying calculated terms\n",
      "\tavana _gene_effect\n",
      "\tavana _selected_efficacies\n",
      "\tavana_predicted_readcounts_unscaled\n",
      "\tavana _predicted_readcounts\n",
      "\tavana _normalized_readcounts\n",
      "\tavana _cost_presum\n",
      "sess run\n",
      "\tavana _cost\n",
      "\tavana _full_costs\n",
      "\tky _gene_effect\n",
      "\tky _selected_efficacies\n",
      "\tky_predicted_readcounts_unscaled\n",
      "\tky _predicted_readcounts\n",
      "\tky _normalized_readcounts\n",
      "\tky _cost_presum\n",
      "sess run\n",
      "\tky _cost\n",
      "\tky _full_costs\n",
      "waiting for user to load model\n"
     ]
    }
   ],
   "source": [
    "model2_pretrained = chronos.Chronos(\n",
    "    sequence_map={\"Achilles-Avana-2D\": sequence_map, 'Achilles-KY-2D': ky_sequence_map},\n",
    "    guide_gene_map={\"Achilles-Avana-2D\": guide_map, 'Achilles-KY-2D': ky_guide_map},\n",
    "    readcounts={\"Achilles-Avana-2D\": readcounts, 'Achilles-KY-2D': ky_readcounts},\n",
    "    negative_control_sgrnas={\"Achilles-Avana-2D\": negative_controls, \"Achilles-KY-2D\": ky_negative_controls},\n",
    "    pretrained=True\n",
    ")"
   ]
  },
  {
   "cell_type": "markdown",
   "metadata": {},
   "source": [
    "Now we import the DepMap data from the directory into the model, and train:"
   ]
  },
  {
   "cell_type": "code",
   "execution_count": 117,
   "metadata": {},
   "outputs": [
    {
     "name": "stdout",
     "output_type": "stream",
     "text": [
      "Chronos model loaded\n",
      "ready to train\n"
     ]
    }
   ],
   "source": [
    "model2_pretrained.import_model(\"./Data/DepMapParameters/\")"
   ]
  },
  {
   "cell_type": "code",
   "execution_count": 118,
   "metadata": {
    "scrolled": true
   },
   "outputs": [
    {
     "name": "stdout",
     "output_type": "stream",
     "text": [
      "NB2 cost 0.571136085473464\n",
      "Full cost 0.7255062831261139\n",
      "relative_growth_rate\n",
      "\tavana max 1.038, min 0.94576\n",
      "\tky max 1.051, min 0.95759\n",
      "mean guide efficacy 0.8655593679402025\n",
      "t0_offset SD: [('avana', 0.1379622445524905), ('ky', 0.10661651675174089)]\n",
      "\n",
      "gene mean 0.0039106232387402075\n",
      "SD of gene means 0.6559212833086104\n",
      "Mean of gene SDs 0.34839098901300475\n",
      "\n",
      "\n",
      "\n",
      "51 epochs trained, time taken 0:00:02, projected remaining 0:00:12\n",
      "NB2 cost 0.3013120834645763\n",
      "Full cost 0.36920390869939684\n",
      "relative_growth_rate\n",
      "\tavana max 1.195, min 0.27550\n",
      "\tky max 1.466, min 0.46438\n",
      "mean guide efficacy 0.8655593679402025\n",
      "t0_offset SD: [('avana', 0.1379622445524905), ('ky', 0.10661651675174089)]\n",
      "\n",
      "gene mean -0.0031656744594167727\n",
      "SD of gene means 0.6627671298598236\n",
      "Mean of gene SDs 0.2771002118675345\n",
      "\n",
      "\n",
      "\n",
      "101 epochs trained, time taken 0:00:03, projected remaining 0:00:06\n",
      "NB2 cost 0.24987813278355323\n",
      "Full cost 0.27709026685685634\n",
      "relative_growth_rate\n",
      "\tavana max 1.902, min 0.05341\n",
      "\tky max 1.812, min 0.50754\n",
      "mean guide efficacy 0.8655593679402025\n",
      "t0_offset SD: [('avana', 0.1379622445524905), ('ky', 0.10661651675174089)]\n",
      "\n",
      "gene mean 0.0033967330172779042\n",
      "SD of gene means 0.6712430291321111\n",
      "Mean of gene SDs 0.23000642686566555\n",
      "\n",
      "\n",
      "\n",
      "151 epochs trained, time taken 0:00:04, projected remaining 0:00:04\n",
      "NB2 cost 0.24372420890772592\n",
      "Full cost 0.2690940229003947\n",
      "relative_growth_rate\n",
      "\tavana max 2.266, min 0.06106\n",
      "\tky max 1.716, min 0.36049\n",
      "mean guide efficacy 0.8655593679402025\n",
      "t0_offset SD: [('avana', 0.1379622445524905), ('ky', 0.10661651675174089)]\n",
      "\n",
      "gene mean 0.0037831624202164294\n",
      "SD of gene means 0.6687038048295069\n",
      "Mean of gene SDs 0.22573798544701623\n",
      "\n",
      "\n",
      "\n",
      "201 epochs trained, time taken 0:00:05, projected remaining 0:00:02\n",
      "NB2 cost 0.24221837404170862\n",
      "Full cost 0.26745083461192215\n",
      "relative_growth_rate\n",
      "\tavana max 2.870, min 0.05931\n",
      "\tky max 1.711, min 0.29977\n",
      "mean guide efficacy 0.8655593679402025\n",
      "t0_offset SD: [('avana', 0.1379622445524905), ('ky', 0.10661651675174089)]\n",
      "\n",
      "gene mean 0.003888778296442537\n",
      "SD of gene means 0.6695802057857126\n",
      "Mean of gene SDs 0.22373610319916898\n",
      "\n",
      "\n",
      "\n",
      "251 epochs trained, time taken 0:00:06, projected remaining 0:00:01\n",
      "NB2 cost 0.24150193359190564\n",
      "Full cost 0.26667704634761635\n",
      "relative_growth_rate\n",
      "\tavana max 3.231, min 0.05822\n",
      "\tky max 1.710, min 0.29363\n",
      "mean guide efficacy 0.8655593679402025\n",
      "t0_offset SD: [('avana', 0.1379622445524905), ('ky', 0.10661651675174089)]\n",
      "\n",
      "gene mean 0.00393320255200048\n",
      "SD of gene means 0.670140432798866\n",
      "Mean of gene SDs 0.2214178355788452\n",
      "\n",
      "\n",
      "\n",
      "301 epochs trained, time taken 0:00:07, projected remaining 0:00:00\n",
      "NB2 cost 0.24113094191110868\n",
      "Full cost 0.2662531758598527\n",
      "relative_growth_rate\n",
      "\tavana max 3.422, min 0.05757\n",
      "\tky max 1.710, min 0.29322\n",
      "mean guide efficacy 0.8655593679402025\n",
      "t0_offset SD: [('avana', 0.1379622445524905), ('ky', 0.10661651675174089)]\n",
      "\n",
      "gene mean 0.00398202907750798\n",
      "SD of gene means 0.6707205082144626\n",
      "Mean of gene SDs 0.21967568340707067\n",
      "\n",
      "\n",
      "\n"
     ]
    }
   ],
   "source": [
    "model2_pretrained.train()"
   ]
  },
  {
   "cell_type": "code",
   "execution_count": null,
   "metadata": {},
   "outputs": [],
   "source": []
  }
 ],
 "metadata": {
  "kernelspec": {
   "display_name": "python3.11",
   "language": "python",
   "name": "python3.11"
  },
  "language_info": {
   "codemirror_mode": {
    "name": "ipython",
    "version": 3
   },
   "file_extension": ".py",
   "mimetype": "text/x-python",
   "name": "python",
   "nbconvert_exporter": "python",
   "pygments_lexer": "ipython3",
   "version": "3.11.7"
  },
  "toc": {
   "base_numbering": 1,
   "nav_menu": {
    "height": "183.991px",
    "width": "287.997px"
   },
   "number_sections": true,
   "sideBar": true,
   "skip_h1_title": false,
   "title_cell": "Table of Contents",
   "title_sidebar": "Contents",
   "toc_cell": false,
   "toc_position": {
    "height": "calc(100% - 180px)",
    "left": "10px",
    "top": "150px",
    "width": "272px"
   },
   "toc_section_display": true,
   "toc_window_display": true
  }
 },
 "nbformat": 4,
 "nbformat_minor": 4
}
